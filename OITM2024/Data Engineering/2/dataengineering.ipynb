{
 "cells": [
  {
   "cell_type": "code",
   "execution_count": 1,
   "metadata": {},
   "outputs": [
    {
     "name": "stdout",
     "output_type": "stream",
     "text": [
      "   satisfaction_level  last_evaluation  number_project  average_montly_hours  \\\n",
      "0                0.38             0.53               2                   157   \n",
      "1                0.80             0.86               5                   262   \n",
      "2                0.11             0.88               7                   272   \n",
      "3                0.72             0.87               5                   223   \n",
      "4                0.37             0.52               2                   159   \n",
      "\n",
      "   time_spend_company  Work_accident  left  promotion_last_5years Department  \\\n",
      "0                   3              0     1                      0      sales   \n",
      "1                   6              0     1                      0      sales   \n",
      "2                   4              0     1                      0      sales   \n",
      "3                   5              0     1                      0      sales   \n",
      "4                   3              0     1                      0      sales   \n",
      "\n",
      "   salary  \n",
      "0     low  \n",
      "1  medium  \n",
      "2  medium  \n",
      "3     low  \n",
      "4     low  \n"
     ]
    }
   ],
   "source": [
    "import pandas as pd\n",
    "df = pd.read_csv(\"HR_capstone_dataset.csv\")\n",
    "print(df.head())"
   ]
  },
  {
   "cell_type": "code",
   "execution_count": 2,
   "metadata": {},
   "outputs": [
    {
     "name": "stdout",
     "output_type": "stream",
     "text": [
      "Department\n",
      "sales          4140\n",
      "technical      2720\n",
      "support        2229\n",
      "IT             1227\n",
      "product_mng     902\n",
      "marketing       858\n",
      "RandD           787\n",
      "accounting      767\n",
      "hr              739\n",
      "management      630\n",
      "Name: count, dtype: int64\n"
     ]
    }
   ],
   "source": [
    "print(df['Department'].value_counts())"
   ]
  },
  {
   "cell_type": "code",
   "execution_count": 3,
   "metadata": {},
   "outputs": [
    {
     "name": "stdout",
     "output_type": "stream",
     "text": [
      "Department\n",
      "sales          0.276018\n",
      "technical      0.181345\n",
      "support        0.148610\n",
      "IT             0.081805\n",
      "product_mng    0.060137\n",
      "marketing      0.057204\n",
      "RandD          0.052470\n",
      "accounting     0.051137\n",
      "hr             0.049270\n",
      "management     0.042003\n",
      "Name: proportion, dtype: float64\n"
     ]
    }
   ],
   "source": [
    "print(df['Department'].value_counts(normalize=True))"
   ]
  },
  {
   "cell_type": "code",
   "execution_count": null,
   "metadata": {
    "vscode": {
     "languageId": "ruby"
    }
   },
   "outputs": [
    {
     "data": {
      "text/plain": [
       "{'sales': 4140,\n",
       " 'technical': 2720,\n",
       " 'support': 2229,\n",
       " 'IT': 1227,\n",
       " 'product_mng': 902}"
      ]
     },
     "execution_count": 21,
     "metadata": {},
     "output_type": "execute_result"
    }
   ],
   "source": [
    "department_counts_all = df['Department'].value_counts()\n",
    "cumulative_percentage_all = (department_counts_all.cumsum() / department_counts_all.sum()) * 100\n",
    "departments_80_percent_all = cumulative_percentage_all[cumulative_percentage_all <= 80]\n",
    "department_info_all = {department: department_counts_all[department] for department in departments_80_percent_all.index}\n",
    "department_info_all\n",
    "\n"
   ]
  },
  {
   "cell_type": "code",
   "execution_count": null,
   "metadata": {},
   "outputs": [
    {
     "data": {
      "text/plain": [
       "'technical'"
      ]
     },
     "execution_count": 23,
     "metadata": {},
     "output_type": "execute_result"
    }
   ],
   "source": [
    "quantile_diff = {}\n",
    "for department in department_info_all.keys():\n",
    "    dept_data = df[df['Department'] == department]['average_montly_hours']\n",
    "    quantile_diff[department] = dept_data.quantile(0.9) - dept_data.quantile(0.1)\n",
    "department_to_remove = max(quantile_diff, key=quantile_diff.get)\n",
    "\n",
    "department_to_remove\n"
   ]
  },
  {
   "cell_type": "code",
   "execution_count": null,
   "metadata": {},
   "outputs": [
    {
     "data": {
      "text/plain": [
       "'product_mng'"
      ]
     },
     "execution_count": 24,
     "metadata": {},
     "output_type": "execute_result"
    }
   ],
   "source": [
    "remaining_departments = {dept: quantile_diff[dept] for dept in quantile_diff if dept != department_to_remove}\n",
    "department_to_remove_next = min(remaining_departments, key=remaining_departments.get)\n",
    "\n",
    "department_to_remove_next\n"
   ]
  },
  {
   "cell_type": "code",
   "execution_count": null,
   "metadata": {},
   "outputs": [
    {
     "data": {
      "text/plain": [
       "'IT'"
      ]
     },
     "execution_count": 25,
     "metadata": {},
     "output_type": "execute_result"
    }
   ],
   "source": [
    "departments_remaining = [dept for dept in remaining_departments if dept != department_to_remove_next]\n",
    "remaining_data = df[df['Department'].isin(departments_remaining)]\n",
    "\n",
    "correlation_coefficients = {}\n",
    "for department in departments_remaining:\n",
    "    dept_data = remaining_data[remaining_data['Department'] == department]\n",
    "    correlation = dept_data['number_project'].corr(dept_data['satisfaction_level'])\n",
    "    correlation_coefficients[department] = abs(correlation)\n",
    "\n",
    "department_highest_correlation = max(correlation_coefficients, key=correlation_coefficients.get)\n",
    "\n",
    "department_highest_correlation\n"
   ]
  },
  {
   "cell_type": "code",
   "execution_count": null,
   "metadata": {},
   "outputs": [
    {
     "data": {
      "text/plain": [
       "'sales'"
      ]
     },
     "execution_count": 26,
     "metadata": {},
     "output_type": "execute_result"
    }
   ],
   "source": [
    "high_salary_data = remaining_data[remaining_data['salary'] == 'high']\n",
    "\n",
    "median_satisfaction_high_salary = {}\n",
    "for department in departments_remaining:\n",
    "    dept_data = high_salary_data[high_salary_data['Department'] == department]\n",
    "    median_satisfaction = dept_data['satisfaction_level'].median()\n",
    "    median_satisfaction_high_salary[department] = median_satisfaction\n",
    "\n",
    "department_highest_median_satisfaction = max(median_satisfaction_high_salary, key=median_satisfaction_high_salary.get)\n",
    "\n",
    "department_highest_median_satisfaction\n"
   ]
  },
  {
   "cell_type": "code",
   "execution_count": 29,
   "metadata": {},
   "outputs": [
    {
     "name": "stdout",
     "output_type": "stream",
     "text": [
      "{'sales': 0.69, 'support': 0.67, 'IT': 0.65}\n"
     ]
    }
   ],
   "source": [
    "print(median_satisfaction_high_salary)"
   ]
  },
  {
   "cell_type": "code",
   "execution_count": 27,
   "metadata": {},
   "outputs": [
    {
     "name": "stdout",
     "output_type": "stream",
     "text": [
      "['sales', 'support', 'IT']\n"
     ]
    }
   ],
   "source": [
    "print(departments_remaining)"
   ]
  },
  {
   "cell_type": "code",
   "execution_count": null,
   "metadata": {},
   "outputs": [
    {
     "data": {
      "text/plain": [
       "'sales: -0.0100'"
      ]
     },
     "execution_count": 28,
     "metadata": {},
     "output_type": "execute_result"
    }
   ],
   "source": [
    "median_difference_high_salary = {}\n",
    "for department in departments_remaining:\n",
    "    dept_data = high_salary_data[high_salary_data['Department'] == department]\n",
    "    if not dept_data.empty:\n",
    "        median_diff = (dept_data['satisfaction_level'].median() - dept_data['last_evaluation'].median())\n",
    "        median_difference_high_salary[department] = median_diff\n",
    "\n",
    "department_highest_median_diff = max(median_difference_high_salary, key=median_difference_high_salary.get)\n",
    "highest_median_diff_value = median_difference_high_salary[department_highest_median_diff]\n",
    "\n",
    "f\"{department_highest_median_diff}: {highest_median_diff_value:.4f}\"\n"
   ]
  },
  {
   "cell_type": "code",
   "execution_count": 30,
   "metadata": {},
   "outputs": [
    {
     "data": {
      "text/plain": [
       "{'sales': -0.010000000000000009,\n",
       " 'support': -0.04999999999999993,\n",
       " 'IT': -0.04999999999999993}"
      ]
     },
     "execution_count": 30,
     "metadata": {},
     "output_type": "execute_result"
    }
   ],
   "source": [
    "median_difference_high_salary"
   ]
  }
 ],
 "metadata": {
  "kernelspec": {
   "display_name": "apollo",
   "language": "python",
   "name": "apollo"
  },
  "language_info": {
   "codemirror_mode": {
    "name": "ipython",
    "version": 3
   },
   "file_extension": ".py",
   "mimetype": "text/x-python",
   "name": "python",
   "nbconvert_exporter": "python",
   "pygments_lexer": "ipython3",
   "version": "3.11.9"
  }
 },
 "nbformat": 4,
 "nbformat_minor": 2
}
