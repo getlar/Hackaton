{
 "cells": [
  {
   "cell_type": "code",
   "execution_count": 1,
   "metadata": {},
   "outputs": [
    {
     "name": "stdout",
     "output_type": "stream",
     "text": [
      "   satisfaction_level  last_evaluation  number_project  average_montly_hours  \\\n",
      "0                0.38             0.53               2                   157   \n",
      "1                0.80             0.86               5                   262   \n",
      "2                0.11             0.88               7                   272   \n",
      "3                0.72             0.87               5                   223   \n",
      "4                0.37             0.52               2                   159   \n",
      "\n",
      "   time_spend_company  Work_accident  left  promotion_last_5years Department  \\\n",
      "0                   3              0     1                      0      sales   \n",
      "1                   6              0     1                      0      sales   \n",
      "2                   4              0     1                      0      sales   \n",
      "3                   5              0     1                      0      sales   \n",
      "4                   3              0     1                      0      sales   \n",
      "\n",
      "   salary  \n",
      "0     low  \n",
      "1  medium  \n",
      "2  medium  \n",
      "3     low  \n",
      "4     low  \n"
     ]
    }
   ],
   "source": [
    "import pandas as pd\n",
    "df = pd.read_csv(\"HR_capstone_dataset.csv\")\n",
    "print(df.head())"
   ]
  },
  {
   "cell_type": "code",
   "execution_count": 13,
   "metadata": {},
   "outputs": [
    {
     "name": "stderr",
     "output_type": "stream",
     "text": [
      "[nltk_data] Downloading package vader_lexicon to\n",
      "[nltk_data]     /home/ranuon/nltk_data...\n",
      "[nltk_data]   Package vader_lexicon is already up-to-date!\n"
     ]
    },
    {
     "data": {
      "text/plain": [
       "True"
      ]
     },
     "execution_count": 13,
     "metadata": {},
     "output_type": "execute_result"
    }
   ],
   "source": [
    "import nltk\n",
    "nltk.download('vader_lexicon')"
   ]
  },
  {
   "cell_type": "code",
   "execution_count": 14,
   "metadata": {},
   "outputs": [
    {
     "name": "stdout",
     "output_type": "stream",
     "text": [
      "{'neg': 0.0, 'neu': 0.182, 'pos': 0.818, 'compound': 0.6696}\n"
     ]
    }
   ],
   "source": [
    "from nltk.sentiment.vader import SentimentIntensityAnalyzer\n",
    "\n",
    "analyzer = SentimentIntensityAnalyzer()\n",
    "\n",
    "text = \"I love Python!\"\n",
    "\n",
    "scores = analyzer.polarity_scores(text)\n",
    "\n",
    "print(scores)"
   ]
  },
  {
   "cell_type": "code",
   "execution_count": null,
   "metadata": {},
   "outputs": [],
   "source": [
    "import pandas as pd\n",
    "\n",
    "file_path = 'script_merged.txt'"
   ]
  },
  {
   "cell_type": "code",
   "execution_count": null,
   "metadata": {},
   "outputs": [
    {
     "name": "stdout",
     "output_type": "stream",
     "text": [
      "2524\n"
     ]
    }
   ],
   "source": [
    "with open(file_path, 'r') as file:\n",
    "    lines = file.readlines()\n",
    "\n",
    "print(len(lines))"
   ]
  },
  {
   "cell_type": "code",
   "execution_count": null,
   "metadata": {},
   "outputs": [
    {
     "data": {
      "text/html": [
       "<div>\n",
       "<style scoped>\n",
       "    .dataframe tbody tr th:only-of-type {\n",
       "        vertical-align: middle;\n",
       "    }\n",
       "\n",
       "    .dataframe tbody tr th {\n",
       "        vertical-align: top;\n",
       "    }\n",
       "\n",
       "    .dataframe thead th {\n",
       "        text-align: right;\n",
       "    }\n",
       "</style>\n",
       "<table border=\"1\" class=\"dataframe\">\n",
       "  <thead>\n",
       "    <tr style=\"text-align: right;\">\n",
       "      <th></th>\n",
       "      <th>index</th>\n",
       "      <th>character</th>\n",
       "      <th>dialogue</th>\n",
       "    </tr>\n",
       "  </thead>\n",
       "  <tbody>\n",
       "    <tr>\n",
       "      <th>0</th>\n",
       "      <td>\"1</td>\n",
       "      <td>THREEPIO</td>\n",
       "      <td>Did you hear that?  They've shut down the main...</td>\n",
       "    </tr>\n",
       "    <tr>\n",
       "      <th>1</th>\n",
       "      <td>\"2</td>\n",
       "      <td>THREEPIO</td>\n",
       "      <td>We're doomed!\"</td>\n",
       "    </tr>\n",
       "    <tr>\n",
       "      <th>2</th>\n",
       "      <td>\"3</td>\n",
       "      <td>THREEPIO</td>\n",
       "      <td>There'll be no escape for the Princess this ti...</td>\n",
       "    </tr>\n",
       "    <tr>\n",
       "      <th>3</th>\n",
       "      <td>\"4</td>\n",
       "      <td>THREEPIO</td>\n",
       "      <td>What's that?\"</td>\n",
       "    </tr>\n",
       "    <tr>\n",
       "      <th>4</th>\n",
       "      <td>\"5</td>\n",
       "      <td>THREEPIO</td>\n",
       "      <td>I should have known better than to trust the l...</td>\n",
       "    </tr>\n",
       "    <tr>\n",
       "      <th>...</th>\n",
       "      <td>...</td>\n",
       "      <td>...</td>\n",
       "      <td>...</td>\n",
       "    </tr>\n",
       "    <tr>\n",
       "      <th>2518</th>\n",
       "      <td>\"670</td>\n",
       "      <td>LANDO</td>\n",
       "      <td>Wedge, I don't think we're going to make it.\"</td>\n",
       "    </tr>\n",
       "    <tr>\n",
       "      <th>2519</th>\n",
       "      <td>\"671</td>\n",
       "      <td>WEDGE</td>\n",
       "      <td>You'll make it. Just follow me Gold Leader.\"</td>\n",
       "    </tr>\n",
       "    <tr>\n",
       "      <th>2520</th>\n",
       "      <td>\"672</td>\n",
       "      <td>LANDO</td>\n",
       "      <td>I promised to return his ship without a scratc...</td>\n",
       "    </tr>\n",
       "    <tr>\n",
       "      <th>2521</th>\n",
       "      <td>\"673</td>\n",
       "      <td>HAN</td>\n",
       "      <td>Lando...\"</td>\n",
       "    </tr>\n",
       "    <tr>\n",
       "      <th>2522</th>\n",
       "      <td>\"674</td>\n",
       "      <td>THREEPIO</td>\n",
       "      <td>They did it!\"</td>\n",
       "    </tr>\n",
       "  </tbody>\n",
       "</table>\n",
       "<p>2523 rows × 3 columns</p>\n",
       "</div>"
      ],
      "text/plain": [
       "     index character                                           dialogue\n",
       "0       \"1  THREEPIO  Did you hear that?  They've shut down the main...\n",
       "1       \"2  THREEPIO                                     We're doomed!\"\n",
       "2       \"3  THREEPIO  There'll be no escape for the Princess this ti...\n",
       "3       \"4  THREEPIO                                      What's that?\"\n",
       "4       \"5  THREEPIO  I should have known better than to trust the l...\n",
       "...    ...       ...                                                ...\n",
       "2518  \"670     LANDO      Wedge, I don't think we're going to make it.\"\n",
       "2519  \"671     WEDGE       You'll make it. Just follow me Gold Leader.\"\n",
       "2520  \"672     LANDO  I promised to return his ship without a scratc...\n",
       "2521  \"673       HAN                                          Lando...\"\n",
       "2522  \"674  THREEPIO                                      They did it!\"\n",
       "\n",
       "[2523 rows x 3 columns]"
      ]
     },
     "execution_count": 19,
     "metadata": {},
     "output_type": "execute_result"
    }
   ],
   "source": [
    "cleaned_lines = []\n",
    "for line in lines:\n",
    "    parts = line.strip().split('\" \"')\n",
    "    if len(parts) == 3:\n",
    "        cleaned_lines.append(parts)\n",
    "\n",
    "structured_data = pd.DataFrame(cleaned_lines, columns=[\"index\", \"character\", \"dialogue\"])\n",
    "\n",
    "structured_data.head()\n",
    "\n",
    "structured_data"
   ]
  },
  {
   "cell_type": "code",
   "execution_count": null,
   "metadata": {},
   "outputs": [
    {
     "name": "stderr",
     "output_type": "stream",
     "text": [
      "[nltk_data] Downloading package vader_lexicon to\n",
      "[nltk_data]     /home/ranuon/nltk_data...\n",
      "[nltk_data]   Package vader_lexicon is already up-to-date!\n"
     ]
    },
    {
     "data": {
      "text/plain": [
       "('RED LEADER',\n",
       " character\n",
       " RED LEADER   -0.077145\n",
       " VADER         0.013678\n",
       " EMPEROR       0.090555\n",
       " Name: compound, dtype: float64)"
      ]
     },
     "execution_count": 20,
     "metadata": {},
     "output_type": "execute_result"
    }
   ],
   "source": [
    "import pandas as pd\n",
    "from nltk.sentiment.vader import SentimentIntensityAnalyzer\n",
    "import nltk\n",
    "\n",
    "nltk.download(\"vader_lexicon\")\n",
    "\n",
    "analyzer = SentimentIntensityAnalyzer()\n",
    "\n",
    "character_counts = structured_data[\"character\"].value_counts()\n",
    "top_10_percentile_threshold = character_counts.quantile(0.9)\n",
    "top_10_percentile_characters = character_counts[character_counts >= top_10_percentile_threshold].index\n",
    "\n",
    "top_10_data = structured_data[structured_data[\"character\"].isin(top_10_percentile_characters)]\n",
    "\n",
    "def calculate_sentiment(row):\n",
    "    sentiment_scores = analyzer.polarity_scores(row[\"dialogue\"])\n",
    "    row[\"negative\"] = sentiment_scores[\"neg\"]\n",
    "    row[\"positive\"] = sentiment_scores[\"pos\"]\n",
    "    row[\"compound\"] = sentiment_scores[\"compound\"]\n",
    "    return row\n",
    "\n",
    "top_10_data = top_10_data.apply(calculate_sentiment, axis=1)\n",
    "\n",
    "specified_characters = [\"RED LEADER\", \"TARKIN\", \"EMPEROR\", \"VADER\"]\n",
    "specified_data = top_10_data[top_10_data[\"character\"].isin(specified_characters)]\n",
    "\n",
    "average_compound_scores = (\n",
    "    specified_data.groupby(\"character\")[\"compound\"].mean().sort_values()\n",
    ")\n",
    "\n",
    "lowest_average_compound_character = average_compound_scores.idxmin()\n",
    "lowest_average_compound_character, average_compound_scores"
   ]
  },
  {
   "cell_type": "code",
   "execution_count": null,
   "metadata": {},
   "outputs": [
    {
     "data": {
      "text/plain": [
       "('VADER',\n",
       " character\n",
       " VADER    0.013678\n",
       " Name: compound, dtype: float64)"
      ]
     },
     "execution_count": 28,
     "metadata": {},
     "output_type": "execute_result"
    }
   ],
   "source": [
    "specified_characters = [\"VADER\"]\n",
    "specified_data = top_10_data[top_10_data[\"character\"].isin(specified_characters)]\n",
    "\n",
    "average_compound_scores = (\n",
    "    specified_data.groupby(\"character\")[\"compound\"].mean().sort_values()\n",
    ")\n",
    "\n",
    "lowest_average_compound_character = average_compound_scores.idxmin()\n",
    "lowest_average_compound_character, average_compound_scores"
   ]
  },
  {
   "cell_type": "code",
   "execution_count": 25,
   "metadata": {},
   "outputs": [
    {
     "data": {
      "text/html": [
       "<div>\n",
       "<style scoped>\n",
       "    .dataframe tbody tr th:only-of-type {\n",
       "        vertical-align: middle;\n",
       "    }\n",
       "\n",
       "    .dataframe tbody tr th {\n",
       "        vertical-align: top;\n",
       "    }\n",
       "\n",
       "    .dataframe thead th {\n",
       "        text-align: right;\n",
       "    }\n",
       "</style>\n",
       "<table border=\"1\" class=\"dataframe\">\n",
       "  <thead>\n",
       "    <tr style=\"text-align: right;\">\n",
       "      <th></th>\n",
       "      <th>index</th>\n",
       "      <th>character</th>\n",
       "      <th>dialogue</th>\n",
       "      <th>negative</th>\n",
       "      <th>positive</th>\n",
       "      <th>compound</th>\n",
       "    </tr>\n",
       "  </thead>\n",
       "  <tbody>\n",
       "    <tr>\n",
       "      <th>11</th>\n",
       "      <td>\"12</td>\n",
       "      <td>VADER</td>\n",
       "      <td>Where are those transmissions you intercepted?\"</td>\n",
       "      <td>0.000</td>\n",
       "      <td>0.000</td>\n",
       "      <td>0.0000</td>\n",
       "    </tr>\n",
       "    <tr>\n",
       "      <th>13</th>\n",
       "      <td>\"14</td>\n",
       "      <td>VADER</td>\n",
       "      <td>If this is a consular ship... where is the Amb...</td>\n",
       "      <td>0.000</td>\n",
       "      <td>0.000</td>\n",
       "      <td>0.0000</td>\n",
       "    </tr>\n",
       "    <tr>\n",
       "      <th>14</th>\n",
       "      <td>\"15</td>\n",
       "      <td>VADER</td>\n",
       "      <td>Commander, tear this ship apart until you've f...</td>\n",
       "      <td>0.000</td>\n",
       "      <td>0.086</td>\n",
       "      <td>0.1511</td>\n",
       "    </tr>\n",
       "    <tr>\n",
       "      <th>42</th>\n",
       "      <td>\"43</td>\n",
       "      <td>VADER</td>\n",
       "      <td>Don't play games with me, Your Highness.  You ...</td>\n",
       "      <td>0.179</td>\n",
       "      <td>0.028</td>\n",
       "      <td>-0.7224</td>\n",
       "    </tr>\n",
       "    <tr>\n",
       "      <th>44</th>\n",
       "      <td>\"45</td>\n",
       "      <td>VADER</td>\n",
       "      <td>You're a part of the Rebel Alliance... and a t...</td>\n",
       "      <td>0.159</td>\n",
       "      <td>0.000</td>\n",
       "      <td>-0.2244</td>\n",
       "    </tr>\n",
       "    <tr>\n",
       "      <th>...</th>\n",
       "      <td>...</td>\n",
       "      <td>...</td>\n",
       "      <td>...</td>\n",
       "      <td>...</td>\n",
       "      <td>...</td>\n",
       "      <td>...</td>\n",
       "    </tr>\n",
       "    <tr>\n",
       "      <th>2479</th>\n",
       "      <td>\"631</td>\n",
       "      <td>VADER</td>\n",
       "      <td>You cannot hide forever, Luke.\"</td>\n",
       "      <td>0.000</td>\n",
       "      <td>0.275</td>\n",
       "      <td>0.1326</td>\n",
       "    </tr>\n",
       "    <tr>\n",
       "      <th>2481</th>\n",
       "      <td>\"633</td>\n",
       "      <td>VADER</td>\n",
       "      <td>Give yourself to the dark side. It is the only...</td>\n",
       "      <td>0.104</td>\n",
       "      <td>0.304</td>\n",
       "      <td>0.7964</td>\n",
       "    </tr>\n",
       "    <tr>\n",
       "      <th>2482</th>\n",
       "      <td>\"634</td>\n",
       "      <td>VADER</td>\n",
       "      <td>Sister! So...you have a twin sister. Your feel...</td>\n",
       "      <td>0.200</td>\n",
       "      <td>0.067</td>\n",
       "      <td>-0.7345</td>\n",
       "    </tr>\n",
       "    <tr>\n",
       "      <th>2507</th>\n",
       "      <td>\"659</td>\n",
       "      <td>VADER</td>\n",
       "      <td>Luke, help me take this mask off.\"</td>\n",
       "      <td>0.000</td>\n",
       "      <td>0.310</td>\n",
       "      <td>0.4019</td>\n",
       "    </tr>\n",
       "    <tr>\n",
       "      <th>2509</th>\n",
       "      <td>\"661</td>\n",
       "      <td>VADER</td>\n",
       "      <td>Nothing can stop that now. Just for once... le...</td>\n",
       "      <td>0.000</td>\n",
       "      <td>0.106</td>\n",
       "      <td>0.2235</td>\n",
       "    </tr>\n",
       "  </tbody>\n",
       "</table>\n",
       "<p>140 rows × 6 columns</p>\n",
       "</div>"
      ],
      "text/plain": [
       "     index character                                           dialogue  \\\n",
       "11     \"12     VADER    Where are those transmissions you intercepted?\"   \n",
       "13     \"14     VADER  If this is a consular ship... where is the Amb...   \n",
       "14     \"15     VADER  Commander, tear this ship apart until you've f...   \n",
       "42     \"43     VADER  Don't play games with me, Your Highness.  You ...   \n",
       "44     \"45     VADER  You're a part of the Rebel Alliance... and a t...   \n",
       "...    ...       ...                                                ...   \n",
       "2479  \"631     VADER                    You cannot hide forever, Luke.\"   \n",
       "2481  \"633     VADER  Give yourself to the dark side. It is the only...   \n",
       "2482  \"634     VADER  Sister! So...you have a twin sister. Your feel...   \n",
       "2507  \"659     VADER                 Luke, help me take this mask off.\"   \n",
       "2509  \"661     VADER  Nothing can stop that now. Just for once... le...   \n",
       "\n",
       "      negative  positive  compound  \n",
       "11       0.000     0.000    0.0000  \n",
       "13       0.000     0.000    0.0000  \n",
       "14       0.000     0.086    0.1511  \n",
       "42       0.179     0.028   -0.7224  \n",
       "44       0.159     0.000   -0.2244  \n",
       "...        ...       ...       ...  \n",
       "2479     0.000     0.275    0.1326  \n",
       "2481     0.104     0.304    0.7964  \n",
       "2482     0.200     0.067   -0.7345  \n",
       "2507     0.000     0.310    0.4019  \n",
       "2509     0.000     0.106    0.2235  \n",
       "\n",
       "[140 rows x 6 columns]"
      ]
     },
     "execution_count": 25,
     "metadata": {},
     "output_type": "execute_result"
    }
   ],
   "source": [
    "top10data=top_10_data[:1010]\n",
    "\n",
    "specified_characters = [\"VADER\"]\n",
    "specified_data = top_10_data[top_10_data[\"character\"].isin(specified_characters)]\n",
    "\n",
    "specified_data"
   ]
  }
 ],
 "metadata": {
  "kernelspec": {
   "display_name": "apollo",
   "language": "python",
   "name": "apollo"
  },
  "language_info": {
   "codemirror_mode": {
    "name": "ipython",
    "version": 3
   },
   "file_extension": ".py",
   "mimetype": "text/x-python",
   "name": "python",
   "nbconvert_exporter": "python",
   "pygments_lexer": "ipython3",
   "version": "3.11.9"
  }
 },
 "nbformat": 4,
 "nbformat_minor": 2
}
