{
 "cells": [
  {
   "cell_type": "code",
   "execution_count": null,
   "metadata": {},
   "outputs": [
    {
     "name": "stdout",
     "output_type": "stream",
     "text": [
      "Count of numbers that can be rounded to a multiple of 5: 372\n"
     ]
    }
   ],
   "source": [
    "file_path = 'kerek.in.txt'\n",
    "\n",
    "with open(file_path, 'r') as file:\n",
    "    points = file.read().strip().split()\n",
    "\n",
    "points = [int(num.strip()) for num in points if num.strip()]\n",
    "\n",
    "count = 0\n",
    "\n",
    "for num in points:\n",
    "    if num % 10 in [1, 4, 6, 9]:\n",
    "        rounded_num = round(num / 5) * 5\n",
    "        if rounded_num % 5 == 0:\n",
    "            count += 1\n",
    "\n",
    "print(\"Count of numbers that can be rounded to a multiple of 5:\", count)\n"
   ]
  },
  {
   "cell_type": "code",
   "execution_count": null,
   "metadata": {},
   "outputs": [
    {
     "name": "stdout",
     "output_type": "stream",
     "text": [
      "Number of papers not referred by any other paper: 180\n"
     ]
    }
   ],
   "source": [
    "file_path = 'cikkek.in.txt'\n",
    "\n",
    "papers = set()\n",
    "referenced_papers = set()\n",
    "\n",
    "with open(file_path, 'r') as file:\n",
    "    for line in file:\n",
    "        ids = line.strip().split()\n",
    "        if ids:\n",
    "            paper_id = ids[0]\n",
    "            papers.add(paper_id)\n",
    "            referenced_papers.update(ids[1:])\n",
    "\n",
    "unreferenced_papers = papers - referenced_papers\n",
    "count_unreferenced = len(unreferenced_papers)\n",
    "\n",
    "print(\"Number of papers not referred by any other paper:\", count_unreferenced)"
   ]
  }
 ],
 "metadata": {
  "kernelspec": {
   "display_name": "apollo",
   "language": "python",
   "name": "apollo"
  },
  "language_info": {
   "codemirror_mode": {
    "name": "ipython",
    "version": 3
   },
   "file_extension": ".py",
   "mimetype": "text/x-python",
   "name": "python",
   "nbconvert_exporter": "python",
   "pygments_lexer": "ipython3",
   "version": "3.11.9"
  }
 },
 "nbformat": 4,
 "nbformat_minor": 2
}
