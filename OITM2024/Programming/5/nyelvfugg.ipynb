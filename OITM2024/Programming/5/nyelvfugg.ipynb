{
 "cells": [
  {
   "cell_type": "code",
   "execution_count": null,
   "metadata": {},
   "outputs": [
    {
     "name": "stdout",
     "output_type": "stream",
     "text": [
      "Area of largest square area: (134, 1614, 2848)\n"
     ]
    }
   ],
   "source": [
    "def calculate_correct_largest_square(file_path):\n",
    "    with open(file_path, 'r') as file:\n",
    "        dimensions = file.readline().strip()\n",
    "        W, H = map(int, dimensions.split())\n",
    "        grid = []\n",
    "        for _ in range(H):\n",
    "            grid.append(list(map(int, file.readline().strip())))\n",
    "    \n",
    "    dp = [[0] * W for _ in range(H)]\n",
    "    max_size = 0\n",
    "    bottom_right_x = -1\n",
    "    bottom_right_y = -1\n",
    "    \n",
    "    for i in range(H):\n",
    "        for j in range(W):\n",
    "            if grid[i][j] == 0:\n",
    "                if i == 0 or j == 0:\n",
    "                    dp[i][j] = 1\n",
    "                else:\n",
    "                    dp[i][j] = min(dp[i-1][j], dp[i][j-1], dp[i-1][j-1]) + 1\n",
    "                if dp[i][j] > max_size or (dp[i][j] == max_size and (i > bottom_right_y or (i == bottom_right_y and j > bottom_right_x))):\n",
    "                    max_size = dp[i][j]\n",
    "                    bottom_right_x = j\n",
    "                    bottom_right_y = i\n",
    "    \n",
    "    top_left_x = bottom_right_x - max_size + 1\n",
    "    top_left_y = bottom_right_y - max_size + 1\n",
    "    return max_size, top_left_x, top_left_y\n",
    "\n",
    "test_file_path = 'negyzet2.in.txt'\n",
    "largest_area = calculate_correct_largest_square(test_file_path)\n",
    "print(\"Area of largest square area:\", largest_area)\n"
   ]
  },
  {
   "cell_type": "code",
   "execution_count": 16,
   "metadata": {},
   "outputs": [
    {
     "name": "stdout",
     "output_type": "stream",
     "text": [
      "Num of accepted teacher subsets: 177\n"
     ]
    }
   ],
   "source": [
    "from itertools import combinations\n",
    "def count_teacher_subsets(file_path):\n",
    "    with open(file_path, 'r') as file:\n",
    "        teachers = [set(line.strip().split()) for line in file if line.strip()]\n",
    "    \n",
    "    all_subjects = set.union(*teachers)\n",
    "    total_count = 0\n",
    "    n = len(teachers)\n",
    "    \n",
    "    for r in range(1, n + 1):\n",
    "        for subset in combinations(teachers, r):\n",
    "            covered_subjects = set.union(*subset)\n",
    "            if covered_subjects == all_subjects:\n",
    "                total_count += 1\n",
    "    \n",
    "    return total_count\n",
    "\n",
    "test_file_path = 'tanarok2.in.txt'\n",
    "teacher_subset = count_teacher_subsets(test_file_path)\n",
    "print(\"Num of accepted teacher subsets:\", teacher_subset)"
   ]
  }
 ],
 "metadata": {
  "kernelspec": {
   "display_name": "apollo",
   "language": "python",
   "name": "python3"
  },
  "language_info": {
   "codemirror_mode": {
    "name": "ipython",
    "version": 3
   },
   "file_extension": ".py",
   "mimetype": "text/x-python",
   "name": "python",
   "nbconvert_exporter": "python",
   "pygments_lexer": "ipython3",
   "version": "3.11.9"
  }
 },
 "nbformat": 4,
 "nbformat_minor": 2
}
