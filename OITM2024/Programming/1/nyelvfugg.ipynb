{
 "cells": [
  {
   "cell_type": "code",
   "execution_count": null,
   "metadata": {},
   "outputs": [
    {
     "data": {
      "text/plain": [
       "4"
      ]
     },
     "execution_count": 8,
     "metadata": {},
     "output_type": "execute_result"
    }
   ],
   "source": [
    "file_path = 'dino.teszt.in.txt'\n",
    "with open(file_path, 'r') as file:\n",
    "    dna_sequence = file.read().strip()\n",
    "\n",
    "def min_changes_to_palindrome(sequence):\n",
    "    changes = 0\n",
    "    length = len(sequence)\n",
    "    for i in range(length // 2):\n",
    "        if sequence[i] != sequence[length - i - 1]:\n",
    "            changes += 1\n",
    "    return changes\n",
    "\n",
    "min_changes = min_changes_to_palindrome(dna_sequence)\n",
    "min_changes"
   ]
  },
  {
   "cell_type": "code",
   "execution_count": null,
   "metadata": {},
   "outputs": [
    {
     "name": "stdout",
     "output_type": "stream",
     "text": [
      "380\n"
     ]
    }
   ],
   "source": [
    "def min_changes_to_palindrome(s: str) -> int: \n",
    "    left, right = 0, len(s) - 1 \n",
    "    changes = 0 \n",
    "     \n",
    "    while left < right: \n",
    "        if s[left] != s[right]: \n",
    "            changes += 1 \n",
    "        left += 1 \n",
    "        right -= 1 \n",
    "         \n",
    "    return changes \n",
    " \n",
    "s = dna_sequence\n",
    "print(min_changes_to_palindrome(s))"
   ]
  },
  {
   "cell_type": "code",
   "execution_count": null,
   "metadata": {},
   "outputs": [
    {
     "data": {
      "text/plain": [
       "35"
      ]
     },
     "execution_count": 7,
     "metadata": {},
     "output_type": "execute_result"
    }
   ],
   "source": [
    "file_path = 'tornasor.in.txt'\n",
    "with open(file_path, 'r') as file:\n",
    "    heights = list(map(int, file.readlines()))\n",
    "\n",
    "def count_correct_positions(heights):\n",
    "    sorted_heights = sorted(heights)\n",
    "    correct_positions = sum(1 for i in range(len(heights)) if heights[i] == sorted_heights[i])\n",
    "    return correct_positions\n",
    "\n",
    "correct_positions = count_correct_positions(heights)\n",
    "correct_positions"
   ]
  }
 ],
 "metadata": {
  "kernelspec": {
   "display_name": "apollo",
   "language": "python",
   "name": "python3"
  },
  "language_info": {
   "codemirror_mode": {
    "name": "ipython",
    "version": 3
   },
   "file_extension": ".py",
   "mimetype": "text/x-python",
   "name": "python",
   "nbconvert_exporter": "python",
   "pygments_lexer": "ipython3",
   "version": "3.11.9"
  }
 },
 "nbformat": 4,
 "nbformat_minor": 2
}
