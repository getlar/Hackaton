{
 "cells": [
  {
   "cell_type": "code",
   "execution_count": 4,
   "metadata": {},
   "outputs": [
    {
     "name": "stdout",
     "output_type": "stream",
     "text": [
      "Center of Mass Coordinates: (169601720317452773141563326624143940953, 165265433627216239845203562228779181899, 168774009497060864650139799840433132954)\n"
     ]
    }
   ],
   "source": [
    "def calculate_center_of_mass(file_path):\n",
    "    total_mass = 0\n",
    "    weighted_x = 0\n",
    "    weighted_y = 0\n",
    "    weighted_z = 0\n",
    "\n",
    "    with open(file_path, 'r') as file:\n",
    "        lines = file.readlines()\n",
    "\n",
    "    for line in lines:\n",
    "        x, y, z, mass = map(int, line.split())\n",
    "        total_mass += mass\n",
    "        weighted_x += x * mass\n",
    "        weighted_y += y * mass\n",
    "        weighted_z += z * mass\n",
    "\n",
    "    center_x = round((weighted_x + total_mass//2)//total_mass)\n",
    "    center_y = round((weighted_y + total_mass//2)//total_mass)\n",
    "    center_z = round((weighted_z + total_mass//2)//total_mass)\n",
    "\n",
    "    return center_x, center_y, center_z\n",
    "\n",
    "test_file_path = 'galaxis.in.txt'\n",
    "center_of_mass = calculate_center_of_mass(test_file_path)\n",
    "print(\"Center of Mass Coordinates:\", center_of_mass)\n"
   ]
  },
  {
   "cell_type": "code",
   "execution_count": 18,
   "metadata": {},
   "outputs": [
    {
     "name": "stdout",
     "output_type": "stream",
     "text": [
      "44121786412938914313075382743878072587341640053715921756460647438103393337344\n"
     ]
    }
   ],
   "source": [
    "print(169601720317452767296784926606027128832 * 260149403734548011582279715552270208367)"
   ]
  },
  {
   "cell_type": "code",
   "execution_count": null,
   "metadata": {},
   "outputs": [
    {
     "name": "stdout",
     "output_type": "stream",
     "text": [
      "Solution: 9605742138\n"
     ]
    }
   ],
   "source": [
    "from itertools import permutations\n",
    "\n",
    "def solve_cryptarithm(file_path):\n",
    "    with open(file_path, 'r') as file:\n",
    "        equation = file.readline().strip()\n",
    "    \n",
    "    letters = set(filter(str.isalpha, equation))\n",
    "    if len(letters) > 10:\n",
    "        raise ValueError(\"More than 10 unique letters, cannot assign unique digits.\")\n",
    "    digits = '0123456789'\n",
    "\n",
    "    for perm in permutations(digits, len(letters)):\n",
    "        mapping = dict(zip(letters, perm))\n",
    "        translated = equation.translate(str.maketrans(mapping))\n",
    "        try:\n",
    "            if eval(translated.replace('=', '==')):\n",
    "                return ''.join(mapping[letter] for letter in sorted(letters))\n",
    "        except:\n",
    "            continue\n",
    "\n",
    "    return \"No solution found.\"\n",
    "file_path = 'kod.teszt.in.txt'\n",
    "solution = solve_cryptarithm(file_path)\n",
    "print(\"Solution:\", solution)\n"
   ]
  },
  {
   "cell_type": "code",
   "execution_count": 14,
   "metadata": {},
   "outputs": [
    {
     "data": {
      "text/plain": [
       "('9357480621', '9714503862')"
      ]
     },
     "execution_count": 14,
     "metadata": {},
     "output_type": "execute_result"
    }
   ],
   "source": [
    "result_1 = solve_cryptarithm('kod1.in.txt')\n",
    "result_2 = solve_cryptarithm('kod2.in.txt')\n",
    "result_1, result_2"
   ]
  }
 ],
 "metadata": {
  "kernelspec": {
   "display_name": "apollo",
   "language": "python",
   "name": "python3"
  },
  "language_info": {
   "codemirror_mode": {
    "name": "ipython",
    "version": 3
   },
   "file_extension": ".py",
   "mimetype": "text/x-python",
   "name": "python",
   "nbconvert_exporter": "python",
   "pygments_lexer": "ipython3",
   "version": "3.11.9"
  }
 },
 "nbformat": 4,
 "nbformat_minor": 2
}
