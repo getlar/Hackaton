{
 "cells": [
  {
   "cell_type": "code",
   "execution_count": 26,
   "metadata": {},
   "outputs": [
    {
     "name": "stdout",
     "output_type": "stream",
     "text": [
      "71092064954030452211782737449421074914 320503487102735838859950983684476845114 177478938542024683418405153653569966036\n",
      "1891682645418236088708456224280434646 93768439923298521367854486299889080056 192704650360747426627518719469818904093\n",
      "333463941015437738742062045598014154148 270561577303220721129783936009926660649 33260709926514767383602665902284543624\n",
      "310277339285090453128956671225546996171 52836811134549821562647717494560820794 81505943438333215458714678242130979259\n",
      "110479702674032328749231830417006975021 309747811723491252541842244632271315213 191023604663238558935413042964918748666\n",
      "Center of Mass Coordinates: (185088292401571539441786953776901390336, 243060857643880704308570266284108808192, 131282655862024946829485204724210728960)\n"
     ]
    }
   ],
   "source": [
    "def calculate_center_of_mass(file_path):\n",
    "    total_mass = 0\n",
    "    weighted_x = 0\n",
    "    weighted_y = 0\n",
    "    weighted_z = 0\n",
    "\n",
    "    with open(file_path, 'r') as file:\n",
    "        lines = file.readlines()\n",
    "\n",
    "    for line in lines:\n",
    "        x, y, z, mass = map(int, line.split())\n",
    "        print(x, y, z)\n",
    "        total_mass += mass\n",
    "        weighted_x += x * mass\n",
    "        weighted_y += y * mass\n",
    "        weighted_z += z * mass\n",
    "\n",
    "    if total_mass == 0:\n",
    "        raise ValueError(\"Total mass is zero. Cannot compute center of mass.\")\n",
    "\n",
    "    center_x = round(weighted_x / total_mass)\n",
    "    center_y = round(weighted_y / total_mass)\n",
    "    center_z = round(weighted_z / total_mass)\n",
    "\n",
    "    return center_x, center_y, center_z\n",
    "\n",
    "test_file_path = 'galaxis.teszt.in.txt'\n",
    "center_of_mass = calculate_center_of_mass(test_file_path)\n",
    "print(\"Center of Mass Coordinates:\", center_of_mass)\n"
   ]
  },
  {
   "cell_type": "code",
   "execution_count": 18,
   "metadata": {},
   "outputs": [
    {
     "name": "stdout",
     "output_type": "stream",
     "text": [
      "44121786412938914313075382743878072587341640053715921756460647438103393337344\n"
     ]
    }
   ],
   "source": [
    "print(169601720317452767296784926606027128832 * 260149403734548011582279715552270208367)"
   ]
  },
  {
   "cell_type": "code",
   "execution_count": null,
   "metadata": {},
   "outputs": [
    {
     "name": "stdout",
     "output_type": "stream",
     "text": [
      "Solution: 9605742138\n"
     ]
    }
   ],
   "source": [
    "from itertools import permutations\n",
    "\n",
    "def solve_cryptarithm(file_path):\n",
    "    with open(file_path, 'r') as file:\n",
    "        equation = file.readline().strip()\n",
    "    \n",
    "    letters = set(filter(str.isalpha, equation))\n",
    "    if len(letters) > 10:\n",
    "        raise ValueError(\"More than 10 unique letters, cannot assign unique digits.\")\n",
    "    digits = '0123456789'\n",
    "\n",
    "    for perm in permutations(digits, len(letters)):\n",
    "        mapping = dict(zip(letters, perm))\n",
    "        translated = equation.translate(str.maketrans(mapping))\n",
    "        try:\n",
    "            if eval(translated.replace('=', '==')):\n",
    "                return ''.join(mapping[letter] for letter in sorted(letters))\n",
    "        except:\n",
    "            continue\n",
    "\n",
    "    return \"No solution found.\"\n",
    "file_path = 'kod.teszt.in.txt'\n",
    "solution = solve_cryptarithm(file_path)\n",
    "print(\"Solution:\", solution)\n"
   ]
  },
  {
   "cell_type": "code",
   "execution_count": 14,
   "metadata": {},
   "outputs": [
    {
     "data": {
      "text/plain": [
       "('9357480621', '9714503862')"
      ]
     },
     "execution_count": 14,
     "metadata": {},
     "output_type": "execute_result"
    }
   ],
   "source": [
    "result_1 = solve_cryptarithm('kod1.in.txt')\n",
    "result_2 = solve_cryptarithm('kod2.in.txt')\n",
    "result_1, result_2"
   ]
  }
 ],
 "metadata": {
  "kernelspec": {
   "display_name": "apollo",
   "language": "python",
   "name": "python3"
  },
  "language_info": {
   "codemirror_mode": {
    "name": "ipython",
    "version": 3
   },
   "file_extension": ".py",
   "mimetype": "text/x-python",
   "name": "python",
   "nbconvert_exporter": "python",
   "pygments_lexer": "ipython3",
   "version": "3.11.9"
  }
 },
 "nbformat": 4,
 "nbformat_minor": 2
}
