{
 "cells": [
  {
   "cell_type": "code",
   "execution_count": 36,
   "metadata": {},
   "outputs": [
    {
     "data": {
      "image/png": "[encoded data removed]",
      "text/plain": [
       "<Figure size 640x480 with 1 Axes>"
      ]
     },
     "metadata": {},
     "output_type": "display_data"
    }
   ],
   "source": [
    "import geopandas as gpd\n",
    "import pandas as pd\n",
    "import matplotlib.pyplot as plt\n",
    "from shapely.geometry import Point\n",
    "\n",
    "# Load the CSV file into a DataFrame\n",
    "df = pd.read_csv('helyszinek.csv')\n",
    "\n",
    "# Ensure the DataFrame has 'latitude' and 'longitude' columns\n",
    "# Create a GeoDataFrame\n",
    "geometry = [Point(xy) for xy in zip(df['longitude'], df['latitude'])]\n",
    "gdf = gpd.GeoDataFrame(df, geometry=geometry)\n",
    "\n",
    "# Set the coordinate reference system (CRS) to WGS84 (EPSG:4326)\n",
    "gdf.set_crs(epsg=4326, inplace=True)\n",
    "\n",
    "# Plot the GeoDataFrame\n",
    "gdf.plot(marker='o', color='red', markersize=5)\n",
    "plt.title('Geographical Places')\n",
    "plt.xlabel('Longitude')\n",
    "plt.ylabel('Latitude')\n",
    "plt.show()"
   ]
  },
  {
   "cell_type": "code",
   "execution_count": 6,
   "metadata": {},
   "outputs": [
    {
     "data": {
      "application/vnd.plotly.v1+json": {
       "config": {
        "plotlyServerURL": "https://plot.ly"
       },
       "data": [
        {
         "customdata": [
          [
           614,
           296000,
           4,
           0.4362897539525635,
           1092
          ],
          [
           390,
           353000,
           6,
           0.4274198045722487,
           520
          ],
          [
           417,
           344000,
           0,
           0.4002393348404425,
           708
          ],
          [
           658,
           330000,
           1,
           0.491411253869041,
           1005
          ],
          [
           797,
           160000,
           3,
           0.4220941323038568,
           1041
          ],
          [
           467,
           249000,
           0,
           0.3916226877017411,
           631
          ],
          [
           622,
           286000,
           6,
           0.4941092655813909,
           659
          ],
          [
           442,
           186000,
           0,
           0.5920264723576188,
           621
          ],
          [
           832,
           296000,
           5,
           0.5428421029360765,
           1008
          ],
          [
           633,
           230000,
           1,
           0.416823898912543,
           581
          ],
          [
           777,
           331000,
           0,
           0.358769433180785,
           688
          ],
          [
           548,
           214000,
           4,
           0.5596419949686393,
           580
          ],
          [
           468,
           288000,
           0,
           0.3795968856875077,
           906
          ],
          [
           843,
           396000,
           2,
           0.4526510187429448,
           527
          ],
          [
           362,
           160000,
           5,
           0.427101210245185,
           182
          ],
          [
           610,
           351000,
           4,
           0.5808083323787766,
           591
          ],
          [
           608,
           191000,
           1,
           0.5555169334859937,
           1094
          ],
          [
           844,
           210000,
           6,
           0.5535433348676426,
           633
          ],
          [
           719,
           279000,
           6,
           0.4981434400650883,
           402
          ],
          [
           757,
           396000,
           2,
           0.5547800901334812,
           705
          ],
          [
           550,
           385000,
           5,
           0.4394076947146503,
           132
          ],
          [
           707,
           375000,
           3,
           0.5155530425337058,
           638
          ],
          [
           732,
           163000,
           1,
           0.621975216751002,
           582
          ],
          [
           714,
           373000,
           3,
           0.6022851728915821,
           226
          ],
          [
           476,
           169000,
           1,
           0.6067040817433045,
           560
          ],
          [
           536,
           346000,
           2,
           0.5009876143223073,
           583
          ],
          [
           751,
           256000,
           1,
           0.4535890654191213,
           1033
          ],
          [
           535,
           396000,
           1,
           0.6450430458880574,
           404
          ],
          [
           577,
           183000,
           1,
           0.4701623228699098,
           873
          ],
          [
           816,
           264000,
           5,
           0.4889026304861278,
           85
          ],
          [
           360,
           334000,
           2,
           0.6366352928928187,
           466
          ],
          [
           525,
           151000,
           1,
           0.4270220382222026,
           535
          ],
          [
           770,
           178000,
           5,
           0.3936953242236694,
           1066
          ],
          [
           617,
           161000,
           3,
           0.6398584662155905,
           751
          ],
          [
           489,
           177000,
           6,
           0.367681623058936,
           499
          ],
          [
           707,
           192000,
           3,
           0.4195171960362633,
           879
          ],
          [
           616,
           158000,
           4,
           0.3924980763003906,
           80
          ],
          [
           704,
           184000,
           4,
           0.4247821189239784,
           977
          ],
          [
           723,
           372000,
           3,
           0.4372442182594137,
           492
          ],
          [
           426,
           191000,
           6,
           0.4027732253525195,
           393
          ],
          [
           601,
           376000,
           1,
           0.5702260332766474,
           152
          ],
          [
           692,
           194000,
           2,
           0.5324855347317361,
           336
          ],
          [
           700,
           206000,
           4,
           0.5713141349728906,
           199
          ],
          [
           815,
           273000,
           1,
           0.5960684174539513,
           281
          ],
          [
           556,
           387000,
           5,
           0.4313002137596543,
           924
          ],
          [
           771,
           272000,
           5,
           0.3782572219921845,
           246
          ],
          [
           724,
           332000,
           6,
           0.4479405075371097,
           134
          ],
          [
           612,
           293000,
           6,
           0.4371682629026384,
           169
          ],
          [
           429,
           264000,
           4,
           0.3692850428034379,
           884
          ],
          [
           437,
           334000,
           0,
           0.5167057689274757,
           381
          ],
          [
           775,
           281000,
           3,
           0.5106491767633514,
           505
          ],
          [
           772,
           272000,
           4,
           0.4816223709713215,
           665
          ],
          [
           667,
           323000,
           2,
           0.420822258304206,
           675
          ],
          [
           655,
           293000,
           5,
           0.4588583437288113,
           539
          ],
          [
           385,
           160000,
           6,
           0.557765038334312,
           433
          ],
          [
           726,
           195000,
           0,
           0.4316300954328703,
           498
          ],
          [
           506,
           263000,
           5,
           0.597697641344868,
           339
          ],
          [
           390,
           180000,
           4,
           0.5479950150079678,
           863
          ],
          [
           632,
           157000,
           4,
           0.3855302255602312,
           675
          ],
          [
           505,
           170000,
           4,
           0.5965598568203571,
           923
          ],
          [
           569,
           376000,
           1,
           0.4523814462193186,
           229
          ],
          [
           685,
           310000,
           4,
           0.4668754264615882,
           343
          ],
          [
           801,
           362000,
           2,
           0.4023347135909463,
           949
          ],
          [
           748,
           231000,
           3,
           0.5852011268734038,
           441
          ],
          [
           381,
           388000,
           0,
           0.427307648271479,
           483
          ],
          [
           413,
           344000,
           6,
           0.6005104444603531,
           96
          ],
          [
           835,
           288000,
           2,
           0.5474274366364733,
           1099
          ],
          [
           575,
           204000,
           3,
           0.4747988943520415,
           910
          ],
          [
           603,
           231000,
           4,
           0.4529973794070055,
           648
          ],
          [
           532,
           233000,
           4,
           0.3849185174610395,
           347
          ],
          [
           693,
           259000,
           6,
           0.4176535019490613,
           275
          ],
          [
           452,
           327000,
           3,
           0.5987036978564351,
           258
          ],
          [
           436,
           254000,
           5,
           0.4492992557714432,
           872
          ],
          [
           712,
           354000,
           2,
           0.4245317749399362,
           804
          ],
          [
           445,
           159000,
           2,
           0.6440508306517553,
           914
          ],
          [
           458,
           280000,
           2,
           0.6153425034966944,
           475
          ],
          [
           492,
           190000,
           5,
           0.5000551368615869,
           530
          ],
          [
           653,
           244000,
           5,
           0.6182227425370346,
           653
          ],
          [
           470,
           215000,
           2,
           0.6350809860062878,
           244
          ],
          [
           748,
           306000,
           5,
           0.5317983176551555,
           708
          ],
          [
           481,
           245000,
           1,
           0.5245639273465142,
           710
          ],
          [
           834,
           266000,
           1,
           0.5971780126399178,
           747
          ],
          [
           569,
           185000,
           3,
           0.5070202363465625,
           644
          ],
          [
           522,
           311000,
           2,
           0.5957272255110736,
           661
          ],
          [
           391,
           283000,
           0,
           0.3513434902363643,
           718
          ],
          [
           747,
           378000,
           2,
           0.4570169441780062,
           358
          ],
          [
           390,
           285000,
           4,
           0.5825469414244593,
           442
          ],
          [
           382,
           249000,
           2,
           0.3889509161542772,
           695
          ],
          [
           359,
           309000,
           3,
           0.3871438663633096,
           595
          ],
          [
           819,
           393000,
           3,
           0.4838152792465248,
           250
          ],
          [
           832,
           352000,
           1,
           0.6475743982558916,
           611
          ],
          [
           383,
           296000,
           0,
           0.591388791251233,
           348
          ],
          [
           610,
           287000,
           1,
           0.44386371456707,
           472
          ],
          [
           807,
           312000,
           3,
           0.6243987961914494,
           347
          ],
          [
           358,
           344000,
           5,
           0.4350921761712323,
           619
          ],
          [
           611,
           289000,
           6,
           0.4760099767561704,
           898
          ],
          [
           675,
           310000,
           5,
           0.3822226016647315,
           512
          ],
          [
           625,
           320000,
           1,
           0.5061566870597828,
           505
          ],
          [
           535,
           361000,
           3,
           0.4922989635903984,
           170
          ],
          [
           424,
           322000,
           2,
           0.4113595273834398,
           226
          ],
          [
           526,
           281000,
           5,
           0.4868179762252034,
           651
          ],
          [
           847,
           171000,
           2,
           0.5257683059945786,
           108
          ],
          [
           454,
           213000,
           2,
           0.4628181408688764,
           583
          ],
          [
           562,
           172000,
           6,
           0.4248528664454615,
           918
          ],
          [
           372,
           326000,
           1,
           0.4436552758671927,
           341
          ],
          [
           654,
           352000,
           6,
           0.495888975358671,
           783
          ],
          [
           483,
           221000,
           2,
           0.4287405470315138,
           247
          ],
          [
           510,
           338000,
           5,
           0.5104796596364743,
           141
          ],
          [
           836,
           338000,
           1,
           0.3540123204794846,
           797
          ],
          [
           821,
           314000,
           2,
           0.6313794793691125,
           827
          ],
          [
           726,
           197000,
           3,
           0.5712288459156657,
           467
          ],
          [
           636,
           165000,
           4,
           0.354406962071404,
           166
          ],
          [
           713,
           240000,
           5,
           0.4281917993652132,
           751
          ],
          [
           708,
           225000,
           2,
           0.4693536370394378,
           416
          ],
          [
           631,
           180000,
           3,
           0.5416929385559092,
           473
          ],
          [
           540,
           239000,
           4,
           0.4148827545030512,
           536
          ],
          [
           639,
           382000,
           0,
           0.6103792773503292,
           554
          ],
          [
           489,
           195000,
           2,
           0.5798095032168025,
           115
          ],
          [
           431,
           321000,
           5,
           0.6462606363479021,
           863
          ],
          [
           808,
           360000,
           3,
           0.448391819852434,
           275
          ],
          [
           390,
           302000,
           2,
           0.497468903282555,
           877
          ],
          [
           592,
           389000,
           6,
           0.4090050644378545,
           146
          ],
          [
           570,
           368000,
           0,
           0.3624613382590525,
           761
          ],
          [
           468,
           176000,
           1,
           0.6454382837314421,
           642
          ],
          [
           504,
           364000,
           3,
           0.3957864357826138,
           361
          ],
          [
           546,
           214000,
           4,
           0.5599706391998783,
           522
          ],
          [
           584,
           211000,
           4,
           0.3829302785407685,
           511
          ],
          [
           449,
           324000,
           2,
           0.6344602238760959,
           1004
          ],
          [
           623,
           175000,
           0,
           0.5563456741457251,
           511
          ],
          [
           588,
           369000,
           1,
           0.3948206331522374,
           887
          ],
          [
           811,
           179000,
           4,
           0.3825264232675937,
           491
          ],
          [
           460,
           243000,
           2,
           0.4563046474989243,
           872
          ],
          [
           454,
           206000,
           1,
           0.5712161178895808,
           299
          ],
          [
           575,
           373000,
           4,
           0.6346502587969781,
           1026
          ],
          [
           540,
           266000,
           4,
           0.6149304615250477,
           773
          ],
          [
           465,
           276000,
           5,
           0.533180334663206,
           1056
          ],
          [
           542,
           213000,
           1,
           0.6318847221167181,
           1047
          ],
          [
           528,
           267000,
           0,
           0.4675692917625833,
           810
          ],
          [
           777,
           387000,
           1,
           0.4935177132113952,
           736
          ],
          [
           492,
           201000,
           2,
           0.522156147862313,
           286
          ],
          [
           682,
           220000,
           6,
           0.4837554806835504,
           123
          ],
          [
           720,
           396000,
           3,
           0.3585613206855504,
           591
          ],
          [
           508,
           310000,
           3,
           0.575876525480916,
           1018
          ],
          [
           409,
           398000,
           3,
           0.51533016252913,
           1026
          ],
          [
           736,
           373000,
           4,
           0.5195891587980195,
           965
          ],
          [
           524,
           288000,
           2,
           0.5118740784269971,
           510
          ],
          [
           791,
           207000,
           4,
           0.4370569670941984,
           366
          ],
          [
           793,
           295000,
           3,
           0.4748582855703877,
           775
          ],
          [
           568,
           355000,
           3,
           0.5050202985114419,
           430
          ],
          [
           673,
           363000,
           1,
           0.4285769879936479,
           472
          ],
          [
           411,
           186000,
           5,
           0.5103982430171273,
           906
          ],
          [
           781,
           286000,
           4,
           0.3560075994364642,
           964
          ],
          [
           458,
           337000,
           3,
           0.3912255705469807,
           402
          ],
          [
           754,
           374000,
           2,
           0.5753336687913682,
           351
          ],
          [
           479,
           317000,
           3,
           0.5081588177006298,
           1067
          ],
          [
           760,
           331000,
           2,
           0.4119671361427528,
           539
          ],
          [
           665,
           155000,
           4,
           0.4315748981699097,
           244
          ],
          [
           648,
           330000,
           5,
           0.5003294307873283,
           984
          ],
          [
           371,
           214000,
           3,
           0.5228266757006161,
           249
          ],
          [
           753,
           243000,
           5,
           0.5453732916926975,
           659
          ],
          [
           455,
           360000,
           6,
           0.5878908786722812,
           638
          ],
          [
           681,
           278000,
           4,
           0.4669105240779144,
           867
          ],
          [
           506,
           328000,
           6,
           0.4196632144223611,
           476
          ],
          [
           691,
           220000,
           0,
           0.6245042270046923,
           583
          ],
          [
           396,
           350000,
           3,
           0.4113426824924698,
           689
          ],
          [
           591,
           250000,
           2,
           0.5791024968702883,
           618
          ],
          [
           843,
           165000,
           6,
           0.4170847416472036,
           789
          ],
          [
           733,
           282000,
           5,
           0.4131261023619518,
           135
          ],
          [
           687,
           381000,
           3,
           0.3839281581083193,
           406
          ],
          [
           443,
           248000,
           0,
           0.3588274745603199,
           1017
          ],
          [
           835,
           277000,
           4,
           0.3815967253360622,
           378
          ],
          [
           612,
           299000,
           5,
           0.4982157557501473,
           979
          ],
          [
           728,
           214000,
           6,
           0.3789170649053306,
           1083
          ],
          [
           820,
           387000,
           6,
           0.4491791128942153,
           114
          ],
          [
           360,
           156000,
           1,
           0.5688558965193312,
           280
          ],
          [
           628,
           221000,
           4,
           0.3602193886482414,
           1035
          ],
          [
           493,
           362000,
           1,
           0.5234166223466584,
           714
          ],
          [
           376,
           316000,
           0,
           0.4092489210608724,
           550
          ],
          [
           416,
           342000,
           4,
           0.4724226464702582,
           140
          ],
          [
           366,
           377000,
           5,
           0.64023357876206,
           1042
          ],
          [
           625,
           361000,
           4,
           0.3552945634490249,
           514
          ],
          [
           449,
           348000,
           4,
           0.6272158340329536,
           840
          ],
          [
           518,
           187000,
           5,
           0.5668012387529889,
           752
          ],
          [
           607,
           353000,
           3,
           0.4908150022917419,
           618
          ],
          [
           405,
           213000,
           0,
           0.3829541072644452,
           172
          ],
          [
           737,
           207000,
           2,
           0.4132691766629461,
           139
          ],
          [
           785,
           391000,
           6,
           0.6191960131768919,
           759
          ],
          [
           392,
           185000,
           6,
           0.5694929336463644,
           1013
          ],
          [
           470,
           180000,
           1,
           0.40859240622173,
           617
          ],
          [
           809,
           320000,
           1,
           0.578009378100043,
           251
          ],
          [
           530,
           289000,
           3,
           0.5205570449728782,
           267
          ],
          [
           751,
           296000,
           4,
           0.540124861272518,
           956
          ],
          [
           588,
           188000,
           1,
           0.5429413617689843,
           361
          ],
          [
           798,
           200000,
           0,
           0.475927449962887,
           1098
          ],
          [
           392,
           199000,
           0,
           0.4224016356592743,
           508
          ],
          [
           746,
           376000,
           2,
           0.5256219104917313,
           687
          ],
          [
           707,
           236000,
           4,
           0.5261076984134472,
           109
          ],
          [
           501,
           353000,
           2,
           0.6471758351614956,
           824
          ],
          [
           365,
           383000,
           0,
           0.370277045129395,
           772
          ],
          [
           616,
           237000,
           3,
           0.3710715869168829,
           465
          ],
          [
           446,
           268000,
           1,
           0.5378984384348278,
           836
          ],
          [
           839,
           239000,
           1,
           0.4006460515422867,
           417
          ],
          [
           576,
           354000,
           3,
           0.573687070417857,
           860
          ],
          [
           683,
           321000,
           0,
           0.4422776409798476,
           881
          ],
          [
           589,
           270000,
           4,
           0.5565562826839014,
           593
          ],
          [
           375,
           154000,
           0,
           0.4896742568440388,
           337
          ],
          [
           489,
           263000,
           2,
           0.417867865255508,
           1097
          ],
          [
           372,
           293000,
           3,
           0.4204796019659011,
           990
          ],
          [
           498,
           176000,
           2,
           0.4812607180527822,
           260
          ],
          [
           721,
           254000,
           0,
           0.4484307580625912,
           794
          ],
          [
           830,
           383000,
           4,
           0.5498930171957783,
           376
          ],
          [
           490,
           300000,
           6,
           0.5145512317396739,
           102
          ],
          [
           688,
           387000,
           5,
           0.4806617243260498,
           575
          ],
          [
           800,
           246000,
           5,
           0.4059607541948263,
           387
          ],
          [
           453,
           390000,
           2,
           0.4593562707190754,
           838
          ],
          [
           565,
           224000,
           3,
           0.3673094387049007,
           910
          ],
          [
           792,
           359000,
           2,
           0.3918592322223695,
           774
          ],
          [
           733,
           255000,
           4,
           0.5541412848426909,
           880
          ],
          [
           527,
           390000,
           4,
           0.4189208688702429,
           941
          ],
          [
           746,
           251000,
           1,
           0.4145992383232854,
           776
          ],
          [
           716,
           261000,
           4,
           0.4611819703083993,
           789
          ],
          [
           634,
           263000,
           6,
           0.574200528637145,
           239
          ],
          [
           652,
           182000,
           1,
           0.3858839449672486,
           735
          ],
          [
           432,
           249000,
           1,
           0.6147896759148592,
           924
          ],
          [
           651,
           261000,
           3,
           0.4132675418523985,
           850
          ],
          [
           838,
           248000,
           1,
           0.6256016493555914,
           664
          ],
          [
           824,
           283000,
           4,
           0.5784740099464759,
           365
          ],
          [
           693,
           168000,
           2,
           0.4081117701555683,
           931
          ],
          [
           658,
           278000,
           2,
           0.5310530570495927,
           387
          ],
          [
           619,
           320000,
           2,
           0.5856599052669758,
           81
          ],
          [
           846,
           297000,
           4,
           0.4766405749767166,
           171
          ],
          [
           418,
           331000,
           2,
           0.3862120257764307,
           242
          ],
          [
           417,
           186000,
           5,
           0.4471548545498061,
           552
          ],
          [
           454,
           211000,
           2,
           0.6355953359056821,
           514
          ],
          [
           839,
           284000,
           5,
           0.4897711855529011,
           985
          ],
          [
           494,
           303000,
           0,
           0.4436018270911919,
           363
          ],
          [
           376,
           167000,
           0,
           0.5547963955174311,
           98
          ],
          [
           702,
           329000,
           4,
           0.581422660466985,
           474
          ],
          [
           540,
           236000,
           3,
           0.363385194346785,
           1096
          ],
          [
           762,
           287000,
           6,
           0.6193373532517854,
           722
          ],
          [
           470,
           264000,
           2,
           0.5130026038839863,
           387
          ],
          [
           391,
           374000,
           2,
           0.5799182679233171,
           171
          ],
          [
           785,
           167000,
           0,
           0.59270686931655,
           908
          ],
          [
           774,
           359000,
           2,
           0.6111202480535434,
           371
          ],
          [
           459,
           158000,
           1,
           0.5171386248192441,
           791
          ],
          [
           817,
           171000,
           2,
           0.5828526720990332,
           883
          ],
          [
           555,
           224000,
           6,
           0.5323244792392021,
           615
          ],
          [
           439,
           351000,
           2,
           0.4177628702758638,
           118
          ],
          [
           551,
           315000,
           0,
           0.5985634934925483,
           657
          ],
          [
           763,
           387000,
           2,
           0.584750301944166,
           138
          ],
          [
           583,
           320000,
           1,
           0.6235443947879205,
           340
          ],
          [
           605,
           200000,
           4,
           0.5839014535197073,
           872
          ],
          [
           573,
           245000,
           1,
           0.64571721872522,
           1083
          ],
          [
           816,
           267000,
           1,
           0.3749140622294649,
           1003
          ],
          [
           629,
           220000,
           1,
           0.3937094940820656,
           705
          ],
          [
           719,
           305000,
           1,
           0.3641854117965034,
           432
          ],
          [
           388,
           262000,
           6,
           0.4388661122898392,
           949
          ],
          [
           505,
           255000,
           6,
           0.5088816399700968,
           758
          ],
          [
           696,
           397000,
           3,
           0.6430035955316287,
           761
          ],
          [
           496,
           175000,
           2,
           0.5793952396468919,
           555
          ],
          [
           382,
           220000,
           2,
           0.529590070944449,
           1018
          ],
          [
           429,
           322000,
           3,
           0.6171335919155976,
           237
          ],
          [
           416,
           169000,
           1,
           0.5942195600876466,
           307
          ],
          [
           367,
           381000,
           3,
           0.4408844002846257,
           610
          ],
          [
           395,
           167000,
           5,
           0.4727773405112228,
           217
          ],
          [
           490,
           271000,
           6,
           0.5227103082275829,
           620
          ],
          [
           708,
           253000,
           5,
           0.5715688366017679,
           111
          ],
          [
           447,
           313000,
           2,
           0.3983255637999656,
           90
          ],
          [
           350,
           262000,
           1,
           0.6194970616574709,
           242
          ],
          [
           564,
           283000,
           2,
           0.5325720608742024,
           664
          ],
          [
           514,
           379000,
           4,
           0.4626625320433472,
           212
          ],
          [
           809,
           281000,
           3,
           0.5832340147734265,
           908
          ],
          [
           579,
           228000,
           5,
           0.5613942791271057,
           365
          ],
          [
           652,
           243000,
           0,
           0.6453509387132239,
           482
          ],
          [
           786,
           245000,
           6,
           0.456424900535989,
           140
          ],
          [
           626,
           379000,
           1,
           0.6042357987351321,
           746
          ],
          [
           758,
           276000,
           0,
           0.3619283028647882,
           827
          ],
          [
           506,
           322000,
           4,
           0.5149657049184477,
           355
          ],
          [
           797,
           373000,
           6,
           0.3974747879177428,
           495
          ],
          [
           474,
           174000,
           2,
           0.577037674964096,
           421
          ],
          [
           844,
           370000,
           3,
           0.3745898516388665,
           1093
          ],
          [
           806,
           395000,
           2,
           0.5232182276006052,
           867
          ],
          [
           682,
           247000,
           4,
           0.516656387504072,
           755
          ],
          [
           450,
           246000,
           1,
           0.500592716277665,
           491
          ],
          [
           504,
           390000,
           1,
           0.5294657112490199,
           808
          ],
          [
           353,
           283000,
           6,
           0.394717029942279,
           201
          ],
          [
           562,
           399000,
           1,
           0.4616132941803324,
           958
          ],
          [
           666,
           349000,
           2,
           0.4534639563571536,
           133
          ],
          [
           451,
           244000,
           2,
           0.4232386660294283,
           407
          ],
          [
           836,
           311000,
           0,
           0.4940722695646465,
           341
          ],
          [
           386,
           249000,
           0,
           0.4159582364090811,
           640
          ],
          [
           429,
           313000,
           1,
           0.5210015285604306,
           982
          ],
          [
           554,
           350000,
           6,
           0.6083024601811877,
           578
          ],
          [
           558,
           207000,
           1,
           0.5382065956997019,
           1025
          ],
          [
           739,
           173000,
           0,
           0.5147000467572478,
           199
          ],
          [
           622,
           292000,
           2,
           0.5843672007386314,
           303
          ],
          [
           835,
           259000,
           0,
           0.4995356207739338,
           658
          ],
          [
           652,
           228000,
           6,
           0.4139987698852582,
           281
          ],
          [
           497,
           300000,
           4,
           0.3573876099728048,
           385
          ],
          [
           370,
           203000,
           0,
           0.4280403660950417,
           1045
          ],
          [
           671,
           180000,
           4,
           0.5202331241868468,
           480
          ],
          [
           398,
           286000,
           5,
           0.6401263402301951,
           1010
          ],
          [
           800,
           228000,
           4,
           0.5445689289041012,
           339
          ],
          [
           436,
           371000,
           1,
           0.6248740749200558,
           633
          ],
          [
           738,
           171000,
           3,
           0.5905802812289351,
           482
          ],
          [
           659,
           177000,
           4,
           0.6001175232680351,
           604
          ],
          [
           700,
           225000,
           2,
           0.5887456827396225,
           504
          ],
          [
           843,
           255000,
           6,
           0.3611896203697189,
           713
          ],
          [
           457,
           252000,
           5,
           0.6068357074541116,
           89
          ],
          [
           671,
           190000,
           1,
           0.5252728333636462,
           246
          ],
          [
           676,
           182000,
           0,
           0.437072016870784,
           246
          ],
          [
           361,
           212000,
           0,
           0.5229405152813908,
           920
          ],
          [
           467,
           174000,
           3,
           0.6222904502764226,
           577
          ],
          [
           724,
           291000,
           0,
           0.6200832185248,
           885
          ],
          [
           561,
           375000,
           4,
           0.6341219639187714,
           973
          ],
          [
           478,
           370000,
           1,
           0.3615458872736014,
           752
          ],
          [
           388,
           189000,
           0,
           0.374572257843785,
           736
          ],
          [
           382,
           168000,
           5,
           0.3510295358720691,
           88
          ],
          [
           769,
           289000,
           0,
           0.3646034761427153,
           1096
          ],
          [
           758,
           158000,
           1,
           0.5493591133153104,
           249
          ],
          [
           493,
           157000,
           4,
           0.5468184347047593,
           617
          ],
          [
           712,
           358000,
           2,
           0.3611701944687869,
           397
          ],
          [
           477,
           240000,
           0,
           0.6223978125949742,
           520
          ],
          [
           840,
           173000,
           4,
           0.6258184406709593,
           185
          ],
          [
           744,
           370000,
           3,
           0.4947640059182029,
           817
          ],
          [
           626,
           270000,
           1,
           0.5792253527609743,
           810
          ],
          [
           740,
           345000,
           1,
           0.5324797810154243,
           432
          ],
          [
           493,
           285000,
           5,
           0.4099546391636928,
           698
          ],
          [
           752,
           176000,
           1,
           0.4712548973559441,
           162
          ],
          [
           478,
           399000,
           3,
           0.6450083149867153,
           1022
          ],
          [
           413,
           338000,
           5,
           0.4812803789054124,
           746
          ],
          [
           803,
           358000,
           3,
           0.5148671836468073,
           667
          ],
          [
           769,
           388000,
           4,
           0.4514608353990108,
           718
          ],
          [
           385,
           217000,
           2,
           0.631444611197211,
           754
          ],
          [
           636,
           324000,
           3,
           0.4569080973796007,
           574
          ],
          [
           450,
           274000,
           6,
           0.4026857832692456,
           773
          ],
          [
           812,
           225000,
           0,
           0.4371036907932307,
           528
          ],
          [
           605,
           152000,
           1,
           0.3879345449729656,
           184
          ],
          [
           571,
           226000,
           5,
           0.5864399237094395,
           296
          ],
          [
           800,
           248000,
           0,
           0.4316816906967105,
           540
          ],
          [
           384,
           204000,
           5,
           0.5337930719170305,
           178
          ],
          [
           578,
           385000,
           2,
           0.6159529127347113,
           952
          ],
          [
           651,
           319000,
           3,
           0.619236463999584,
           740
          ],
          [
           359,
           220000,
           6,
           0.4295201143498112,
           105
          ],
          [
           520,
           369000,
           6,
           0.5721958889583328,
           1027
          ],
          [
           689,
           304000,
           0,
           0.4592724774041978,
           1055
          ],
          [
           730,
           274000,
           4,
           0.3546923790961202,
           575
          ],
          [
           528,
           327000,
           5,
           0.4011293481927775,
           186
          ],
          [
           364,
           352000,
           5,
           0.5440307799599334,
           921
          ],
          [
           801,
           339000,
           4,
           0.5616768024778213,
           443
          ],
          [
           650,
           225000,
           6,
           0.5917962850196022,
           576
          ],
          [
           791,
           349000,
           0,
           0.4639898489024643,
           377
          ],
          [
           531,
           200000,
           5,
           0.6455684477862031,
           960
          ],
          [
           385,
           275000,
           6,
           0.5964120279972098,
           955
          ],
          [
           826,
           223000,
           5,
           0.4530856412610516,
           703
          ],
          [
           728,
           370000,
           0,
           0.6428781906321341,
           393
          ],
          [
           600,
           239000,
           6,
           0.6401290696782072,
           566
          ],
          [
           673,
           326000,
           5,
           0.4772448923030433,
           353
          ],
          [
           728,
           201000,
           1,
           0.3872794476091473,
           1036
          ],
          [
           763,
           399000,
           5,
           0.5757579411042243,
           168
          ],
          [
           548,
           299000,
           6,
           0.359853138452474,
           433
          ],
          [
           683,
           183000,
           0,
           0.5842775578726216,
           559
          ],
          [
           405,
           334000,
           0,
           0.4362062240691527,
           606
          ],
          [
           789,
           282000,
           1,
           0.5986755816377993,
           471
          ],
          [
           565,
           151000,
           2,
           0.5686260304031292,
           849
          ],
          [
           372,
           389000,
           0,
           0.3817408741316523,
           963
          ],
          [
           593,
           277000,
           1,
           0.4306788214538077,
           177
          ],
          [
           408,
           398000,
           3,
           0.5806733818609162,
           1022
          ],
          [
           437,
           304000,
           1,
           0.4601747886458981,
           370
          ],
          [
           350,
           302000,
           2,
           0.6228381749613293,
           293
          ],
          [
           832,
           375000,
           5,
           0.3599654500286776,
           240
          ],
          [
           683,
           257000,
           4,
           0.5182091562024229,
           384
          ],
          [
           517,
           265000,
           6,
           0.4684508443649067,
           236
          ],
          [
           449,
           186000,
           5,
           0.5299450627657972,
           1017
          ],
          [
           607,
           151000,
           2,
           0.6354860839799188,
           344
          ],
          [
           821,
           248000,
           2,
           0.4364764955654438,
           348
          ],
          [
           725,
           227000,
           5,
           0.4635881429742364,
           573
          ],
          [
           799,
           299000,
           1,
           0.4336617254482443,
           886
          ],
          [
           681,
           232000,
           5,
           0.5789088394915718,
           817
          ],
          [
           496,
           151000,
           6,
           0.3862038032100256,
           970
          ],
          [
           470,
           354000,
           1,
           0.357333960176169,
           195
          ],
          [
           389,
           206000,
           5,
           0.4157321446979675,
           162
          ],
          [
           451,
           302000,
           2,
           0.5521776321549943,
           889
          ],
          [
           414,
           194000,
           1,
           0.5731435065141047,
           901
          ],
          [
           688,
           315000,
           4,
           0.4044522331306246,
           827
          ],
          [
           708,
           291000,
           4,
           0.4571542169918356,
           615
          ],
          [
           644,
           290000,
           2,
           0.4932808442223644,
           428
          ],
          [
           689,
           247000,
           6,
           0.369652292362413,
           123
          ],
          [
           409,
           355000,
           5,
           0.5561065800851142,
           407
          ],
          [
           459,
           169000,
           2,
           0.5556053582134824,
           921
          ],
          [
           787,
           207000,
           4,
           0.4836574276943639,
           323
          ],
          [
           637,
           155000,
           0,
           0.4758395017975221,
           338
          ],
          [
           450,
           240000,
           3,
           0.6118759052379232,
           1052
          ],
          [
           662,
           294000,
           5,
           0.4218681156326761,
           155
          ],
          [
           703,
           341000,
           1,
           0.4851127088353064,
           596
          ],
          [
           435,
           195000,
           6,
           0.6494038567919905,
           166
          ],
          [
           546,
           238000,
           1,
           0.373286583205398,
           823
          ],
          [
           468,
           224000,
           2,
           0.4179496273289892,
           854
          ],
          [
           440,
           288000,
           5,
           0.5602176610693059,
           295
          ],
          [
           806,
           245000,
           6,
           0.4217220300968518,
           652
          ],
          [
           381,
           179000,
           5,
           0.4604811729363481,
           276
          ],
          [
           437,
           299000,
           2,
           0.6372644253721227,
           712
          ],
          [
           674,
           262000,
           6,
           0.5048614668184312,
           802
          ],
          [
           590,
           203000,
           1,
           0.5611144365864466,
           419
          ],
          [
           579,
           280000,
           6,
           0.4417330979569415,
           686
          ],
          [
           404,
           181000,
           4,
           0.3703128379364146,
           487
          ],
          [
           482,
           226000,
           5,
           0.4727275875304892,
           923
          ],
          [
           364,
           320000,
           1,
           0.4728561670492699,
           205
          ],
          [
           541,
           339000,
           3,
           0.4689332186609686,
           456
          ],
          [
           823,
           383000,
           6,
           0.4524673602686441,
           321
          ],
          [
           703,
           396000,
           2,
           0.4777788169481671,
           459
          ],
          [
           728,
           168000,
           4,
           0.6177979889966966,
           499
          ],
          [
           769,
           337000,
           0,
           0.516441677940097,
           1081
          ],
          [
           739,
           346000,
           6,
           0.5693836518479118,
           149
          ],
          [
           436,
           392000,
           5,
           0.5170585958901641,
           823
          ],
          [
           415,
           285000,
           6,
           0.4260730298539311,
           309
          ],
          [
           717,
           268000,
           4,
           0.5688361464865677,
           459
          ],
          [
           689,
           252000,
           2,
           0.4656007345606374,
           85
          ],
          [
           458,
           368000,
           5,
           0.4826795308601506,
           976
          ],
          [
           740,
           247000,
           3,
           0.5075013822664143,
           1062
          ],
          [
           784,
           180000,
           3,
           0.6369365386009239,
           125
          ],
          [
           685,
           265000,
           2,
           0.4821043725109113,
           299
          ],
          [
           614,
           308000,
           5,
           0.6429537610563012,
           984
          ],
          [
           482,
           356000,
           2,
           0.4371989327455079,
           657
          ],
          [
           623,
           252000,
           3,
           0.4519640319641179,
           740
          ],
          [
           822,
           291000,
           2,
           0.4508615157669666,
           781
          ],
          [
           657,
           302000,
           1,
           0.3570345506382492,
           1093
          ],
          [
           473,
           352000,
           4,
           0.4624586576825005,
           547
          ],
          [
           404,
           339000,
           1,
           0.5520454732614111,
           490
          ],
          [
           361,
           399000,
           5,
           0.4759408698540466,
           859
          ],
          [
           507,
           307000,
           1,
           0.6217882211234174,
           374
          ],
          [
           587,
           337000,
           0,
           0.3853525761593169,
           1087
          ],
          [
           530,
           188000,
           4,
           0.58047361596015,
           697
          ],
          [
           788,
           191000,
           4,
           0.5838831065104304,
           548
          ],
          [
           410,
           181000,
           0,
           0.579660640028323,
           710
          ],
          [
           514,
           175000,
           0,
           0.4522868983302384,
           141
          ],
          [
           675,
           286000,
           5,
           0.4128303280135361,
           745
          ],
          [
           492,
           337000,
           2,
           0.502764932709498,
           337
          ],
          [
           738,
           350000,
           6,
           0.5728504795820502,
           189
          ],
          [
           717,
           209000,
           5,
           0.6074516447827419,
           475
          ],
          [
           456,
           156000,
           0,
           0.3540061279080085,
           1043
          ],
          [
           619,
           208000,
           1,
           0.4064156292752663,
           703
          ],
          [
           517,
           211000,
           4,
           0.4007517803124594,
           311
          ],
          [
           790,
           381000,
           6,
           0.431869738685315,
           328
          ],
          [
           678,
           152000,
           5,
           0.5386152298392193,
           694
          ],
          [
           528,
           253000,
           6,
           0.6196368769350789,
           878
          ],
          [
           352,
           366000,
           1,
           0.359710384624144,
           100
          ],
          [
           727,
           185000,
           0,
           0.5376009027894924,
           715
          ],
          [
           482,
           249000,
           5,
           0.4904910564171053,
           177
          ],
          [
           658,
           163000,
           0,
           0.5512123072342929,
           129
          ],
          [
           824,
           332000,
           2,
           0.3718776866610199,
           1069
          ],
          [
           674,
           193000,
           4,
           0.457413544651957,
           895
          ],
          [
           678,
           391000,
           2,
           0.4878774475765093,
           377
          ],
          [
           832,
           284000,
           6,
           0.6299590761431628,
           349
          ],
          [
           740,
           159000,
           1,
           0.5021816987342599,
           237
          ],
          [
           511,
           341000,
           1,
           0.5424076754787764,
           1048
          ],
          [
           683,
           265000,
           0,
           0.4698317354437152,
           248
          ],
          [
           836,
           343000,
           2,
           0.4925367702824121,
           658
          ],
          [
           752,
           322000,
           6,
           0.5688321768409712,
           1093
          ],
          [
           497,
           355000,
           1,
           0.4851642490025415,
           619
          ],
          [
           697,
           242000,
           3,
           0.6413941714254949,
           281
          ],
          [
           833,
           333000,
           2,
           0.5335535864983327,
           1026
          ],
          [
           627,
           298000,
           5,
           0.3539005626211943,
           964
          ],
          [
           811,
           301000,
           3,
           0.5930230374578047,
           548
          ],
          [
           444,
           349000,
           0,
           0.6343006154047159,
           893
          ],
          [
           799,
           339000,
           0,
           0.4461148042746349,
           754
          ],
          [
           763,
           186000,
           6,
           0.5023062863337471,
           461
          ],
          [
           814,
           368000,
           0,
           0.4065217537522281,
           959
          ],
          [
           639,
           219000,
           5,
           0.4428083152024072,
           711
          ],
          [
           763,
           293000,
           1,
           0.3576860353717629,
           769
          ],
          [
           519,
           391000,
           4,
           0.4383082419991509,
           988
          ],
          [
           801,
           269000,
           1,
           0.5221970237760752,
           1016
          ],
          [
           658,
           356000,
           3,
           0.6018777260738746,
           667
          ],
          [
           764,
           400000,
           1,
           0.5618871533577876,
           487
          ],
          [
           357,
           378000,
           3,
           0.5545381373638806,
           685
          ],
          [
           770,
           267000,
           3,
           0.559365294603062,
           737
          ],
          [
           382,
           339000,
           3,
           0.6453907564524753,
           632
          ],
          [
           397,
           393000,
           4,
           0.5180565067336746,
           301
          ],
          [
           471,
           274000,
           5,
           0.3573967994133506,
           946
          ],
          [
           654,
           224000,
           1,
           0.5223356959207315,
           579
          ],
          [
           367,
           179000,
           2,
           0.5325213710876375,
           331
          ],
          [
           759,
           186000,
           1,
           0.5857416730611507,
           730
          ],
          [
           633,
           164000,
           5,
           0.5928325856147554,
           296
          ],
          [
           646,
           341000,
           1,
           0.4313337154863618,
           278
          ],
          [
           772,
           157000,
           1,
           0.4882728060574413,
           947
          ],
          [
           640,
           395000,
           1,
           0.4182628972855858,
           923
          ],
          [
           710,
           351000,
           1,
           0.4200538790461328,
           915
          ],
          [
           577,
           383000,
           2,
           0.386505937930071,
           693
          ],
          [
           471,
           311000,
           1,
           0.6273983824915188,
           101
          ],
          [
           603,
           252000,
           4,
           0.5800190453992873,
           574
          ],
          [
           666,
           203000,
           6,
           0.5745343284393569,
           1005
          ],
          [
           708,
           257000,
           6,
           0.5695868614259991,
           121
          ],
          [
           753,
           343000,
           1,
           0.555283131445611,
           908
          ],
          [
           736,
           242000,
           1,
           0.6237610522605312,
           1001
          ],
          [
           549,
           275000,
           4,
           0.6034776885535205,
           584
          ],
          [
           715,
           244000,
           4,
           0.4434071303176375,
           288
          ],
          [
           763,
           172000,
           5,
           0.4641652615615649,
           624
          ],
          [
           411,
           236000,
           2,
           0.4143613547291612,
           148
          ],
          [
           593,
           220000,
           1,
           0.3858901740421067,
           106
          ],
          [
           362,
           186000,
           3,
           0.5786729149643417,
           674
          ]
         ],
         "hovertemplate": "<b>%{hovertext}</b><br><br>latitude=%{lat}<br>longitude=%{lon}<br>area=%{customdata[0]}<br>rent=%{customdata[1]}<br>competitors=%{customdata[2]}<br>exposure=%{customdata[3]}<br>population=%{customdata[4]}<extra></extra>",
         "hovertext": [
          "ilona97@vass.biz",
          "kovacsjazmin@gmail.com",
          "juhaszistvan@meszaros.org",
          "hfeher@varga.hu",
          "tamas22@hotmail.com",
          "dnemeth@gmail.com",
          "mariahorvath@yahoo.com",
          "akocsis@voros.biz",
          "csilla83@balazs.hu",
          "gyorgyhorvath@hotmail.com",
          "gszabi@yahoo.com",
          "laszli39@takacs.com",
          "bencebalogh@sipos.com",
          "istvan94@major.org",
          "kelemendira@yahoo.com",
          "pmeszaros@yahoo.com",
          "horvathbela@lakatos.com",
          "anna77@kiraly.info",
          "ervin11@kovacs.hu",
          "szucsagnes@hotmail.com",
          "jenopapp@hotmail.com",
          "wlakatos@hotmail.com",
          "farkaspetra@szabi.com",
          "akos65@horvath.net",
          "feherjanos@gmail.com",
          "cbognar@faragi.info",
          "zsanett89@nagy.biz",
          "lvoros@hotmail.com",
          "vargajanos@kiraly.org",
          "ttith@kis.com.hu",
          "ballapeter@yahoo.com",
          "klarafarkas@gmail.com",
          "balazszoltan@hegedus.com.hu",
          "ferencracz@kis.org",
          "bognartibor@hotmail.com",
          "maria92@fekete.com.hu",
          "vargamaria@varga.org",
          "nikolett39@gmail.com",
          "molnarlaszli@hotmail.com",
          "lengyelerzsebet@gmail.com",
          "akoskovacs@bodnar.info",
          "eszterbalog@gmail.com",
          "erzsebetsimon@hotmail.com",
          "ifeher@gmail.com",
          "agnespapp@pasztor.hu",
          "kovacsanna@kerekes.biz",
          "istvan09@orsis.biz",
          "fuloptamas@hotmail.com",
          "editszabi@gmail.com",
          "maria01@yahoo.com",
          "marta94@hegedus.net",
          "gabor96@gmail.com",
          "fodoreszter@hotmail.com",
          "ilona66@horvath.com",
          "gkovacs@gmail.com",
          "vbalazs@yahoo.com",
          "rbalint@tith.com",
          "ildikinagy@nagy.hu",
          "hkovacs@gmail.com",
          "adriennszucs@yahoo.com",
          "horvathkatalin@horvath.biz",
          "djakab@biri.net",
          "ilonapapp@gmail.com",
          "zoltanfulop@varga.com",
          "bela14@kerekes.com.hu",
          "raczkatalin@balog.com",
          "peter45@racz.hu",
          "vargazsolt@nagy.hu",
          "balazs34@hotmail.com",
          "pasztorjizsef@meszaros.hu",
          "nagyfanni@molnar.info",
          "laszlimolnar@hotmail.com",
          "szabierzsebet@hotmail.com",
          "jolantith@varadi.hu",
          "jszabi@novak.com.hu",
          "bernadettkovacs@bogdan.biz",
          "petertakacs@olah.org",
          "magdolnaracz@virag.net",
          "attiladudas@yahoo.com",
          "aniki76@balazs.biz",
          "beatrix02@kovacs.hu",
          "obalogh@szabi.com",
          "viktiriagulyas@orsis.hu",
          "olahroland@yahoo.com",
          "spapp@hotmail.com",
          "asipos@molnar.hu",
          "zsolt57@yahoo.com",
          "csaba36@hotmail.com",
          "margitszabi@pap.org",
          "farkaseva@gmail.com",
          "laszli78@balogh.org",
          "osimon@yahoo.com",
          "margitnemeth@gmail.com",
          "krisztina06@fekete.org",
          "szekeresimre@hotmail.com",
          "sandorhorvath@hotmail.com",
          "kissmartin@yahoo.com",
          "szabizoltan@yahoo.com",
          "nfabian@yahoo.com",
          "timeanemeth@yahoo.com",
          "nemethluca@gmail.com",
          "bertalanolah@szekeres.net",
          "zsomborlakatos@hotmail.com",
          "danielnagy@molnar.biz",
          "kelemenzsuzsanna@szabi.hu",
          "endre02@nemeth.info",
          "snemeth@tith.info",
          "maria02@molnar.com",
          "tithagnes@szabi.biz",
          "qnovak@szabi.info",
          "laszlikiss@kovacs.com",
          "agaspar@pal.biz",
          "nagyjulianna@varga.net",
          "tithtamas@yahoo.com",
          "wkiss@takacs.net",
          "yvarga@balogh.biz",
          "rszabi@szabi.org",
          "maria75@orosz.info",
          "zhorvath@szabi.hu",
          "eva53@gmail.com",
          "feherzsolt@molnar.info",
          "kovacserik@yahoo.com",
          "hkatona@yahoo.com",
          "jkocsis@hotmail.com",
          "riza37@hotmail.com",
          "laszliszabi@boros.net",
          "imeszaros@gmail.com",
          "ilonatorok@kovacs.org",
          "budaiantal@gmail.com",
          "upinter@hotmail.com",
          "lbalogh@kelemen.info",
          "davidszabi@szabi.hu",
          "diratith@nagy.org",
          "knemeth@kiraly.net",
          "htith@hotmail.com",
          "zkiss@hotmail.com",
          "horvathkrisztina@gmail.com",
          "kovacsferenc@gal.org",
          "oszabi@kovacs.org",
          "bpeter@hotmail.com",
          "zsolttith@nemeth.biz",
          "attila26@hotmail.com",
          "lajoslakatos@yahoo.com",
          "horvathjizsef@yahoo.com",
          "tiborsarkozi@gmail.com",
          "csimon@bodnar.hu",
          "ilona81@nagy.hu",
          "bogdanaranka@horvath.hu",
          "janoskovacs@hotmail.com",
          "reka68@katona.org",
          "szabiistvan@jakab.info",
          "piroska59@gmail.com",
          "kovacstimea@yahoo.com",
          "molnartibor@papp.com.hu",
          "nbalog@gmail.com",
          "nagyrizsa@mate.com.hu",
          "vargaaranka@tith.com",
          "csaba45@kovacs.info",
          "fodorerika@yahoo.com",
          "reka70@horvath.hu",
          "etorok@kocsis.com",
          "tithistvan@yahoo.com",
          "rebekatakacs@hotmail.com",
          "zsolt84@yahoo.com",
          "mihalynagy@kocsis.hu",
          "melindamolnar@orsis.com",
          "molnardaniel@pasztor.hu",
          "ckelemen@yahoo.com",
          "erzsebetnagy@varga.net",
          "kristiffekete@hotmail.com",
          "marton97@hotmail.com",
          "mtakacs@yahoo.com",
          "tereziavarga@yahoo.com",
          "tamas99@gmail.com",
          "kristifantal@fulop.org",
          "cnagy@gmail.com",
          "szabiimre@farkas.net",
          "bboros@hotmail.com",
          "jizsefnagy@nemeth.org",
          "laszliszabi@bodnar.biz",
          "attilatith@hotmail.com",
          "kocsiserika@yahoo.com",
          "khorvath@vincze.hu",
          "mariameszaros@kiss.com",
          "ilakatos@gmail.com",
          "molnarpeter@gmail.com",
          "nemethkaroly@hotmail.com",
          "zpinter@hotmail.com",
          "dianajuhasz@hotmail.com",
          "rozalia90@kiraly.biz",
          "orbanmagdolna@hotmail.com",
          "horvathilona@hotmail.com",
          "kingakovacs@balazs.com.hu",
          "nagyzsombor@tith.org",
          "bkovacs@varga.org",
          "roland01@gal.com",
          "ferenctamas@gmail.com",
          "baloghsandor@szabi.com",
          "esztertith@fodor.com",
          "gabor54@kelemen.net",
          "molnarandras@kovacs.com.hu",
          "imre05@tith.biz",
          "bernadettfarkas@kovacs.org",
          "ferenckis@hotmail.com",
          "farkaslaura@hotmail.com",
          "bhegedus@hotmail.com",
          "lmeszaros@hotmail.com",
          "bmarton@yahoo.com",
          "noel56@jakab.net",
          "ynemeth@szilagyi.info",
          "irenkovacs@gmail.com",
          "ilona68@yahoo.com",
          "jizsef23@hotmail.com",
          "janospapp@tith.org",
          "ynagy@hotmail.com",
          "fpapp@nagy.com",
          "minika55@hotmail.com",
          "erikakovacs@kiraly.biz",
          "gabriellaszilagyi@gmail.com",
          "kalman15@gmail.com",
          "ilonajuhasz@hotmail.com",
          "nagyimre@yahoo.com",
          "jorsis@gmail.com",
          "erzsebet40@hotmail.com",
          "evabogdan@yahoo.com",
          "takacsjozsef@gmail.com",
          "riza18@gmail.com",
          "zhorvath@hotmail.com",
          "marton10@gulyas.info",
          "ribert33@hotmail.com",
          "erika42@szilagyi.org",
          "szabizsolt@yahoo.com",
          "farkasbalint@horvath.com.hu",
          "balazsszabi@gmail.com",
          "sszabi@szalai.com.hu",
          "gergelynagy@barna.org",
          "maria23@yahoo.com",
          "szabitimea@horvath.info",
          "tithjeno@deak.com.hu",
          "viragkiss@molnar.info",
          "evahajdu@peter.biz",
          "cracz@hotmail.com",
          "siposerzsebet@barta.biz",
          "okovacs@gmail.com",
          "erzsebet99@yahoo.com",
          "horvathtibor@hotmail.com",
          "meszarosjizsef@tith.net",
          "jmolnar@nagy.net",
          "nagykatalin@orban.biz",
          "horvathmartin@szabi.biz",
          "lukacsnikoletta@szekeres.hu",
          "bgaspar@yahoo.com",
          "anett77@yahoo.com",
          "terezia08@hotmail.com",
          "laszli87@hotmail.com",
          "laszlikovacs@sois.hu",
          "gnemeth@szalai.hu",
          "papannamaria@bogdan.com.hu",
          "margit62@gmail.com",
          "andrasnagy@gmail.com",
          "farkasistvan@horvath.com",
          "ildikiolah@katona.biz",
          "daniel75@gmail.com",
          "balazsszabolcs@balogh.info",
          "agneskelemen@gmail.com",
          "zbudai@varga.com",
          "beatrix49@gmail.com",
          "sandorkovacs@gmail.com",
          "asimon@hotmail.com",
          "erzsebet51@gmail.com",
          "laszlivarga@varga.info",
          "faragizsuzsanna@yahoo.com",
          "rfarkas@kiss.net",
          "jizsef46@gmail.com",
          "ferenc28@molnar.hu",
          "qtith@kocsis.biz",
          "veronikahorvath@horvath.info",
          "maria30@bogdan.hu",
          "agnes16@hotmail.com",
          "sarkoziadrienn@yahoo.com",
          "vassmargit@kovacs.net",
          "istvan49@sandor.biz",
          "kissgabriella@nagy.com.hu",
          "vargaistvan@balazs.net",
          "gabriellavarga@szekely.org",
          "hszucs@olah.net",
          "marialakatos@hotmail.com",
          "xpataki@hotmail.com",
          "balazs45@hotmail.com",
          "jakablaszli@nemeth.hu",
          "kkovacs@szabi.com.hu",
          "vszabi@yahoo.com",
          "erzsebet88@gmail.com",
          "balazsmolnar@varga.hu",
          "ferenc56@kovacs.org",
          "mnagy@gmail.com",
          "erzsebethalasz@molnar.com",
          "kovacsbeatrix@gmail.com",
          "zsuzsannanagy@gmail.com",
          "ferenc86@vincze.biz",
          "ilona25@yahoo.com",
          "ukovacs@kerekes.org",
          "jszabi@jinas.net",
          "ffekete@hotmail.com",
          "ukovacs@yahoo.com",
          "kissdenes@hotmail.com",
          "volah@hajdu.biz",
          "agnesnagy@gmail.com",
          "iren61@mate.org",
          "nikoletta35@kiss.com",
          "erzsebetszabi@yahoo.com",
          "farkasiren@barta.hu",
          "ebalog@nemeth.com",
          "zoltanvincze@varga.com.hu",
          "rozalia53@balogh.hu",
          "nandor12@szabi.info",
          "boroseva@simon.org",
          "imre47@bognar.info",
          "zsifiafarkas@hotmail.com",
          "orsolyaracz@gmail.com",
          "mihalyfabian@kovacs.biz",
          "bkiraly@yahoo.com",
          "magyarlaszli@gmail.com",
          "zszabi@hotmail.com",
          "qhorvath@lakatos.info",
          "gyongyivoros@nagy.hu",
          "mbogdan@gmail.com",
          "bernadett58@yahoo.com",
          "hszucs@tith.biz",
          "gdudas@balogh.org",
          "mariakiss@gal.com.hu",
          "horvathanita@farkas.hu",
          "annamaria72@hotmail.com",
          "lillakovacs@szabi.biz",
          "laszliszabi@hotmail.com",
          "jizsef24@hotmail.com",
          "xgaspar@yahoo.com",
          "gyorgy76@bognar.org",
          "gergo83@nagy.hu",
          "nagysandor@yahoo.com",
          "juditkiss@gal.com.hu",
          "torokildiki@gmail.com",
          "tithandras@kovacs.net",
          "vorban@juhasz.biz",
          "alexandra62@gmail.com",
          "timeatith@horvath.com.hu",
          "wbarna@gulyas.hu",
          "emma07@horvath.com",
          "kovacsorsolya@gmail.com",
          "judittamas@yahoo.com",
          "kissilona@yahoo.com",
          "fszabi@molnar.org",
          "nemethlajos@kovacs.net",
          "katalinpal@gmail.com",
          "ofazekas@varga.org",
          "balazs07@katona.info",
          "abalint@molnar.biz",
          "gabor38@gmail.com",
          "nikoletttorok@szabi.com.hu",
          "laszli26@gmail.com",
          "istvan23@gmail.com",
          "maria75@nagy.biz",
          "pvirag@csonka.hu",
          "ferenc18@hotmail.com",
          "mariakovacs@yahoo.com",
          "emmasarkozi@gmail.com",
          "anna91@nagy.com.hu",
          "krisztina19@gmail.com",
          "norbert78@papp.org",
          "dianakovacs@kiss.info",
          "magdolnasimon@hotmail.com",
          "barbaranagy@yahoo.com",
          "rvaradi@virag.net",
          "andrea42@nagy.info",
          "tithgabriella@olah.hu",
          "attilakovacs@gmail.com",
          "jeno08@yahoo.com",
          "jeno57@hotmail.com",
          "hannanagy@szekely.hu",
          "juliannabogdan@gmail.com",
          "agnes30@takacs.hu",
          "rozalia55@yahoo.com",
          "iren49@yahoo.com",
          "baloghjizsef@pal.com",
          "wdeak@kiss.com.hu",
          "fazekasbela@hotmail.com",
          "laszlitith@szabi.net",
          "alexandrajuhasz@molnar.biz",
          "kornelkelemen@balint.info",
          "bnemeth@hotmail.com",
          "sandornagy@gmail.com",
          "katalinorosz@illes.biz",
          "katonamilan@kerekes.org",
          "richard06@hotmail.com",
          "bernadettorban@kelemen.org",
          "yszabi@kis.com",
          "wkovacs@yahoo.com",
          "nagyandrea@hotmail.com",
          "shorvath@hotmail.com",
          "gyorgy27@hajdu.biz",
          "fkovacs@gmail.com",
          "eszabi@yahoo.com",
          "istvanolah@szabi.net",
          "meszarosnikolett@olah.info",
          "gyulajuhasz@pinter.com.hu",
          "mgal@gmail.com",
          "jizsefbogdan@hotmail.com",
          "vargaeva@gmail.com",
          "kelemengabor@hotmail.com",
          "ztith@horvath.com",
          "rmagyar@szabi.org",
          "vbalazs@kozma.biz",
          "xnagy@torok.info",
          "anikinagy@molnar.info",
          "melindaantal@yahoo.com",
          "marianemeth@budai.biz",
          "nagyaniki@kovacs.com.hu",
          "istvanmolnar@kovacs.org",
          "halaszmilan@gmail.com",
          "hnemes@molnar.org",
          "baloghkaroly@lukacs.biz",
          "vargagyongyi@hotmail.com",
          "reka08@tith.com",
          "xhorvath@takacs.com",
          "racztunde@gmail.com",
          "magyareva@hotmail.com",
          "viragbognar@hotmail.com",
          "belaorsis@bakos.info",
          "kristif08@yahoo.com",
          "laszli84@horvath.info",
          "lajos05@feher.biz",
          "nbalogh@gmail.com",
          "erzsebet43@kozma.net",
          "vkovacs@kiss.hu",
          "lukacslaszli@gmail.com",
          "adriennkovacs@yahoo.com",
          "mszilagyi@molnar.com.hu",
          "wkelemen@gmail.com",
          "kissbianka@gmail.com",
          "nemethzoltan@gmail.com",
          "sarkozipatrik@nagy.info",
          "gtith@gmail.com",
          "ilona61@yahoo.com",
          "zsoltbalog@nagy.com.hu",
          "oorban@hotmail.com",
          "ribert12@gmail.com",
          "imrehorvath@kovacs.info",
          "terezkovacs@yahoo.com",
          "horvathildiki@szalai.com",
          "ekovacs@hotmail.com",
          "snagy@kovacs.hu",
          "hajnalkalukacs@horvath.info",
          "clengyel@jakab.info",
          "vargalevente@gmail.com",
          "htith@yahoo.com",
          "wfaragi@lakatos.biz",
          "peterhorvath@nagy.info",
          "zsoltkozma@nagy.org",
          "utith@laszli.hu",
          "jizsefszabi@gmail.com",
          "zoltannagy@balog.com.hu",
          "tithaniki@hotmail.com",
          "katalin72@farkas.net",
          "vmolnar@hotmail.com",
          "lauragaspar@molnar.net",
          "lajos16@gmail.com",
          "nszilagyi@pap.com",
          "hegedusjudit@olah.hu",
          "ferenc47@gmail.com",
          "dianasimon@hotmail.com",
          "xhorvath@hotmail.com",
          "istvan68@racz.net",
          "karolytith@yahoo.com",
          "jinaspeter@kiss.biz",
          "adrian11@nemes.biz",
          "erzsebetsipos@juhasz.hu",
          "janosbalogh@gmail.com",
          "maria52@yahoo.com",
          "szucscsaba@gmail.com",
          "istvan88@gmail.com",
          "jnagy@gmail.com",
          "katalinjuhasz@szabi.org",
          "alexandra80@yahoo.com",
          "miklis80@meszaros.biz",
          "borbelymark@tith.com",
          "mjuhasz@hotmail.com",
          "hajnalkatith@hotmail.com",
          "sveres@hotmail.com",
          "emil19@gmail.com",
          "feherkristif@fazekas.info",
          "laszlitith@yahoo.com",
          "torokrita@dudas.net",
          "fannimolnar@gmail.com",
          "mark58@hotmail.com",
          "novakarpad@yahoo.com",
          "laszli48@gaspar.info",
          "kovacstibor@tith.hu",
          "lkatona@balazs.info",
          "gergo23@szabi.info",
          "tundekovacs@szekely.com.hu"
         ],
         "lat": [
          47.52551486608682,
          47.524492660992046,
          47.53894858595282,
          47.52581093607993,
          47.563559973581214,
          47.54776638717156,
          47.56424196533442,
          47.56035551323488,
          47.53878590539583,
          47.54237735563365,
          47.55129783811577,
          47.56153576295607,
          47.56523245695361,
          47.55838317511076,
          47.52834209097124,
          47.553857186431145,
          47.54188098821332,
          47.56194253616675,
          47.51832852002261,
          47.540339380222434,
          47.556253806240896,
          47.54783154397408,
          47.55991856782708,
          47.54470592810858,
          47.5511887031857,
          47.532405099444624,
          47.52297817413976,
          47.55162117245935,
          47.5261127347023,
          47.52265518882648,
          47.551372503403776,
          47.53819851945167,
          47.54056908844062,
          47.54380988478746,
          47.5235609373598,
          47.51510963281098,
          47.54582075083198,
          47.52875409295988,
          47.561518928834566,
          47.531133683205816,
          47.5580279204821,
          47.53899726006225,
          47.53560891502137,
          47.56484493361417,
          47.55177669408723,
          47.53301391317501,
          47.53336321250016,
          47.51941796484075,
          47.55095874889396,
          47.54568799642209,
          47.52084036118984,
          47.55523114203578,
          47.53572621874578,
          47.51608598986129,
          47.55378217650272,
          47.53249879654467,
          47.53811118238077,
          47.53553331819354,
          47.51562320977699,
          47.545604909725576,
          47.55825714170537,
          47.527067707114526,
          47.56442922253802,
          47.54055389685511,
          47.562846040462674,
          47.56615429015863,
          47.56321872807256,
          47.547342209246246,
          47.55776905884373,
          47.53699849363528,
          47.5334800632158,
          47.56609072405667,
          47.54580813286392,
          47.53607330100299,
          47.51592255360974,
          47.51622264593208,
          47.53489929397721,
          47.53899173233603,
          47.54953666839099,
          47.54572733894906,
          47.565059968968754,
          47.52788642955054,
          47.56292365560462,
          47.5509577386338,
          47.53104102004527,
          47.54439114649841,
          47.553655607740254,
          47.55707199365994,
          47.53786227373989,
          47.54992882523631,
          47.53828341783437,
          47.53890347360571,
          47.530887778653614,
          47.52676493870679,
          47.55823639382243,
          47.5227747543639,
          47.54598163842648,
          47.522716773520486,
          47.52477350714205,
          47.55699841447058,
          47.55780682806697,
          47.53544492089901,
          47.55245177046906,
          47.531737604667256,
          47.51687803172055,
          47.520268608000286,
          47.56026174285091,
          47.55787524828262,
          47.53335086316668,
          47.5388024270582,
          47.52017390550071,
          47.55728870773273,
          47.52988123090416,
          47.53960350764994,
          47.564508428373735,
          47.53673993618183,
          47.54586583364773,
          47.55903571607515,
          47.52789109863942,
          47.55782185362369,
          47.52414490616822,
          47.53366884204238,
          47.56118809910857,
          47.544045347252,
          47.52781922244191,
          47.5192642911213,
          47.52307807875837,
          47.55030780049158,
          47.53691547409522,
          47.5568322384193,
          47.55672284458701,
          47.52276386224696,
          47.55265623808504,
          47.53487227446784,
          47.5645742253115,
          47.54707542743207,
          47.52470621450747,
          47.52711243598498,
          47.55240009211444,
          47.56107599857372,
          47.54588796948483,
          47.56223576418733,
          47.52382543821289,
          47.557710111828136,
          47.55542574896287,
          47.51873168356525,
          47.55127956918818,
          47.550493146628135,
          47.55039104303749,
          47.53884194566752,
          47.54070847170005,
          47.51593849134565,
          47.52371388776497,
          47.54278379503022,
          47.53889174721829,
          47.5304696983236,
          47.52609553847636,
          47.51938663307096,
          47.56077217723935,
          47.54205259060038,
          47.55761877448078,
          47.54180976384701,
          47.52015861665668,
          47.54952561934009,
          47.52218285369173,
          47.52325538720144,
          47.54807783159262,
          47.54831262403971,
          47.54091086788206,
          47.55955416640501,
          47.53428670438838,
          47.53713885302105,
          47.54161876717444,
          47.52803989729416,
          47.54604892808427,
          47.556359102330056,
          47.54973940750735,
          47.55513881405253,
          47.547217975427735,
          47.55005338809579,
          47.56158447207543,
          47.52481978078761,
          47.54809597548367,
          47.5326399187703,
          47.52536791907068,
          47.52060113633313,
          47.53233567566792,
          47.54858730900421,
          47.5342810246013,
          47.54579160594213,
          47.530628678138925,
          47.53427366892154,
          47.55939818962961,
          47.55491235471535,
          47.53348734746127,
          47.554070364437095,
          47.544887783660975,
          47.5500681170927,
          47.52668982758062,
          47.55827645813567,
          47.553377580772064,
          47.56525488425248,
          47.53132873789458,
          47.53578477592929,
          47.515718210579145,
          47.5269031510651,
          47.55405635137799,
          47.55255951974,
          47.556836272555685,
          47.53798481303826,
          47.54211743936284,
          47.51902227186021,
          47.52058902341149,
          47.54802746168719,
          47.54553485554113,
          47.55576369593181,
          47.5424418703979,
          47.51770800616649,
          47.56242312173789,
          47.5389879443876,
          47.51952136205927,
          47.5555843153909,
          47.557716535902735,
          47.5386221854277,
          47.53503621488716,
          47.5498886773544,
          47.54325864262056,
          47.56487251269535,
          47.54545611271639,
          47.56464805088631,
          47.55637579798645,
          47.54820796698389,
          47.533408624106926,
          47.52153398366648,
          47.56093692100365,
          47.543801555214856,
          47.55186728454131,
          47.51657714137423,
          47.562788579508656,
          47.52714120839611,
          47.56614160769215,
          47.53601144212305,
          47.52361429351387,
          47.5252558104435,
          47.52261365119095,
          47.54869207963092,
          47.56612879841956,
          47.55825767864484,
          47.55076838862307,
          47.55124775266393,
          47.53738793717855,
          47.53044089119295,
          47.5614637644111,
          47.56305723011042,
          47.56041391177616,
          47.5323853587931,
          47.52143509961752,
          47.5279108108636,
          47.56395457013134,
          47.53296607088859,
          47.53050141505444,
          47.51612506541456,
          47.52541352339543,
          47.54209473235585,
          47.53942390426647,
          47.51701191281054,
          47.51880649696837,
          47.54961054855878,
          47.555518901399374,
          47.56295444015123,
          47.558613887450335,
          47.56400394168013,
          47.56427887151736,
          47.5564744912394,
          47.56591361927324,
          47.54086209568699,
          47.51805430648518,
          47.557533196947546,
          47.54469133807157,
          47.53862112156702,
          47.536363672110696,
          47.5236960506241,
          47.54137644951765,
          47.519994915572674,
          47.55398054871255,
          47.54567377494138,
          47.54473217943397,
          47.52577733951735,
          47.546621977086,
          47.55658752647564,
          47.52141371302013,
          47.5160442823605,
          47.52056117851968,
          47.563048741470254,
          47.536341513708855,
          47.51922687538968,
          47.524063708481485,
          47.521019428147504,
          47.53199977595736,
          47.531528676524665,
          47.52650876623754,
          47.53835328230039,
          47.54924684229513,
          47.53285776335988,
          47.55326807830346,
          47.54957090200615,
          47.54720860454264,
          47.55627487576568,
          47.53928769476037,
          47.55265015138511,
          47.54619056358592,
          47.5581619436302,
          47.54546535248132,
          47.56103962081389,
          47.53945612922042,
          47.55423582300178,
          47.51714191561016,
          47.5449890681864,
          47.52236962319021,
          47.55338074902078,
          47.53699808466449,
          47.53139342854895,
          47.528263329971374,
          47.51981522871235,
          47.51863384208681,
          47.51685698416713,
          47.53714392327823,
          47.548938893596485,
          47.55392464800247,
          47.54320827641484,
          47.54012647378608,
          47.51685419903525,
          47.51982850173536,
          47.51802278365581,
          47.52060432052802,
          47.54816622581028,
          47.55156230022918,
          47.5332620985894,
          47.51928858956535,
          47.55043135682192,
          47.518650735519294,
          47.56032088195419,
          47.55542826446031,
          47.516474223801325,
          47.52718340084482,
          47.557807915926674,
          47.54012295830648,
          47.52832593046743,
          47.54251255025161,
          47.563836323429925,
          47.5651828896575,
          47.53308260166111,
          47.52082786512798,
          47.543275187479225,
          47.532987219607065,
          47.54915963269947,
          47.51822617177663,
          47.55990163785026,
          47.56442751851788,
          47.54363133490623,
          47.554539981687256,
          47.55170334305944,
          47.54936346423551,
          47.5303561607316,
          47.55842433222882,
          47.539543218831575,
          47.54314579912268,
          47.51580873185762,
          47.536193735824895,
          47.56409463171236,
          47.5289493538762,
          47.55045499106777,
          47.51534544749244,
          47.54786724472759,
          47.52281554674804,
          47.51945859348604,
          47.53330642647527,
          47.55365737458657,
          47.5297999667178,
          47.52695568272322,
          47.535570792073344,
          47.53433325157316,
          47.53490309038223,
          47.56030497170761,
          47.542674053958166,
          47.55656334830408,
          47.55361789694799,
          47.5477591032611,
          47.550054890562805,
          47.56016753076281,
          47.52858729428248,
          47.53914780555615,
          47.54667401121273,
          47.51702466524164,
          47.53784474447771,
          47.54577823774847,
          47.52638592474853,
          47.53160031896283,
          47.55972570227437,
          47.566121371519806,
          47.56102734831779,
          47.55249468475146,
          47.53489416524141,
          47.53644707094151,
          47.554571526557176,
          47.56560112319376,
          47.552718836695625,
          47.562524985463405,
          47.55529066487488,
          47.55622907937794,
          47.555515271445564,
          47.56192710580349,
          47.55504530341049,
          47.55882658725647,
          47.5355036752493,
          47.55991133181468,
          47.52253973909683,
          47.52861084534791,
          47.518089085682185,
          47.518568254220405,
          47.549004565533934,
          47.52388262261692,
          47.56351556457362,
          47.55352467687479,
          47.5240611609874,
          47.55369479318273,
          47.56023017803715,
          47.521407871967845,
          47.53766328038279,
          47.54267529044952,
          47.550824988394375,
          47.54659048997392,
          47.54132666005358,
          47.53421407058756,
          47.56336509222058,
          47.5348923474074,
          47.54658293682994,
          47.53993722139307,
          47.52297537980914,
          47.51977988510923,
          47.54632862507132,
          47.54050401685095,
          47.53414944753021,
          47.56208300000861,
          47.51500817013013,
          47.56340386753122,
          47.53664229708557,
          47.54893558374991,
          47.51920302052304,
          47.561811629587865,
          47.52778027181125,
          47.544548603063774,
          47.55420820415433,
          47.53256159934321,
          47.5516007152447,
          47.54135451661095,
          47.55878488950703,
          47.53181012597253,
          47.56377281693376,
          47.53390495177099,
          47.5159433830413,
          47.53774493217854,
          47.52933030848206,
          47.520274528232505,
          47.53126480707904,
          47.54086831274105,
          47.55416798860093,
          47.519431306548185,
          47.526835231403474,
          47.55982662647185,
          47.55273011401598,
          47.55311724447492,
          47.52425962195867,
          47.53368713290887,
          47.54895741771312,
          47.5310731043792,
          47.52396466656842,
          47.537835432977,
          47.56262924214825,
          47.52655242724961,
          47.54873045890197,
          47.53996190470795,
          47.527790686044845,
          47.5321023327035,
          47.52739642034749,
          47.55548246050582,
          47.51609041443827,
          47.5324770485297,
          47.52473633649228,
          47.51719263118707,
          47.56568118634529,
          47.531072771545126,
          47.531381060857896,
          47.54035149419925,
          47.51651477462243,
          47.53328292502448,
          47.5180931321576,
          47.52526984299239,
          47.52692163623281,
          47.539848554137045
         ],
         "legendgroup": "",
         "lon": [
          19.03282313093011,
          19.016471051675733,
          19.023606287577163,
          19.035229882006515,
          19.032613443753444,
          19.02642819281134,
          19.02765186659417,
          19.02573377390246,
          19.02624299541669,
          19.038063251419626,
          19.03031476979797,
          19.031297779607915,
          19.02070756363672,
          19.019523995781277,
          19.02659551784193,
          19.03539405837941,
          19.034519495657616,
          19.02586173204893,
          19.020689780602908,
          19.03270189693161,
          19.02344253969566,
          19.02792120797795,
          19.02957573268629,
          19.020659805013626,
          19.037110641725818,
          19.034117858073067,
          19.03366387281252,
          19.0235683887903,
          19.0255145619799,
          19.030926952115006,
          19.03588707290603,
          19.030206154775065,
          19.02339830108683,
          19.033991567508867,
          19.036213840211964,
          19.02854862388783,
          19.03045422867306,
          19.02943362915363,
          19.024609809660664,
          19.034994269754208,
          19.0180870626573,
          19.02958153092735,
          19.035562563188066,
          19.03759035480583,
          19.028973492473323,
          19.017036512624937,
          19.03186482126468,
          19.01979149732272,
          19.02756644002536,
          19.02872894171847,
          19.03803676867878,
          19.035893855442872,
          19.023821244605617,
          19.0376159764925,
          19.03691894009644,
          19.03348478240265,
          19.03037118305419,
          19.024320951073797,
          19.023056403531697,
          19.03098565969912,
          19.027552109822214,
          19.019714126343544,
          19.035621175532288,
          19.034089046966013,
          19.01852361548562,
          19.025885356218044,
          19.025595174026424,
          19.021471942457268,
          19.0214358310958,
          19.031011780326363,
          19.02158273847996,
          19.02714401213254,
          19.02894503300393,
          19.03619672491958,
          19.027658921376325,
          19.017795807773265,
          19.034679757307423,
          19.02275681665189,
          19.019715180554066,
          19.01987070978864,
          19.02609819398903,
          19.02646418993726,
          19.02455791200528,
          19.0365447286705,
          19.01716641888022,
          19.02527113422083,
          19.020936918787736,
          19.019354019068565,
          19.035006828424304,
          19.03239895426541,
          19.03763977279784,
          19.024037591025817,
          19.01842618505433,
          19.026486442361133,
          19.02246751168658,
          19.029863219457667,
          19.018448191345254,
          19.03420646947606,
          19.036484835324156,
          19.01975616397305,
          19.031280372288773,
          19.0188618631863,
          19.01818334978333,
          19.023764845428097,
          19.033842121011837,
          19.037172839563183,
          19.030851123184288,
          19.025212778685557,
          19.037904579854352,
          19.032406795424723,
          19.025876447562556,
          19.019879505146594,
          19.02476636496402,
          19.020344334717503,
          19.03519388378332,
          19.03059175078723,
          19.03169503540183,
          19.03643245423792,
          19.019917578832192,
          19.021943949063743,
          19.01946111657512,
          19.01717878969053,
          19.033448825190508,
          19.031000627401117,
          19.026328805774085,
          19.025132891025343,
          19.036165414322124,
          19.03389003105843,
          19.027215824638304,
          19.029658499524583,
          19.02643473215493,
          19.033738548648525,
          19.032275897088983,
          19.02782673462266,
          19.01910980255456,
          19.02689411936567,
          19.037554453231905,
          19.02811127468468,
          19.025887290247216,
          19.038056670979596,
          19.016456799443965,
          19.02406251995748,
          19.024920317831963,
          19.02430926139761,
          19.02083503151592,
          19.02920800808409,
          19.035929351684462,
          19.03004656528949,
          19.03236197203461,
          19.020135095215583,
          19.02724251821518,
          19.024739236771527,
          19.028677253835543,
          19.020976183128344,
          19.031042744423424,
          19.03260978577208,
          19.034452946470424,
          19.028643868269885,
          19.025602680767896,
          19.029579188863185,
          19.020485330911843,
          19.03334040812268,
          19.02861685096835,
          19.033612143404238,
          19.017513608350427,
          19.03315141311063,
          19.033360469510534,
          19.03460933680529,
          19.025596771954937,
          19.026897323734087,
          19.01809196187788,
          19.02540290729277,
          19.027752858901135,
          19.026546357625467,
          19.027291874241,
          19.03044735867844,
          19.0184783530532,
          19.028175712504765,
          19.021879407940983,
          19.032951873284222,
          19.02162978861561,
          19.03257731034386,
          19.027994880581275,
          19.025056062342625,
          19.01770494383664,
          19.022375712195068,
          19.017674416921235,
          19.017789605985637,
          19.033324066077054,
          19.026136356083036,
          19.025830298532245,
          19.02323288783036,
          19.01894335578635,
          19.038038995375704,
          19.01637698860065,
          19.037777661162327,
          19.017740104468096,
          19.028804549993072,
          19.037628513148785,
          19.035649271504383,
          19.02360402910123,
          19.03132610015256,
          19.02093656705522,
          19.032129917562752,
          19.033948590657463,
          19.019098803234588,
          19.018275332822824,
          19.03606849997016,
          19.0277235262667,
          19.01986698026825,
          19.027895246650704,
          19.02491654905149,
          19.03780006178425,
          19.027060652791068,
          19.02289014804291,
          19.030945337299837,
          19.02649733079218,
          19.025821561602022,
          19.021711252413635,
          19.02796458162168,
          19.024985756613823,
          19.021898532214568,
          19.030363896203877,
          19.02425134564416,
          19.036206152715007,
          19.03099617950687,
          19.031632394177755,
          19.02414123090408,
          19.03524145355588,
          19.028747019159105,
          19.022666080426266,
          19.033043466602667,
          19.02577787602387,
          19.02959211523699,
          19.02849761640545,
          19.02287059392088,
          19.03009584186084,
          19.026857621710512,
          19.0311101460461,
          19.017680107855703,
          19.03054549363547,
          19.035463879325068,
          19.020602741965497,
          19.029825077199604,
          19.03013763123871,
          19.026852873966003,
          19.030250385196904,
          19.02147132804227,
          19.018852579089653,
          19.03122815272028,
          19.023757853821845,
          19.0353329915782,
          19.021925621086915,
          19.018449920090312,
          19.0313412744023,
          19.021778589388795,
          19.02026508589129,
          19.020642586730453,
          19.03222489789446,
          19.03320102996603,
          19.016837690691,
          19.037477518048405,
          19.02400812086405,
          19.024087134912023,
          19.016468587848596,
          19.02545084096799,
          19.028363716396512,
          19.02602482694175,
          19.03644270065174,
          19.02894680534252,
          19.01799442745537,
          19.023139882595757,
          19.029469645555096,
          19.03347477657802,
          19.038104137239245,
          19.030238262322182,
          19.01998930870901,
          19.03406568438216,
          19.020137177890025,
          19.02257755659333,
          19.02523359599343,
          19.03448129740932,
          19.0308062929954,
          19.02159776307265,
          19.021670533509408,
          19.0290631746874,
          19.030844987859783,
          19.02846122107326,
          19.016647553747923,
          19.029693308531645,
          19.027719041406275,
          19.037177174352244,
          19.024681543535998,
          19.02998346603112,
          19.03001636042528,
          19.02415667848328,
          19.02325198341818,
          19.02180985946092,
          19.03294470669349,
          19.03774738457172,
          19.03290578107256,
          19.022720373349163,
          19.021621515278508,
          19.027080552038463,
          19.02765418128882,
          19.0296109588426,
          19.016964032438874,
          19.035682200676405,
          19.028010517743358,
          19.017935065963773,
          19.025412433582584,
          19.01825163942545,
          19.029049577671657,
          19.028739680925963,
          19.01980435782321,
          19.02011399701759,
          19.020663872103235,
          19.02512776789094,
          19.034509222392973,
          19.02126406470277,
          19.020776878908137,
          19.02484760022702,
          19.018755336685565,
          19.029349566114583,
          19.02301946012755,
          19.02687965259853,
          19.03674647860954,
          19.01689796075357,
          19.017198671921577,
          19.01921347891813,
          19.01883745202483,
          19.02913767059704,
          19.02655299362968,
          19.02492686594365,
          19.02047838078303,
          19.027464081393173,
          19.036757451050036,
          19.03366614099749,
          19.01686909261006,
          19.02319403877534,
          19.026691439507843,
          19.027418234944008,
          19.030287664077832,
          19.021485176384743,
          19.02894906146044,
          19.02790409846375,
          19.030774559340745,
          19.03380960925763,
          19.028191481175664,
          19.024299408887305,
          19.022747643128717,
          19.022827191938287,
          19.022647675394843,
          19.036956973645253,
          19.03577040542817,
          19.03810709029321,
          19.03189027098756,
          19.023219443407967,
          19.036883153973918,
          19.034537171919087,
          19.0353119777008,
          19.03186745443665,
          19.03811133440844,
          19.032521083408238,
          19.037662739798936,
          19.03667740419241,
          19.018341746601003,
          19.021398982851164,
          19.01638265753751,
          19.03596459703393,
          19.02678611485016,
          19.018151674732422,
          19.017136068480475,
          19.03105004171816,
          19.036039497285564,
          19.021055828941407,
          19.03573729068521,
          19.02446334362,
          19.03700201661825,
          19.02940115511077,
          19.02431812760412,
          19.033768991966767,
          19.024136564789263,
          19.027185851862225,
          19.027541056140265,
          19.024483302044988,
          19.017199131620416,
          19.021476579278733,
          19.01910100600527,
          19.0256379074561,
          19.017253409676663,
          19.02316434338397,
          19.020582646269062,
          19.037231716733164,
          19.029764916452702,
          19.037672192449453,
          19.016378388986205,
          19.019561763041903,
          19.02732000796272,
          19.02132484345052,
          19.023718402041,
          19.02099560879445,
          19.018091529269466,
          19.03393630729977,
          19.017428811995,
          19.03123986892785,
          19.026234798402587,
          19.02186090052412,
          19.0310699876081,
          19.02563858618078,
          19.02786054818404,
          19.02366852740336,
          19.02341448616938,
          19.03685123405736,
          19.030371567163662,
          19.017548399457176,
          19.01855062705724,
          19.02455114472222,
          19.023951481401426,
          19.034896016832374,
          19.03054016594259,
          19.02964589781949,
          19.034963982342685,
          19.0377518734785,
          19.035438357202622,
          19.03704416762417,
          19.020423632860485,
          19.0243906750366,
          19.02957999602801,
          19.036522401562166,
          19.03754108261199,
          19.031010730156865,
          19.02540301089352,
          19.023313947501865,
          19.01684393373833,
          19.0304898795302,
          19.021336545423264,
          19.020444145172085,
          19.03475128406141,
          19.021120540989696,
          19.02074106672521,
          19.023694705263274,
          19.037692028927832,
          19.02700618527293,
          19.035304133767237,
          19.03282922109122,
          19.02006587513997,
          19.03031664440721,
          19.02027727759532,
          19.03028705335196,
          19.030811683197303,
          19.021325110508077,
          19.03586966442508,
          19.03284552181773,
          19.017016291555056,
          19.018148804291624,
          19.027132929934226,
          19.034014536654293,
          19.032910394243487,
          19.025602496101712,
          19.022573462938343,
          19.017602744567014,
          19.038092830734303,
          19.02703957282152,
          19.02898651182898,
          19.029073972560937,
          19.02913229747813,
          19.02988916781149,
          19.018054316690385,
          19.02262179552524,
          19.035149772824216,
          19.02216588462379,
          19.021130109409384,
          19.02352523906653,
          19.033435901300454,
          19.03443513081815,
          19.026615754694287,
          19.030847035690385,
          19.0193398054434,
          19.02406783983339,
          19.023529867092297,
          19.037887914400823,
          19.03723895243025,
          19.03513109523769,
          19.03773123897812,
          19.022183646397306,
          19.021793950354212,
          19.022446842921667,
          19.032666461384668,
          19.019401130409463,
          19.034538087370144,
          19.028814509393523,
          19.01937029250821,
          19.02868568719475,
          19.02789835452733,
          19.024053027968748,
          19.02705390670864,
          19.02965396321005,
          19.028443793906177,
          19.03439483375436
         ],
         "marker": {
          "color": "red"
         },
         "mode": "markers",
         "name": "",
         "showlegend": false,
         "subplot": "mapbox",
         "type": "scattermapbox"
        }
       ],
       "layout": {
        "height": 600,
        "legend": {
         "tracegroupgap": 0
        },
        "mapbox": {
         "center": {
          "lat": 47.541166449875966,
          "lon": 19.027321045949844
         },
         "domain": {
          "x": [
           0,
           1
          ],
          "y": [
           0,
           1
          ]
         },
         "style": "open-street-map",
         "zoom": 12
        },
        "margin": {
         "t": 60
        },
        "template": {
         "data": {
          "bar": [
           {
            "error_x": {
             "color": "#2a3f5f"
            },
            "error_y": {
             "color": "#2a3f5f"
            },
            "marker": {
             "line": {
              "color": "#E5ECF6",
              "width": 0.5
             },
             "pattern": {
              "fillmode": "overlay",
              "size": 10,
              "solidity": 0.2
             }
            },
            "type": "bar"
           }
          ],
          "barpolar": [
           {
            "marker": {
             "line": {
              "color": "#E5ECF6",
              "width": 0.5
             },
             "pattern": {
              "fillmode": "overlay",
              "size": 10,
              "solidity": 0.2
             }
            },
            "type": "barpolar"
           }
          ],
          "carpet": [
           {
            "aaxis": {
             "endlinecolor": "#2a3f5f",
             "gridcolor": "white",
             "linecolor": "white",
             "minorgridcolor": "white",
             "startlinecolor": "#2a3f5f"
            },
            "baxis": {
             "endlinecolor": "#2a3f5f",
             "gridcolor": "white",
             "linecolor": "white",
             "minorgridcolor": "white",
             "startlinecolor": "#2a3f5f"
            },
            "type": "carpet"
           }
          ],
          "choropleth": [
           {
            "colorbar": {
             "outlinewidth": 0,
             "ticks": ""
            },
            "type": "choropleth"
           }
          ],
          "contour": [
           {
            "colorbar": {
             "outlinewidth": 0,
             "ticks": ""
            },
            "colorscale": [
             [
              0,
              "#0d0887"
             ],
             [
              0.1111111111111111,
              "#46039f"
             ],
             [
              0.2222222222222222,
              "#7201a8"
             ],
             [
              0.3333333333333333,
              "#9c179e"
             ],
             [
              0.4444444444444444,
              "#bd3786"
             ],
             [
              0.5555555555555556,
              "#d8576b"
             ],
             [
              0.6666666666666666,
              "#ed7953"
             ],
             [
              0.7777777777777778,
              "#fb9f3a"
             ],
             [
              0.8888888888888888,
              "#fdca26"
             ],
             [
              1,
              "#f0f921"
             ]
            ],
            "type": "contour"
           }
          ],
          "contourcarpet": [
           {
            "colorbar": {
             "outlinewidth": 0,
             "ticks": ""
            },
            "type": "contourcarpet"
           }
          ],
          "heatmap": [
           {
            "colorbar": {
             "outlinewidth": 0,
             "ticks": ""
            },
            "colorscale": [
             [
              0,
              "#0d0887"
             ],
             [
              0.1111111111111111,
              "#46039f"
             ],
             [
              0.2222222222222222,
              "#7201a8"
             ],
             [
              0.3333333333333333,
              "#9c179e"
             ],
             [
              0.4444444444444444,
              "#bd3786"
             ],
             [
              0.5555555555555556,
              "#d8576b"
             ],
             [
              0.6666666666666666,
              "#ed7953"
             ],
             [
              0.7777777777777778,
              "#fb9f3a"
             ],
             [
              0.8888888888888888,
              "#fdca26"
             ],
             [
              1,
              "#f0f921"
             ]
            ],
            "type": "heatmap"
           }
          ],
          "heatmapgl": [
           {
            "colorbar": {
             "outlinewidth": 0,
             "ticks": ""
            },
            "colorscale": [
             [
              0,
              "#0d0887"
             ],
             [
              0.1111111111111111,
              "#46039f"
             ],
             [
              0.2222222222222222,
              "#7201a8"
             ],
             [
              0.3333333333333333,
              "#9c179e"
             ],
             [
              0.4444444444444444,
              "#bd3786"
             ],
             [
              0.5555555555555556,
              "#d8576b"
             ],
             [
              0.6666666666666666,
              "#ed7953"
             ],
             [
              0.7777777777777778,
              "#fb9f3a"
             ],
             [
              0.8888888888888888,
              "#fdca26"
             ],
             [
              1,
              "#f0f921"
             ]
            ],
            "type": "heatmapgl"
           }
          ],
          "histogram": [
           {
            "marker": {
             "pattern": {
              "fillmode": "overlay",
              "size": 10,
              "solidity": 0.2
             }
            },
            "type": "histogram"
           }
          ],
          "histogram2d": [
           {
            "colorbar": {
             "outlinewidth": 0,
             "ticks": ""
            },
            "colorscale": [
             [
              0,
              "#0d0887"
             ],
             [
              0.1111111111111111,
              "#46039f"
             ],
             [
              0.2222222222222222,
              "#7201a8"
             ],
             [
              0.3333333333333333,
              "#9c179e"
             ],
             [
              0.4444444444444444,
              "#bd3786"
             ],
             [
              0.5555555555555556,
              "#d8576b"
             ],
             [
              0.6666666666666666,
              "#ed7953"
             ],
             [
              0.7777777777777778,
              "#fb9f3a"
             ],
             [
              0.8888888888888888,
              "#fdca26"
             ],
             [
              1,
              "#f0f921"
             ]
            ],
            "type": "histogram2d"
           }
          ],
          "histogram2dcontour": [
           {
            "colorbar": {
             "outlinewidth": 0,
             "ticks": ""
            },
            "colorscale": [
             [
              0,
              "#0d0887"
             ],
             [
              0.1111111111111111,
              "#46039f"
             ],
             [
              0.2222222222222222,
              "#7201a8"
             ],
             [
              0.3333333333333333,
              "#9c179e"
             ],
             [
              0.4444444444444444,
              "#bd3786"
             ],
             [
              0.5555555555555556,
              "#d8576b"
             ],
             [
              0.6666666666666666,
              "#ed7953"
             ],
             [
              0.7777777777777778,
              "#fb9f3a"
             ],
             [
              0.8888888888888888,
              "#fdca26"
             ],
             [
              1,
              "#f0f921"
             ]
            ],
            "type": "histogram2dcontour"
           }
          ],
          "mesh3d": [
           {
            "colorbar": {
             "outlinewidth": 0,
             "ticks": ""
            },
            "type": "mesh3d"
           }
          ],
          "parcoords": [
           {
            "line": {
             "colorbar": {
              "outlinewidth": 0,
              "ticks": ""
             }
            },
            "type": "parcoords"
           }
          ],
          "pie": [
           {
            "automargin": true,
            "type": "pie"
           }
          ],
          "scatter": [
           {
            "fillpattern": {
             "fillmode": "overlay",
             "size": 10,
             "solidity": 0.2
            },
            "type": "scatter"
           }
          ],
          "scatter3d": [
           {
            "line": {
             "colorbar": {
              "outlinewidth": 0,
              "ticks": ""
             }
            },
            "marker": {
             "colorbar": {
              "outlinewidth": 0,
              "ticks": ""
             }
            },
            "type": "scatter3d"
           }
          ],
          "scattercarpet": [
           {
            "marker": {
             "colorbar": {
              "outlinewidth": 0,
              "ticks": ""
             }
            },
            "type": "scattercarpet"
           }
          ],
          "scattergeo": [
           {
            "marker": {
             "colorbar": {
              "outlinewidth": 0,
              "ticks": ""
             }
            },
            "type": "scattergeo"
           }
          ],
          "scattergl": [
           {
            "marker": {
             "colorbar": {
              "outlinewidth": 0,
              "ticks": ""
             }
            },
            "type": "scattergl"
           }
          ],
          "scattermapbox": [
           {
            "marker": {
             "colorbar": {
              "outlinewidth": 0,
              "ticks": ""
             }
            },
            "type": "scattermapbox"
           }
          ],
          "scatterpolar": [
           {
            "marker": {
             "colorbar": {
              "outlinewidth": 0,
              "ticks": ""
             }
            },
            "type": "scatterpolar"
           }
          ],
          "scatterpolargl": [
           {
            "marker": {
             "colorbar": {
              "outlinewidth": 0,
              "ticks": ""
             }
            },
            "type": "scatterpolargl"
           }
          ],
          "scatterternary": [
           {
            "marker": {
             "colorbar": {
              "outlinewidth": 0,
              "ticks": ""
             }
            },
            "type": "scatterternary"
           }
          ],
          "surface": [
           {
            "colorbar": {
             "outlinewidth": 0,
             "ticks": ""
            },
            "colorscale": [
             [
              0,
              "#0d0887"
             ],
             [
              0.1111111111111111,
              "#46039f"
             ],
             [
              0.2222222222222222,
              "#7201a8"
             ],
             [
              0.3333333333333333,
              "#9c179e"
             ],
             [
              0.4444444444444444,
              "#bd3786"
             ],
             [
              0.5555555555555556,
              "#d8576b"
             ],
             [
              0.6666666666666666,
              "#ed7953"
             ],
             [
              0.7777777777777778,
              "#fb9f3a"
             ],
             [
              0.8888888888888888,
              "#fdca26"
             ],
             [
              1,
              "#f0f921"
             ]
            ],
            "type": "surface"
           }
          ],
          "table": [
           {
            "cells": {
             "fill": {
              "color": "#EBF0F8"
             },
             "line": {
              "color": "white"
             }
            },
            "header": {
             "fill": {
              "color": "#C8D4E3"
             },
             "line": {
              "color": "white"
             }
            },
            "type": "table"
           }
          ]
         },
         "layout": {
          "annotationdefaults": {
           "arrowcolor": "#2a3f5f",
           "arrowhead": 0,
           "arrowwidth": 1
          },
          "autotypenumbers": "strict",
          "coloraxis": {
           "colorbar": {
            "outlinewidth": 0,
            "ticks": ""
           }
          },
          "colorscale": {
           "diverging": [
            [
             0,
             "#8e0152"
            ],
            [
             0.1,
             "#c51b7d"
            ],
            [
             0.2,
             "#de77ae"
            ],
            [
             0.3,
             "#f1b6da"
            ],
            [
             0.4,
             "#fde0ef"
            ],
            [
             0.5,
             "#f7f7f7"
            ],
            [
             0.6,
             "#e6f5d0"
            ],
            [
             0.7,
             "#b8e186"
            ],
            [
             0.8,
             "#7fbc41"
            ],
            [
             0.9,
             "#4d9221"
            ],
            [
             1,
             "#276419"
            ]
           ],
           "sequential": [
            [
             0,
             "#0d0887"
            ],
            [
             0.1111111111111111,
             "#46039f"
            ],
            [
             0.2222222222222222,
             "#7201a8"
            ],
            [
             0.3333333333333333,
             "#9c179e"
            ],
            [
             0.4444444444444444,
             "#bd3786"
            ],
            [
             0.5555555555555556,
             "#d8576b"
            ],
            [
             0.6666666666666666,
             "#ed7953"
            ],
            [
             0.7777777777777778,
             "#fb9f3a"
            ],
            [
             0.8888888888888888,
             "#fdca26"
            ],
            [
             1,
             "#f0f921"
            ]
           ],
           "sequentialminus": [
            [
             0,
             "#0d0887"
            ],
            [
             0.1111111111111111,
             "#46039f"
            ],
            [
             0.2222222222222222,
             "#7201a8"
            ],
            [
             0.3333333333333333,
             "#9c179e"
            ],
            [
             0.4444444444444444,
             "#bd3786"
            ],
            [
             0.5555555555555556,
             "#d8576b"
            ],
            [
             0.6666666666666666,
             "#ed7953"
            ],
            [
             0.7777777777777778,
             "#fb9f3a"
            ],
            [
             0.8888888888888888,
             "#fdca26"
            ],
            [
             1,
             "#f0f921"
            ]
           ]
          },
          "colorway": [
           "#636efa",
           "#EF553B",
           "#00cc96",
           "#ab63fa",
           "#FFA15A",
           "#19d3f3",
           "#FF6692",
           "#B6E880",
           "#FF97FF",
           "#FECB52"
          ],
          "font": {
           "color": "#2a3f5f"
          },
          "geo": {
           "bgcolor": "white",
           "lakecolor": "white",
           "landcolor": "#E5ECF6",
           "showlakes": true,
           "showland": true,
           "subunitcolor": "white"
          },
          "hoverlabel": {
           "align": "left"
          },
          "hovermode": "closest",
          "mapbox": {
           "style": "light"
          },
          "paper_bgcolor": "white",
          "plot_bgcolor": "#E5ECF6",
          "polar": {
           "angularaxis": {
            "gridcolor": "white",
            "linecolor": "white",
            "ticks": ""
           },
           "bgcolor": "#E5ECF6",
           "radialaxis": {
            "gridcolor": "white",
            "linecolor": "white",
            "ticks": ""
           }
          },
          "scene": {
           "xaxis": {
            "backgroundcolor": "#E5ECF6",
            "gridcolor": "white",
            "gridwidth": 2,
            "linecolor": "white",
            "showbackground": true,
            "ticks": "",
            "zerolinecolor": "white"
           },
           "yaxis": {
            "backgroundcolor": "#E5ECF6",
            "gridcolor": "white",
            "gridwidth": 2,
            "linecolor": "white",
            "showbackground": true,
            "ticks": "",
            "zerolinecolor": "white"
           },
           "zaxis": {
            "backgroundcolor": "#E5ECF6",
            "gridcolor": "white",
            "gridwidth": 2,
            "linecolor": "white",
            "showbackground": true,
            "ticks": "",
            "zerolinecolor": "white"
           }
          },
          "shapedefaults": {
           "line": {
            "color": "#2a3f5f"
           }
          },
          "ternary": {
           "aaxis": {
            "gridcolor": "white",
            "linecolor": "white",
            "ticks": ""
           },
           "baxis": {
            "gridcolor": "white",
            "linecolor": "white",
            "ticks": ""
           },
           "bgcolor": "#E5ECF6",
           "caxis": {
            "gridcolor": "white",
            "linecolor": "white",
            "ticks": ""
           }
          },
          "title": {
           "x": 0.05
          },
          "xaxis": {
           "automargin": true,
           "gridcolor": "white",
           "linecolor": "white",
           "ticks": "",
           "title": {
            "standoff": 15
           },
           "zerolinecolor": "white",
           "zerolinewidth": 2
          },
          "yaxis": {
           "automargin": true,
           "gridcolor": "white",
           "linecolor": "white",
           "ticks": "",
           "title": {
            "standoff": 15
           },
           "zerolinecolor": "white",
           "zerolinewidth": 2
          }
         }
        },
        "title": {
         "text": "Geographical Places"
        }
       }
      },
      "text/html": [
       "<div>                            <div id=\"7ddaef66-6e3b-47ac-9b8e-803131bf9fbe\" class=\"plotly-graph-div\" style=\"height:600px; width:100%;\"></div>            <script type=\"text/javascript\">                require([\"plotly\"], function(Plotly) {                    window.PLOTLYENV=window.PLOTLYENV || {};                                    if (document.getElementById(\"7ddaef66-6e3b-47ac-9b8e-803131bf9fbe\")) {                    Plotly.newPlot(                        \"7ddaef66-6e3b-47ac-9b8e-803131bf9fbe\",                        [{\"customdata\":[[614.0,296000.0,4.0,0.4362897539525635,1092.0],[390.0,353000.0,6.0,0.4274198045722487,520.0],[417.0,344000.0,0.0,0.4002393348404425,708.0],[658.0,330000.0,1.0,0.491411253869041,1005.0],[797.0,160000.0,3.0,0.4220941323038568,1041.0],[467.0,249000.0,0.0,0.3916226877017411,631.0],[622.0,286000.0,6.0,0.4941092655813909,659.0],[442.0,186000.0,0.0,0.5920264723576188,621.0],[832.0,296000.0,5.0,0.5428421029360765,1008.0],[633.0,230000.0,1.0,0.416823898912543,581.0],[777.0,331000.0,0.0,0.358769433180785,688.0],[548.0,214000.0,4.0,0.5596419949686393,580.0],[468.0,288000.0,0.0,0.3795968856875077,906.0],[843.0,396000.0,2.0,0.4526510187429448,527.0],[362.0,160000.0,5.0,0.427101210245185,182.0],[610.0,351000.0,4.0,0.5808083323787766,591.0],[608.0,191000.0,1.0,0.5555169334859937,1094.0],[844.0,210000.0,6.0,0.5535433348676426,633.0],[719.0,279000.0,6.0,0.4981434400650883,402.0],[757.0,396000.0,2.0,0.5547800901334812,705.0],[550.0,385000.0,5.0,0.4394076947146503,132.0],[707.0,375000.0,3.0,0.5155530425337058,638.0],[732.0,163000.0,1.0,0.621975216751002,582.0],[714.0,373000.0,3.0,0.6022851728915821,226.0],[476.0,169000.0,1.0,0.6067040817433045,560.0],[536.0,346000.0,2.0,0.5009876143223073,583.0],[751.0,256000.0,1.0,0.4535890654191213,1033.0],[535.0,396000.0,1.0,0.6450430458880574,404.0],[577.0,183000.0,1.0,0.4701623228699098,873.0],[816.0,264000.0,5.0,0.4889026304861278,85.0],[360.0,334000.0,2.0,0.6366352928928187,466.0],[525.0,151000.0,1.0,0.4270220382222026,535.0],[770.0,178000.0,5.0,0.3936953242236694,1066.0],[617.0,161000.0,3.0,0.6398584662155905,751.0],[489.0,177000.0,6.0,0.367681623058936,499.0],[707.0,192000.0,3.0,0.4195171960362633,879.0],[616.0,158000.0,4.0,0.3924980763003906,80.0],[704.0,184000.0,4.0,0.4247821189239784,977.0],[723.0,372000.0,3.0,0.4372442182594137,492.0],[426.0,191000.0,6.0,0.4027732253525195,393.0],[601.0,376000.0,1.0,0.5702260332766474,152.0],[692.0,194000.0,2.0,0.5324855347317361,336.0],[700.0,206000.0,4.0,0.5713141349728906,199.0],[815.0,273000.0,1.0,0.5960684174539513,281.0],[556.0,387000.0,5.0,0.4313002137596543,924.0],[771.0,272000.0,5.0,0.3782572219921845,246.0],[724.0,332000.0,6.0,0.4479405075371097,134.0],[612.0,293000.0,6.0,0.4371682629026384,169.0],[429.0,264000.0,4.0,0.3692850428034379,884.0],[437.0,334000.0,0.0,0.5167057689274757,381.0],[775.0,281000.0,3.0,0.5106491767633514,505.0],[772.0,272000.0,4.0,0.4816223709713215,665.0],[667.0,323000.0,2.0,0.420822258304206,675.0],[655.0,293000.0,5.0,0.4588583437288113,539.0],[385.0,160000.0,6.0,0.557765038334312,433.0],[726.0,195000.0,0.0,0.4316300954328703,498.0],[506.0,263000.0,5.0,0.597697641344868,339.0],[390.0,180000.0,4.0,0.5479950150079678,863.0],[632.0,157000.0,4.0,0.3855302255602312,675.0],[505.0,170000.0,4.0,0.5965598568203571,923.0],[569.0,376000.0,1.0,0.4523814462193186,229.0],[685.0,310000.0,4.0,0.4668754264615882,343.0],[801.0,362000.0,2.0,0.4023347135909463,949.0],[748.0,231000.0,3.0,0.5852011268734038,441.0],[381.0,388000.0,0.0,0.427307648271479,483.0],[413.0,344000.0,6.0,0.6005104444603531,96.0],[835.0,288000.0,2.0,0.5474274366364733,1099.0],[575.0,204000.0,3.0,0.4747988943520415,910.0],[603.0,231000.0,4.0,0.4529973794070055,648.0],[532.0,233000.0,4.0,0.3849185174610395,347.0],[693.0,259000.0,6.0,0.4176535019490613,275.0],[452.0,327000.0,3.0,0.5987036978564351,258.0],[436.0,254000.0,5.0,0.4492992557714432,872.0],[712.0,354000.0,2.0,0.4245317749399362,804.0],[445.0,159000.0,2.0,0.6440508306517553,914.0],[458.0,280000.0,2.0,0.6153425034966944,475.0],[492.0,190000.0,5.0,0.5000551368615869,530.0],[653.0,244000.0,5.0,0.6182227425370346,653.0],[470.0,215000.0,2.0,0.6350809860062878,244.0],[748.0,306000.0,5.0,0.5317983176551555,708.0],[481.0,245000.0,1.0,0.5245639273465142,710.0],[834.0,266000.0,1.0,0.5971780126399178,747.0],[569.0,185000.0,3.0,0.5070202363465625,644.0],[522.0,311000.0,2.0,0.5957272255110736,661.0],[391.0,283000.0,0.0,0.3513434902363643,718.0],[747.0,378000.0,2.0,0.4570169441780062,358.0],[390.0,285000.0,4.0,0.5825469414244593,442.0],[382.0,249000.0,2.0,0.3889509161542772,695.0],[359.0,309000.0,3.0,0.3871438663633096,595.0],[819.0,393000.0,3.0,0.4838152792465248,250.0],[832.0,352000.0,1.0,0.6475743982558916,611.0],[383.0,296000.0,0.0,0.591388791251233,348.0],[610.0,287000.0,1.0,0.44386371456707,472.0],[807.0,312000.0,3.0,0.6243987961914494,347.0],[358.0,344000.0,5.0,0.4350921761712323,619.0],[611.0,289000.0,6.0,0.4760099767561704,898.0],[675.0,310000.0,5.0,0.3822226016647315,512.0],[625.0,320000.0,1.0,0.5061566870597828,505.0],[535.0,361000.0,3.0,0.4922989635903984,170.0],[424.0,322000.0,2.0,0.4113595273834398,226.0],[526.0,281000.0,5.0,0.4868179762252034,651.0],[847.0,171000.0,2.0,0.5257683059945786,108.0],[454.0,213000.0,2.0,0.4628181408688764,583.0],[562.0,172000.0,6.0,0.4248528664454615,918.0],[372.0,326000.0,1.0,0.4436552758671927,341.0],[654.0,352000.0,6.0,0.495888975358671,783.0],[483.0,221000.0,2.0,0.4287405470315138,247.0],[510.0,338000.0,5.0,0.5104796596364743,141.0],[836.0,338000.0,1.0,0.3540123204794846,797.0],[821.0,314000.0,2.0,0.6313794793691125,827.0],[726.0,197000.0,3.0,0.5712288459156657,467.0],[636.0,165000.0,4.0,0.354406962071404,166.0],[713.0,240000.0,5.0,0.4281917993652132,751.0],[708.0,225000.0,2.0,0.4693536370394378,416.0],[631.0,180000.0,3.0,0.5416929385559092,473.0],[540.0,239000.0,4.0,0.4148827545030512,536.0],[639.0,382000.0,0.0,0.6103792773503292,554.0],[489.0,195000.0,2.0,0.5798095032168025,115.0],[431.0,321000.0,5.0,0.6462606363479021,863.0],[808.0,360000.0,3.0,0.448391819852434,275.0],[390.0,302000.0,2.0,0.497468903282555,877.0],[592.0,389000.0,6.0,0.4090050644378545,146.0],[570.0,368000.0,0.0,0.3624613382590525,761.0],[468.0,176000.0,1.0,0.6454382837314421,642.0],[504.0,364000.0,3.0,0.3957864357826138,361.0],[546.0,214000.0,4.0,0.5599706391998783,522.0],[584.0,211000.0,4.0,0.3829302785407685,511.0],[449.0,324000.0,2.0,0.6344602238760959,1004.0],[623.0,175000.0,0.0,0.5563456741457251,511.0],[588.0,369000.0,1.0,0.3948206331522374,887.0],[811.0,179000.0,4.0,0.3825264232675937,491.0],[460.0,243000.0,2.0,0.4563046474989243,872.0],[454.0,206000.0,1.0,0.5712161178895808,299.0],[575.0,373000.0,4.0,0.6346502587969781,1026.0],[540.0,266000.0,4.0,0.6149304615250477,773.0],[465.0,276000.0,5.0,0.533180334663206,1056.0],[542.0,213000.0,1.0,0.6318847221167181,1047.0],[528.0,267000.0,0.0,0.4675692917625833,810.0],[777.0,387000.0,1.0,0.4935177132113952,736.0],[492.0,201000.0,2.0,0.522156147862313,286.0],[682.0,220000.0,6.0,0.4837554806835504,123.0],[720.0,396000.0,3.0,0.3585613206855504,591.0],[508.0,310000.0,3.0,0.575876525480916,1018.0],[409.0,398000.0,3.0,0.51533016252913,1026.0],[736.0,373000.0,4.0,0.5195891587980195,965.0],[524.0,288000.0,2.0,0.5118740784269971,510.0],[791.0,207000.0,4.0,0.4370569670941984,366.0],[793.0,295000.0,3.0,0.4748582855703877,775.0],[568.0,355000.0,3.0,0.5050202985114419,430.0],[673.0,363000.0,1.0,0.4285769879936479,472.0],[411.0,186000.0,5.0,0.5103982430171273,906.0],[781.0,286000.0,4.0,0.3560075994364642,964.0],[458.0,337000.0,3.0,0.3912255705469807,402.0],[754.0,374000.0,2.0,0.5753336687913682,351.0],[479.0,317000.0,3.0,0.5081588177006298,1067.0],[760.0,331000.0,2.0,0.4119671361427528,539.0],[665.0,155000.0,4.0,0.4315748981699097,244.0],[648.0,330000.0,5.0,0.5003294307873283,984.0],[371.0,214000.0,3.0,0.5228266757006161,249.0],[753.0,243000.0,5.0,0.5453732916926975,659.0],[455.0,360000.0,6.0,0.5878908786722812,638.0],[681.0,278000.0,4.0,0.4669105240779144,867.0],[506.0,328000.0,6.0,0.4196632144223611,476.0],[691.0,220000.0,0.0,0.6245042270046923,583.0],[396.0,350000.0,3.0,0.4113426824924698,689.0],[591.0,250000.0,2.0,0.5791024968702883,618.0],[843.0,165000.0,6.0,0.4170847416472036,789.0],[733.0,282000.0,5.0,0.4131261023619518,135.0],[687.0,381000.0,3.0,0.3839281581083193,406.0],[443.0,248000.0,0.0,0.3588274745603199,1017.0],[835.0,277000.0,4.0,0.3815967253360622,378.0],[612.0,299000.0,5.0,0.4982157557501473,979.0],[728.0,214000.0,6.0,0.3789170649053306,1083.0],[820.0,387000.0,6.0,0.4491791128942153,114.0],[360.0,156000.0,1.0,0.5688558965193312,280.0],[628.0,221000.0,4.0,0.3602193886482414,1035.0],[493.0,362000.0,1.0,0.5234166223466584,714.0],[376.0,316000.0,0.0,0.4092489210608724,550.0],[416.0,342000.0,4.0,0.4724226464702582,140.0],[366.0,377000.0,5.0,0.64023357876206,1042.0],[625.0,361000.0,4.0,0.3552945634490249,514.0],[449.0,348000.0,4.0,0.6272158340329536,840.0],[518.0,187000.0,5.0,0.5668012387529889,752.0],[607.0,353000.0,3.0,0.4908150022917419,618.0],[405.0,213000.0,0.0,0.3829541072644452,172.0],[737.0,207000.0,2.0,0.4132691766629461,139.0],[785.0,391000.0,6.0,0.6191960131768919,759.0],[392.0,185000.0,6.0,0.5694929336463644,1013.0],[470.0,180000.0,1.0,0.40859240622173,617.0],[809.0,320000.0,1.0,0.578009378100043,251.0],[530.0,289000.0,3.0,0.5205570449728782,267.0],[751.0,296000.0,4.0,0.540124861272518,956.0],[588.0,188000.0,1.0,0.5429413617689843,361.0],[798.0,200000.0,0.0,0.475927449962887,1098.0],[392.0,199000.0,0.0,0.4224016356592743,508.0],[746.0,376000.0,2.0,0.5256219104917313,687.0],[707.0,236000.0,4.0,0.5261076984134472,109.0],[501.0,353000.0,2.0,0.6471758351614956,824.0],[365.0,383000.0,0.0,0.370277045129395,772.0],[616.0,237000.0,3.0,0.3710715869168829,465.0],[446.0,268000.0,1.0,0.5378984384348278,836.0],[839.0,239000.0,1.0,0.4006460515422867,417.0],[576.0,354000.0,3.0,0.573687070417857,860.0],[683.0,321000.0,0.0,0.4422776409798476,881.0],[589.0,270000.0,4.0,0.5565562826839014,593.0],[375.0,154000.0,0.0,0.4896742568440388,337.0],[489.0,263000.0,2.0,0.417867865255508,1097.0],[372.0,293000.0,3.0,0.4204796019659011,990.0],[498.0,176000.0,2.0,0.4812607180527822,260.0],[721.0,254000.0,0.0,0.4484307580625912,794.0],[830.0,383000.0,4.0,0.5498930171957783,376.0],[490.0,300000.0,6.0,0.5145512317396739,102.0],[688.0,387000.0,5.0,0.4806617243260498,575.0],[800.0,246000.0,5.0,0.4059607541948263,387.0],[453.0,390000.0,2.0,0.4593562707190754,838.0],[565.0,224000.0,3.0,0.3673094387049007,910.0],[792.0,359000.0,2.0,0.3918592322223695,774.0],[733.0,255000.0,4.0,0.5541412848426909,880.0],[527.0,390000.0,4.0,0.4189208688702429,941.0],[746.0,251000.0,1.0,0.4145992383232854,776.0],[716.0,261000.0,4.0,0.4611819703083993,789.0],[634.0,263000.0,6.0,0.574200528637145,239.0],[652.0,182000.0,1.0,0.3858839449672486,735.0],[432.0,249000.0,1.0,0.6147896759148592,924.0],[651.0,261000.0,3.0,0.4132675418523985,850.0],[838.0,248000.0,1.0,0.6256016493555914,664.0],[824.0,283000.0,4.0,0.5784740099464759,365.0],[693.0,168000.0,2.0,0.4081117701555683,931.0],[658.0,278000.0,2.0,0.5310530570495927,387.0],[619.0,320000.0,2.0,0.5856599052669758,81.0],[846.0,297000.0,4.0,0.4766405749767166,171.0],[418.0,331000.0,2.0,0.3862120257764307,242.0],[417.0,186000.0,5.0,0.4471548545498061,552.0],[454.0,211000.0,2.0,0.6355953359056821,514.0],[839.0,284000.0,5.0,0.4897711855529011,985.0],[494.0,303000.0,0.0,0.4436018270911919,363.0],[376.0,167000.0,0.0,0.5547963955174311,98.0],[702.0,329000.0,4.0,0.581422660466985,474.0],[540.0,236000.0,3.0,0.363385194346785,1096.0],[762.0,287000.0,6.0,0.6193373532517854,722.0],[470.0,264000.0,2.0,0.5130026038839863,387.0],[391.0,374000.0,2.0,0.5799182679233171,171.0],[785.0,167000.0,0.0,0.59270686931655,908.0],[774.0,359000.0,2.0,0.6111202480535434,371.0],[459.0,158000.0,1.0,0.5171386248192441,791.0],[817.0,171000.0,2.0,0.5828526720990332,883.0],[555.0,224000.0,6.0,0.5323244792392021,615.0],[439.0,351000.0,2.0,0.4177628702758638,118.0],[551.0,315000.0,0.0,0.5985634934925483,657.0],[763.0,387000.0,2.0,0.584750301944166,138.0],[583.0,320000.0,1.0,0.6235443947879205,340.0],[605.0,200000.0,4.0,0.5839014535197073,872.0],[573.0,245000.0,1.0,0.64571721872522,1083.0],[816.0,267000.0,1.0,0.3749140622294649,1003.0],[629.0,220000.0,1.0,0.3937094940820656,705.0],[719.0,305000.0,1.0,0.3641854117965034,432.0],[388.0,262000.0,6.0,0.4388661122898392,949.0],[505.0,255000.0,6.0,0.5088816399700968,758.0],[696.0,397000.0,3.0,0.6430035955316287,761.0],[496.0,175000.0,2.0,0.5793952396468919,555.0],[382.0,220000.0,2.0,0.529590070944449,1018.0],[429.0,322000.0,3.0,0.6171335919155976,237.0],[416.0,169000.0,1.0,0.5942195600876466,307.0],[367.0,381000.0,3.0,0.4408844002846257,610.0],[395.0,167000.0,5.0,0.4727773405112228,217.0],[490.0,271000.0,6.0,0.5227103082275829,620.0],[708.0,253000.0,5.0,0.5715688366017679,111.0],[447.0,313000.0,2.0,0.3983255637999656,90.0],[350.0,262000.0,1.0,0.6194970616574709,242.0],[564.0,283000.0,2.0,0.5325720608742024,664.0],[514.0,379000.0,4.0,0.4626625320433472,212.0],[809.0,281000.0,3.0,0.5832340147734265,908.0],[579.0,228000.0,5.0,0.5613942791271057,365.0],[652.0,243000.0,0.0,0.6453509387132239,482.0],[786.0,245000.0,6.0,0.456424900535989,140.0],[626.0,379000.0,1.0,0.6042357987351321,746.0],[758.0,276000.0,0.0,0.3619283028647882,827.0],[506.0,322000.0,4.0,0.5149657049184477,355.0],[797.0,373000.0,6.0,0.3974747879177428,495.0],[474.0,174000.0,2.0,0.577037674964096,421.0],[844.0,370000.0,3.0,0.3745898516388665,1093.0],[806.0,395000.0,2.0,0.5232182276006052,867.0],[682.0,247000.0,4.0,0.516656387504072,755.0],[450.0,246000.0,1.0,0.500592716277665,491.0],[504.0,390000.0,1.0,0.5294657112490199,808.0],[353.0,283000.0,6.0,0.394717029942279,201.0],[562.0,399000.0,1.0,0.4616132941803324,958.0],[666.0,349000.0,2.0,0.4534639563571536,133.0],[451.0,244000.0,2.0,0.4232386660294283,407.0],[836.0,311000.0,0.0,0.4940722695646465,341.0],[386.0,249000.0,0.0,0.4159582364090811,640.0],[429.0,313000.0,1.0,0.5210015285604306,982.0],[554.0,350000.0,6.0,0.6083024601811877,578.0],[558.0,207000.0,1.0,0.5382065956997019,1025.0],[739.0,173000.0,0.0,0.5147000467572478,199.0],[622.0,292000.0,2.0,0.5843672007386314,303.0],[835.0,259000.0,0.0,0.4995356207739338,658.0],[652.0,228000.0,6.0,0.4139987698852582,281.0],[497.0,300000.0,4.0,0.3573876099728048,385.0],[370.0,203000.0,0.0,0.4280403660950417,1045.0],[671.0,180000.0,4.0,0.5202331241868468,480.0],[398.0,286000.0,5.0,0.6401263402301951,1010.0],[800.0,228000.0,4.0,0.5445689289041012,339.0],[436.0,371000.0,1.0,0.6248740749200558,633.0],[738.0,171000.0,3.0,0.5905802812289351,482.0],[659.0,177000.0,4.0,0.6001175232680351,604.0],[700.0,225000.0,2.0,0.5887456827396225,504.0],[843.0,255000.0,6.0,0.3611896203697189,713.0],[457.0,252000.0,5.0,0.6068357074541116,89.0],[671.0,190000.0,1.0,0.5252728333636462,246.0],[676.0,182000.0,0.0,0.437072016870784,246.0],[361.0,212000.0,0.0,0.5229405152813908,920.0],[467.0,174000.0,3.0,0.6222904502764226,577.0],[724.0,291000.0,0.0,0.6200832185248,885.0],[561.0,375000.0,4.0,0.6341219639187714,973.0],[478.0,370000.0,1.0,0.3615458872736014,752.0],[388.0,189000.0,0.0,0.374572257843785,736.0],[382.0,168000.0,5.0,0.3510295358720691,88.0],[769.0,289000.0,0.0,0.3646034761427153,1096.0],[758.0,158000.0,1.0,0.5493591133153104,249.0],[493.0,157000.0,4.0,0.5468184347047593,617.0],[712.0,358000.0,2.0,0.3611701944687869,397.0],[477.0,240000.0,0.0,0.6223978125949742,520.0],[840.0,173000.0,4.0,0.6258184406709593,185.0],[744.0,370000.0,3.0,0.4947640059182029,817.0],[626.0,270000.0,1.0,0.5792253527609743,810.0],[740.0,345000.0,1.0,0.5324797810154243,432.0],[493.0,285000.0,5.0,0.4099546391636928,698.0],[752.0,176000.0,1.0,0.4712548973559441,162.0],[478.0,399000.0,3.0,0.6450083149867153,1022.0],[413.0,338000.0,5.0,0.4812803789054124,746.0],[803.0,358000.0,3.0,0.5148671836468073,667.0],[769.0,388000.0,4.0,0.4514608353990108,718.0],[385.0,217000.0,2.0,0.631444611197211,754.0],[636.0,324000.0,3.0,0.4569080973796007,574.0],[450.0,274000.0,6.0,0.4026857832692456,773.0],[812.0,225000.0,0.0,0.4371036907932307,528.0],[605.0,152000.0,1.0,0.3879345449729656,184.0],[571.0,226000.0,5.0,0.5864399237094395,296.0],[800.0,248000.0,0.0,0.4316816906967105,540.0],[384.0,204000.0,5.0,0.5337930719170305,178.0],[578.0,385000.0,2.0,0.6159529127347113,952.0],[651.0,319000.0,3.0,0.619236463999584,740.0],[359.0,220000.0,6.0,0.4295201143498112,105.0],[520.0,369000.0,6.0,0.5721958889583328,1027.0],[689.0,304000.0,0.0,0.4592724774041978,1055.0],[730.0,274000.0,4.0,0.3546923790961202,575.0],[528.0,327000.0,5.0,0.4011293481927775,186.0],[364.0,352000.0,5.0,0.5440307799599334,921.0],[801.0,339000.0,4.0,0.5616768024778213,443.0],[650.0,225000.0,6.0,0.5917962850196022,576.0],[791.0,349000.0,0.0,0.4639898489024643,377.0],[531.0,200000.0,5.0,0.6455684477862031,960.0],[385.0,275000.0,6.0,0.5964120279972098,955.0],[826.0,223000.0,5.0,0.4530856412610516,703.0],[728.0,370000.0,0.0,0.6428781906321341,393.0],[600.0,239000.0,6.0,0.6401290696782072,566.0],[673.0,326000.0,5.0,0.4772448923030433,353.0],[728.0,201000.0,1.0,0.3872794476091473,1036.0],[763.0,399000.0,5.0,0.5757579411042243,168.0],[548.0,299000.0,6.0,0.359853138452474,433.0],[683.0,183000.0,0.0,0.5842775578726216,559.0],[405.0,334000.0,0.0,0.4362062240691527,606.0],[789.0,282000.0,1.0,0.5986755816377993,471.0],[565.0,151000.0,2.0,0.5686260304031292,849.0],[372.0,389000.0,0.0,0.3817408741316523,963.0],[593.0,277000.0,1.0,0.4306788214538077,177.0],[408.0,398000.0,3.0,0.5806733818609162,1022.0],[437.0,304000.0,1.0,0.4601747886458981,370.0],[350.0,302000.0,2.0,0.6228381749613293,293.0],[832.0,375000.0,5.0,0.3599654500286776,240.0],[683.0,257000.0,4.0,0.5182091562024229,384.0],[517.0,265000.0,6.0,0.4684508443649067,236.0],[449.0,186000.0,5.0,0.5299450627657972,1017.0],[607.0,151000.0,2.0,0.6354860839799188,344.0],[821.0,248000.0,2.0,0.4364764955654438,348.0],[725.0,227000.0,5.0,0.4635881429742364,573.0],[799.0,299000.0,1.0,0.4336617254482443,886.0],[681.0,232000.0,5.0,0.5789088394915718,817.0],[496.0,151000.0,6.0,0.3862038032100256,970.0],[470.0,354000.0,1.0,0.357333960176169,195.0],[389.0,206000.0,5.0,0.4157321446979675,162.0],[451.0,302000.0,2.0,0.5521776321549943,889.0],[414.0,194000.0,1.0,0.5731435065141047,901.0],[688.0,315000.0,4.0,0.4044522331306246,827.0],[708.0,291000.0,4.0,0.4571542169918356,615.0],[644.0,290000.0,2.0,0.4932808442223644,428.0],[689.0,247000.0,6.0,0.369652292362413,123.0],[409.0,355000.0,5.0,0.5561065800851142,407.0],[459.0,169000.0,2.0,0.5556053582134824,921.0],[787.0,207000.0,4.0,0.4836574276943639,323.0],[637.0,155000.0,0.0,0.4758395017975221,338.0],[450.0,240000.0,3.0,0.6118759052379232,1052.0],[662.0,294000.0,5.0,0.4218681156326761,155.0],[703.0,341000.0,1.0,0.4851127088353064,596.0],[435.0,195000.0,6.0,0.6494038567919905,166.0],[546.0,238000.0,1.0,0.373286583205398,823.0],[468.0,224000.0,2.0,0.4179496273289892,854.0],[440.0,288000.0,5.0,0.5602176610693059,295.0],[806.0,245000.0,6.0,0.4217220300968518,652.0],[381.0,179000.0,5.0,0.4604811729363481,276.0],[437.0,299000.0,2.0,0.6372644253721227,712.0],[674.0,262000.0,6.0,0.5048614668184312,802.0],[590.0,203000.0,1.0,0.5611144365864466,419.0],[579.0,280000.0,6.0,0.4417330979569415,686.0],[404.0,181000.0,4.0,0.3703128379364146,487.0],[482.0,226000.0,5.0,0.4727275875304892,923.0],[364.0,320000.0,1.0,0.4728561670492699,205.0],[541.0,339000.0,3.0,0.4689332186609686,456.0],[823.0,383000.0,6.0,0.4524673602686441,321.0],[703.0,396000.0,2.0,0.4777788169481671,459.0],[728.0,168000.0,4.0,0.6177979889966966,499.0],[769.0,337000.0,0.0,0.516441677940097,1081.0],[739.0,346000.0,6.0,0.5693836518479118,149.0],[436.0,392000.0,5.0,0.5170585958901641,823.0],[415.0,285000.0,6.0,0.4260730298539311,309.0],[717.0,268000.0,4.0,0.5688361464865677,459.0],[689.0,252000.0,2.0,0.4656007345606374,85.0],[458.0,368000.0,5.0,0.4826795308601506,976.0],[740.0,247000.0,3.0,0.5075013822664143,1062.0],[784.0,180000.0,3.0,0.6369365386009239,125.0],[685.0,265000.0,2.0,0.4821043725109113,299.0],[614.0,308000.0,5.0,0.6429537610563012,984.0],[482.0,356000.0,2.0,0.4371989327455079,657.0],[623.0,252000.0,3.0,0.4519640319641179,740.0],[822.0,291000.0,2.0,0.4508615157669666,781.0],[657.0,302000.0,1.0,0.3570345506382492,1093.0],[473.0,352000.0,4.0,0.4624586576825005,547.0],[404.0,339000.0,1.0,0.5520454732614111,490.0],[361.0,399000.0,5.0,0.4759408698540466,859.0],[507.0,307000.0,1.0,0.6217882211234174,374.0],[587.0,337000.0,0.0,0.3853525761593169,1087.0],[530.0,188000.0,4.0,0.58047361596015,697.0],[788.0,191000.0,4.0,0.5838831065104304,548.0],[410.0,181000.0,0.0,0.579660640028323,710.0],[514.0,175000.0,0.0,0.4522868983302384,141.0],[675.0,286000.0,5.0,0.4128303280135361,745.0],[492.0,337000.0,2.0,0.502764932709498,337.0],[738.0,350000.0,6.0,0.5728504795820502,189.0],[717.0,209000.0,5.0,0.6074516447827419,475.0],[456.0,156000.0,0.0,0.3540061279080085,1043.0],[619.0,208000.0,1.0,0.4064156292752663,703.0],[517.0,211000.0,4.0,0.4007517803124594,311.0],[790.0,381000.0,6.0,0.431869738685315,328.0],[678.0,152000.0,5.0,0.5386152298392193,694.0],[528.0,253000.0,6.0,0.6196368769350789,878.0],[352.0,366000.0,1.0,0.359710384624144,100.0],[727.0,185000.0,0.0,0.5376009027894924,715.0],[482.0,249000.0,5.0,0.4904910564171053,177.0],[658.0,163000.0,0.0,0.5512123072342929,129.0],[824.0,332000.0,2.0,0.3718776866610199,1069.0],[674.0,193000.0,4.0,0.457413544651957,895.0],[678.0,391000.0,2.0,0.4878774475765093,377.0],[832.0,284000.0,6.0,0.6299590761431628,349.0],[740.0,159000.0,1.0,0.5021816987342599,237.0],[511.0,341000.0,1.0,0.5424076754787764,1048.0],[683.0,265000.0,0.0,0.4698317354437152,248.0],[836.0,343000.0,2.0,0.4925367702824121,658.0],[752.0,322000.0,6.0,0.5688321768409712,1093.0],[497.0,355000.0,1.0,0.4851642490025415,619.0],[697.0,242000.0,3.0,0.6413941714254949,281.0],[833.0,333000.0,2.0,0.5335535864983327,1026.0],[627.0,298000.0,5.0,0.3539005626211943,964.0],[811.0,301000.0,3.0,0.5930230374578047,548.0],[444.0,349000.0,0.0,0.6343006154047159,893.0],[799.0,339000.0,0.0,0.4461148042746349,754.0],[763.0,186000.0,6.0,0.5023062863337471,461.0],[814.0,368000.0,0.0,0.4065217537522281,959.0],[639.0,219000.0,5.0,0.4428083152024072,711.0],[763.0,293000.0,1.0,0.3576860353717629,769.0],[519.0,391000.0,4.0,0.4383082419991509,988.0],[801.0,269000.0,1.0,0.5221970237760752,1016.0],[658.0,356000.0,3.0,0.6018777260738746,667.0],[764.0,400000.0,1.0,0.5618871533577876,487.0],[357.0,378000.0,3.0,0.5545381373638806,685.0],[770.0,267000.0,3.0,0.559365294603062,737.0],[382.0,339000.0,3.0,0.6453907564524753,632.0],[397.0,393000.0,4.0,0.5180565067336746,301.0],[471.0,274000.0,5.0,0.3573967994133506,946.0],[654.0,224000.0,1.0,0.5223356959207315,579.0],[367.0,179000.0,2.0,0.5325213710876375,331.0],[759.0,186000.0,1.0,0.5857416730611507,730.0],[633.0,164000.0,5.0,0.5928325856147554,296.0],[646.0,341000.0,1.0,0.4313337154863618,278.0],[772.0,157000.0,1.0,0.4882728060574413,947.0],[640.0,395000.0,1.0,0.4182628972855858,923.0],[710.0,351000.0,1.0,0.4200538790461328,915.0],[577.0,383000.0,2.0,0.386505937930071,693.0],[471.0,311000.0,1.0,0.6273983824915188,101.0],[603.0,252000.0,4.0,0.5800190453992873,574.0],[666.0,203000.0,6.0,0.5745343284393569,1005.0],[708.0,257000.0,6.0,0.5695868614259991,121.0],[753.0,343000.0,1.0,0.555283131445611,908.0],[736.0,242000.0,1.0,0.6237610522605312,1001.0],[549.0,275000.0,4.0,0.6034776885535205,584.0],[715.0,244000.0,4.0,0.4434071303176375,288.0],[763.0,172000.0,5.0,0.4641652615615649,624.0],[411.0,236000.0,2.0,0.4143613547291612,148.0],[593.0,220000.0,1.0,0.3858901740421067,106.0],[362.0,186000.0,3.0,0.5786729149643417,674.0]],\"hovertemplate\":\"\\u003cb\\u003e%{hovertext}\\u003c\\u002fb\\u003e\\u003cbr\\u003e\\u003cbr\\u003elatitude=%{lat}\\u003cbr\\u003elongitude=%{lon}\\u003cbr\\u003earea=%{customdata[0]}\\u003cbr\\u003erent=%{customdata[1]}\\u003cbr\\u003ecompetitors=%{customdata[2]}\\u003cbr\\u003eexposure=%{customdata[3]}\\u003cbr\\u003epopulation=%{customdata[4]}\\u003cextra\\u003e\\u003c\\u002fextra\\u003e\",\"hovertext\":[\"ilona97@vass.biz\",\"kovacsjazmin@gmail.com\",\"juhaszistvan@meszaros.org\",\"hfeher@varga.hu\",\"tamas22@hotmail.com\",\"dnemeth@gmail.com\",\"mariahorvath@yahoo.com\",\"akocsis@voros.biz\",\"csilla83@balazs.hu\",\"gyorgyhorvath@hotmail.com\",\"gszabi@yahoo.com\",\"laszli39@takacs.com\",\"bencebalogh@sipos.com\",\"istvan94@major.org\",\"kelemendira@yahoo.com\",\"pmeszaros@yahoo.com\",\"horvathbela@lakatos.com\",\"anna77@kiraly.info\",\"ervin11@kovacs.hu\",\"szucsagnes@hotmail.com\",\"jenopapp@hotmail.com\",\"wlakatos@hotmail.com\",\"farkaspetra@szabi.com\",\"akos65@horvath.net\",\"feherjanos@gmail.com\",\"cbognar@faragi.info\",\"zsanett89@nagy.biz\",\"lvoros@hotmail.com\",\"vargajanos@kiraly.org\",\"ttith@kis.com.hu\",\"ballapeter@yahoo.com\",\"klarafarkas@gmail.com\",\"balazszoltan@hegedus.com.hu\",\"ferencracz@kis.org\",\"bognartibor@hotmail.com\",\"maria92@fekete.com.hu\",\"vargamaria@varga.org\",\"nikolett39@gmail.com\",\"molnarlaszli@hotmail.com\",\"lengyelerzsebet@gmail.com\",\"akoskovacs@bodnar.info\",\"eszterbalog@gmail.com\",\"erzsebetsimon@hotmail.com\",\"ifeher@gmail.com\",\"agnespapp@pasztor.hu\",\"kovacsanna@kerekes.biz\",\"istvan09@orsis.biz\",\"fuloptamas@hotmail.com\",\"editszabi@gmail.com\",\"maria01@yahoo.com\",\"marta94@hegedus.net\",\"gabor96@gmail.com\",\"fodoreszter@hotmail.com\",\"ilona66@horvath.com\",\"gkovacs@gmail.com\",\"vbalazs@yahoo.com\",\"rbalint@tith.com\",\"ildikinagy@nagy.hu\",\"hkovacs@gmail.com\",\"adriennszucs@yahoo.com\",\"horvathkatalin@horvath.biz\",\"djakab@biri.net\",\"ilonapapp@gmail.com\",\"zoltanfulop@varga.com\",\"bela14@kerekes.com.hu\",\"raczkatalin@balog.com\",\"peter45@racz.hu\",\"vargazsolt@nagy.hu\",\"balazs34@hotmail.com\",\"pasztorjizsef@meszaros.hu\",\"nagyfanni@molnar.info\",\"laszlimolnar@hotmail.com\",\"szabierzsebet@hotmail.com\",\"jolantith@varadi.hu\",\"jszabi@novak.com.hu\",\"bernadettkovacs@bogdan.biz\",\"petertakacs@olah.org\",\"magdolnaracz@virag.net\",\"attiladudas@yahoo.com\",\"aniki76@balazs.biz\",\"beatrix02@kovacs.hu\",\"obalogh@szabi.com\",\"viktiriagulyas@orsis.hu\",\"olahroland@yahoo.com\",\"spapp@hotmail.com\",\"asipos@molnar.hu\",\"zsolt57@yahoo.com\",\"csaba36@hotmail.com\",\"margitszabi@pap.org\",\"farkaseva@gmail.com\",\"laszli78@balogh.org\",\"osimon@yahoo.com\",\"margitnemeth@gmail.com\",\"krisztina06@fekete.org\",\"szekeresimre@hotmail.com\",\"sandorhorvath@hotmail.com\",\"kissmartin@yahoo.com\",\"szabizoltan@yahoo.com\",\"nfabian@yahoo.com\",\"timeanemeth@yahoo.com\",\"nemethluca@gmail.com\",\"bertalanolah@szekeres.net\",\"zsomborlakatos@hotmail.com\",\"danielnagy@molnar.biz\",\"kelemenzsuzsanna@szabi.hu\",\"endre02@nemeth.info\",\"snemeth@tith.info\",\"maria02@molnar.com\",\"tithagnes@szabi.biz\",\"qnovak@szabi.info\",\"laszlikiss@kovacs.com\",\"agaspar@pal.biz\",\"nagyjulianna@varga.net\",\"tithtamas@yahoo.com\",\"wkiss@takacs.net\",\"yvarga@balogh.biz\",\"rszabi@szabi.org\",\"maria75@orosz.info\",\"zhorvath@szabi.hu\",\"eva53@gmail.com\",\"feherzsolt@molnar.info\",\"kovacserik@yahoo.com\",\"hkatona@yahoo.com\",\"jkocsis@hotmail.com\",\"riza37@hotmail.com\",\"laszliszabi@boros.net\",\"imeszaros@gmail.com\",\"ilonatorok@kovacs.org\",\"budaiantal@gmail.com\",\"upinter@hotmail.com\",\"lbalogh@kelemen.info\",\"davidszabi@szabi.hu\",\"diratith@nagy.org\",\"knemeth@kiraly.net\",\"htith@hotmail.com\",\"zkiss@hotmail.com\",\"horvathkrisztina@gmail.com\",\"kovacsferenc@gal.org\",\"oszabi@kovacs.org\",\"bpeter@hotmail.com\",\"zsolttith@nemeth.biz\",\"attila26@hotmail.com\",\"lajoslakatos@yahoo.com\",\"horvathjizsef@yahoo.com\",\"tiborsarkozi@gmail.com\",\"csimon@bodnar.hu\",\"ilona81@nagy.hu\",\"bogdanaranka@horvath.hu\",\"janoskovacs@hotmail.com\",\"reka68@katona.org\",\"szabiistvan@jakab.info\",\"piroska59@gmail.com\",\"kovacstimea@yahoo.com\",\"molnartibor@papp.com.hu\",\"nbalog@gmail.com\",\"nagyrizsa@mate.com.hu\",\"vargaaranka@tith.com\",\"csaba45@kovacs.info\",\"fodorerika@yahoo.com\",\"reka70@horvath.hu\",\"etorok@kocsis.com\",\"tithistvan@yahoo.com\",\"rebekatakacs@hotmail.com\",\"zsolt84@yahoo.com\",\"mihalynagy@kocsis.hu\",\"melindamolnar@orsis.com\",\"molnardaniel@pasztor.hu\",\"ckelemen@yahoo.com\",\"erzsebetnagy@varga.net\",\"kristiffekete@hotmail.com\",\"marton97@hotmail.com\",\"mtakacs@yahoo.com\",\"tereziavarga@yahoo.com\",\"tamas99@gmail.com\",\"kristifantal@fulop.org\",\"cnagy@gmail.com\",\"szabiimre@farkas.net\",\"bboros@hotmail.com\",\"jizsefnagy@nemeth.org\",\"laszliszabi@bodnar.biz\",\"attilatith@hotmail.com\",\"kocsiserika@yahoo.com\",\"khorvath@vincze.hu\",\"mariameszaros@kiss.com\",\"ilakatos@gmail.com\",\"molnarpeter@gmail.com\",\"nemethkaroly@hotmail.com\",\"zpinter@hotmail.com\",\"dianajuhasz@hotmail.com\",\"rozalia90@kiraly.biz\",\"orbanmagdolna@hotmail.com\",\"horvathilona@hotmail.com\",\"kingakovacs@balazs.com.hu\",\"nagyzsombor@tith.org\",\"bkovacs@varga.org\",\"roland01@gal.com\",\"ferenctamas@gmail.com\",\"baloghsandor@szabi.com\",\"esztertith@fodor.com\",\"gabor54@kelemen.net\",\"molnarandras@kovacs.com.hu\",\"imre05@tith.biz\",\"bernadettfarkas@kovacs.org\",\"ferenckis@hotmail.com\",\"farkaslaura@hotmail.com\",\"bhegedus@hotmail.com\",\"lmeszaros@hotmail.com\",\"bmarton@yahoo.com\",\"noel56@jakab.net\",\"ynemeth@szilagyi.info\",\"irenkovacs@gmail.com\",\"ilona68@yahoo.com\",\"jizsef23@hotmail.com\",\"janospapp@tith.org\",\"ynagy@hotmail.com\",\"fpapp@nagy.com\",\"minika55@hotmail.com\",\"erikakovacs@kiraly.biz\",\"gabriellaszilagyi@gmail.com\",\"kalman15@gmail.com\",\"ilonajuhasz@hotmail.com\",\"nagyimre@yahoo.com\",\"jorsis@gmail.com\",\"erzsebet40@hotmail.com\",\"evabogdan@yahoo.com\",\"takacsjozsef@gmail.com\",\"riza18@gmail.com\",\"zhorvath@hotmail.com\",\"marton10@gulyas.info\",\"ribert33@hotmail.com\",\"erika42@szilagyi.org\",\"szabizsolt@yahoo.com\",\"farkasbalint@horvath.com.hu\",\"balazsszabi@gmail.com\",\"sszabi@szalai.com.hu\",\"gergelynagy@barna.org\",\"maria23@yahoo.com\",\"szabitimea@horvath.info\",\"tithjeno@deak.com.hu\",\"viragkiss@molnar.info\",\"evahajdu@peter.biz\",\"cracz@hotmail.com\",\"siposerzsebet@barta.biz\",\"okovacs@gmail.com\",\"erzsebet99@yahoo.com\",\"horvathtibor@hotmail.com\",\"meszarosjizsef@tith.net\",\"jmolnar@nagy.net\",\"nagykatalin@orban.biz\",\"horvathmartin@szabi.biz\",\"lukacsnikoletta@szekeres.hu\",\"bgaspar@yahoo.com\",\"anett77@yahoo.com\",\"terezia08@hotmail.com\",\"laszli87@hotmail.com\",\"laszlikovacs@sois.hu\",\"gnemeth@szalai.hu\",\"papannamaria@bogdan.com.hu\",\"margit62@gmail.com\",\"andrasnagy@gmail.com\",\"farkasistvan@horvath.com\",\"ildikiolah@katona.biz\",\"daniel75@gmail.com\",\"balazsszabolcs@balogh.info\",\"agneskelemen@gmail.com\",\"zbudai@varga.com\",\"beatrix49@gmail.com\",\"sandorkovacs@gmail.com\",\"asimon@hotmail.com\",\"erzsebet51@gmail.com\",\"laszlivarga@varga.info\",\"faragizsuzsanna@yahoo.com\",\"rfarkas@kiss.net\",\"jizsef46@gmail.com\",\"ferenc28@molnar.hu\",\"qtith@kocsis.biz\",\"veronikahorvath@horvath.info\",\"maria30@bogdan.hu\",\"agnes16@hotmail.com\",\"sarkoziadrienn@yahoo.com\",\"vassmargit@kovacs.net\",\"istvan49@sandor.biz\",\"kissgabriella@nagy.com.hu\",\"vargaistvan@balazs.net\",\"gabriellavarga@szekely.org\",\"hszucs@olah.net\",\"marialakatos@hotmail.com\",\"xpataki@hotmail.com\",\"balazs45@hotmail.com\",\"jakablaszli@nemeth.hu\",\"kkovacs@szabi.com.hu\",\"vszabi@yahoo.com\",\"erzsebet88@gmail.com\",\"balazsmolnar@varga.hu\",\"ferenc56@kovacs.org\",\"mnagy@gmail.com\",\"erzsebethalasz@molnar.com\",\"kovacsbeatrix@gmail.com\",\"zsuzsannanagy@gmail.com\",\"ferenc86@vincze.biz\",\"ilona25@yahoo.com\",\"ukovacs@kerekes.org\",\"jszabi@jinas.net\",\"ffekete@hotmail.com\",\"ukovacs@yahoo.com\",\"kissdenes@hotmail.com\",\"volah@hajdu.biz\",\"agnesnagy@gmail.com\",\"iren61@mate.org\",\"nikoletta35@kiss.com\",\"erzsebetszabi@yahoo.com\",\"farkasiren@barta.hu\",\"ebalog@nemeth.com\",\"zoltanvincze@varga.com.hu\",\"rozalia53@balogh.hu\",\"nandor12@szabi.info\",\"boroseva@simon.org\",\"imre47@bognar.info\",\"zsifiafarkas@hotmail.com\",\"orsolyaracz@gmail.com\",\"mihalyfabian@kovacs.biz\",\"bkiraly@yahoo.com\",\"magyarlaszli@gmail.com\",\"zszabi@hotmail.com\",\"qhorvath@lakatos.info\",\"gyongyivoros@nagy.hu\",\"mbogdan@gmail.com\",\"bernadett58@yahoo.com\",\"hszucs@tith.biz\",\"gdudas@balogh.org\",\"mariakiss@gal.com.hu\",\"horvathanita@farkas.hu\",\"annamaria72@hotmail.com\",\"lillakovacs@szabi.biz\",\"laszliszabi@hotmail.com\",\"jizsef24@hotmail.com\",\"xgaspar@yahoo.com\",\"gyorgy76@bognar.org\",\"gergo83@nagy.hu\",\"nagysandor@yahoo.com\",\"juditkiss@gal.com.hu\",\"torokildiki@gmail.com\",\"tithandras@kovacs.net\",\"vorban@juhasz.biz\",\"alexandra62@gmail.com\",\"timeatith@horvath.com.hu\",\"wbarna@gulyas.hu\",\"emma07@horvath.com\",\"kovacsorsolya@gmail.com\",\"judittamas@yahoo.com\",\"kissilona@yahoo.com\",\"fszabi@molnar.org\",\"nemethlajos@kovacs.net\",\"katalinpal@gmail.com\",\"ofazekas@varga.org\",\"balazs07@katona.info\",\"abalint@molnar.biz\",\"gabor38@gmail.com\",\"nikoletttorok@szabi.com.hu\",\"laszli26@gmail.com\",\"istvan23@gmail.com\",\"maria75@nagy.biz\",\"pvirag@csonka.hu\",\"ferenc18@hotmail.com\",\"mariakovacs@yahoo.com\",\"emmasarkozi@gmail.com\",\"anna91@nagy.com.hu\",\"krisztina19@gmail.com\",\"norbert78@papp.org\",\"dianakovacs@kiss.info\",\"magdolnasimon@hotmail.com\",\"barbaranagy@yahoo.com\",\"rvaradi@virag.net\",\"andrea42@nagy.info\",\"tithgabriella@olah.hu\",\"attilakovacs@gmail.com\",\"jeno08@yahoo.com\",\"jeno57@hotmail.com\",\"hannanagy@szekely.hu\",\"juliannabogdan@gmail.com\",\"agnes30@takacs.hu\",\"rozalia55@yahoo.com\",\"iren49@yahoo.com\",\"baloghjizsef@pal.com\",\"wdeak@kiss.com.hu\",\"fazekasbela@hotmail.com\",\"laszlitith@szabi.net\",\"alexandrajuhasz@molnar.biz\",\"kornelkelemen@balint.info\",\"bnemeth@hotmail.com\",\"sandornagy@gmail.com\",\"katalinorosz@illes.biz\",\"katonamilan@kerekes.org\",\"richard06@hotmail.com\",\"bernadettorban@kelemen.org\",\"yszabi@kis.com\",\"wkovacs@yahoo.com\",\"nagyandrea@hotmail.com\",\"shorvath@hotmail.com\",\"gyorgy27@hajdu.biz\",\"fkovacs@gmail.com\",\"eszabi@yahoo.com\",\"istvanolah@szabi.net\",\"meszarosnikolett@olah.info\",\"gyulajuhasz@pinter.com.hu\",\"mgal@gmail.com\",\"jizsefbogdan@hotmail.com\",\"vargaeva@gmail.com\",\"kelemengabor@hotmail.com\",\"ztith@horvath.com\",\"rmagyar@szabi.org\",\"vbalazs@kozma.biz\",\"xnagy@torok.info\",\"anikinagy@molnar.info\",\"melindaantal@yahoo.com\",\"marianemeth@budai.biz\",\"nagyaniki@kovacs.com.hu\",\"istvanmolnar@kovacs.org\",\"halaszmilan@gmail.com\",\"hnemes@molnar.org\",\"baloghkaroly@lukacs.biz\",\"vargagyongyi@hotmail.com\",\"reka08@tith.com\",\"xhorvath@takacs.com\",\"racztunde@gmail.com\",\"magyareva@hotmail.com\",\"viragbognar@hotmail.com\",\"belaorsis@bakos.info\",\"kristif08@yahoo.com\",\"laszli84@horvath.info\",\"lajos05@feher.biz\",\"nbalogh@gmail.com\",\"erzsebet43@kozma.net\",\"vkovacs@kiss.hu\",\"lukacslaszli@gmail.com\",\"adriennkovacs@yahoo.com\",\"mszilagyi@molnar.com.hu\",\"wkelemen@gmail.com\",\"kissbianka@gmail.com\",\"nemethzoltan@gmail.com\",\"sarkozipatrik@nagy.info\",\"gtith@gmail.com\",\"ilona61@yahoo.com\",\"zsoltbalog@nagy.com.hu\",\"oorban@hotmail.com\",\"ribert12@gmail.com\",\"imrehorvath@kovacs.info\",\"terezkovacs@yahoo.com\",\"horvathildiki@szalai.com\",\"ekovacs@hotmail.com\",\"snagy@kovacs.hu\",\"hajnalkalukacs@horvath.info\",\"clengyel@jakab.info\",\"vargalevente@gmail.com\",\"htith@yahoo.com\",\"wfaragi@lakatos.biz\",\"peterhorvath@nagy.info\",\"zsoltkozma@nagy.org\",\"utith@laszli.hu\",\"jizsefszabi@gmail.com\",\"zoltannagy@balog.com.hu\",\"tithaniki@hotmail.com\",\"katalin72@farkas.net\",\"vmolnar@hotmail.com\",\"lauragaspar@molnar.net\",\"lajos16@gmail.com\",\"nszilagyi@pap.com\",\"hegedusjudit@olah.hu\",\"ferenc47@gmail.com\",\"dianasimon@hotmail.com\",\"xhorvath@hotmail.com\",\"istvan68@racz.net\",\"karolytith@yahoo.com\",\"jinaspeter@kiss.biz\",\"adrian11@nemes.biz\",\"erzsebetsipos@juhasz.hu\",\"janosbalogh@gmail.com\",\"maria52@yahoo.com\",\"szucscsaba@gmail.com\",\"istvan88@gmail.com\",\"jnagy@gmail.com\",\"katalinjuhasz@szabi.org\",\"alexandra80@yahoo.com\",\"miklis80@meszaros.biz\",\"borbelymark@tith.com\",\"mjuhasz@hotmail.com\",\"hajnalkatith@hotmail.com\",\"sveres@hotmail.com\",\"emil19@gmail.com\",\"feherkristif@fazekas.info\",\"laszlitith@yahoo.com\",\"torokrita@dudas.net\",\"fannimolnar@gmail.com\",\"mark58@hotmail.com\",\"novakarpad@yahoo.com\",\"laszli48@gaspar.info\",\"kovacstibor@tith.hu\",\"lkatona@balazs.info\",\"gergo23@szabi.info\",\"tundekovacs@szekely.com.hu\"],\"lat\":[47.52551486608682,47.524492660992046,47.53894858595282,47.52581093607993,47.563559973581214,47.54776638717156,47.56424196533442,47.56035551323488,47.53878590539583,47.54237735563365,47.55129783811577,47.56153576295607,47.56523245695361,47.55838317511076,47.52834209097124,47.553857186431145,47.54188098821332,47.56194253616675,47.51832852002261,47.540339380222434,47.556253806240896,47.54783154397408,47.55991856782708,47.54470592810858,47.5511887031857,47.532405099444624,47.52297817413976,47.55162117245935,47.5261127347023,47.52265518882648,47.551372503403776,47.53819851945167,47.54056908844062,47.54380988478746,47.5235609373598,47.51510963281098,47.54582075083198,47.52875409295988,47.561518928834566,47.531133683205816,47.5580279204821,47.53899726006225,47.53560891502137,47.56484493361417,47.55177669408723,47.53301391317501,47.53336321250016,47.51941796484075,47.55095874889396,47.54568799642209,47.52084036118984,47.55523114203578,47.53572621874578,47.51608598986129,47.55378217650272,47.53249879654467,47.53811118238077,47.53553331819354,47.51562320977699,47.545604909725576,47.55825714170537,47.527067707114526,47.56442922253802,47.54055389685511,47.562846040462674,47.56615429015863,47.56321872807256,47.547342209246246,47.55776905884373,47.53699849363528,47.5334800632158,47.56609072405667,47.54580813286392,47.53607330100299,47.51592255360974,47.51622264593208,47.53489929397721,47.53899173233603,47.54953666839099,47.54572733894906,47.565059968968754,47.52788642955054,47.56292365560462,47.5509577386338,47.53104102004527,47.54439114649841,47.553655607740254,47.55707199365994,47.53786227373989,47.54992882523631,47.53828341783437,47.53890347360571,47.530887778653614,47.52676493870679,47.55823639382243,47.5227747543639,47.54598163842648,47.522716773520486,47.52477350714205,47.55699841447058,47.55780682806697,47.53544492089901,47.55245177046906,47.531737604667256,47.51687803172055,47.520268608000286,47.56026174285091,47.55787524828262,47.53335086316668,47.5388024270582,47.52017390550071,47.55728870773273,47.52988123090416,47.53960350764994,47.564508428373735,47.53673993618183,47.54586583364773,47.55903571607515,47.52789109863942,47.55782185362369,47.52414490616822,47.53366884204238,47.56118809910857,47.544045347252,47.52781922244191,47.5192642911213,47.52307807875837,47.55030780049158,47.53691547409522,47.5568322384193,47.55672284458701,47.52276386224696,47.55265623808504,47.53487227446784,47.5645742253115,47.54707542743207,47.52470621450747,47.52711243598498,47.55240009211444,47.56107599857372,47.54588796948483,47.56223576418733,47.52382543821289,47.557710111828136,47.55542574896287,47.51873168356525,47.55127956918818,47.550493146628135,47.55039104303749,47.53884194566752,47.54070847170005,47.51593849134565,47.52371388776497,47.54278379503022,47.53889174721829,47.5304696983236,47.52609553847636,47.51938663307096,47.56077217723935,47.54205259060038,47.55761877448078,47.54180976384701,47.52015861665668,47.54952561934009,47.52218285369173,47.52325538720144,47.54807783159262,47.54831262403971,47.54091086788206,47.55955416640501,47.53428670438838,47.53713885302105,47.54161876717444,47.52803989729416,47.54604892808427,47.556359102330056,47.54973940750735,47.55513881405253,47.547217975427735,47.55005338809579,47.56158447207543,47.52481978078761,47.54809597548367,47.5326399187703,47.52536791907068,47.52060113633313,47.53233567566792,47.54858730900421,47.5342810246013,47.54579160594213,47.530628678138925,47.53427366892154,47.55939818962961,47.55491235471535,47.53348734746127,47.554070364437095,47.544887783660975,47.5500681170927,47.52668982758062,47.55827645813567,47.553377580772064,47.56525488425248,47.53132873789458,47.53578477592929,47.515718210579145,47.5269031510651,47.55405635137799,47.55255951974,47.556836272555685,47.53798481303826,47.54211743936284,47.51902227186021,47.52058902341149,47.54802746168719,47.54553485554113,47.55576369593181,47.5424418703979,47.51770800616649,47.56242312173789,47.5389879443876,47.51952136205927,47.5555843153909,47.557716535902735,47.5386221854277,47.53503621488716,47.5498886773544,47.54325864262056,47.56487251269535,47.54545611271639,47.56464805088631,47.55637579798645,47.54820796698389,47.533408624106926,47.52153398366648,47.56093692100365,47.543801555214856,47.55186728454131,47.51657714137423,47.562788579508656,47.52714120839611,47.56614160769215,47.53601144212305,47.52361429351387,47.5252558104435,47.52261365119095,47.54869207963092,47.56612879841956,47.55825767864484,47.55076838862307,47.55124775266393,47.53738793717855,47.53044089119295,47.5614637644111,47.56305723011042,47.56041391177616,47.5323853587931,47.52143509961752,47.5279108108636,47.56395457013134,47.53296607088859,47.53050141505444,47.51612506541456,47.52541352339543,47.54209473235585,47.53942390426647,47.51701191281054,47.51880649696837,47.54961054855878,47.555518901399374,47.56295444015123,47.558613887450335,47.56400394168013,47.56427887151736,47.5564744912394,47.56591361927324,47.54086209568699,47.51805430648518,47.557533196947546,47.54469133807157,47.53862112156702,47.536363672110696,47.5236960506241,47.54137644951765,47.519994915572674,47.55398054871255,47.54567377494138,47.54473217943397,47.52577733951735,47.546621977086,47.55658752647564,47.52141371302013,47.5160442823605,47.52056117851968,47.563048741470254,47.536341513708855,47.51922687538968,47.524063708481485,47.521019428147504,47.53199977595736,47.531528676524665,47.52650876623754,47.53835328230039,47.54924684229513,47.53285776335988,47.55326807830346,47.54957090200615,47.54720860454264,47.55627487576568,47.53928769476037,47.55265015138511,47.54619056358592,47.5581619436302,47.54546535248132,47.56103962081389,47.53945612922042,47.55423582300178,47.51714191561016,47.5449890681864,47.52236962319021,47.55338074902078,47.53699808466449,47.53139342854895,47.528263329971374,47.51981522871235,47.51863384208681,47.51685698416713,47.53714392327823,47.548938893596485,47.55392464800247,47.54320827641484,47.54012647378608,47.51685419903525,47.51982850173536,47.51802278365581,47.52060432052802,47.54816622581028,47.55156230022918,47.5332620985894,47.51928858956535,47.55043135682192,47.518650735519294,47.56032088195419,47.55542826446031,47.516474223801325,47.52718340084482,47.557807915926674,47.54012295830648,47.52832593046743,47.54251255025161,47.563836323429925,47.5651828896575,47.53308260166111,47.52082786512798,47.543275187479225,47.532987219607065,47.54915963269947,47.51822617177663,47.55990163785026,47.56442751851788,47.54363133490623,47.554539981687256,47.55170334305944,47.54936346423551,47.5303561607316,47.55842433222882,47.539543218831575,47.54314579912268,47.51580873185762,47.536193735824895,47.56409463171236,47.5289493538762,47.55045499106777,47.51534544749244,47.54786724472759,47.52281554674804,47.51945859348604,47.53330642647527,47.55365737458657,47.5297999667178,47.52695568272322,47.535570792073344,47.53433325157316,47.53490309038223,47.56030497170761,47.542674053958166,47.55656334830408,47.55361789694799,47.5477591032611,47.550054890562805,47.56016753076281,47.52858729428248,47.53914780555615,47.54667401121273,47.51702466524164,47.53784474447771,47.54577823774847,47.52638592474853,47.53160031896283,47.55972570227437,47.566121371519806,47.56102734831779,47.55249468475146,47.53489416524141,47.53644707094151,47.554571526557176,47.56560112319376,47.552718836695625,47.562524985463405,47.55529066487488,47.55622907937794,47.555515271445564,47.56192710580349,47.55504530341049,47.55882658725647,47.5355036752493,47.55991133181468,47.52253973909683,47.52861084534791,47.518089085682185,47.518568254220405,47.549004565533934,47.52388262261692,47.56351556457362,47.55352467687479,47.5240611609874,47.55369479318273,47.56023017803715,47.521407871967845,47.53766328038279,47.54267529044952,47.550824988394375,47.54659048997392,47.54132666005358,47.53421407058756,47.56336509222058,47.5348923474074,47.54658293682994,47.53993722139307,47.52297537980914,47.51977988510923,47.54632862507132,47.54050401685095,47.53414944753021,47.56208300000861,47.51500817013013,47.56340386753122,47.53664229708557,47.54893558374991,47.51920302052304,47.561811629587865,47.52778027181125,47.544548603063774,47.55420820415433,47.53256159934321,47.5516007152447,47.54135451661095,47.55878488950703,47.53181012597253,47.56377281693376,47.53390495177099,47.5159433830413,47.53774493217854,47.52933030848206,47.520274528232505,47.53126480707904,47.54086831274105,47.55416798860093,47.519431306548185,47.526835231403474,47.55982662647185,47.55273011401598,47.55311724447492,47.52425962195867,47.53368713290887,47.54895741771312,47.5310731043792,47.52396466656842,47.537835432977,47.56262924214825,47.52655242724961,47.54873045890197,47.53996190470795,47.527790686044845,47.5321023327035,47.52739642034749,47.55548246050582,47.51609041443827,47.5324770485297,47.52473633649228,47.51719263118707,47.56568118634529,47.531072771545126,47.531381060857896,47.54035149419925,47.51651477462243,47.53328292502448,47.5180931321576,47.52526984299239,47.52692163623281,47.539848554137045],\"legendgroup\":\"\",\"lon\":[19.03282313093011,19.016471051675733,19.023606287577163,19.035229882006515,19.032613443753444,19.02642819281134,19.02765186659417,19.02573377390246,19.02624299541669,19.038063251419626,19.03031476979797,19.031297779607915,19.02070756363672,19.019523995781277,19.02659551784193,19.03539405837941,19.034519495657616,19.02586173204893,19.020689780602908,19.03270189693161,19.02344253969566,19.02792120797795,19.02957573268629,19.020659805013626,19.037110641725818,19.034117858073067,19.03366387281252,19.0235683887903,19.0255145619799,19.030926952115006,19.03588707290603,19.030206154775065,19.02339830108683,19.033991567508867,19.036213840211964,19.02854862388783,19.03045422867306,19.02943362915363,19.024609809660664,19.034994269754208,19.0180870626573,19.02958153092735,19.035562563188066,19.03759035480583,19.028973492473323,19.017036512624937,19.03186482126468,19.01979149732272,19.02756644002536,19.02872894171847,19.03803676867878,19.035893855442872,19.023821244605617,19.0376159764925,19.03691894009644,19.03348478240265,19.03037118305419,19.024320951073797,19.023056403531697,19.03098565969912,19.027552109822214,19.019714126343544,19.035621175532288,19.034089046966013,19.01852361548562,19.025885356218044,19.025595174026424,19.021471942457268,19.0214358310958,19.031011780326363,19.02158273847996,19.02714401213254,19.02894503300393,19.03619672491958,19.027658921376325,19.017795807773265,19.034679757307423,19.02275681665189,19.019715180554066,19.01987070978864,19.02609819398903,19.02646418993726,19.02455791200528,19.0365447286705,19.01716641888022,19.02527113422083,19.020936918787736,19.019354019068565,19.035006828424304,19.03239895426541,19.03763977279784,19.024037591025817,19.01842618505433,19.026486442361133,19.02246751168658,19.029863219457667,19.018448191345254,19.03420646947606,19.036484835324156,19.01975616397305,19.031280372288773,19.0188618631863,19.01818334978333,19.023764845428097,19.033842121011837,19.037172839563183,19.030851123184288,19.025212778685557,19.037904579854352,19.032406795424723,19.025876447562556,19.019879505146594,19.02476636496402,19.020344334717503,19.03519388378332,19.03059175078723,19.03169503540183,19.03643245423792,19.019917578832192,19.021943949063743,19.01946111657512,19.01717878969053,19.033448825190508,19.031000627401117,19.026328805774085,19.025132891025343,19.036165414322124,19.03389003105843,19.027215824638304,19.029658499524583,19.02643473215493,19.033738548648525,19.032275897088983,19.02782673462266,19.01910980255456,19.02689411936567,19.037554453231905,19.02811127468468,19.025887290247216,19.038056670979596,19.016456799443965,19.02406251995748,19.024920317831963,19.02430926139761,19.02083503151592,19.02920800808409,19.035929351684462,19.03004656528949,19.03236197203461,19.020135095215583,19.02724251821518,19.024739236771527,19.028677253835543,19.020976183128344,19.031042744423424,19.03260978577208,19.034452946470424,19.028643868269885,19.025602680767896,19.029579188863185,19.020485330911843,19.03334040812268,19.02861685096835,19.033612143404238,19.017513608350427,19.03315141311063,19.033360469510534,19.03460933680529,19.025596771954937,19.026897323734087,19.01809196187788,19.02540290729277,19.027752858901135,19.026546357625467,19.027291874241,19.03044735867844,19.0184783530532,19.028175712504765,19.021879407940983,19.032951873284222,19.02162978861561,19.03257731034386,19.027994880581275,19.025056062342625,19.01770494383664,19.022375712195068,19.017674416921235,19.017789605985637,19.033324066077054,19.026136356083036,19.025830298532245,19.02323288783036,19.01894335578635,19.038038995375704,19.01637698860065,19.037777661162327,19.017740104468096,19.028804549993072,19.037628513148785,19.035649271504383,19.02360402910123,19.03132610015256,19.02093656705522,19.032129917562752,19.033948590657463,19.019098803234588,19.018275332822824,19.03606849997016,19.0277235262667,19.01986698026825,19.027895246650704,19.02491654905149,19.03780006178425,19.027060652791068,19.02289014804291,19.030945337299837,19.02649733079218,19.025821561602022,19.021711252413635,19.02796458162168,19.024985756613823,19.021898532214568,19.030363896203877,19.02425134564416,19.036206152715007,19.03099617950687,19.031632394177755,19.02414123090408,19.03524145355588,19.028747019159105,19.022666080426266,19.033043466602667,19.02577787602387,19.02959211523699,19.02849761640545,19.02287059392088,19.03009584186084,19.026857621710512,19.0311101460461,19.017680107855703,19.03054549363547,19.035463879325068,19.020602741965497,19.029825077199604,19.03013763123871,19.026852873966003,19.030250385196904,19.02147132804227,19.018852579089653,19.03122815272028,19.023757853821845,19.0353329915782,19.021925621086915,19.018449920090312,19.0313412744023,19.021778589388795,19.02026508589129,19.020642586730453,19.03222489789446,19.03320102996603,19.016837690691,19.037477518048405,19.02400812086405,19.024087134912023,19.016468587848596,19.02545084096799,19.028363716396512,19.02602482694175,19.03644270065174,19.02894680534252,19.01799442745537,19.023139882595757,19.029469645555096,19.03347477657802,19.038104137239245,19.030238262322182,19.01998930870901,19.03406568438216,19.020137177890025,19.02257755659333,19.02523359599343,19.03448129740932,19.0308062929954,19.02159776307265,19.021670533509408,19.0290631746874,19.030844987859783,19.02846122107326,19.016647553747923,19.029693308531645,19.027719041406275,19.037177174352244,19.024681543535998,19.02998346603112,19.03001636042528,19.02415667848328,19.02325198341818,19.02180985946092,19.03294470669349,19.03774738457172,19.03290578107256,19.022720373349163,19.021621515278508,19.027080552038463,19.02765418128882,19.0296109588426,19.016964032438874,19.035682200676405,19.028010517743358,19.017935065963773,19.025412433582584,19.01825163942545,19.029049577671657,19.028739680925963,19.01980435782321,19.02011399701759,19.020663872103235,19.02512776789094,19.034509222392973,19.02126406470277,19.020776878908137,19.02484760022702,19.018755336685565,19.029349566114583,19.02301946012755,19.02687965259853,19.03674647860954,19.01689796075357,19.017198671921577,19.01921347891813,19.01883745202483,19.02913767059704,19.02655299362968,19.02492686594365,19.02047838078303,19.027464081393173,19.036757451050036,19.03366614099749,19.01686909261006,19.02319403877534,19.026691439507843,19.027418234944008,19.030287664077832,19.021485176384743,19.02894906146044,19.02790409846375,19.030774559340745,19.03380960925763,19.028191481175664,19.024299408887305,19.022747643128717,19.022827191938287,19.022647675394843,19.036956973645253,19.03577040542817,19.03810709029321,19.03189027098756,19.023219443407967,19.036883153973918,19.034537171919087,19.0353119777008,19.03186745443665,19.03811133440844,19.032521083408238,19.037662739798936,19.03667740419241,19.018341746601003,19.021398982851164,19.01638265753751,19.03596459703393,19.02678611485016,19.018151674732422,19.017136068480475,19.03105004171816,19.036039497285564,19.021055828941407,19.03573729068521,19.02446334362,19.03700201661825,19.02940115511077,19.02431812760412,19.033768991966767,19.024136564789263,19.027185851862225,19.027541056140265,19.024483302044988,19.017199131620416,19.021476579278733,19.01910100600527,19.0256379074561,19.017253409676663,19.02316434338397,19.020582646269062,19.037231716733164,19.029764916452702,19.037672192449453,19.016378388986205,19.019561763041903,19.02732000796272,19.02132484345052,19.023718402041,19.02099560879445,19.018091529269466,19.03393630729977,19.017428811995,19.03123986892785,19.026234798402587,19.02186090052412,19.0310699876081,19.02563858618078,19.02786054818404,19.02366852740336,19.02341448616938,19.03685123405736,19.030371567163662,19.017548399457176,19.01855062705724,19.02455114472222,19.023951481401426,19.034896016832374,19.03054016594259,19.02964589781949,19.034963982342685,19.0377518734785,19.035438357202622,19.03704416762417,19.020423632860485,19.0243906750366,19.02957999602801,19.036522401562166,19.03754108261199,19.031010730156865,19.02540301089352,19.023313947501865,19.01684393373833,19.0304898795302,19.021336545423264,19.020444145172085,19.03475128406141,19.021120540989696,19.02074106672521,19.023694705263274,19.037692028927832,19.02700618527293,19.035304133767237,19.03282922109122,19.02006587513997,19.03031664440721,19.02027727759532,19.03028705335196,19.030811683197303,19.021325110508077,19.03586966442508,19.03284552181773,19.017016291555056,19.018148804291624,19.027132929934226,19.034014536654293,19.032910394243487,19.025602496101712,19.022573462938343,19.017602744567014,19.038092830734303,19.02703957282152,19.02898651182898,19.029073972560937,19.02913229747813,19.02988916781149,19.018054316690385,19.02262179552524,19.035149772824216,19.02216588462379,19.021130109409384,19.02352523906653,19.033435901300454,19.03443513081815,19.026615754694287,19.030847035690385,19.0193398054434,19.02406783983339,19.023529867092297,19.037887914400823,19.03723895243025,19.03513109523769,19.03773123897812,19.022183646397306,19.021793950354212,19.022446842921667,19.032666461384668,19.019401130409463,19.034538087370144,19.028814509393523,19.01937029250821,19.02868568719475,19.02789835452733,19.024053027968748,19.02705390670864,19.02965396321005,19.028443793906177,19.03439483375436],\"marker\":{\"color\":\"red\"},\"mode\":\"markers\",\"name\":\"\",\"showlegend\":false,\"subplot\":\"mapbox\",\"type\":\"scattermapbox\"}],                        {\"template\":{\"data\":{\"histogram2dcontour\":[{\"type\":\"histogram2dcontour\",\"colorbar\":{\"outlinewidth\":0,\"ticks\":\"\"},\"colorscale\":[[0.0,\"#0d0887\"],[0.1111111111111111,\"#46039f\"],[0.2222222222222222,\"#7201a8\"],[0.3333333333333333,\"#9c179e\"],[0.4444444444444444,\"#bd3786\"],[0.5555555555555556,\"#d8576b\"],[0.6666666666666666,\"#ed7953\"],[0.7777777777777778,\"#fb9f3a\"],[0.8888888888888888,\"#fdca26\"],[1.0,\"#f0f921\"]]}],\"choropleth\":[{\"type\":\"choropleth\",\"colorbar\":{\"outlinewidth\":0,\"ticks\":\"\"}}],\"histogram2d\":[{\"type\":\"histogram2d\",\"colorbar\":{\"outlinewidth\":0,\"ticks\":\"\"},\"colorscale\":[[0.0,\"#0d0887\"],[0.1111111111111111,\"#46039f\"],[0.2222222222222222,\"#7201a8\"],[0.3333333333333333,\"#9c179e\"],[0.4444444444444444,\"#bd3786\"],[0.5555555555555556,\"#d8576b\"],[0.6666666666666666,\"#ed7953\"],[0.7777777777777778,\"#fb9f3a\"],[0.8888888888888888,\"#fdca26\"],[1.0,\"#f0f921\"]]}],\"heatmap\":[{\"type\":\"heatmap\",\"colorbar\":{\"outlinewidth\":0,\"ticks\":\"\"},\"colorscale\":[[0.0,\"#0d0887\"],[0.1111111111111111,\"#46039f\"],[0.2222222222222222,\"#7201a8\"],[0.3333333333333333,\"#9c179e\"],[0.4444444444444444,\"#bd3786\"],[0.5555555555555556,\"#d8576b\"],[0.6666666666666666,\"#ed7953\"],[0.7777777777777778,\"#fb9f3a\"],[0.8888888888888888,\"#fdca26\"],[1.0,\"#f0f921\"]]}],\"heatmapgl\":[{\"type\":\"heatmapgl\",\"colorbar\":{\"outlinewidth\":0,\"ticks\":\"\"},\"colorscale\":[[0.0,\"#0d0887\"],[0.1111111111111111,\"#46039f\"],[0.2222222222222222,\"#7201a8\"],[0.3333333333333333,\"#9c179e\"],[0.4444444444444444,\"#bd3786\"],[0.5555555555555556,\"#d8576b\"],[0.6666666666666666,\"#ed7953\"],[0.7777777777777778,\"#fb9f3a\"],[0.8888888888888888,\"#fdca26\"],[1.0,\"#f0f921\"]]}],\"contourcarpet\":[{\"type\":\"contourcarpet\",\"colorbar\":{\"outlinewidth\":0,\"ticks\":\"\"}}],\"contour\":[{\"type\":\"contour\",\"colorbar\":{\"outlinewidth\":0,\"ticks\":\"\"},\"colorscale\":[[0.0,\"#0d0887\"],[0.1111111111111111,\"#46039f\"],[0.2222222222222222,\"#7201a8\"],[0.3333333333333333,\"#9c179e\"],[0.4444444444444444,\"#bd3786\"],[0.5555555555555556,\"#d8576b\"],[0.6666666666666666,\"#ed7953\"],[0.7777777777777778,\"#fb9f3a\"],[0.8888888888888888,\"#fdca26\"],[1.0,\"#f0f921\"]]}],\"surface\":[{\"type\":\"surface\",\"colorbar\":{\"outlinewidth\":0,\"ticks\":\"\"},\"colorscale\":[[0.0,\"#0d0887\"],[0.1111111111111111,\"#46039f\"],[0.2222222222222222,\"#7201a8\"],[0.3333333333333333,\"#9c179e\"],[0.4444444444444444,\"#bd3786\"],[0.5555555555555556,\"#d8576b\"],[0.6666666666666666,\"#ed7953\"],[0.7777777777777778,\"#fb9f3a\"],[0.8888888888888888,\"#fdca26\"],[1.0,\"#f0f921\"]]}],\"mesh3d\":[{\"type\":\"mesh3d\",\"colorbar\":{\"outlinewidth\":0,\"ticks\":\"\"}}],\"scatter\":[{\"fillpattern\":{\"fillmode\":\"overlay\",\"size\":10,\"solidity\":0.2},\"type\":\"scatter\"}],\"parcoords\":[{\"type\":\"parcoords\",\"line\":{\"colorbar\":{\"outlinewidth\":0,\"ticks\":\"\"}}}],\"scatterpolargl\":[{\"type\":\"scatterpolargl\",\"marker\":{\"colorbar\":{\"outlinewidth\":0,\"ticks\":\"\"}}}],\"bar\":[{\"error_x\":{\"color\":\"#2a3f5f\"},\"error_y\":{\"color\":\"#2a3f5f\"},\"marker\":{\"line\":{\"color\":\"#E5ECF6\",\"width\":0.5},\"pattern\":{\"fillmode\":\"overlay\",\"size\":10,\"solidity\":0.2}},\"type\":\"bar\"}],\"scattergeo\":[{\"type\":\"scattergeo\",\"marker\":{\"colorbar\":{\"outlinewidth\":0,\"ticks\":\"\"}}}],\"scatterpolar\":[{\"type\":\"scatterpolar\",\"marker\":{\"colorbar\":{\"outlinewidth\":0,\"ticks\":\"\"}}}],\"histogram\":[{\"marker\":{\"pattern\":{\"fillmode\":\"overlay\",\"size\":10,\"solidity\":0.2}},\"type\":\"histogram\"}],\"scattergl\":[{\"type\":\"scattergl\",\"marker\":{\"colorbar\":{\"outlinewidth\":0,\"ticks\":\"\"}}}],\"scatter3d\":[{\"type\":\"scatter3d\",\"line\":{\"colorbar\":{\"outlinewidth\":0,\"ticks\":\"\"}},\"marker\":{\"colorbar\":{\"outlinewidth\":0,\"ticks\":\"\"}}}],\"scattermapbox\":[{\"type\":\"scattermapbox\",\"marker\":{\"colorbar\":{\"outlinewidth\":0,\"ticks\":\"\"}}}],\"scatterternary\":[{\"type\":\"scatterternary\",\"marker\":{\"colorbar\":{\"outlinewidth\":0,\"ticks\":\"\"}}}],\"scattercarpet\":[{\"type\":\"scattercarpet\",\"marker\":{\"colorbar\":{\"outlinewidth\":0,\"ticks\":\"\"}}}],\"carpet\":[{\"aaxis\":{\"endlinecolor\":\"#2a3f5f\",\"gridcolor\":\"white\",\"linecolor\":\"white\",\"minorgridcolor\":\"white\",\"startlinecolor\":\"#2a3f5f\"},\"baxis\":{\"endlinecolor\":\"#2a3f5f\",\"gridcolor\":\"white\",\"linecolor\":\"white\",\"minorgridcolor\":\"white\",\"startlinecolor\":\"#2a3f5f\"},\"type\":\"carpet\"}],\"table\":[{\"cells\":{\"fill\":{\"color\":\"#EBF0F8\"},\"line\":{\"color\":\"white\"}},\"header\":{\"fill\":{\"color\":\"#C8D4E3\"},\"line\":{\"color\":\"white\"}},\"type\":\"table\"}],\"barpolar\":[{\"marker\":{\"line\":{\"color\":\"#E5ECF6\",\"width\":0.5},\"pattern\":{\"fillmode\":\"overlay\",\"size\":10,\"solidity\":0.2}},\"type\":\"barpolar\"}],\"pie\":[{\"automargin\":true,\"type\":\"pie\"}]},\"layout\":{\"autotypenumbers\":\"strict\",\"colorway\":[\"#636efa\",\"#EF553B\",\"#00cc96\",\"#ab63fa\",\"#FFA15A\",\"#19d3f3\",\"#FF6692\",\"#B6E880\",\"#FF97FF\",\"#FECB52\"],\"font\":{\"color\":\"#2a3f5f\"},\"hovermode\":\"closest\",\"hoverlabel\":{\"align\":\"left\"},\"paper_bgcolor\":\"white\",\"plot_bgcolor\":\"#E5ECF6\",\"polar\":{\"bgcolor\":\"#E5ECF6\",\"angularaxis\":{\"gridcolor\":\"white\",\"linecolor\":\"white\",\"ticks\":\"\"},\"radialaxis\":{\"gridcolor\":\"white\",\"linecolor\":\"white\",\"ticks\":\"\"}},\"ternary\":{\"bgcolor\":\"#E5ECF6\",\"aaxis\":{\"gridcolor\":\"white\",\"linecolor\":\"white\",\"ticks\":\"\"},\"baxis\":{\"gridcolor\":\"white\",\"linecolor\":\"white\",\"ticks\":\"\"},\"caxis\":{\"gridcolor\":\"white\",\"linecolor\":\"white\",\"ticks\":\"\"}},\"coloraxis\":{\"colorbar\":{\"outlinewidth\":0,\"ticks\":\"\"}},\"colorscale\":{\"sequential\":[[0.0,\"#0d0887\"],[0.1111111111111111,\"#46039f\"],[0.2222222222222222,\"#7201a8\"],[0.3333333333333333,\"#9c179e\"],[0.4444444444444444,\"#bd3786\"],[0.5555555555555556,\"#d8576b\"],[0.6666666666666666,\"#ed7953\"],[0.7777777777777778,\"#fb9f3a\"],[0.8888888888888888,\"#fdca26\"],[1.0,\"#f0f921\"]],\"sequentialminus\":[[0.0,\"#0d0887\"],[0.1111111111111111,\"#46039f\"],[0.2222222222222222,\"#7201a8\"],[0.3333333333333333,\"#9c179e\"],[0.4444444444444444,\"#bd3786\"],[0.5555555555555556,\"#d8576b\"],[0.6666666666666666,\"#ed7953\"],[0.7777777777777778,\"#fb9f3a\"],[0.8888888888888888,\"#fdca26\"],[1.0,\"#f0f921\"]],\"diverging\":[[0,\"#8e0152\"],[0.1,\"#c51b7d\"],[0.2,\"#de77ae\"],[0.3,\"#f1b6da\"],[0.4,\"#fde0ef\"],[0.5,\"#f7f7f7\"],[0.6,\"#e6f5d0\"],[0.7,\"#b8e186\"],[0.8,\"#7fbc41\"],[0.9,\"#4d9221\"],[1,\"#276419\"]]},\"xaxis\":{\"gridcolor\":\"white\",\"linecolor\":\"white\",\"ticks\":\"\",\"title\":{\"standoff\":15},\"zerolinecolor\":\"white\",\"automargin\":true,\"zerolinewidth\":2},\"yaxis\":{\"gridcolor\":\"white\",\"linecolor\":\"white\",\"ticks\":\"\",\"title\":{\"standoff\":15},\"zerolinecolor\":\"white\",\"automargin\":true,\"zerolinewidth\":2},\"scene\":{\"xaxis\":{\"backgroundcolor\":\"#E5ECF6\",\"gridcolor\":\"white\",\"linecolor\":\"white\",\"showbackground\":true,\"ticks\":\"\",\"zerolinecolor\":\"white\",\"gridwidth\":2},\"yaxis\":{\"backgroundcolor\":\"#E5ECF6\",\"gridcolor\":\"white\",\"linecolor\":\"white\",\"showbackground\":true,\"ticks\":\"\",\"zerolinecolor\":\"white\",\"gridwidth\":2},\"zaxis\":{\"backgroundcolor\":\"#E5ECF6\",\"gridcolor\":\"white\",\"linecolor\":\"white\",\"showbackground\":true,\"ticks\":\"\",\"zerolinecolor\":\"white\",\"gridwidth\":2}},\"shapedefaults\":{\"line\":{\"color\":\"#2a3f5f\"}},\"annotationdefaults\":{\"arrowcolor\":\"#2a3f5f\",\"arrowhead\":0,\"arrowwidth\":1},\"geo\":{\"bgcolor\":\"white\",\"landcolor\":\"#E5ECF6\",\"subunitcolor\":\"white\",\"showland\":true,\"showlakes\":true,\"lakecolor\":\"white\"},\"title\":{\"x\":0.05},\"mapbox\":{\"style\":\"light\"}}},\"mapbox\":{\"domain\":{\"x\":[0.0,1.0],\"y\":[0.0,1.0]},\"center\":{\"lat\":47.541166449875966,\"lon\":19.027321045949844},\"zoom\":12,\"style\":\"open-street-map\"},\"legend\":{\"tracegroupgap\":0},\"margin\":{\"t\":60},\"height\":600,\"title\":{\"text\":\"Geographical Places\"}},                        {\"responsive\": true}                    ).then(function(){\n",
       "                            \n",
       "var gd = document.getElementById('7ddaef66-6e3b-47ac-9b8e-803131bf9fbe');\n",
       "var x = new MutationObserver(function (mutations, observer) {{\n",
       "        var display = window.getComputedStyle(gd).display;\n",
       "        if (!display || display === 'none') {{\n",
       "            console.log([gd, 'removed!']);\n",
       "            Plotly.purge(gd);\n",
       "            observer.disconnect();\n",
       "        }}\n",
       "}});\n",
       "\n",
       "// Listen for the removal of the full notebook cells\n",
       "var notebookContainer = gd.closest('#notebook-container');\n",
       "if (notebookContainer) {{\n",
       "    x.observe(notebookContainer, {childList: true});\n",
       "}}\n",
       "\n",
       "// Listen for the clearing of the current output cell\n",
       "var outputEl = gd.closest('.output');\n",
       "if (outputEl) {{\n",
       "    x.observe(outputEl, {childList: true});\n",
       "}}\n",
       "\n",
       "                        })                };                });            </script>        </div>"
      ]
     },
     "metadata": {},
     "output_type": "display_data"
    }
   ],
   "source": [
    "import plotly.express as px\n",
    "\n",
    "# Create a scatter mapbox plot\n",
    "fig = px.scatter_mapbox(\n",
    "    gdf,\n",
    "    lat='latitude',\n",
    "    lon='longitude',\n",
    "    hover_name='contact',\n",
    "    hover_data={'area': True, 'rent': True, 'competitors': True, 'exposure': True, 'population': True},\n",
    "    color_discrete_sequence=['red'],\n",
    "    zoom=12,\n",
    "    height=600\n",
    ")\n",
    "\n",
    "# Update layout for the map\n",
    "fig.update_layout(\n",
    "    mapbox_style='open-street-map',\n",
    "    title='Geographical Places'\n",
    ")\n",
    "\n",
    "# Show the plot\n",
    "fig.show()"
   ]
  },
  {
   "cell_type": "code",
   "execution_count": 38,
   "metadata": {},
   "outputs": [],
   "source": [
    "import math\n",
    "\n",
    "current_customers = 120\n",
    "average_spending_loyal = 12000\n",
    "average_spending_new = 6000\n",
    "distance_penalty_per_30m = 1  # lose one loyal customer for every 30 meters distance\n",
    "loyal_customer_area = 15  # for 10 loyal customers\n",
    "main_area = 400  # additional area needed for brewing equipment\n",
    "lat = 47.541766\n",
    "lon = 19.038464\n",
    "\n",
    "def haversine(lat1, lon1, lat2, lon2):\n",
    "    lat1, lon1, lat2, lon2 = map(math.radians, [lat1, lon1, lat2, lon2])\n",
    "    dlon = lon2 - lon1\n",
    "    dlat = lat2 - lat1\n",
    "    a = math.sin(dlat / 2)**2 + math.cos(lat1) * math.cos(lat2) * math.sin(dlon / 2)**2\n",
    "    c = 2 * math.atan2(math.sqrt(a), math.sqrt(1 - a))\n",
    "    R = 6371000 \n",
    "    distance = R * c\n",
    "    return math.ceil(distance)\n",
    "\n",
    "# Function to calculate the profit from a location\n",
    "def calculate_profit(row):\n",
    "    # Calculate the maximum number of tables that can fit in the area\n",
    "    max_tables = (row['area'] - main_area) // loyal_customer_area\n",
    "    max_loyal_customers = min(max_tables * 10, current_customers)\n",
    "\n",
    "    \n",
    "    # Calculate the distance impact\n",
    "    distance = haversine(lat, lon, row['latitude'], row['longitude'])\n",
    "    lost_customers = distance // 30 * distance_penalty_per_30m\n",
    "    effective_loyal_customers = max(0, max_loyal_customers - lost_customers)\n",
    "    total_space_left = row['area'] - main_area - (effective_loyal_customers // 10 * loyal_customer_area)\n",
    "    \n",
    "    # Calculate new customers based on population and competitors\n",
    "    new_customers = 0\n",
    "    if row['competitors'] > 0:\n",
    "        # Calculate market share for new customers\n",
    "        potential_clients = row['population'] * row['exposure']\n",
    "        potential_clients_per_competitor = potential_clients / row['competitors']\n",
    "        potential_housable_clients = total_space_left // loyal_customer_area * 10\n",
    "\n",
    "        # Calculate the number of new customers\n",
    "        new_customers = min(potential_housable_clients, potential_clients_per_competitor)\n",
    "        \n",
    "\n",
    "    # Total profit\n",
    "    profit = (effective_loyal_customers * average_spending_loyal) + (new_customers * average_spending_new)\n",
    "    return profit\n",
    "\n",
    "# Apply the profit calculation to each location\n",
    "#df['profit'] = df.apply(calculate_profit, axis=1)\n",
    "\n",
    "# Find the location with the highest profit\n",
    "#best_location = df.loc[df['profit'].idxmax()]\n",
    "\n",
    "#best_location_info = best_location[['contact', 'profit']]\n",
    "#best_location_info\n",
    "\n",
    "\n"
   ]
  },
  {
   "cell_type": "code",
   "execution_count": 22,
   "metadata": {},
   "outputs": [
    {
     "data": {
      "text/plain": [
       "2280000.0"
      ]
     },
     "execution_count": 22,
     "metadata": {},
     "output_type": "execute_result"
    }
   ],
   "source": [
    "profit_takacsjozsef = df[df['contact'] == 'takacsjozsef@gmail.com']['profit'].values[0]\n",
    "\n",
    "profit_takacsjozsef"
   ]
  },
  {
   "cell_type": "code",
   "execution_count": 23,
   "metadata": {},
   "outputs": [
    {
     "data": {
      "text/plain": [
       "contact        tithagnes@szabi.biz\n",
       "latitude                 47.533351\n",
       "longitude                19.037905\n",
       "area                           836\n",
       "rent                        338000\n",
       "competitors                      1\n",
       "exposure                  0.354012\n",
       "population                     797\n",
       "profit                   2328000.0\n",
       "Name: 108, dtype: object"
      ]
     },
     "execution_count": 23,
     "metadata": {},
     "output_type": "execute_result"
    }
   ],
   "source": [
    "second_best_location = df.nlargest(2, 'profit').iloc[1]\n",
    "second_best_location"
   ]
  },
  {
   "cell_type": "code",
   "execution_count": 39,
   "metadata": {},
   "outputs": [],
   "source": [
    "import geopandas as gpd\n",
    "import osmnx as ox\n",
    "from shapely.geometry import Point\n",
    "\n",
    "\n",
    "df['geometry'] = df.apply(lambda row: Point(row['longitude'], row['latitude']), axis=1)\n",
    "gdf = gpd.GeoDataFrame(df, geometry='geometry', crs='EPSG:4326')"
   ]
  },
  {
   "cell_type": "code",
   "execution_count": 40,
   "metadata": {},
   "outputs": [
    {
     "name": "stderr",
     "output_type": "stream",
     "text": [
      "/home/ranuon/miniconda3/envs/apollo/lib/python3.11/site-packages/osmnx/graph.py:191: FutureWarning:\n",
      "\n",
      "The expected order of coordinates in `bbox` will change in the v2.0.0 release to `(left, bottom, right, top)`.\n",
      "\n"
     ]
    }
   ],
   "source": [
    "current_location_point = (47.541766, 19.038464)\n",
    "G = ox.graph_from_point(current_location_point, dist=3000, network_type='walk')"
   ]
  },
  {
   "cell_type": "code",
   "execution_count": 41,
   "metadata": {},
   "outputs": [],
   "source": [
    "import networkx as nx\n",
    "\n",
    "gdf['nearest_node'] = gdf['geometry'].apply(lambda geom: ox.distance.nearest_nodes(G, geom.x, geom.y))\n",
    "current_node = ox.distance.nearest_nodes(G, current_location_point[1], current_location_point[0])\n",
    "gdf['walking_distance'] = gdf['nearest_node'].apply(lambda node: nx.shortest_path_length(G, current_node, node, weight='length'))\n",
    "gdf_sorted = gdf.sort_values(by='walking_distance')"
   ]
  },
  {
   "cell_type": "code",
   "execution_count": 29,
   "metadata": {},
   "outputs": [
    {
     "data": {
      "text/html": [
       "<div>\n",
       "<style scoped>\n",
       "    .dataframe tbody tr th:only-of-type {\n",
       "        vertical-align: middle;\n",
       "    }\n",
       "\n",
       "    .dataframe tbody tr th {\n",
       "        vertical-align: top;\n",
       "    }\n",
       "\n",
       "    .dataframe thead th {\n",
       "        text-align: right;\n",
       "    }\n",
       "</style>\n",
       "<table border=\"1\" class=\"dataframe\">\n",
       "  <thead>\n",
       "    <tr style=\"text-align: right;\">\n",
       "      <th></th>\n",
       "      <th>contact</th>\n",
       "      <th>latitude</th>\n",
       "      <th>longitude</th>\n",
       "      <th>area</th>\n",
       "      <th>rent</th>\n",
       "      <th>competitors</th>\n",
       "      <th>exposure</th>\n",
       "      <th>population</th>\n",
       "      <th>profit</th>\n",
       "      <th>geometry</th>\n",
       "      <th>nearest_node</th>\n",
       "      <th>walking_distance</th>\n",
       "    </tr>\n",
       "  </thead>\n",
       "  <tbody>\n",
       "    <tr>\n",
       "      <th>9</th>\n",
       "      <td>gyorgyhorvath@hotmail.com</td>\n",
       "      <td>47.542377</td>\n",
       "      <td>19.038063</td>\n",
       "      <td>633</td>\n",
       "      <td>230000</td>\n",
       "      <td>1</td>\n",
       "      <td>0.416824</td>\n",
       "      <td>581</td>\n",
       "      <td>1.656000e+06</td>\n",
       "      <td>POINT (19.03806 47.54238)</td>\n",
       "      <td>493258358</td>\n",
       "      <td>128.315</td>\n",
       "    </tr>\n",
       "    <tr>\n",
       "      <th>353</th>\n",
       "      <td>katalinpal@gmail.com</td>\n",
       "      <td>47.543275</td>\n",
       "      <td>19.036957</td>\n",
       "      <td>385</td>\n",
       "      <td>275000</td>\n",
       "      <td>6</td>\n",
       "      <td>0.596412</td>\n",
       "      <td>955</td>\n",
       "      <td>-6.000000e+04</td>\n",
       "      <td>POINT (19.03696 47.54328)</td>\n",
       "      <td>2580740355</td>\n",
       "      <td>215.948</td>\n",
       "    </tr>\n",
       "    <tr>\n",
       "      <th>429</th>\n",
       "      <td>laszli84@horvath.info</td>\n",
       "      <td>47.542675</td>\n",
       "      <td>19.036522</td>\n",
       "      <td>361</td>\n",
       "      <td>399000</td>\n",
       "      <td>5</td>\n",
       "      <td>0.475941</td>\n",
       "      <td>859</td>\n",
       "      <td>-1.800000e+05</td>\n",
       "      <td>POINT (19.03652 47.54268)</td>\n",
       "      <td>11391671681</td>\n",
       "      <td>282.158</td>\n",
       "    </tr>\n",
       "    <tr>\n",
       "      <th>481</th>\n",
       "      <td>katalinjuhasz@szabi.org</td>\n",
       "      <td>47.539962</td>\n",
       "      <td>19.037888</td>\n",
       "      <td>759</td>\n",
       "      <td>186000</td>\n",
       "      <td>1</td>\n",
       "      <td>0.585742</td>\n",
       "      <td>730</td>\n",
       "      <td>2.088000e+06</td>\n",
       "      <td>POINT (19.03789 47.53996)</td>\n",
       "      <td>493258338</td>\n",
       "      <td>311.174</td>\n",
       "    </tr>\n",
       "    <tr>\n",
       "      <th>359</th>\n",
       "      <td>laszli26@gmail.com</td>\n",
       "      <td>47.543631</td>\n",
       "      <td>19.034537</td>\n",
       "      <td>763</td>\n",
       "      <td>399000</td>\n",
       "      <td>5</td>\n",
       "      <td>0.575758</td>\n",
       "      <td>168</td>\n",
       "      <td>1.412073e+06</td>\n",
       "      <td>POINT (19.03454 47.54363)</td>\n",
       "      <td>8911723795</td>\n",
       "      <td>395.450</td>\n",
       "    </tr>\n",
       "    <tr>\n",
       "      <th>228</th>\n",
       "      <td>marton10@gulyas.info</td>\n",
       "      <td>47.545456</td>\n",
       "      <td>19.035241</td>\n",
       "      <td>658</td>\n",
       "      <td>278000</td>\n",
       "      <td>2</td>\n",
       "      <td>0.531053</td>\n",
       "      <td>387</td>\n",
       "      <td>1.680000e+06</td>\n",
       "      <td>POINT (19.03524 47.54546)</td>\n",
       "      <td>2380498868</td>\n",
       "      <td>464.419</td>\n",
       "    </tr>\n",
       "    <tr>\n",
       "      <th>365</th>\n",
       "      <td>emmasarkozi@gmail.com</td>\n",
       "      <td>47.539543</td>\n",
       "      <td>19.036677</td>\n",
       "      <td>372</td>\n",
       "      <td>389000</td>\n",
       "      <td>0</td>\n",
       "      <td>0.381741</td>\n",
       "      <td>963</td>\n",
       "      <td>0.000000e+00</td>\n",
       "      <td>POINT (19.03668 47.53954)</td>\n",
       "      <td>495024028</td>\n",
       "      <td>468.332</td>\n",
       "    </tr>\n",
       "    <tr>\n",
       "      <th>90</th>\n",
       "      <td>laszli78@balogh.org</td>\n",
       "      <td>47.538283</td>\n",
       "      <td>19.037640</td>\n",
       "      <td>832</td>\n",
       "      <td>352000</td>\n",
       "      <td>1</td>\n",
       "      <td>0.647574</td>\n",
       "      <td>611</td>\n",
       "      <td>2.364000e+06</td>\n",
       "      <td>POINT (19.03764 47.53828)</td>\n",
       "      <td>4835460600</td>\n",
       "      <td>477.326</td>\n",
       "    </tr>\n",
       "    <tr>\n",
       "      <th>63</th>\n",
       "      <td>zoltanfulop@varga.com</td>\n",
       "      <td>47.540554</td>\n",
       "      <td>19.034089</td>\n",
       "      <td>748</td>\n",
       "      <td>231000</td>\n",
       "      <td>3</td>\n",
       "      <td>0.585201</td>\n",
       "      <td>441</td>\n",
       "      <td>1.824147e+06</td>\n",
       "      <td>POINT (19.03409 47.54055)</td>\n",
       "      <td>284226498</td>\n",
       "      <td>502.652</td>\n",
       "    </tr>\n",
       "    <tr>\n",
       "      <th>395</th>\n",
       "      <td>yszabi@kis.com</td>\n",
       "      <td>47.545778</td>\n",
       "      <td>19.037672</td>\n",
       "      <td>435</td>\n",
       "      <td>195000</td>\n",
       "      <td>6</td>\n",
       "      <td>0.649404</td>\n",
       "      <td>166</td>\n",
       "      <td>1.678010e+05</td>\n",
       "      <td>POINT (19.03767 47.54578)</td>\n",
       "      <td>5031711085</td>\n",
       "      <td>503.935</td>\n",
       "    </tr>\n",
       "    <tr>\n",
       "      <th>16</th>\n",
       "      <td>horvathbela@lakatos.com</td>\n",
       "      <td>47.541881</td>\n",
       "      <td>19.034519</td>\n",
       "      <td>608</td>\n",
       "      <td>191000</td>\n",
       "      <td>1</td>\n",
       "      <td>0.555517</td>\n",
       "      <td>1094</td>\n",
       "      <td>1.452000e+06</td>\n",
       "      <td>POINT (19.03452 47.54188)</td>\n",
       "      <td>284226402</td>\n",
       "      <td>517.250</td>\n",
       "    </tr>\n",
       "    <tr>\n",
       "      <th>33</th>\n",
       "      <td>ferencracz@kis.org</td>\n",
       "      <td>47.543810</td>\n",
       "      <td>19.033992</td>\n",
       "      <td>617</td>\n",
       "      <td>161000</td>\n",
       "      <td>3</td>\n",
       "      <td>0.639858</td>\n",
       "      <td>751</td>\n",
       "      <td>1.524000e+06</td>\n",
       "      <td>POINT (19.03399 47.54381)</td>\n",
       "      <td>5355152588</td>\n",
       "      <td>530.528</td>\n",
       "    </tr>\n",
       "    <tr>\n",
       "      <th>161</th>\n",
       "      <td>tithistvan@yahoo.com</td>\n",
       "      <td>47.541810</td>\n",
       "      <td>19.033340</td>\n",
       "      <td>681</td>\n",
       "      <td>278000</td>\n",
       "      <td>4</td>\n",
       "      <td>0.466911</td>\n",
       "      <td>867</td>\n",
       "      <td>1.776000e+06</td>\n",
       "      <td>POINT (19.03334 47.54181)</td>\n",
       "      <td>6185606392</td>\n",
       "      <td>594.423</td>\n",
       "    </tr>\n",
       "    <tr>\n",
       "      <th>19</th>\n",
       "      <td>szucsagnes@hotmail.com</td>\n",
       "      <td>47.540339</td>\n",
       "      <td>19.032702</td>\n",
       "      <td>757</td>\n",
       "      <td>396000</td>\n",
       "      <td>2</td>\n",
       "      <td>0.554780</td>\n",
       "      <td>705</td>\n",
       "      <td>2.040000e+06</td>\n",
       "      <td>POINT (19.03270 47.54034)</td>\n",
       "      <td>284226442</td>\n",
       "      <td>636.419</td>\n",
       "    </tr>\n",
       "    <tr>\n",
       "      <th>226</th>\n",
       "      <td>riza18@gmail.com</td>\n",
       "      <td>47.543259</td>\n",
       "      <td>19.031632</td>\n",
       "      <td>824</td>\n",
       "      <td>283000</td>\n",
       "      <td>4</td>\n",
       "      <td>0.578474</td>\n",
       "      <td>365</td>\n",
       "      <td>1.552715e+06</td>\n",
       "      <td>POINT (19.03163 47.54326)</td>\n",
       "      <td>10166069053</td>\n",
       "      <td>699.534</td>\n",
       "    </tr>\n",
       "  </tbody>\n",
       "</table>\n",
       "</div>"
      ],
      "text/plain": [
       "                       contact   latitude  longitude  area    rent  \\\n",
       "9    gyorgyhorvath@hotmail.com  47.542377  19.038063   633  230000   \n",
       "353       katalinpal@gmail.com  47.543275  19.036957   385  275000   \n",
       "429      laszli84@horvath.info  47.542675  19.036522   361  399000   \n",
       "481    katalinjuhasz@szabi.org  47.539962  19.037888   759  186000   \n",
       "359         laszli26@gmail.com  47.543631  19.034537   763  399000   \n",
       "228       marton10@gulyas.info  47.545456  19.035241   658  278000   \n",
       "365      emmasarkozi@gmail.com  47.539543  19.036677   372  389000   \n",
       "90         laszli78@balogh.org  47.538283  19.037640   832  352000   \n",
       "63       zoltanfulop@varga.com  47.540554  19.034089   748  231000   \n",
       "395             yszabi@kis.com  47.545778  19.037672   435  195000   \n",
       "16     horvathbela@lakatos.com  47.541881  19.034519   608  191000   \n",
       "33          ferencracz@kis.org  47.543810  19.033992   617  161000   \n",
       "161       tithistvan@yahoo.com  47.541810  19.033340   681  278000   \n",
       "19      szucsagnes@hotmail.com  47.540339  19.032702   757  396000   \n",
       "226           riza18@gmail.com  47.543259  19.031632   824  283000   \n",
       "\n",
       "     competitors  exposure  population        profit  \\\n",
       "9              1  0.416824         581  1.656000e+06   \n",
       "353            6  0.596412         955 -6.000000e+04   \n",
       "429            5  0.475941         859 -1.800000e+05   \n",
       "481            1  0.585742         730  2.088000e+06   \n",
       "359            5  0.575758         168  1.412073e+06   \n",
       "228            2  0.531053         387  1.680000e+06   \n",
       "365            0  0.381741         963  0.000000e+00   \n",
       "90             1  0.647574         611  2.364000e+06   \n",
       "63             3  0.585201         441  1.824147e+06   \n",
       "395            6  0.649404         166  1.678010e+05   \n",
       "16             1  0.555517        1094  1.452000e+06   \n",
       "33             3  0.639858         751  1.524000e+06   \n",
       "161            4  0.466911         867  1.776000e+06   \n",
       "19             2  0.554780         705  2.040000e+06   \n",
       "226            4  0.578474         365  1.552715e+06   \n",
       "\n",
       "                      geometry  nearest_node  walking_distance  \n",
       "9    POINT (19.03806 47.54238)     493258358           128.315  \n",
       "353  POINT (19.03696 47.54328)    2580740355           215.948  \n",
       "429  POINT (19.03652 47.54268)   11391671681           282.158  \n",
       "481  POINT (19.03789 47.53996)     493258338           311.174  \n",
       "359  POINT (19.03454 47.54363)    8911723795           395.450  \n",
       "228  POINT (19.03524 47.54546)    2380498868           464.419  \n",
       "365  POINT (19.03668 47.53954)     495024028           468.332  \n",
       "90   POINT (19.03764 47.53828)    4835460600           477.326  \n",
       "63   POINT (19.03409 47.54055)     284226498           502.652  \n",
       "395  POINT (19.03767 47.54578)    5031711085           503.935  \n",
       "16   POINT (19.03452 47.54188)     284226402           517.250  \n",
       "33   POINT (19.03399 47.54381)    5355152588           530.528  \n",
       "161  POINT (19.03334 47.54181)    6185606392           594.423  \n",
       "19   POINT (19.03270 47.54034)     284226442           636.419  \n",
       "226  POINT (19.03163 47.54326)   10166069053           699.534  "
      ]
     },
     "execution_count": 29,
     "metadata": {},
     "output_type": "execute_result"
    }
   ],
   "source": [
    "gdf_sorted.head(15)"
   ]
  },
  {
   "cell_type": "code",
   "execution_count": 42,
   "metadata": {},
   "outputs": [
    {
     "data": {
      "text/plain": [
       "contact    laszli78@balogh.org\n",
       "profit               2364000.0\n",
       "Name: 90, dtype: object"
      ]
     },
     "execution_count": 42,
     "metadata": {},
     "output_type": "execute_result"
    }
   ],
   "source": [
    "gdf_sorted['profit'] = gdf_sorted.apply(calculate_profit, axis=1)\n",
    "\n",
    "# Find the location with the highest profit\n",
    "best_location = gdf_sorted.loc[gdf_sorted['profit'].idxmax()]\n",
    "\n",
    "best_location_info = best_location[['contact', 'profit']]\n",
    "best_location_info\n"
   ]
  }
 ],
 "metadata": {
  "kernelspec": {
   "display_name": "apollo",
   "language": "python",
   "name": "apollo"
  },
  "language_info": {
   "codemirror_mode": {
    "name": "ipython",
    "version": 3
   },
   "file_extension": ".py",
   "mimetype": "text/x-python",
   "name": "python",
   "nbconvert_exporter": "python",
   "pygments_lexer": "ipython3",
   "version": "3.11.9"
  }
 },
 "nbformat": 4,
 "nbformat_minor": 2
}
