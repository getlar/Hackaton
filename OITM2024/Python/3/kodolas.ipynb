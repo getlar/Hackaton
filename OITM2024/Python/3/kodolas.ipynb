{
 "cells": [
  {
   "cell_type": "code",
   "execution_count": 3,
   "metadata": {},
   "outputs": [
    {
     "name": "stdout",
     "output_type": "stream",
     "text": [
      "Counter({'a': 3, 'g': 2, 'y': 2, 's': 1, 'z': 1, 'i': 1, 'h': 1, 'o': 1, 'n': 1, 'v': 1})\n"
     ]
    }
   ],
   "source": [
    "from collections import Counter\n",
    "import string\n",
    "\n",
    "def karakter_statistikak(szoveg):\n",
    "    szoveg = szoveg.lower()\n",
    "    szoveg = ''.join([char for char in szoveg if char in string.ascii_lowercase + 'áéíóöőúüű'])\n",
    "    karakter_elofo = Counter(szoveg)\n",
    "    \n",
    "    return karakter_elofo\n",
    "\n",
    "szoveg = \"szia, hogyan vagy?\"\n",
    "statistikak = karakter_statistikak(szoveg)\n",
    "print(statistikak)\n"
   ]
  },
  {
   "cell_type": "code",
   "execution_count": 4,
   "metadata": {},
   "outputs": [],
   "source": [
    "top_karakterek = {\n",
    "    'a': 0.09912818856958346,\n",
    "    'e': 0.08887633193412979,\n",
    "    'o': 0.06837261866322247,\n",
    "    'n': 0.06498224087826929,\n",
    "    'r': 0.06005812076202777,\n",
    "    'l': 0.05666774297707458,\n",
    "    't': 0.055941233451727475,\n",
    "    's': 0.04972554084597998,\n",
    "    'i': 0.0487568614788505,\n",
    "    'd': 0.046900226025185655,\n",
    "    'u': 0.04229899903132063,\n",
    "    'm': 0.03923151436874395,\n",
    "    'c': 0.03890862124636745,\n",
    "    'v': 0.03237003551824346,\n",
    "    'b': 0.030109783661608006,\n",
    "    'p': 0.027930255085566676,\n",
    "    'f': 0.021310946076848563,\n",
    "    'g': 0.016548272521795283,\n",
    "    'k': 0.01598320955763642,\n",
    "    'h': 0.013400064578624474,\n",
    "    'y': 0.01283500161446561,\n",
    "    'j': 0.01017113335485954,\n",
    "    'z': 0.010009686793671294,\n",
    "    'á': 0.00944462382951243,\n",
    "    'ó': 0.007507265095253471,\n",
    "    'ö': 0.006619309008718113,\n",
    "    'ő': 0.006538585728123991,\n",
    "    'ú': 0.0061349693251533735,\n",
    "    'ü': 0.005812076202776881,\n",
    "    'í': 0.00508556667742977,\n",
    "    'ű': 0.0023409751372295766\n",
    "}"
   ]
  },
  {
   "cell_type": "code",
   "execution_count": null,
   "metadata": {},
   "outputs": [
    {
     "name": "stdout",
     "output_type": "stream",
     "text": [
      "Eredeti szöveg: szia, hogyan vagy?\n",
      "Módosított szöveg: NziA, hoEOAn vAEO?\n"
     ]
    }
   ],
   "source": [
    "szoveg = \"szia, hogyan vagy?\"\n",
    "statistikak = karakter_statistikak(szoveg)\n",
    "\n",
    "top_4_statistikak_szo = dict(statistikak.most_common(4))\n",
    "\n",
    "stinges = \"\"\n",
    "for char in szoveg:\n",
    "    if char in top_4_statistikak_szo:\n",
    "        top_4_char = list(top_karakterek.keys())[list(top_4_statistikak_szo.keys()).index(char)]\n",
    "        stinges += top_4_char.upper()\n",
    "    else:\n",
    "        stinges += char\n",
    "\n",
    "print(f\"Eredeti szöveg: {szoveg}\")\n",
    "print(f\"Módosított szöveg: {stinges}\")"
   ]
  },
  {
   "cell_type": "code",
   "execution_count": 86,
   "metadata": {},
   "outputs": [
    {
     "name": "stdout",
     "output_type": "stream",
     "text": [
      "[211, 214, 67, 72, 90, 67, 83, 83, 77, 75, 44, 32, 75, 201, 211, 211, 67, 78, 85, 74, 86, 89, 65, 72, 65, 44, 32, 214, 65, 71, 86, 72, 211, 65, 214, 89, 79, 44, 32, 211, 85, 74, 72, 80, 65, 72, 80, 73, 201, 71, 86, 89, 65, 72, 65, 44, 32, 84, 213, 82, 73, 86, 85, 219, 220, 86, 65, 66, 90, 213, 69, 74, 44, 32, 68, 193, 205, 201, 85, 219, 220, 89, 220, 211, 78, 69, 70, 84, 69, 219, 80, 82, 76, 70, 87, 69, 44, 32, 201, 89, 83, 205, 90, 73, 205, 201, 87, 83, 201, 82, 83, 81, 205, 76, 70, 218, 75, 213, 44, 32, 76, 76, 67, 76, 76, 201, 65, 88, 70, 70, 214, 219, 72, 75, 220, 87, 220, 70, 88, 214, 89, 77, 44, 32, 205, 66, 75, 86, 73, 69, 211, 83, 218, 83, 86, 220, 220, 90, 77, 82, 78, 219, 75, 69, 213]\n"
     ]
    },
    {
     "ename": "TypeError",
     "evalue": "sequence item 0: expected str instance, int found",
     "output_type": "error",
     "traceback": [
      "\u001b[0;31m---------------------------------------------------------------------------\u001b[0m",
      "\u001b[0;31mTypeError\u001b[0m                                 Traceback (most recent call last)",
      "Cell \u001b[0;32mIn[86], line 7\u001b[0m\n\u001b[1;32m      4\u001b[0m \u001b[38;5;28;01mwith\u001b[39;00m \u001b[38;5;28mopen\u001b[39m(\u001b[38;5;124m'\u001b[39m\u001b[38;5;124mvigenere.key\u001b[39m\u001b[38;5;124m'\u001b[39m, \u001b[38;5;124m'\u001b[39m\u001b[38;5;124mrb\u001b[39m\u001b[38;5;124m'\u001b[39m) \u001b[38;5;28;01mas\u001b[39;00m file:\n\u001b[1;32m      5\u001b[0m     key \u001b[38;5;241m=\u001b[39m file\u001b[38;5;241m.\u001b[39mread()\n\u001b[0;32m----> 7\u001b[0m plaintext \u001b[38;5;241m=\u001b[39m \u001b[43mvig_code_decrypt\u001b[49m\u001b[43m(\u001b[49m\u001b[43mcyphertext\u001b[49m\u001b[43m)\u001b[49m\n\u001b[1;32m      9\u001b[0m \u001b[38;5;28mprint\u001b[39m(plaintext)\n",
      "Cell \u001b[0;32mIn[85], line 22\u001b[0m, in \u001b[0;36mvig_code_decrypt\u001b[0;34m(ciphertext, key)\u001b[0m\n\u001b[1;32m     20\u001b[0m         decrypted_text\u001b[38;5;241m.\u001b[39mappend(char)\n\u001b[1;32m     21\u001b[0m \u001b[38;5;28mprint\u001b[39m(decrypted_text)\n\u001b[0;32m---> 22\u001b[0m \u001b[38;5;28;01mreturn\u001b[39;00m \u001b[38;5;124m'\u001b[39m\u001b[38;5;124m'\u001b[39m\u001b[38;5;241m.\u001b[39mjoin(decrypted_text)\n",
      "\u001b[0;31mTypeError\u001b[0m: sequence item 0: expected str instance, int found"
     ]
    }
   ],
   "source": [
    "with open('vigenere.encrypted', 'rb') as file:\n",
    "    cyphertext = file.read()\n",
    "    \n",
    "with open('vigenere.key', 'rb') as file:\n",
    "    key = file.read()\n",
    "    \n",
    "plaintext = vig_code_decrypt(cyphertext)\n",
    "\n",
    "print(plaintext)"
   ]
  },
  {
   "cell_type": "code",
   "execution_count": 80,
   "metadata": {},
   "outputs": [],
   "source": [
    "def caesar_decrypt(ciphertext, shift, alphabet):\n",
    "    decrypted_text = []\n",
    "\n",
    "    for char in ciphertext:\n",
    "        char = chr(char)\n",
    "        if char in alphabet:\n",
    "            new_index = (alphabet.index(char) - shift) % len(alphabet)\n",
    "            decrypted_text.append(alphabet[new_index])\n",
    "        else:\n",
    "            decrypted_text.append(char)\n",
    "    \n",
    "    return ''.join(decrypted_text)\n",
    "\n",
    "def try_all_shifts(ciphertext, alphabet):\n",
    "    for shift in range(len(alphabet)):\n",
    "        print(f\"Shift {shift}: {caesar_decrypt(ciphertext, shift, alphabet)}\")\n",
    "\n",
    "#alphabet = ['a', 'á', 'b', 'c', 'cs', 'd','dz','dzs', 'e', 'é', 'f', 'g','gy', 'h', 'i', 'í', 'j', 'k', 'l','ly', 'm', 'n', 'ny', 'o', 'ó', 'ö', 'ő', 'p', 'r', 's','sz', 't', 'ty','u', 'ú', 'ü', 'ű', 'v','z','zs']\n",
    "#alphabet = ['a', 'á', 'b', 'c', 'cs', 'd','dz','dzs', 'e', 'é', 'f', 'g','gy', 'h', 'i', 'í', 'j', 'k', 'l','ly', 'm', 'n', 'ny', 'o', 'ó', 'ö', 'ő', 'p', 'q','r', 's','sz', 't', 'ty','u', 'ú', 'ü', 'ű', 'v','w','x','y','z','zs']\n",
    "alphabet = ['a', 'á', 'b', 'c', 'd', 'e', 'é', 'f', 'g', 'h', 'i', 'í', 'j', 'k', 'l', 'm', 'n', 'o', 'ó', 'ö', 'ő', 'p', 'q','r', 's', 't', 'u', 'ú', 'ü', 'ű', 'v','w','x','y','z']\n",
    "\n",
    "#ciphertext = \"ővgy wkhq!\"\n",
    "\n",
    "#ry_all_shifts(ciphertext, alphabet)\n"
   ]
  },
  {
   "cell_type": "code",
   "execution_count": null,
   "metadata": {},
   "outputs": [],
   "source": []
  },
  {
   "cell_type": "code",
   "execution_count": 81,
   "metadata": {},
   "outputs": [
    {
     "name": "stdout",
     "output_type": "stream",
     "text": [
      "Shift 14: L következő rovatoûban adoû közzõ a jeligõt. L rovatot először tördelje be egy nõgyzet alakú rácsba, ügyelve rá, hogy ûinden karakter, beleõrtve a szóközt õs az írásjeleket, külön ûezőbe kerüljön. Özek után alkosson egy hálót, ûely ûinden ûezőt letakar, kivõve, a következő rovathoz segítsõgül adott Higenõre rejtvõny ûegoldását. Lzon karaktereket, ûelyeket a háló neû fed le, jegyezze le. L kapott karaktereket fűzze egybe. Özzel a jeligõvel vároû jelentkezõsõt!\n"
     ]
    }
   ],
   "source": [
    "with open('elso_rovat.pyt', 'rb') as file:\n",
    "    cyphertext = file.read()\n",
    "\n",
    "#try_all_shifts(cyphertext, alphabet)\n",
    "print(f\"Shift 14: {caesar_decrypt(cyphertext, 14, alphabet)}\")"
   ]
  },
  {
   "cell_type": "code",
   "execution_count": 27,
   "metadata": {},
   "outputs": [
    {
     "name": "stdout",
     "output_type": "stream",
     "text": [
      "Titkosított üzenet: tüasitiztrtáteiákskntcoáoekssnstotía\n",
      "Visszafejtett üzenet: titkosüzenetatitkosrácstitkosításána\n"
     ]
    }
   ],
   "source": [
    "import string\n",
    "\n",
    "def create_grid(plaintext, rows, cols):\n",
    "    \"\"\"\n",
    "    Rács készítése az üzenetből, a rács méretét a sorok és oszlopok száma határozza meg.\n",
    "    \"\"\"\n",
    "    # Tisztítjuk az üzenetet, eltávolítjuk az írásjeleket és szóközöket\n",
    "    alphabet = string.ascii_lowercase\n",
    "    plaintext = ''.join([char.lower() for char in plaintext if char.isalpha()])\n",
    "    \n",
    "    # A rács méretéhez illesztjük az üzenetet, ha szükséges, kitöltjük X-szel\n",
    "    while len(plaintext) < rows * cols:\n",
    "        plaintext += 'x'  # Kitöltő karakterek\n",
    "\n",
    "    # A rács létrehozása\n",
    "    grid = [plaintext[i:i+cols] for i in range(0, len(plaintext), cols)]\n",
    "    return grid\n",
    "\n",
    "def encrypt_with_grid(plaintext, rows, cols):\n",
    "    \"\"\"\n",
    "    Titkosítás a rácsos módszerrel, az oszlopokban olvasva az üzenetet.\n",
    "    \"\"\"\n",
    "    grid = create_grid(plaintext, rows, cols)\n",
    "    ciphertext = ''.join([''.join([grid[i][j] for i in range(rows)]) for j in range(cols)])\n",
    "    return ciphertext\n",
    "\n",
    "def decrypt_with_grid(ciphertext, rows, cols):\n",
    "    \"\"\"\n",
    "    Visszafejtés a rácsos módszerrel, az oszlopokból kiolvasva az üzenetet.\n",
    "    \"\"\"\n",
    "    grid = ['' for _ in range(cols)]\n",
    "    index = 0\n",
    "    for j in range(cols):\n",
    "        for i in range(rows):\n",
    "            grid[j] += ciphertext[index]\n",
    "            index += 1\n",
    "\n",
    "    decrypted_text = ''.join([''.join([grid[j][i] for j in range(cols)]) for i in range(rows)])\n",
    "    return decrypted_text.strip('x')  # eltávolítjuk a kitöltő karaktereket\n",
    "\n",
    "# Tesztelés\n",
    "plaintext = \"titkos üzenet a titkos rács titkosításának\"\n",
    "rows, cols = 6, 6  # Rács méret\n",
    "\n",
    "ciphertext = encrypt_with_grid(plaintext, rows, cols)\n",
    "print(\"Titkosított üzenet:\", ciphertext)\n",
    "\n",
    "decrypted_text = decrypt_with_grid(ciphertext, rows, cols)\n",
    "print(\"Visszafejtett üzenet:\", decrypted_text)\n"
   ]
  },
  {
   "cell_type": "code",
   "execution_count": 42,
   "metadata": {},
   "outputs": [
    {
     "name": "stdout",
     "output_type": "stream",
     "text": [
      "286\n"
     ]
    }
   ],
   "source": [
    "class T:\n",
    "    answer = 42\n",
    "    def __init__(self):\n",
    "        self.answer = 150\n",
    "        self.__add__ = lambda x, y: x.answer + y\n",
    "        self.__sum__ = lambda a, b: a.answer - b\n",
    "        self.__plus__ = lambda a, b: a.answer - b\n",
    "        \n",
    "    def __plus__(self, z:int) -> int:\n",
    "        return self.answer - z\n",
    "    \n",
    "    def __sum__(self, w) -> int:\n",
    "        return self.answer - w\n",
    "    \n",
    "    def __add__(self, y) -> int:\n",
    "        return self.answer * round(5/2) - y - int(max(-0.0, 0.0) // 1)\n",
    "    \n",
    "print(T() + 14)"
   ]
  }
 ],
 "metadata": {
  "kernelspec": {
   "display_name": "apollo",
   "language": "python",
   "name": "apollo"
  },
  "language_info": {
   "codemirror_mode": {
    "name": "ipython",
    "version": 3
   },
   "file_extension": ".py",
   "mimetype": "text/x-python",
   "name": "python",
   "nbconvert_exporter": "python",
   "pygments_lexer": "ipython3",
   "version": "3.11.9"
  }
 },
 "nbformat": 4,
 "nbformat_minor": 2
}
