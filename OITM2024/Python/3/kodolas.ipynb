{
 "cells": [
  {
   "cell_type": "code",
   "execution_count": 1,
   "metadata": {},
   "outputs": [
    {
     "name": "stdout",
     "output_type": "stream",
     "text": [
      "\n",
      "A következő rovatomban adom közzé a jeligét. \n",
      "A rovatot először tördelje be egy négyzet alakú rácsba, \n",
      "ügyelve rá, hogy minden karakter, beleértve a szóközt és az írásjeleket, \n",
      "külön mezőbe kerüljön. Ezek után alkosson egy hálót, mely \n",
      "minden mezőt letakar, kivéve, a következő rovathoz segítségül adott Vigenére-rejtvény megoldását. \n",
      "Azon karaktereket, melyeket a háló nem fed le, jegyezze le. \n",
      "A kapott karaktereket fűzze egybe. Ezzel a jeligével várom jelentkezését!\n",
      "\n"
     ]
    }
   ],
   "source": [
    "low_hun = \"aábcdeéfghiíjklmnoóöőpqrstuúüűvwxyz\"\n",
    "alphabet = low_hun + low_hun.upper()\n",
    "len_ = len(low_hun)\n",
    "\n",
    "def translation_table(shifter: int) -> dict:\n",
    "    d = ({alphabet[i+c]: alphabet[(i + shifter) % len_ + c] for i in range(len_) for c in (0, len_)})\n",
    "    return d\n",
    "\n",
    "s2 = \"\"\"\n",
    "L úyhödúökz bwhldwűnlv lówű úykkő l uöüsqőd. \n",
    "L bwhldwd öüzckyb dybóöüuö nö öqj vőqjköd lülúé bmocnl, \n",
    "fqjöühö bm, rwqj űsvóöv úlblúdöb, nöüöőbdhö l ckxúykd őc lk tbmcuöüöúöd, \n",
    "úfüyv űökznö úöbfüuyv. Ököú edmv lüúwccwv öqj rmüxd, űöüj \n",
    "űsvóöv űökzd üödlúlb, úshőhö, l úyhödúökz bwhldrwk cöqtdcőqfü lówdd Hsqövőbö-böudhővj űöqwüómcmd. \n",
    "Lkwv úlblúdöböúöd, űöüjöúöd l rmüx vöű pöó üö, uöqjökkö üö. \n",
    "L úlawdd úlblúdöböúöd pgkkö öqjnö. Ökköü l uöüsqőhöü hmbwű uöüövdúökőcőd!\n",
    "\"\"\"\n",
    "\n",
    "cezar = translation_table(len_ - 14)  # kódolás 14, dekódolás 35 -14 = 21\n",
    "result_string = \"\".join(map(lambda x: cezar.get(x, x), s2))\n",
    "print(result_string)"
   ]
  },
  {
   "cell_type": "code",
   "execution_count": 27,
   "metadata": {},
   "outputs": [
    {
     "name": "stdout",
     "output_type": "stream",
     "text": [
      "Titkosított üzenet: tüasitiztrtáteiákskntcoáoekssnstotía\n",
      "Visszafejtett üzenet: titkosüzenetatitkosrácstitkosításána\n"
     ]
    }
   ],
   "source": [
    "import string\n",
    "\n",
    "def create_grid(plaintext, rows, cols):\n",
    "    \"\"\"\n",
    "    Rács készítése az üzenetből, a rács méretét a sorok és oszlopok száma határozza meg.\n",
    "    \"\"\"\n",
    "    # Tisztítjuk az üzenetet, eltávolítjuk az írásjeleket és szóközöket\n",
    "    alphabet = string.ascii_lowercase\n",
    "    plaintext = ''.join([char.lower() for char in plaintext if char.isalpha()])\n",
    "    \n",
    "    # A rács méretéhez illesztjük az üzenetet, ha szükséges, kitöltjük X-szel\n",
    "    while len(plaintext) < rows * cols:\n",
    "        plaintext += 'x'  # Kitöltő karakterek\n",
    "\n",
    "    # A rács létrehozása\n",
    "    grid = [plaintext[i:i+cols] for i in range(0, len(plaintext), cols)]\n",
    "    return grid\n",
    "\n",
    "def encrypt_with_grid(plaintext, rows, cols):\n",
    "    \"\"\"\n",
    "    Titkosítás a rácsos módszerrel, az oszlopokban olvasva az üzenetet.\n",
    "    \"\"\"\n",
    "    grid = create_grid(plaintext, rows, cols)\n",
    "    ciphertext = ''.join([''.join([grid[i][j] for i in range(rows)]) for j in range(cols)])\n",
    "    return ciphertext\n",
    "\n",
    "def decrypt_with_grid(ciphertext, rows, cols):\n",
    "    \"\"\"\n",
    "    Visszafejtés a rácsos módszerrel, az oszlopokból kiolvasva az üzenetet.\n",
    "    \"\"\"\n",
    "    grid = ['' for _ in range(cols)]\n",
    "    index = 0\n",
    "    for j in range(cols):\n",
    "        for i in range(rows):\n",
    "            grid[j] += ciphertext[index]\n",
    "            index += 1\n",
    "\n",
    "    decrypted_text = ''.join([''.join([grid[j][i] for j in range(cols)]) for i in range(rows)])\n",
    "    return decrypted_text.strip('x')  # eltávolítjuk a kitöltő karaktereket\n",
    "\n",
    "# Tesztelés\n",
    "plaintext = \"titkos üzenet a titkos rács titkosításának\"\n",
    "rows, cols = 6, 6  # Rács méret\n",
    "\n",
    "ciphertext = encrypt_with_grid(plaintext, rows, cols)\n",
    "print(\"Titkosított üzenet:\", ciphertext)\n",
    "\n",
    "decrypted_text = decrypt_with_grid(ciphertext, rows, cols)\n",
    "print(\"Visszafejtett üzenet:\", decrypted_text)\n"
   ]
  },
  {
   "cell_type": "code",
   "execution_count": 42,
   "metadata": {},
   "outputs": [
    {
     "name": "stdout",
     "output_type": "stream",
     "text": [
      "286\n"
     ]
    }
   ],
   "source": [
    "class T:\n",
    "    answer = 42\n",
    "    def __init__(self):\n",
    "        self.answer = 150\n",
    "        self.__add__ = lambda x, y: x.answer + y\n",
    "        self.__sum__ = lambda a, b: a.answer - b\n",
    "        self.__plus__ = lambda a, b: a.answer - b\n",
    "        \n",
    "    def __plus__(self, z:int) -> int:\n",
    "        return self.answer - z\n",
    "    \n",
    "    def __sum__(self, w) -> int:\n",
    "        return self.answer - w\n",
    "    \n",
    "    def __add__(self, y) -> int:\n",
    "        return self.answer * round(5/2) - y - int(max(-0.0, 0.0) // 1)\n",
    "    \n",
    "print(T() + 14)"
   ]
  }
 ],
 "metadata": {
  "kernelspec": {
   "display_name": "apollo",
   "language": "python",
   "name": "python3"
  },
  "language_info": {
   "codemirror_mode": {
    "name": "ipython",
    "version": 3
   },
   "file_extension": ".py",
   "mimetype": "text/x-python",
   "name": "python",
   "nbconvert_exporter": "python",
   "pygments_lexer": "ipython3",
   "version": "3.11.9"
  }
 },
 "nbformat": 4,
 "nbformat_minor": 2
}
