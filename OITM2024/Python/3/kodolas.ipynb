{
 "cells": [
  {
   "cell_type": "code",
   "execution_count": 1,
   "metadata": {},
   "outputs": [
    {
     "name": "stdout",
     "output_type": "stream",
     "text": [
      "\n",
      "A következő rovatomban adom közzé a jeligét. \n",
      "A rovatot először tördelje be egy négyzet alakú rácsba, \n",
      "ügyelve rá, hogy minden karakter, beleértve a szóközt és az írásjeleket, \n",
      "külön mezőbe kerüljön. Ezek után alkosson egy hálót, mely \n",
      "minden mezőt letakar, kivéve, a következő rovathoz segítségül adott Vigenére-rejtvény megoldását. \n",
      "Azon karaktereket, melyeket a háló nem fed le, jegyezze le. \n",
      "A kapott karaktereket fűzze egybe. Ezzel a jeligével várom jelentkezését!\n",
      "\n"
     ]
    }
   ],
   "source": [
    "low_hun = \"aábcdeéfghiíjklmnoóöőpqrstuúüűvwxyz\"\n",
    "alphabet = low_hun + low_hun.upper()\n",
    "len_ = len(low_hun)\n",
    "\n",
    "def translation_table(shifter: int) -> dict:\n",
    "    d = ({alphabet[i+c]: alphabet[(i + shifter) % len_ + c] for i in range(len_) for c in (0, len_)})\n",
    "    return d\n",
    "\n",
    "s2 = \"\"\"\n",
    "L úyhödúökz bwhldwűnlv lówű úykkő l uöüsqőd. \n",
    "L bwhldwd öüzckyb dybóöüuö nö öqj vőqjköd lülúé bmocnl, \n",
    "fqjöühö bm, rwqj űsvóöv úlblúdöb, nöüöőbdhö l ckxúykd őc lk tbmcuöüöúöd, \n",
    "úfüyv űökznö úöbfüuyv. Ököú edmv lüúwccwv öqj rmüxd, űöüj \n",
    "űsvóöv űökzd üödlúlb, úshőhö, l úyhödúökz bwhldrwk cöqtdcőqfü lówdd Hsqövőbö-böudhővj űöqwüómcmd. \n",
    "Lkwv úlblúdöböúöd, űöüjöúöd l rmüx vöű pöó üö, uöqjökkö üö. \n",
    "L úlawdd úlblúdöböúöd pgkkö öqjnö. Ökköü l uöüsqőhöü hmbwű uöüövdúökőcőd!\n",
    "\"\"\"\n",
    "\n",
    "cezar = translation_table(len_ - 14)  # kódolás 14, dekódolás 35 -14 = 21\n",
    "result_string = \"\".join(map(lambda x: cezar.get(x, x), s2))\n",
    "print(result_string)"
   ]
  },
  {
   "cell_type": "code",
   "execution_count": 6,
   "metadata": {},
   "outputs": [
    {
     "name": "stdout",
     "output_type": "stream",
     "text": [
      "KETTŐKETTŐ  HÁROMTIZENEGY  ÖTÖTVENEGY  TIZENEGYÖTVENEGY  TIZENKILENCHÚSZ  HARMINCNYOLCÖTVENHÁROM  NEGYVENEGYTIZENKETTŐ  HATVANNYOLCNEGYVENNÉGY  HATVANKILENCHATVANHAT\n"
     ]
    }
   ],
   "source": [
    "v_seq = [c for c in \"AÁBCDEÉFGHIÍJKLMNOÓÖŐPQRSTUÚÜŰVWXYZ\"]\n",
    "v_key = \"ELKÖLTÖZTÜNKDEVÁRUNKTOVÁBBRAIS\"\n",
    "v_key_d = {ch: v_seq.index(ch) for ch in v_key}\n",
    "v_crypttext = \"ÓÖCHZCSSMK, KÉÓÓCNUJVYAHA, ÖAGVHÓAÖYO, ÓUJHPAHPIÉGVYAHA, TŐRIVUŰÜVABZŐEJ, DÁÍÉUŰÜYÜÓNEFTEŰPRLFWE, ÉYSÍZIÍÉWSÉRSQÍLFÚKŐ, LLCLLÉAXFFÖŰHKÜWÜFXÖYM, ÍBKVIEÓSÚSVÜÜZMRNŰKEŐ\"\n",
    "\n",
    "plaintext = []\n",
    "\n",
    "for idx, cryp in enumerate(v_crypttext):\n",
    "    if cryp not in v_seq:\n",
    "        real_char = ' '\n",
    "    else:\n",
    "        key_idx = idx % len(v_key)\n",
    "        v_code = v_key[key_idx]\n",
    "        diffi = v_key_d[v_code]\n",
    "        cryp_ord = v_seq.index(cryp)\n",
    "        real_char = v_seq[cryp_ord - diffi]\n",
    "    plaintext.append(real_char)\n",
    "    \n",
    "final_text = \"\".join(plaintext)\n",
    "    \n",
    "print(final_text)"
   ]
  },
  {
   "cell_type": "code",
   "execution_count": 4,
   "metadata": {},
   "outputs": [
    {
     "name": "stdout",
     "output_type": "stream",
     "text": [
      "A különleges italokat kedvelők körében bizonyára nem ismeretlen a gyömbérsör neve, mely egyedi, fűszeres ízvilágával remek frissítőként szolgál. Az elnevezés ugyanakkor egy picit csalóka, hiszen bizonyos értelemben nem is tekinthetünk rá igazi sörként. A gyömbérsör ráadásul nem csak az alapanyagait tekintve tűnhet kakukktojásnak, hanem egyedülálló íze miatt is, ám ezek ellenére mindenképp érdemes egy kicsit közelebbről megismerkedni vele. Magát a Délkelet-Ázsiából származó gyömbért időszámításunk előtt 500 évvel is előszeretettel használták ízesítőként, valamint emésztést segítő és egyéb gyógyhatásai miatt. A tradicionális gyömbérsört az angliai Yorkshire-ben készítették el először a 18. században, mely a 20. századra már Nagy-Britannián kívül többek között az Egyesült Államokban is roppant népszerűvé vált. Az eredeti változat gyömbérből, vagy annak kivonatából, cukorból és vízből, valamint egy kis citromból készült, és egy speciális mikroorganizmussal történő természetes erjedés hatására szénsavassá vált. Noha az idők során az előállítás módja változott, de a sör elnevezés is ezzel a hagyományos elkészítéssel függ össze. Alkoholtartalma eleinte körülbelül 11% volt, ám 1855-től egy brit jövedéki rendelet legfeljebb 2%-ban maximalizálta annak alkoholfokát. Sok esetben különleges fűszerekkel is ízesítették az italt (így például fahéjjal, szerecsendióval, vagy szegfűszeggel), melyekkel egyes fajtáknál máig találkozhatunk. Az klasszikus változatot a mai gyömbérsörökkel összevetve leginkább már csak a gyömbér a közös nevező, hiszen a modern verziókat már alkoholos és alkoholmentes formában is előállítják, különféle élesztőkkel, valamint eltérő íz-intenzitással. Általánosságban elmondható, hogy a mai gyömbérsörök fűszeresebbek és kevésbé édesebbek, mint amilyenek a tradicionális elődeik voltak. A nemzetközi kínálatban máig számos márka készít kitűnő tételeket. (Fentimans Ginger Beers, Artonic Ginger Beer, Old Jamaica Ginger Beer). A gyömbérsörök és gyömbéres italok valószínűleg nem csupán a frissítően üde ízviláguknak köszönhetik népszerűségüket, hanem annak is, hogy emellett sokféle itallal és étellel is kiválóan társíthatók. A gyömbérsör készítése. Amellett, hogy a gyömbérsör nem a különböző gabonák malátájából készített hagyományos sörök között foglal helyet, különbséget kell tenni a ginger ale néven ismert ital, valamint a gyömbérsör között is. A gyömbérsör eredetileg gyömbér, cukor (vagy melasz), élesztő, valamint víz erjesztésével készített alkoholos, vagy esetenként alkoholmentes főzet. Alkoholszintjét az erjedési folyamat hossza is befolyásolja (minél tovább tart, annál magasabb alkoholtartalom érhető el), ahogyan a magasabb cukortartalommal történő erjesztés is nagyobb alkohol térfogatszázalékot eredményez. Ezzel szemben a ginger ale inkább egy édesített, szénsav hozzáadásával készített, gyömbéres üdítő. A legendák szerint Írországból ered, ám Kanadában vált igazán kedveltté, melynek egyik ékes példája a világszerte ismert Canada Dry által is készített, egyedi ízprofillal rendelkező ginger ale lett. A karakteres ízű üdítő remek szomjoltó, melyet szénsavtartalma még frissítőbbé tesz. Bármely változatról is beszélünk, mindkettő megállja a helyét önmagában és a különböző koktélok alapanyagként is. Gyömbéres frissítők a hazai mezőnyből. Noha a gyömbéres frissítők itthon valamiért még mindig nem tartoznak a legkeresettebb és legtöbbet készített italok közé, de szerencsére a hazai kínálatban is felbukkannak ígéretes tételek, így érdemes egy kicsit szemezgetni a választékból. Az első magyar tonik márka, az &T Tonics  &T Classic Ginger Ale nevű tétele nem csak attól pazar, mert minőségi gyömbér kivonatból készült, hanem azért is, mert ennek eredményeként nem csupán a fenséges ízeivel, hanem a gyömbér gyógyhatásaival is büszkélkedhet. Olyan klasszikusokkal is megállja a helyét, mint egy kiváló whiskey, vagy akár egy remek rum, de önmagában is élményt nyújt. A merészebbeknek a pimasz és tüzes &T Spicy Ginger Beer nevű tételüket ajánlják, melyet leírásuk szerint az igazán kalandvágyók számára készítettek. A gyömbérsör pedig akár otthon is előállítható, hiszen néhány egyszerűen beszerezhető alapanyagon kívül csupán néhány nap türelemre van szükség ahhoz, hogy a saját készítésű gyömbéres frissítődet kortyolgathasd. Bár túlzottan magas alkoholtartalmú produktumra ne számíts, de az ízvilág és az alkotás öröme remélhetőleg kárpótol majd, ha pedig mégsem így történne, még mindig ott a lehetőség, hogy az elkészült remekművet felüsd valami erőssel. Ha pedig nincs kedved kísérletezni, vagy csak megtörnéd valamivel a klasszikus sörök komlós ízvilágát, térj be hozzánk, ugyanis nálunk nem csupán ezzel a különlegességgel találkozhatsz, hanem számtalan egyéb nagyszerű tétellel is!! Üdv, Flórián\n",
      "best beer\n"
     ]
    }
   ],
   "source": [
    "cardano_racs = [(2,2), (3, 11), (5, 51), (11, 51), (19, 20), (38, 53), (41, 12), (68, 44), (69, 66)]\n",
    "\n",
    "import math\n",
    "import numpy as np \n",
    "\n",
    "with open(\"masodik_rovat.pyt\", \"rt\") as f:\n",
    "    masodik_rovat = f.read()\n",
    "\n",
    "print(masodik_rovat)\n",
    "\n",
    "meret = int(math.sqrt(len(masodik_rovat)))\n",
    "\n",
    "racs = np.array([ch for ch in masodik_rovat]).reshape((meret, meret))\n",
    "\n",
    "jelige = []\n",
    "\n",
    "for koord in cardano_racs:\n",
    "    jelige.append(str(racs[koord[0]-1, koord[1]-1]))\n",
    " \n",
    "print(\"\".join(jelige))  "
   ]
  }
 ],
 "metadata": {
  "kernelspec": {
   "display_name": "apollo",
   "language": "python",
   "name": "python3"
  },
  "language_info": {
   "codemirror_mode": {
    "name": "ipython",
    "version": 3
   },
   "file_extension": ".py",
   "mimetype": "text/x-python",
   "name": "python",
   "nbconvert_exporter": "python",
   "pygments_lexer": "ipython3",
   "version": "3.11.9"
  }
 },
 "nbformat": 4,
 "nbformat_minor": 2
}
