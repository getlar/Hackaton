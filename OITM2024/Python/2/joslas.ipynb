{
 "cells": [
  {
   "cell_type": "code",
   "execution_count": 33,
   "metadata": {},
   "outputs": [
    {
     "data": {
      "text/plain": [
       "'3,5,6.pumpa,9'"
      ]
     },
     "execution_count": 33,
     "metadata": {},
     "output_type": "execute_result"
    }
   ],
   "source": [
    "with open('joslas.pyt', 'r') as file:\n",
    "    button_presses = file.read().strip()\n",
    "\n",
    "button_presses = button_presses.replace('\\n', '').replace(' ', '')\n",
    "top = 6\n",
    "front = 3\n",
    "right = 5\n",
    "\n",
    "def rotate_die2(button, top, front, right):\n",
    "    if button == 1:\n",
    "        top, front, right = top, right, 7 - front\n",
    "    elif button == 2:\n",
    "        top, front, right = top, 7 - right, front\n",
    "        \n",
    "    elif button == 3:\n",
    "        top, front, right = 7 - right, front, top\n",
    "    elif button == 4:\n",
    "        top, front, right = right, front, 7 - top\n",
    "        \n",
    "    elif button == 5:\n",
    "        top, front, right = front, 7 - top, right\n",
    "    elif button == 6:\n",
    "        top, front, right = 7 - front, top, right\n",
    "    return top, front, right\n",
    "\n",
    "press_counts = {i: 0 for i in range(1, 7)}\n",
    "\n",
    "for press in map(int, button_presses):\n",
    "    top, front, right = rotate_die2(press, top, front, right)\n",
    "    press_counts[top] += 1 \n",
    "\n",
    "final_result = {\n",
    "    'top': top,\n",
    "    'front': front,\n",
    "    'right': right,\n",
    "    'occurrences': press_counts[top]\n",
    "}\n",
    "\n",
    "outcome_map = {\n",
    "    1: 'katlan',\n",
    "    2: 'egypofa',\n",
    "    3: 'pumpa',\n",
    "    4: 'duhaj',\n",
    "    5: 'idejottem',\n",
    "    6: 'habvero'\n",
    "}\n",
    "final_result['prediction'] = outcome_map[top]\n",
    "formatted_result = f\"{final_result['top']},{final_result['front']},{final_result['right']}.{final_result['prediction']},{final_result['occurrences']}\"\n",
    "\n",
    "formatted_result"
   ]
  },
  {
   "cell_type": "code",
   "execution_count": 31,
   "metadata": {},
   "outputs": [
    {
     "name": "stdout",
     "output_type": "stream",
     "text": [
      "{1: 6, 2: 7, 3: 9, 4: 12, 5: 12, 6: 14}\n"
     ]
    }
   ],
   "source": [
    "print(press_counts)"
   ]
  }
 ],
 "metadata": {
  "kernelspec": {
   "display_name": "apollo",
   "language": "python",
   "name": "apollo"
  },
  "language_info": {
   "codemirror_mode": {
    "name": "ipython",
    "version": 3
   },
   "file_extension": ".py",
   "mimetype": "text/x-python",
   "name": "python",
   "nbconvert_exporter": "python",
   "pygments_lexer": "ipython3",
   "version": "3.11.9"
  }
 },
 "nbformat": 4,
 "nbformat_minor": 2
}
