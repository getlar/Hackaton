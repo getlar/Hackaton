{
 "cells": [
  {
   "cell_type": "code",
   "execution_count": 9,
   "metadata": {},
   "outputs": [
    {
     "name": "stdout",
     "output_type": "stream",
     "text": [
      "\n",
      "Internal combustion engines (ICEs) are mechanical devices that convert chemical energy into mechanical\n",
      "energy through the combustion of fuel. They are fundamental to modern transportation and various\n",
      "industrial applications. The principle behind an ICE involves igniting a fuel-air mixture within a\n",
      "combustion chamber, which generates high-pressure gases that drive a piston. This linear motion\n",
      "is then converted into rotational motion via a crankshaft, powering the engine.\n",
      "ICEs are classified into two main types: spark ignition engines, typically fueled by gasoline, and\n",
      "compression ignition engines, which primarily use diesel. Spark ignition engines rely on an\n",
      "electric spark to ignite the fuel-air mixture, while compression ignition engines compress the air\n",
      "to such a high pressure that the fuel spontaneously ignites when injected.\n",
      "Over the years, ICEs have undergone significant advancements, improving efficiency, power output, and\n",
      "reducing emissions. However, they also face challenges, particularly environmental concerns due to the\n",
      "greenhouse gases they emit. As a result, there is growing interest in alternative power sources,\n",
      "like electric motors,the key is eltolÛs which could eventually replace ICEs in many applications.\n",
      "Nonetheless, internal combustion engines continue to play a critical role in transportation and\n",
      "industry, with ongoing research aimed at making them cleaner and more efficient. Despite these\n",
      "advancements, the need for further development remains a pressing concern, especially in areas where\n",
      "plays a crucial role.\n",
      "\n"
     ]
    }
   ],
   "source": [
    "def caesar_decrypt(text, shift):\n",
    "    decrypted_text = \"\"\n",
    "    for char in text:\n",
    "        if char.isalpha():  # Check if the character is a letter\n",
    "            # Shift the character and wrap around if necessary\n",
    "            shifted = ord(char) - shift\n",
    "            if char.islower():\n",
    "                if shifted < ord('a'):\n",
    "                    shifted += 26\n",
    "            elif char.isupper():\n",
    "                if shifted < ord('A'):\n",
    "                    shifted += 26\n",
    "            decrypted_text += chr(shifted)\n",
    "        else:\n",
    "            decrypted_text += char  # Non-alphabetical characters remain unchanged\n",
    "    return decrypted_text\n",
    "\n",
    "encrypted_text = \"\"\"\n",
    "Otzkxtgr iushayzout ktmotky (OIKy) gxk skingtoigr jkboiky zngz iutbkxz inksoigr ktkxme otzu skingtoigr\n",
    "ktkxme znxuamn znk iushayzout ul lakr. Znke gxk latjgsktzgr zu sujkxt zxgtyvuxzgzout gtj bgxouay\n",
    "otjayzxogr gvvroigzouty. Znk vxotiovrk hknotj gt OIK otburbky omtozotm g lakr-gox sodzaxk coznot g\n",
    "iushayzout ingshkx, cnoin mktkxgzky nomn-vxkyyaxk mgyky zngz jxobk g voyzut. Znoy rotkgx suzout\n",
    "oy znkt iutbkxzkj otzu xuzgzoutgr suzout bog g ixgtqynglz, vuckxotm znk ktmotk.\n",
    "OIKy gxk irgyyolokj otzu zcu sgot zevky: yvgxq omtozout ktmotky, zevoigrre lakrkj he mgyurotk, gtj\n",
    "iusvxkyyout omtozout ktmotky, cnoin vxosgxore ayk jokykr. Yvgxq omtozout ktmotky xkre ut gt\n",
    "krkizxoi yvgxq zu omtozk znk lakr-gox sodzaxk, cnork iusvxkyyout omtozout ktmotky iusvxkyy znk gox\n",
    "zu yain g nomn vxkyyaxk zngz znk lakr yvutzgtkuayre omtozky cnkt otpkizkj.\n",
    "Ubkx znk ekgxy, OIKy ngbk atjkxmutk yomtoloigtz gjbgtiksktzy, osvxubotm klloioktie, vuckx uazvaz, gtj\n",
    "xkjaiotm ksoyyouty. Nuckbkx, znke gryu lgik ingrrktmky, vgxzoiargxre ktboxutsktzgr iutikxty jak zu znk\n",
    "mxkktnuayk mgyky znke ksoz. Gy g xkyarz, znkxk oy mxucotm otzkxkyz ot grzkxtgzobk vuckx yuaxiky,\n",
    "roqk krkizxoi suzuxy,znk qke oy krzuráy cnoin iuarj kbktzagrre xkvrgik OIKy ot sgte gvvroigzouty.\n",
    "Tutkznkrkyy, otzkxtgr iushayzout ktmotky iutzotak zu vrge g ixozoigr xurk ot zxgtyvuxzgzout gtj\n",
    "otjayzxe, cozn utmuotm xkykgxin goskj gz sgqotm znks irkgtkx gtj suxk klloioktz. Jkyvozk znkyk\n",
    "gjbgtiksktzy, znk tkkj lux laxznkx jkbkruvsktz xksgoty g vxkyyotm iutikxt, kyvkiogrre ot gxkgy cnkxk\n",
    "vrgey g ixaiogr xurk.\n",
    "\"\"\"\n",
    "\n",
    "decrypted_text = caesar_decrypt(encrypted_text, 6)\n",
    "print(decrypted_text)\n"
   ]
  },
  {
   "cell_type": "code",
   "execution_count": 11,
   "metadata": {},
   "outputs": [
    {
     "name": "stdout",
     "output_type": "stream",
     "text": [
      "Év 0: Populáció = 340.00\n",
      "Év 1: Populáció = 403.18\n",
      "Év 2: Populáció = 477.71\n",
      "Év 3: Populáció = 565.48\n",
      "Év 4: Populáció = 668.62\n",
      "Év 5: Populáció = 789.52\n",
      "Év 6: Populáció = 930.83\n",
      "Év 7: Populáció = 1095.43\n",
      "Év 8: Populáció = 1286.39\n",
      "Év 9: Populáció = 1506.90\n",
      "Év 10: Populáció = 1760.15\n",
      "Év 11: Populáció = 2049.18\n",
      "\n",
      "Összesített növekedés 10 év alatt: 1709.18\n"
     ]
    }
   ],
   "source": [
    "import numpy as np\n",
    "import matplotlib.pyplot as plt\n",
    "\n",
    "# Paraméterek\n",
    "r = 0.191\n",
    "K = 12547\n",
    "\n",
    "# Kezdő populáció (az utolsó év adatai)\n",
    "N0 = 340\n",
    "years = 11  # A következő 10 év\n",
    "time_step = 1  # Évenkénti lépés\n",
    "\n",
    "# Populáció tárolása\n",
    "populations = [N0]\n",
    "\n",
    "# Számítás a differenciálegyenlet alapján\n",
    "for year in range(1, years + 1):\n",
    "    N_prev = populations[-1]\n",
    "    dN_dt = r * N_prev * (1 - N_prev / K)  # Differenciálegyenlet\n",
    "    N_next = N_prev + dN_dt * time_step\n",
    "    populations.append(N_next)\n",
    "\n",
    "# Összesített növekedés\n",
    "total_growth = populations[-1] - N0\n",
    "\n",
    "# Eredmények kiírása\n",
    "for i, pop in enumerate(populations):\n",
    "    print(f\"Év {i}: Populáció = {pop:.2f}\")\n",
    "\n",
    "print(f\"\\nÖsszesített növekedés 10 év alatt: {total_growth:.2f}\")\n"
   ]
  }
 ],
 "metadata": {
  "kernelspec": {
   "display_name": "apollo",
   "language": "python",
   "name": "apollo"
  },
  "language_info": {
   "codemirror_mode": {
    "name": "ipython",
    "version": 3
   },
   "file_extension": ".py",
   "mimetype": "text/x-python",
   "name": "python",
   "nbconvert_exporter": "python",
   "pygments_lexer": "ipython3",
   "version": "3.11.9"
  }
 },
 "nbformat": 4,
 "nbformat_minor": 2
}
