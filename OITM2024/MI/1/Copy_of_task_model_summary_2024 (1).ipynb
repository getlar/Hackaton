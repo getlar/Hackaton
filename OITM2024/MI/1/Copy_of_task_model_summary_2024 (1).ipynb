{
  "nbformat": 4,
  "nbformat_minor": 0,
  "metadata": {
    "colab": {
      "provenance": []
    },
    "kernelspec": {
      "name": "python3",
      "display_name": "Python 3"
    },
    "language_info": {
      "name": "python"
    }
  },
  "cells": [
    {
      "cell_type": "code",
      "execution_count": 1,
      "metadata": {
        "id": "2DiysOE0tT0t"
      },
      "outputs": [],
      "source": [
        "import tensorflow as tf\n",
        "from tensorflow import keras\n",
        "from keras import layers"
      ]
    },
    {
      "cell_type": "code",
      "source": [
        "tf.__version__"
      ],
      "metadata": {
        "colab": {
          "base_uri": "https://localhost:8080/",
          "height": 35
        },
        "id": "WOqryU6ntbkk",
        "outputId": "1b55089c-d5f6-422e-eaa1-f6a568a3ac26"
      },
      "execution_count": 2,
      "outputs": [
        {
          "output_type": "execute_result",
          "data": {
            "text/plain": [
              "'2.17.0'"
            ],
            "application/vnd.google.colaboratory.intrinsic+json": {
              "type": "string"
            }
          },
          "metadata": {},
          "execution_count": 2
        }
      ]
    },
    {
      "cell_type": "code",
      "source": [
        "keras.__version__"
      ],
      "metadata": {
        "colab": {
          "base_uri": "https://localhost:8080/",
          "height": 35
        },
        "id": "QFC_I-aFv8MN",
        "outputId": "c59c880e-3e96-4348-e2e3-2b1e5a64b093"
      },
      "execution_count": 3,
      "outputs": [
        {
          "output_type": "execute_result",
          "data": {
            "text/plain": [
              "'3.4.1'"
            ],
            "application/vnd.google.colaboratory.intrinsic+json": {
              "type": "string"
            }
          },
          "metadata": {},
          "execution_count": 3
        }
      ]
    },
    {
      "cell_type": "code",
      "source": [
        "! gdown 1xRy2ewl8iUe5wUqu6H3eLP9U1wODy-KV"
      ],
      "metadata": {
        "colab": {
          "base_uri": "https://localhost:8080/"
        },
        "id": "aY6tcwKbMyy0",
        "outputId": "ff2bbfee-cf4e-44d1-c493-93ad79439d44"
      },
      "execution_count": 4,
      "outputs": [
        {
          "output_type": "stream",
          "name": "stdout",
          "text": [
            "Downloading...\n",
            "From: https://drive.google.com/uc?id=1xRy2ewl8iUe5wUqu6H3eLP9U1wODy-KV\n",
            "To: /content/oitm_model2024_fr.keras\n",
            "\r  0% 0.00/239k [00:00<?, ?B/s]\r100% 239k/239k [00:00<00:00, 58.6MB/s]\n"
          ]
        }
      ]
    },
    {
      "cell_type": "code",
      "source": [
        "from tensorflow import keras\n",
        "\n",
        "model = keras.models.load_model('oitm_model2024_fr.keras')\n",
        "\n",
        "trainable_params = 0\n",
        "for layer in model.layers:\n",
        "  if len(layer.weights) > 0:\n",
        "    trainable_params += sum([tf.reduce_prod(weight.shape).numpy() for weight in layer.weights])\n",
        "\n",
        "print(f\"The model has {trainable_params} trainable parameters.\")"
      ],
      "metadata": {
        "colab": {
          "base_uri": "https://localhost:8080/"
        },
        "id": "Y5XdNAaMmBnw",
        "outputId": "85a8db86-14df-4e9e-cc97-a4d0dbe2c645"
      },
      "execution_count": 5,
      "outputs": [
        {
          "output_type": "stream",
          "name": "stdout",
          "text": [
            "The model has 49002 trainable parameters.\n"
          ]
        },
        {
          "output_type": "stream",
          "name": "stderr",
          "text": [
            "/usr/local/lib/python3.10/dist-packages/keras/src/saving/saving_lib.py:576: UserWarning: Skipping variable loading for optimizer 'rmsprop', because it has 10 variables whereas the saved optimizer has 2 variables. \n",
            "  saveable.load_own_variables(weights_store.get(inner_path))\n"
          ]
        }
      ]
    },
    {
      "cell_type": "code",
      "source": [
        "print(\"Frozen Layers:\")\n",
        "for layer in model.layers:\n",
        "  if not layer.trainable:\n",
        "    print(layer.name)\n",
        "\n",
        "\n",
        "print(\"\\nAll Layers:\")\n",
        "for layer in model.layers:\n",
        "  print(layer.name, \"Trainable:\", layer.trainable)"
      ],
      "metadata": {
        "colab": {
          "base_uri": "https://localhost:8080/"
        },
        "id": "pRURp2WemQ4G",
        "outputId": "b31d9f12-af9e-4632-ff78-195543fa5fcb"
      },
      "execution_count": 6,
      "outputs": [
        {
          "output_type": "stream",
          "name": "stdout",
          "text": [
            "Downloading...\n",
            "From: https://drive.google.com/uc?id=1xRy2ewl8iUe5wUqu6H3eLP9U1wODy-KV\n",
            "To: /content/oitm_model2024_fr.keras\n",
            "\r  0% 0.00/239k [00:00<?, ?B/s]\r100% 239k/239k [00:00<00:00, 75.4MB/s]\n",
            "Frozen Layers:\n",
            "conv2d\n",
            "conv2d_1\n",
            "conv2d_2\n",
            "\n",
            "All Layers:\n",
            "conv2d Trainable: False\n",
            "conv2d_1 Trainable: False\n",
            "max_pooling2d Trainable: True\n",
            "conv2d_2 Trainable: False\n",
            "conv2d_3 Trainable: True\n",
            "max_pooling2d_1 Trainable: True\n",
            "conv2d_4 Trainable: True\n",
            "conv2d_5 Trainable: True\n",
            "max_pooling2d_2 Trainable: True\n",
            "global_max_pooling2d Trainable: True\n",
            "dense Trainable: True\n"
          ]
        }
      ]
    }
  ]
}