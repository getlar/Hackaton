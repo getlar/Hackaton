{
  "cells": [
    {
      "cell_type": "markdown",
      "source": [
        "# IMDB reviews\n",
        "Adott egy adathalmaz, amely két film (Barbie és Oppenheimer) IMDB kritikáit tartalmazza. Kíváncsiak voltunk, hogy a következő review vajon hány pontot érne:\n",
        "\n",
        "\"It is a never before seen perspective of a historical figure. It teaches a lot about hard decisions, and what is important in life.\"\n",
        "\n",
        "Hogy megtudjuk, betanítottunk az adathalmazon egy lineáris regressziót, mely a kritika szövege alapján prediktálja meg a kritika pontszámát.\n",
        "Nézd meg, hogy ha azt is figyelembe vesszük, hogy a Barbie, vagy az Oppenheimer filmről szól a kritika, hány pontot érne! (egészre kerekítve, akárcsak egy IMDB pontszám)"
      ],
      "metadata": {
        "id": "m8_7qd3EiLjK"
      }
    },
    {
      "cell_type": "code",
      "execution_count": 1,
      "metadata": {
        "id": "O1Byvsmv0yxI"
      },
      "outputs": [],
      "source": [
        "import numpy as np\n",
        "import pandas as pd\n",
        "from sklearn.model_selection import train_test_split\n",
        "from sklearn.feature_extraction.text import TfidfVectorizer\n",
        "from sklearn.linear_model import LinearRegression\n",
        "from sklearn.metrics import mean_squared_error\n",
        "\n"
      ]
    },
    {
      "cell_type": "code",
      "source": [
        "!gdown 1GeI_JRpEZiiyZgnfoez0fc7QWlr0KHH-"
      ],
      "metadata": {
        "colab": {
          "base_uri": "https://localhost:8080/"
        },
        "id": "CnRj9Oak02QM",
        "outputId": "6017fae0-bf56-47ef-e0dc-76a9d2b998d9"
      },
      "execution_count": 2,
      "outputs": [
        {
          "output_type": "stream",
          "name": "stdout",
          "text": [
            "Downloading...\n",
            "From: https://drive.google.com/uc?id=1GeI_JRpEZiiyZgnfoez0fc7QWlr0KHH-\n",
            "To: /content/barbenheimer.csv\n",
            "\r  0% 0.00/1.55M [00:00<?, ?B/s]\r100% 1.55M/1.55M [00:00<00:00, 39.6MB/s]\n"
          ]
        }
      ]
    },
    {
      "cell_type": "code",
      "execution_count": 25,
      "metadata": {
        "colab": {
          "base_uri": "https://localhost:8080/"
        },
        "id": "81sLDfcr0yxK",
        "outputId": "52d173ef-8655-43e2-9605-078bb9245f93"
      },
      "outputs": [
        {
          "output_type": "stream",
          "name": "stdout",
          "text": [
            "Telling the story of a larger-than-life individual truly calls for a larger-than-life film, and that's precisely what writer-director Christopher Nolan has come up with in his latest feature outing, handily the best work of his career. Nolan's three-hour opus about the life of Dr. J. Robert Oppenheimer (Cillian Murphy), director of the Manhattan Project (and more commonly known as the Father of the Atomic Bomb), provides viewers with a comprehensive biography of this brilliant and thoughtful yet often-inscrutable and naïve physicist who took on a patently dangerous venture that left him morally conflicted about the nature of his creation. The story, which spans several decades of the scientist's life, chronicles his development of \"the gadget\" and the fallout he suffered as a consequence of his left-wing political leanings and his efforts to keep the released nuclear genie from getting out of control. The film is admittedly a little overlong and probably could have used some editing in the opening and final hour, but, in the interest of telling the whole story of Oppenheimer's odyssey, its length is understandable (and, consequently, justifiable). The picture's production values are all top shelf, especially its brilliant cinematography, stirring original score and superb sound quality, an element that truly leaves audiences with a bona fide visceral experience. Moreover, the narrative is skillfully and eloquently brought to life by this offering's outstanding ensemble cast, including Murphy, Matt Damon, Tom Conti, Benny Safdie, Emily Blunt, Florence Pugh, Gary Oldman, Rami Malek, and, especially, Robert Downey Jr., who delivers a stellar, award-worthy supporting performance showing acting chops that I never knew he possessed. \"Oppenheimer\" is easily the best film of the summer movie season, if not all of 2023 thus far. It packs a potent punch and delivers a message that we can all never hear too often, poignantly reminding us all of the importance of not falling prey to the same Promethean burden that Oppenheimer was forced to shoulder.\n",
            "595\n",
            "Root Mean Squared Error (RMSE): 0.00\n"
          ]
        }
      ],
      "source": [
        "data = pd.read_csv('./barbenheimer.csv')\n",
        "\n",
        "mask = data['label'].str.contains('Barbie', case=False, na=False)\n",
        "\n",
        "data = data[~mask]\n",
        "\n",
        "reviews = data['review'].tolist()\n",
        "print(reviews[0])\n",
        "review_scores = data['score'].tolist()\n",
        "\n",
        "print(len(reviews))\n",
        "\n",
        "review_scores = np.array(review_scores)\n",
        "X_train=reviews\n",
        "y_train=review_scores\n",
        "\n",
        "# Convert text data to numerical features using TF-IDF\n",
        "tfidf_vectorizer = TfidfVectorizer()\n",
        "X_train_tfidf = tfidf_vectorizer.fit_transform(X_train)\n",
        "\n",
        "# Initialize and train the Linear Regression model\n",
        "model = LinearRegression()\n",
        "model.fit(X_train_tfidf, y_train)\n",
        "\n",
        "# Make predictions on the test set\n",
        "predictions = model.predict(X_train_tfidf)\n",
        "\n",
        "# Calculate RMSE\n",
        "rmse = np.sqrt(mean_squared_error(y_train, predictions))\n",
        "print(f\"Root Mean Squared Error (RMSE): {rmse:.2f}\")\n",
        "\n"
      ]
    },
    {
      "cell_type": "code",
      "execution_count": 23,
      "metadata": {
        "colab": {
          "base_uri": "https://localhost:8080/"
        },
        "id": "WGUb5una0yxM",
        "outputId": "4c4685e2-01b0-4cd6-cc40-906359bd5634"
      },
      "outputs": [
        {
          "output_type": "stream",
          "name": "stdout",
          "text": [
            "[8.29965638]\n",
            "Predicted Review Score: 8.30\n"
          ]
        }
      ],
      "source": [
        "\n",
        "rev = [\"It is a never before seen perspective of a historical figure. It teaches a lot about hard decisions, and what is important in life.\"]\n",
        "rev_tfidf = tfidf_vectorizer.transform(rev)\n",
        "\n",
        "# Make a prediction using the trained model\n",
        "predicted_score = model.predict(rev_tfidf)\n",
        "print(predicted_score)\n",
        "print(f\"Predicted Review Score: {predicted_score[0]:.2f}\")"
      ]
    },
    {
      "cell_type": "code",
      "execution_count": null,
      "metadata": {
        "id": "nYX-cy5d0yxS"
      },
      "outputs": [],
      "source": []
    }
  ],
  "metadata": {
    "kernelspec": {
      "display_name": "Python 3",
      "language": "python",
      "name": "python3"
    },
    "language_info": {
      "codemirror_mode": {
        "name": "ipython",
        "version": 3
      },
      "file_extension": ".py",
      "mimetype": "text/x-python",
      "name": "python",
      "nbconvert_exporter": "python",
      "pygments_lexer": "ipython3",
      "version": "3.8.10"
    },
    "orig_nbformat": 4,
    "colab": {
      "provenance": []
    }
  },
  "nbformat": 4,
  "nbformat_minor": 0
}