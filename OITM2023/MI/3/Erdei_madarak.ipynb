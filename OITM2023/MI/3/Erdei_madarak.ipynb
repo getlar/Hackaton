{
  "cells": [
    {
      "cell_type": "markdown",
      "metadata": {
        "id": "J44n-eoZV14Y"
      },
      "source": [
        "# \"Dehát libák ezek!\"\n",
        "\n",
        "A libapásztor kíváncsiságból letölt egy applikációt, amit madárhangok felismerésére fejlesztettek. Fel is veszi kedves jószágainak gágogását, és megkérdezi a mesterséges intelligenciát, hogy milyen madarakat hall. Az eredmény igencsak megmosolyogtatja a libapásztort, mert nem vette észre, hogy a modellt eredetileg erdei madarakhoz illesztették.\n",
        "\n",
        "Az alábbiak közül milyen madárral téveszti össze a libákat a mesterséges intelligencia?\n",
        "- csuszka\n",
        "- szajkó\n",
        "- erdei pinty\n",
        "- erdei fülesbagoly\n",
        "- erdei szürkebegy\n",
        "- erdei szalonka\n",
        "\n",
        "---"
      ]
    },
    {
      "cell_type": "markdown",
      "metadata": {
        "id": "JP5a3wfNV14Z"
      },
      "source": [
        "# Az alábbiak tartalma:\n",
        "0. rész: A környezet előkészítése\n",
        "1. rész: Betanítjuk a modellt 9 erdei madár hangjának felismerésére 3 másodperces felvételeken.\n",
        "2. rész: Egy interaktív mintavételező eszköz segítségével kivágjuk a libahangokat, és prediktálunk rájuk a modellel."
      ]
    },
    {
      "cell_type": "markdown",
      "source": [
        "## 0. rész: A környezet előkészítése"
      ],
      "metadata": {
        "id": "pGCrH_FDPpJV"
      }
    },
    {
      "cell_type": "markdown",
      "source": [
        "Először, még mielőtt a cellákat futtatnád, a Colab \"Runtime\" menüjében a \"Change runtime type\" beállításnál válaszd a T4 GPU lehetőséget!  \n",
        "Ez jelentősen gyorsítani fogja a modell betanítását és kiértékelését."
      ],
      "metadata": {
        "id": "m8fqCaVsEsgs"
      }
    },
    {
      "cell_type": "code",
      "source": [
        "# kiegészítő package-ek installációja\n",
        "!pip install tensorflow-io\n",
        "!pip install pydub"
      ],
      "metadata": {
        "id": "Pjv0XlU3PdXl",
        "outputId": "c399ebc8-7026-4db6-9dd5-a362a31337f9",
        "colab": {
          "base_uri": "https://localhost:8080/"
        }
      },
      "execution_count": 1,
      "outputs": [
        {
          "output_type": "stream",
          "name": "stdout",
          "text": [
            "Collecting tensorflow-io\n",
            "  Downloading tensorflow_io-0.34.0-cp310-cp310-manylinux_2_12_x86_64.manylinux2010_x86_64.whl (28.8 MB)\n",
            "\u001b[2K     \u001b[90m━━━━━━━━━━━━━━━━━━━━━━━━━━━━━━━━━━━━━━━━\u001b[0m \u001b[32m28.8/28.8 MB\u001b[0m \u001b[31m40.6 MB/s\u001b[0m eta \u001b[36m0:00:00\u001b[0m\n",
            "\u001b[?25hRequirement already satisfied: tensorflow-io-gcs-filesystem==0.34.0 in /usr/local/lib/python3.10/dist-packages (from tensorflow-io) (0.34.0)\n",
            "Installing collected packages: tensorflow-io\n",
            "Successfully installed tensorflow-io-0.34.0\n",
            "Collecting pydub\n",
            "  Downloading pydub-0.25.1-py2.py3-none-any.whl (32 kB)\n",
            "Installing collected packages: pydub\n",
            "Successfully installed pydub-0.25.1\n"
          ]
        }
      ]
    },
    {
      "cell_type": "code",
      "source": [
        "# forrásfájlok letöltése a Colab virtuális környezetünkbe (a \"/content\" mappán belülre)\n",
        "!gdown 1LawiUzGJu2H6sk53Sbtzib-ilXU2fc5L  # --> bird_sounds.zip\n",
        "!gdown 1J11JZ0Dp3Pvx3NmsRpd613pAII37K51_  # --> window_data_summary.csv\n",
        "!gdown 11xwNkeODorCNGFLephORdfyHkOT3MoQo  # --> libáim_1.wav\n",
        "!gdown 1z-k42TYS1jGJl8PwNBucap_0fgmuTnzT  # --> libáim_2.wav"
      ],
      "metadata": {
        "id": "PG1x0U9zDinw",
        "outputId": "70da4642-0812-4643-b651-abca3f1d26cc",
        "colab": {
          "base_uri": "https://localhost:8080/"
        }
      },
      "execution_count": 2,
      "outputs": [
        {
          "output_type": "stream",
          "name": "stdout",
          "text": [
            "Downloading...\n",
            "From: https://drive.google.com/uc?id=1LawiUzGJu2H6sk53Sbtzib-ilXU2fc5L\n",
            "To: /content/bird_sounds.zip\n",
            "100% 1.96G/1.96G [00:24<00:00, 80.4MB/s]\n",
            "Downloading...\n",
            "From: https://drive.google.com/uc?id=1J11JZ0Dp3Pvx3NmsRpd613pAII37K51_\n",
            "To: /content/window_data_summary.csv\n",
            "100% 98.8k/98.8k [00:00<00:00, 88.2MB/s]\n",
            "Downloading...\n",
            "From: https://drive.google.com/uc?id=11xwNkeODorCNGFLephORdfyHkOT3MoQo\n",
            "To: /content/libáim_1.wav\n",
            "100% 762k/762k [00:00<00:00, 66.2MB/s]\n",
            "Downloading...\n",
            "From: https://drive.google.com/uc?id=1z-k42TYS1jGJl8PwNBucap_0fgmuTnzT\n",
            "To: /content/libáim_2.wav\n",
            "100% 749k/749k [00:00<00:00, 105MB/s]\n"
          ]
        }
      ]
    },
    {
      "cell_type": "code",
      "source": [
        "# madárhangok tömörített mappájának kibontása (~30s):  bird_sounds.zip --> bird_sounds\n",
        "import zipfile\n",
        "with zipfile.ZipFile('/content/bird_sounds.zip', 'r') as zip_ref:\n",
        "    zip_ref.extractall('/content')"
      ],
      "metadata": {
        "id": "LK9vmmoyRHdt"
      },
      "execution_count": 3,
      "outputs": []
    },
    {
      "cell_type": "code",
      "execution_count": 4,
      "metadata": {
        "id": "rpZiTv1gV14a"
      },
      "outputs": [],
      "source": [
        "# szükséges importok\n",
        "\n",
        "import os\n",
        "import shutil\n",
        "import numpy as np\n",
        "import pandas as pd\n",
        "from tqdm import tqdm\n",
        "from pydub import AudioSegment\n",
        "import matplotlib.pyplot as plt\n",
        "import ipywidgets as widgets\n",
        "from ipywidgets import interact\n",
        "from IPython.display import clear_output\n",
        "\n",
        "os.environ['TF_CPP_MIN_LOG_LEVEL'] = '2'\n",
        "import tensorflow as tf\n",
        "import tensorflow_io as tfio\n",
        "\n",
        "downloaded_sounds_folder = '/content/bird_sounds'\n",
        "data_summary_path = '/content/window_data_summary.csv'"
      ]
    },
    {
      "cell_type": "markdown",
      "metadata": {
        "id": "UrGCkTUQV14a"
      },
      "source": [
        "## 1. rész: Modell tanítása madárhangok felismerésére\n",
        "\n",
        "<p align=\"center\">\n",
        "    <img src=\"https://i.ibb.co/P42BknF/erdei.png\" alt=\"erdei\" height=250>\n",
        "</p>"
      ]
    },
    {
      "cell_type": "markdown",
      "metadata": {
        "id": "DiZHBnzUV14a"
      },
      "source": [
        "### Data preprocessing"
      ]
    },
    {
      "cell_type": "markdown",
      "metadata": {
        "id": "2rCh7kvYV14b"
      },
      "source": [
        "A `bird_sounds` mappában rendelkezésre állnak a https://xeno-canto.org/ oldalról letöltött madárhangok (16k mono 16-bit WAV formátumban). Ezekből fogjuk kivágni a 3 másodperces hangmintákat. A kivágást segítő információkat a `window_data_summary.csv` fájl tartalmazza. Ezt a fájlt beolvassuk egy Pandas DataFrame-be. A *window_msec* oszlopban olyan 3 másodperces időablakok szerepelnek ms-ban, ahol az adott felvételen megszólal a madár hangja. A *split* oszlop azt adja meg, hogy az adott felvételt a modell tanításához vagy teszteléséhez akarjuk-e használni. Létre fogunk hozni egy `bird_sounds_cut` mappát, amibe a 3s hosszúra vágott hangminták kerülnek a *destination_file* oszlopban jelölt néven.\n",
        "\n",
        "(Megjegyzés: minden madárhoz 100 entry van, amiből kb. 80 tanító és 20 teszt. Egy-egy eredeti hangfájl kivágandó részei vagy csak a tanító, vagy csak a tesztelő halmazba kerülnek.)"
      ]
    },
    {
      "cell_type": "code",
      "execution_count": 5,
      "metadata": {
        "id": "f_be1pY_V14b",
        "outputId": "0d897aa0-b6a9-41f2-dddb-4cc11a32509d",
        "colab": {
          "base_uri": "https://localhost:8080/",
          "height": 579
        }
      },
      "outputs": [
        {
          "output_type": "display_data",
          "data": {
            "text/plain": [
              "            name         scientific                 xeno-canto_url  \\\n",
              "0    erdei pinty  Fringilla coelebs  https://xeno-canto.org/783979   \n",
              "1    erdei pinty  Fringilla coelebs  https://xeno-canto.org/744879   \n",
              "2    erdei pinty  Fringilla coelebs  https://xeno-canto.org/642505   \n",
              "3    erdei pinty  Fringilla coelebs  https://xeno-canto.org/779452   \n",
              "4    erdei pinty  Fringilla coelebs  https://xeno-canto.org/637770   \n",
              "..           ...                ...                            ...   \n",
              "895  fekete rigó      Turdus merula  https://xeno-canto.org/792322   \n",
              "896  fekete rigó      Turdus merula  https://xeno-canto.org/648823   \n",
              "897  fekete rigó      Turdus merula  https://xeno-canto.org/649634   \n",
              "898  fekete rigó      Turdus merula  https://xeno-canto.org/636645   \n",
              "899  fekete rigó      Turdus merula   https://xeno-canto.org/99075   \n",
              "\n",
              "    source_file  window_msec destination_file  label  split  \n",
              "0    783979.wav       0-3000    fri_coe_1.wav      0  train  \n",
              "1    744879.wav     200-3200    fri_coe_2.wav      0  train  \n",
              "2    642505.wav    2600-5600    fri_coe_3.wav      0  train  \n",
              "3    779452.wav    1300-4300    fri_coe_4.wav      0  train  \n",
              "4    637770.wav     500-3500    fri_coe_5.wav      0  train  \n",
              "..          ...          ...              ...    ...    ...  \n",
              "895  792322.wav    1100-4100   tur_mer_96.wav      8  train  \n",
              "896  648823.wav  12200-15200   tur_mer_97.wav      8  train  \n",
              "897  649634.wav   8600-11600   tur_mer_98.wav      8  train  \n",
              "898  636645.wav   8000-11000   tur_mer_99.wav      8   test  \n",
              "899   99075.wav    4300-7300  tur_mer_100.wav      8   test  \n",
              "\n",
              "[900 rows x 8 columns]"
            ],
            "text/html": [
              "\n",
              "  <div id=\"df-15d6676f-27b3-4429-b908-2f8123fb6ea7\" class=\"colab-df-container\">\n",
              "    <div>\n",
              "<style scoped>\n",
              "    .dataframe tbody tr th:only-of-type {\n",
              "        vertical-align: middle;\n",
              "    }\n",
              "\n",
              "    .dataframe tbody tr th {\n",
              "        vertical-align: top;\n",
              "    }\n",
              "\n",
              "    .dataframe thead th {\n",
              "        text-align: right;\n",
              "    }\n",
              "</style>\n",
              "<table border=\"1\" class=\"dataframe\">\n",
              "  <thead>\n",
              "    <tr style=\"text-align: right;\">\n",
              "      <th></th>\n",
              "      <th>name</th>\n",
              "      <th>scientific</th>\n",
              "      <th>xeno-canto_url</th>\n",
              "      <th>source_file</th>\n",
              "      <th>window_msec</th>\n",
              "      <th>destination_file</th>\n",
              "      <th>label</th>\n",
              "      <th>split</th>\n",
              "    </tr>\n",
              "  </thead>\n",
              "  <tbody>\n",
              "    <tr>\n",
              "      <th>0</th>\n",
              "      <td>erdei pinty</td>\n",
              "      <td>Fringilla coelebs</td>\n",
              "      <td>https://xeno-canto.org/783979</td>\n",
              "      <td>783979.wav</td>\n",
              "      <td>0-3000</td>\n",
              "      <td>fri_coe_1.wav</td>\n",
              "      <td>0</td>\n",
              "      <td>train</td>\n",
              "    </tr>\n",
              "    <tr>\n",
              "      <th>1</th>\n",
              "      <td>erdei pinty</td>\n",
              "      <td>Fringilla coelebs</td>\n",
              "      <td>https://xeno-canto.org/744879</td>\n",
              "      <td>744879.wav</td>\n",
              "      <td>200-3200</td>\n",
              "      <td>fri_coe_2.wav</td>\n",
              "      <td>0</td>\n",
              "      <td>train</td>\n",
              "    </tr>\n",
              "    <tr>\n",
              "      <th>2</th>\n",
              "      <td>erdei pinty</td>\n",
              "      <td>Fringilla coelebs</td>\n",
              "      <td>https://xeno-canto.org/642505</td>\n",
              "      <td>642505.wav</td>\n",
              "      <td>2600-5600</td>\n",
              "      <td>fri_coe_3.wav</td>\n",
              "      <td>0</td>\n",
              "      <td>train</td>\n",
              "    </tr>\n",
              "    <tr>\n",
              "      <th>3</th>\n",
              "      <td>erdei pinty</td>\n",
              "      <td>Fringilla coelebs</td>\n",
              "      <td>https://xeno-canto.org/779452</td>\n",
              "      <td>779452.wav</td>\n",
              "      <td>1300-4300</td>\n",
              "      <td>fri_coe_4.wav</td>\n",
              "      <td>0</td>\n",
              "      <td>train</td>\n",
              "    </tr>\n",
              "    <tr>\n",
              "      <th>4</th>\n",
              "      <td>erdei pinty</td>\n",
              "      <td>Fringilla coelebs</td>\n",
              "      <td>https://xeno-canto.org/637770</td>\n",
              "      <td>637770.wav</td>\n",
              "      <td>500-3500</td>\n",
              "      <td>fri_coe_5.wav</td>\n",
              "      <td>0</td>\n",
              "      <td>train</td>\n",
              "    </tr>\n",
              "    <tr>\n",
              "      <th>...</th>\n",
              "      <td>...</td>\n",
              "      <td>...</td>\n",
              "      <td>...</td>\n",
              "      <td>...</td>\n",
              "      <td>...</td>\n",
              "      <td>...</td>\n",
              "      <td>...</td>\n",
              "      <td>...</td>\n",
              "    </tr>\n",
              "    <tr>\n",
              "      <th>895</th>\n",
              "      <td>fekete rigó</td>\n",
              "      <td>Turdus merula</td>\n",
              "      <td>https://xeno-canto.org/792322</td>\n",
              "      <td>792322.wav</td>\n",
              "      <td>1100-4100</td>\n",
              "      <td>tur_mer_96.wav</td>\n",
              "      <td>8</td>\n",
              "      <td>train</td>\n",
              "    </tr>\n",
              "    <tr>\n",
              "      <th>896</th>\n",
              "      <td>fekete rigó</td>\n",
              "      <td>Turdus merula</td>\n",
              "      <td>https://xeno-canto.org/648823</td>\n",
              "      <td>648823.wav</td>\n",
              "      <td>12200-15200</td>\n",
              "      <td>tur_mer_97.wav</td>\n",
              "      <td>8</td>\n",
              "      <td>train</td>\n",
              "    </tr>\n",
              "    <tr>\n",
              "      <th>897</th>\n",
              "      <td>fekete rigó</td>\n",
              "      <td>Turdus merula</td>\n",
              "      <td>https://xeno-canto.org/649634</td>\n",
              "      <td>649634.wav</td>\n",
              "      <td>8600-11600</td>\n",
              "      <td>tur_mer_98.wav</td>\n",
              "      <td>8</td>\n",
              "      <td>train</td>\n",
              "    </tr>\n",
              "    <tr>\n",
              "      <th>898</th>\n",
              "      <td>fekete rigó</td>\n",
              "      <td>Turdus merula</td>\n",
              "      <td>https://xeno-canto.org/636645</td>\n",
              "      <td>636645.wav</td>\n",
              "      <td>8000-11000</td>\n",
              "      <td>tur_mer_99.wav</td>\n",
              "      <td>8</td>\n",
              "      <td>test</td>\n",
              "    </tr>\n",
              "    <tr>\n",
              "      <th>899</th>\n",
              "      <td>fekete rigó</td>\n",
              "      <td>Turdus merula</td>\n",
              "      <td>https://xeno-canto.org/99075</td>\n",
              "      <td>99075.wav</td>\n",
              "      <td>4300-7300</td>\n",
              "      <td>tur_mer_100.wav</td>\n",
              "      <td>8</td>\n",
              "      <td>test</td>\n",
              "    </tr>\n",
              "  </tbody>\n",
              "</table>\n",
              "<p>900 rows × 8 columns</p>\n",
              "</div>\n",
              "    <div class=\"colab-df-buttons\">\n",
              "\n",
              "  <div class=\"colab-df-container\">\n",
              "    <button class=\"colab-df-convert\" onclick=\"convertToInteractive('df-15d6676f-27b3-4429-b908-2f8123fb6ea7')\"\n",
              "            title=\"Convert this dataframe to an interactive table.\"\n",
              "            style=\"display:none;\">\n",
              "\n",
              "  <svg xmlns=\"http://www.w3.org/2000/svg\" height=\"24px\" viewBox=\"0 -960 960 960\">\n",
              "    <path d=\"M120-120v-720h720v720H120Zm60-500h600v-160H180v160Zm220 220h160v-160H400v160Zm0 220h160v-160H400v160ZM180-400h160v-160H180v160Zm440 0h160v-160H620v160ZM180-180h160v-160H180v160Zm440 0h160v-160H620v160Z\"/>\n",
              "  </svg>\n",
              "    </button>\n",
              "\n",
              "  <style>\n",
              "    .colab-df-container {\n",
              "      display:flex;\n",
              "      gap: 12px;\n",
              "    }\n",
              "\n",
              "    .colab-df-convert {\n",
              "      background-color: #E8F0FE;\n",
              "      border: none;\n",
              "      border-radius: 50%;\n",
              "      cursor: pointer;\n",
              "      display: none;\n",
              "      fill: #1967D2;\n",
              "      height: 32px;\n",
              "      padding: 0 0 0 0;\n",
              "      width: 32px;\n",
              "    }\n",
              "\n",
              "    .colab-df-convert:hover {\n",
              "      background-color: #E2EBFA;\n",
              "      box-shadow: 0px 1px 2px rgba(60, 64, 67, 0.3), 0px 1px 3px 1px rgba(60, 64, 67, 0.15);\n",
              "      fill: #174EA6;\n",
              "    }\n",
              "\n",
              "    .colab-df-buttons div {\n",
              "      margin-bottom: 4px;\n",
              "    }\n",
              "\n",
              "    [theme=dark] .colab-df-convert {\n",
              "      background-color: #3B4455;\n",
              "      fill: #D2E3FC;\n",
              "    }\n",
              "\n",
              "    [theme=dark] .colab-df-convert:hover {\n",
              "      background-color: #434B5C;\n",
              "      box-shadow: 0px 1px 3px 1px rgba(0, 0, 0, 0.15);\n",
              "      filter: drop-shadow(0px 1px 2px rgba(0, 0, 0, 0.3));\n",
              "      fill: #FFFFFF;\n",
              "    }\n",
              "  </style>\n",
              "\n",
              "    <script>\n",
              "      const buttonEl =\n",
              "        document.querySelector('#df-15d6676f-27b3-4429-b908-2f8123fb6ea7 button.colab-df-convert');\n",
              "      buttonEl.style.display =\n",
              "        google.colab.kernel.accessAllowed ? 'block' : 'none';\n",
              "\n",
              "      async function convertToInteractive(key) {\n",
              "        const element = document.querySelector('#df-15d6676f-27b3-4429-b908-2f8123fb6ea7');\n",
              "        const dataTable =\n",
              "          await google.colab.kernel.invokeFunction('convertToInteractive',\n",
              "                                                    [key], {});\n",
              "        if (!dataTable) return;\n",
              "\n",
              "        const docLinkHtml = 'Like what you see? Visit the ' +\n",
              "          '<a target=\"_blank\" href=https://colab.research.google.com/notebooks/data_table.ipynb>data table notebook</a>'\n",
              "          + ' to learn more about interactive tables.';\n",
              "        element.innerHTML = '';\n",
              "        dataTable['output_type'] = 'display_data';\n",
              "        await google.colab.output.renderOutput(dataTable, element);\n",
              "        const docLink = document.createElement('div');\n",
              "        docLink.innerHTML = docLinkHtml;\n",
              "        element.appendChild(docLink);\n",
              "      }\n",
              "    </script>\n",
              "  </div>\n",
              "\n",
              "\n",
              "<div id=\"df-385e9705-45f5-4d20-889d-58464c91aa5b\">\n",
              "  <button class=\"colab-df-quickchart\" onclick=\"quickchart('df-385e9705-45f5-4d20-889d-58464c91aa5b')\"\n",
              "            title=\"Suggest charts.\"\n",
              "            style=\"display:none;\">\n",
              "\n",
              "<svg xmlns=\"http://www.w3.org/2000/svg\" height=\"24px\"viewBox=\"0 0 24 24\"\n",
              "     width=\"24px\">\n",
              "    <g>\n",
              "        <path d=\"M19 3H5c-1.1 0-2 .9-2 2v14c0 1.1.9 2 2 2h14c1.1 0 2-.9 2-2V5c0-1.1-.9-2-2-2zM9 17H7v-7h2v7zm4 0h-2V7h2v10zm4 0h-2v-4h2v4z\"/>\n",
              "    </g>\n",
              "</svg>\n",
              "  </button>\n",
              "\n",
              "<style>\n",
              "  .colab-df-quickchart {\n",
              "      --bg-color: #E8F0FE;\n",
              "      --fill-color: #1967D2;\n",
              "      --hover-bg-color: #E2EBFA;\n",
              "      --hover-fill-color: #174EA6;\n",
              "      --disabled-fill-color: #AAA;\n",
              "      --disabled-bg-color: #DDD;\n",
              "  }\n",
              "\n",
              "  [theme=dark] .colab-df-quickchart {\n",
              "      --bg-color: #3B4455;\n",
              "      --fill-color: #D2E3FC;\n",
              "      --hover-bg-color: #434B5C;\n",
              "      --hover-fill-color: #FFFFFF;\n",
              "      --disabled-bg-color: #3B4455;\n",
              "      --disabled-fill-color: #666;\n",
              "  }\n",
              "\n",
              "  .colab-df-quickchart {\n",
              "    background-color: var(--bg-color);\n",
              "    border: none;\n",
              "    border-radius: 50%;\n",
              "    cursor: pointer;\n",
              "    display: none;\n",
              "    fill: var(--fill-color);\n",
              "    height: 32px;\n",
              "    padding: 0;\n",
              "    width: 32px;\n",
              "  }\n",
              "\n",
              "  .colab-df-quickchart:hover {\n",
              "    background-color: var(--hover-bg-color);\n",
              "    box-shadow: 0 1px 2px rgba(60, 64, 67, 0.3), 0 1px 3px 1px rgba(60, 64, 67, 0.15);\n",
              "    fill: var(--button-hover-fill-color);\n",
              "  }\n",
              "\n",
              "  .colab-df-quickchart-complete:disabled,\n",
              "  .colab-df-quickchart-complete:disabled:hover {\n",
              "    background-color: var(--disabled-bg-color);\n",
              "    fill: var(--disabled-fill-color);\n",
              "    box-shadow: none;\n",
              "  }\n",
              "\n",
              "  .colab-df-spinner {\n",
              "    border: 2px solid var(--fill-color);\n",
              "    border-color: transparent;\n",
              "    border-bottom-color: var(--fill-color);\n",
              "    animation:\n",
              "      spin 1s steps(1) infinite;\n",
              "  }\n",
              "\n",
              "  @keyframes spin {\n",
              "    0% {\n",
              "      border-color: transparent;\n",
              "      border-bottom-color: var(--fill-color);\n",
              "      border-left-color: var(--fill-color);\n",
              "    }\n",
              "    20% {\n",
              "      border-color: transparent;\n",
              "      border-left-color: var(--fill-color);\n",
              "      border-top-color: var(--fill-color);\n",
              "    }\n",
              "    30% {\n",
              "      border-color: transparent;\n",
              "      border-left-color: var(--fill-color);\n",
              "      border-top-color: var(--fill-color);\n",
              "      border-right-color: var(--fill-color);\n",
              "    }\n",
              "    40% {\n",
              "      border-color: transparent;\n",
              "      border-right-color: var(--fill-color);\n",
              "      border-top-color: var(--fill-color);\n",
              "    }\n",
              "    60% {\n",
              "      border-color: transparent;\n",
              "      border-right-color: var(--fill-color);\n",
              "    }\n",
              "    80% {\n",
              "      border-color: transparent;\n",
              "      border-right-color: var(--fill-color);\n",
              "      border-bottom-color: var(--fill-color);\n",
              "    }\n",
              "    90% {\n",
              "      border-color: transparent;\n",
              "      border-bottom-color: var(--fill-color);\n",
              "    }\n",
              "  }\n",
              "</style>\n",
              "\n",
              "  <script>\n",
              "    async function quickchart(key) {\n",
              "      const quickchartButtonEl =\n",
              "        document.querySelector('#' + key + ' button');\n",
              "      quickchartButtonEl.disabled = true;  // To prevent multiple clicks.\n",
              "      quickchartButtonEl.classList.add('colab-df-spinner');\n",
              "      try {\n",
              "        const charts = await google.colab.kernel.invokeFunction(\n",
              "            'suggestCharts', [key], {});\n",
              "      } catch (error) {\n",
              "        console.error('Error during call to suggestCharts:', error);\n",
              "      }\n",
              "      quickchartButtonEl.classList.remove('colab-df-spinner');\n",
              "      quickchartButtonEl.classList.add('colab-df-quickchart-complete');\n",
              "    }\n",
              "    (() => {\n",
              "      let quickchartButtonEl =\n",
              "        document.querySelector('#df-385e9705-45f5-4d20-889d-58464c91aa5b button');\n",
              "      quickchartButtonEl.style.display =\n",
              "        google.colab.kernel.accessAllowed ? 'block' : 'none';\n",
              "    })();\n",
              "  </script>\n",
              "</div>\n",
              "    </div>\n",
              "  </div>\n"
            ]
          },
          "metadata": {}
        },
        {
          "output_type": "display_data",
          "data": {
            "text/plain": [
              "{0: 'erdei pinty',\n",
              " 1: 'erdei fülesbagoly',\n",
              " 2: 'erdei szalonka',\n",
              " 3: 'erdei szürkebegy',\n",
              " 4: 'szajkó',\n",
              " 5: 'kék cinege',\n",
              " 6: 'fekete harkály',\n",
              " 7: 'lappantyú',\n",
              " 8: 'fekete rigó'}"
            ]
          },
          "metadata": {}
        }
      ],
      "source": [
        "# táblázatos felvételinformációk beolvasása\n",
        "window_data_summary = pd.read_csv(data_summary_path, index_col=0)\n",
        "display(window_data_summary)\n",
        "\n",
        "# címke-madár megfeleltetés a \"label\" oszlopban\n",
        "label_dict = {i:name for i, name in enumerate(window_data_summary['name'].unique())}\n",
        "display(label_dict)"
      ]
    },
    {
      "cell_type": "code",
      "execution_count": 6,
      "metadata": {
        "id": "vnjy1Vq4V14b",
        "outputId": "caab9069-fb2d-4905-e21c-21d31ccd614e",
        "colab": {
          "base_uri": "https://localhost:8080/"
        }
      },
      "outputs": [
        {
          "output_type": "stream",
          "name": "stderr",
          "text": [
            "100%|██████████| 900/900 [00:01<00:00, 639.30it/s]\n"
          ]
        }
      ],
      "source": [
        "# 3s ablakok kivágása és exportálása a \"bird_sounds_cut\" mappába (kb. 9 perc)\n",
        "os.makedirs('bird_sounds_cut', exist_ok=True)\n",
        "for idx, row in tqdm(window_data_summary.iterrows(), total=900):\n",
        "    src_path = os.path.join(downloaded_sounds_folder, row['source_file'])\n",
        "    dst_path = os.path.join('bird_sounds_cut', row['destination_file'])\n",
        "    window_start = int(row['window_msec'].split('-')[0])\n",
        "    window_end = int(row['window_msec'].split('-')[1])\n",
        "    audio = AudioSegment.from_file(src_path)\n",
        "    audio = audio[window_start : window_end]\n",
        "    audio = audio.set_sample_width(2) # 2 bytes -> 16-bit WAV file\n",
        "    audio.export(dst_path, format='wav')"
      ]
    },
    {
      "cell_type": "markdown",
      "metadata": {
        "id": "ubCJH_jzV14c"
      },
      "source": [
        "### Dataloader"
      ]
    },
    {
      "cell_type": "markdown",
      "metadata": {
        "id": "RlFtOYG5V14c"
      },
      "source": [
        "A tanításhoz és teszteléshez adatbetöltőt készítünk, ami input-címke párokat generál a hangfelismerő modell számára.  \n",
        "Az inputok a hangfájlokból előállított spektrogramok lesznek.  \n",
        "A spektrogram a hanganyagban megszólaló frekvenciák időbeli ábrázolása, vagyis egy 2D-s és egycsatornás képi reprezentáció. Használatának előnye, hogy ugyanaz a dallam hangerőtől, háttérbeli más hangoktól függetlenül ráteszi az \"ujjlenyomatát\" a spektrogramra, ami egy jól tanulható mintázat lesz."
      ]
    },
    {
      "cell_type": "code",
      "execution_count": 7,
      "metadata": {
        "id": "pfMtWVpwV14c"
      },
      "outputs": [],
      "source": [
        "# wav fájlt betöltő függvény\n",
        "def load_wav_mono(filename):\n",
        "    file_contents = tf.io.read_file(filename)\n",
        "    wav, sample_rate = tf.audio.decode_wav(file_contents, desired_channels=1)\n",
        "    wav = tf.squeeze(wav, axis=-1)\n",
        "    return wav\n",
        "\n",
        "# előfeldolgozó függvény (hangfájl betöltése és spektrogram készítése)\n",
        "def preprocess(file_path, label):\n",
        "    wav = load_wav_mono(file_path)\n",
        "    tf.debugging.assert_equal(len(wav), 48000, message='There should be 48000 samples (sample rate: 16000, time: 3 sec)')\n",
        "    spectrogram = tf.signal.stft(wav, frame_length=320, frame_step=32)\n",
        "    spectrogram = spectrogram[:, 20:]  # low frequency cutoff\n",
        "    spectrogram = tf.abs(spectrogram)\n",
        "    #spectrogram = tf.math.log1p(spectrogram)\n",
        "    spectrogram = spectrogram ** 0.7\n",
        "    spectrogram = (spectrogram - tf.reduce_mean(spectrogram)) / tf.math.reduce_std(spectrogram)\n",
        "    spectrogram = tf.expand_dims(spectrogram, axis=2)\n",
        "    return spectrogram, label"
      ]
    },
    {
      "cell_type": "code",
      "execution_count": 8,
      "metadata": {
        "id": "RLDlJyVnV14c"
      },
      "outputs": [],
      "source": [
        "# tanító és teszt táblázat szétválasztása\n",
        "train_window_summary = window_data_summary[window_data_summary['split'] == 'train']\n",
        "test_window_summary = window_data_summary[window_data_summary['split'] == 'test']\n",
        "\n",
        "\n",
        "# tanító input-címke párok betöltőjének elkészítése\n",
        "paths = [f'bird_sounds_cut/{file}' for file in train_window_summary['destination_file']]\n",
        "paths_tf = tf.data.Dataset.from_tensor_slices(paths)  # hangfájlok útvonalai\n",
        "labels_tf = tf.data.Dataset.from_tensor_slices(train_window_summary['label'])  # hangfájlokhoz tartozó címkék\n",
        "train = tf.data.Dataset.zip((paths_tf, labels_tf))  # útvonalak és címkék összepárosítása\n",
        "train = train.map(preprocess)  # az útvonalak hangfájljaiból adatgeneráláskor spektrogramot állítunk elő\n",
        "train = train.cache()\n",
        "train = train.shuffle(buffer_size=len(train))  # random sorrendben vesszük az input-címke párokat...\n",
        "train = train.batch(16, drop_remainder=True)  # ...16 méretű batchekben adagolva\n",
        "train = train.prefetch(8)\n",
        "\n",
        "\n",
        "# tesztelő input-címke párok betöltőjének elkészítése\n",
        "paths = [f'bird_sounds_cut/{file}' for file in test_window_summary['destination_file']]\n",
        "paths_tf = tf.data.Dataset.from_tensor_slices(paths)  # hangfájlok útvonalai dataset\n",
        "labels_tf = tf.data.Dataset.from_tensor_slices(test_window_summary['label'])  # hangfájlokhoz tartozó címkék dataset\n",
        "test = tf.data.Dataset.zip((paths_tf, labels_tf))  # útvonalak és címkék összepárosítása\n",
        "test = test.map(preprocess)  # az útvonalak hangfájljaiból adatgeneráláskor spektrogramot állítunk elő\n",
        "test = test.cache()\n",
        "test = test.batch(16, drop_remainder=False)  # 16 méretű batchekben adagoljuk az input-címke párokat\n",
        "test = test.prefetch(8)"
      ]
    },
    {
      "cell_type": "code",
      "execution_count": 9,
      "metadata": {
        "id": "HY-XuEAQV14c",
        "outputId": "18c0454f-24aa-40ab-d8cc-4a060e6ec3b2",
        "colab": {
          "base_uri": "https://localhost:8080/",
          "height": 249
        }
      },
      "outputs": [
        {
          "output_type": "stream",
          "name": "stdout",
          "text": [
            "Példa batch mérete:\n",
            "spektrogram batch:   (batchsize, time axis, frequency axis, image channels) = (16, 1491, 237, 1)\n",
            "címke batch:         (batchsize,) = (16,)\n",
            "\n",
            "Példa batch 1. hangmintája:\n"
          ]
        },
        {
          "output_type": "display_data",
          "data": {
            "text/plain": [
              "<Figure size 640x480 with 1 Axes>"
            ],
            "image/png": "[encoded data removed]"
          },
          "metadata": {}
        }
      ],
      "source": [
        "# (cella első futtatása ~20s, utána 1-2s)\n",
        "\n",
        "# egy tanító batch mérete\n",
        "print('Példa batch mérete:')\n",
        "samples, labels = train.as_numpy_iterator().next()\n",
        "print(f'spektrogram batch:   (batchsize, time axis, frequency axis, image channels) = {samples.shape}')\n",
        "print(f'címke batch:         (batchsize,) = {labels.shape}\\n')\n",
        "\n",
        "# a példa batch 1. hangmintája és annak címkéje\n",
        "i=0\n",
        "print(f'Példa batch {i+1}. hangmintája:')\n",
        "plt.imshow(np.transpose(samples[i], axes=(1,0,2)))\n",
        "plt.title(f'címke: {labels[i]} ({label_dict[labels[i]]})');"
      ]
    },
    {
      "cell_type": "markdown",
      "metadata": {
        "id": "erfun-AnV14d"
      },
      "source": [
        "### Model and training"
      ]
    },
    {
      "cell_type": "markdown",
      "metadata": {
        "id": "CErN7R7fV14d"
      },
      "source": [
        "A hangfelismeréses feladatot a spektrogramok segítségével képfelismerésként kezelhetjük. A képbeli mintázatok tanulásához alkossunk egy egyszerű modellt `model` néven a Tensorflow Sequential() API-ja segítségével, ami a következő felépítésű:\n",
        "\n",
        "- a modell (1491, 237, 1) alakú képeket vár inputnak (batchekben)\n",
        "- 3-szor megismétli az alábbi 2 réteget:\n",
        "    - 2D konvolúció 16 db 3x3-as kernellel, ReLU aktivációval\n",
        "    - (2, 2) alakú maxpooling\n",
        "- az előző rétegből jövő (187, 27, 16) alakú tömböket 1D vektorrá lapítja\n",
        "- fully connected layer következik 128 neuronnal és ReLU aktivációval\n",
        "- egy záró fully connected layer következik 9 neuronnal (9 madárfaj)\n",
        "- az aktivációt úgy válaszd meg, hogy a modell pszeudovalószínűségeket prediktáljon\n",
        "\n",
        "A fent meg nem határozott paraméterek az alapértelmezettek. A megoldáshoz segítségül hívhatsz nyelvi modellt."
      ]
    },
    {
      "cell_type": "code",
      "execution_count": 11,
      "metadata": {
        "id": "jFTnldm-V14d"
      },
      "outputs": [],
      "source": [
        "# szükséges importok\n",
        "from tensorflow.keras.models import Sequential\n",
        "from tensorflow.keras.layers import Conv2D, Dense, Flatten, MaxPooling2D"
      ]
    },
    {
      "cell_type": "code",
      "execution_count": 14,
      "metadata": {
        "id": "67-zCTOxV14d",
        "outputId": "33a6536f-0b56-44fb-f35b-7e3327e55b85",
        "colab": {
          "base_uri": "https://localhost:8080/"
        }
      },
      "outputs": [
        {
          "output_type": "stream",
          "name": "stdout",
          "text": [
            "Model: \"sequential_2\"\n",
            "_________________________________________________________________\n",
            " Layer (type)                Output Shape              Param #   \n",
            "=================================================================\n",
            " conv2d_8 (Conv2D)           (None, 1489, 235, 16)     160       \n",
            "                                                                 \n",
            " max_pooling2d_8 (MaxPoolin  (None, 744, 117, 16)      0         \n",
            " g2D)                                                            \n",
            "                                                                 \n",
            " conv2d_9 (Conv2D)           (None, 742, 115, 16)      2320      \n",
            "                                                                 \n",
            " max_pooling2d_9 (MaxPoolin  (None, 371, 57, 16)       0         \n",
            " g2D)                                                            \n",
            "                                                                 \n",
            " conv2d_10 (Conv2D)          (None, 369, 55, 16)       2320      \n",
            "                                                                 \n",
            " max_pooling2d_10 (MaxPooli  (None, 184, 27, 16)       0         \n",
            " ng2D)                                                           \n",
            "                                                                 \n",
            " conv2d_11 (Conv2D)          (None, 182, 25, 16)       2320      \n",
            "                                                                 \n",
            " max_pooling2d_11 (MaxPooli  (None, 91, 12, 16)        0         \n",
            " ng2D)                                                           \n",
            "                                                                 \n",
            " flatten_2 (Flatten)         (None, 17472)             0         \n",
            "                                                                 \n",
            " dense_4 (Dense)             (None, 128)               2236544   \n",
            "                                                                 \n",
            " dense_5 (Dense)             (None, 9)                 1161      \n",
            "                                                                 \n",
            "=================================================================\n",
            "Total params: 2244825 (8.56 MB)\n",
            "Trainable params: 2244825 (8.56 MB)\n",
            "Non-trainable params: 0 (0.00 Byte)\n",
            "_________________________________________________________________\n"
          ]
        }
      ],
      "source": [
        "# MODELLDEFINÍCIÓ CELLÁJA\n",
        "\n",
        "model = Sequential()\n",
        "\n",
        "model.add(Conv2D(16, (3,3), activation='relu', input_shape=(1491,237,1)))\n",
        "model.add(MaxPooling2D(pool_size = (2,2)))\n",
        "\n",
        "for _ in range(3):\n",
        "  model.add(Conv2D(16, (3,3), activation='relu'))\n",
        "  model.add(MaxPooling2D(pool_size = (2,2)))\n",
        "\n",
        "model.add(Flatten())\n",
        "\n",
        "model.add(Dense(128, activation='relu'))\n",
        "model.add(Dense(9, activation='softmax'))\n",
        "model.summary()\n"
      ]
    },
    {
      "cell_type": "code",
      "execution_count": 15,
      "metadata": {
        "id": "YxK4d5gXV14e"
      },
      "outputs": [],
      "source": [
        "# lefordítjuk a modellt Adam optimizerrel és a szokásos klasszifikációs lossal\n",
        "optimizer = tf.keras.optimizers.Adam(learning_rate=0.0005)\n",
        "model.compile(optimizer=optimizer, loss='SparseCategoricalCrossentropy', metrics=[tf.keras.metrics.SparseCategoricalAccuracy()])"
      ]
    },
    {
      "cell_type": "markdown",
      "metadata": {
        "id": "yUzAb4j8V14e"
      },
      "source": [
        "Alább betanítjuk a modellt. A validációs categorical accuracy ennél a problémánál általában néhány epoch alatt 0.92 fölé nő.  \n",
        "(Ha ez nem teljesül, futtassuk újra a cellákat a modelldefiniálástól.)"
      ]
    },
    {
      "cell_type": "code",
      "execution_count": 16,
      "metadata": {
        "id": "ePFOLiqoV14e",
        "outputId": "eaf154ea-a70e-4019-ac71-8b4a26f42ff2",
        "colab": {
          "base_uri": "https://localhost:8080/"
        }
      },
      "outputs": [
        {
          "output_type": "stream",
          "name": "stdout",
          "text": [
            "Epoch 1/4\n",
            "45/45 [==============================] - 22s 175ms/step - loss: 0.6969 - sparse_categorical_accuracy: 0.7694 - val_loss: 0.3484 - val_sparse_categorical_accuracy: 0.8728\n",
            "Epoch 2/4\n",
            "45/45 [==============================] - 3s 67ms/step - loss: 0.0917 - sparse_categorical_accuracy: 0.9778 - val_loss: 0.2283 - val_sparse_categorical_accuracy: 0.9191\n",
            "Epoch 3/4\n",
            "45/45 [==============================] - 3s 72ms/step - loss: 0.0086 - sparse_categorical_accuracy: 0.9986 - val_loss: 0.2261 - val_sparse_categorical_accuracy: 0.9191\n",
            "Epoch 4/4\n",
            "45/45 [==============================] - 3s 68ms/step - loss: 0.0065 - sparse_categorical_accuracy: 0.9972 - val_loss: 0.4455 - val_sparse_categorical_accuracy: 0.8728\n"
          ]
        }
      ],
      "source": [
        "# modell tanítása early stoppinggal, legjobb súlyok visszaállítása\n",
        "early_stopping = tf.keras.callbacks.EarlyStopping(monitor=\"val_loss\", patience=1, restore_best_weights=True)\n",
        "hist = model.fit(train, epochs=4, validation_data=test, callbacks = [early_stopping])"
      ]
    },
    {
      "cell_type": "code",
      "execution_count": 17,
      "metadata": {
        "id": "wTBi-yN-V14e",
        "outputId": "58bb3c33-3a30-4824-d1ad-962386acf2eb",
        "colab": {
          "base_uri": "https://localhost:8080/",
          "height": 410
        }
      },
      "outputs": [
        {
          "output_type": "display_data",
          "data": {
            "text/plain": [
              "<Figure size 1200x400 with 2 Axes>"
            ],
            "image/png": "[encoded data removed]"
          },
          "metadata": {}
        }
      ],
      "source": [
        "# tanulási folyamat szemléltetése\n",
        "fig, (ax1, ax2) = plt.subplots(1, 2, figsize=(12,4))\n",
        "xticks = np.arange(len(hist.history))\n",
        "\n",
        "ax1.set_title('Loss (at epoch end)')\n",
        "ax1.plot(hist.history['loss'], 'b', label='train')\n",
        "ax1.plot(hist.history['val_loss'], 'r', label='test')\n",
        "ax1.set_xlabel('epoch')\n",
        "ax1.set_xticks(xticks, xticks+1)\n",
        "ax1.legend()\n",
        "\n",
        "ax2.set_title('Categorical accuracy (at epoch end)')\n",
        "ax2.plot(hist.history['sparse_categorical_accuracy'], 'b', label='train')\n",
        "ax2.plot(hist.history['val_sparse_categorical_accuracy'], 'r', label='test')\n",
        "ax2.set_xlabel('epoch')\n",
        "ax2.set_xticks(xticks, xticks+1)\n",
        "ax2.legend()\n",
        "\n",
        "fig.show()"
      ]
    },
    {
      "cell_type": "code",
      "execution_count": 18,
      "metadata": {
        "id": "bo0tP2CBV14e",
        "outputId": "ac2a4b82-9557-43a2-fd2a-a15119285e08",
        "colab": {
          "base_uri": "https://localhost:8080/",
          "height": 548
        }
      },
      "outputs": [
        {
          "output_type": "stream",
          "name": "stdout",
          "text": [
            "11/11 [==============================] - 1s 31ms/step\n"
          ]
        },
        {
          "output_type": "display_data",
          "data": {
            "text/plain": [
              "<Figure size 400x400 with 1 Axes>"
            ],
            "image/png": "[encoded data removed]"
          },
          "metadata": {}
        }
      ],
      "source": [
        "# Konfúziós mátrix: a modell kategóriánkénti eredményei a teszthalmazon\n",
        "\n",
        "from sklearn.metrics import confusion_matrix\n",
        "\n",
        "y_true_classes = list(test_window_summary['label'])  # ground truth címkék\n",
        "y_pred = model.predict(test)  # prediktált pszeudovalószínűségek, melyekből...\n",
        "y_pred_classes = np.argmax(y_pred, axis=1)  # ... prediktál címkék\n",
        "conf_matrix = confusion_matrix(y_true = y_true_classes, y_pred = y_pred_classes)  # konfúziós mátrix\n",
        "\n",
        "fig = plt.figure(figsize = (4,4))\n",
        "fig.suptitle('Konfúziós mátrix')\n",
        "ax = plt.subplot(1,1,1)\n",
        "ax.imshow(conf_matrix)\n",
        "ax.set_xticks(list(label_dict.keys()), list(label_dict.values()), rotation=70)\n",
        "ax.set_yticks(list(label_dict.keys()), list(label_dict.values()))\n",
        "for i in range(len(label_dict)):\n",
        "    for j in range(len(label_dict)):\n",
        "        text = ax.text(j, i, conf_matrix[i, j], ha=\"center\", va=\"center\", color=\"w\")\n",
        "ax.set_xlabel('predicted category')\n",
        "ax.set_ylabel('true category')\n",
        "fig.show()"
      ]
    },
    {
      "cell_type": "markdown",
      "metadata": {
        "id": "4Iny4GAoV14e"
      },
      "source": [
        "## 2. rész: Prediktálás libahang-mintákra\n",
        "\n",
        "<p align=\"center\">\n",
        "    <img src=\"https://i.ibb.co/BrXt004/lib-k.png\" alt=\"libak\", height=400>\n",
        "</p>"
      ]
    },
    {
      "cell_type": "markdown",
      "metadata": {
        "id": "cyYTEL-pV14f"
      },
      "source": [
        "### Hangminták kivágása ipywidget segítségével\n",
        "\n",
        "A libapásztor felvételeit a `libáim_1.wav` és a `libáim_2.wav` fájl tartalmazza. Ebből ezúttal kézileg szeretnénk kivágni az összes olyan 3 másodperces szakaszt, ahol megszólalnak a libák. Ezt segíti, ha látjuk magunk előtt a spektrogramot, és lehetőség szerint interaktív módon kijelölhetjük a kivágandó szakaszt, amit meg is hallgathatunk. Ehhez alább definiálunk magunknak egy kis ipywidget eszközt. (Ez hasonló ahhoz, amivel az erdei madarak táblázatos időablakai lettek meghatározva.)\n",
        "\n",
        "Tippek:\n",
        "- A `t0` feliratú görgő segítségével a 3000 ms hosszú időablak kezdőpontját állíthatod be. Az aktuális érték a görgősávtól jobbra látható. A plot a görgő elengedésekor frissül.\n",
        "- A `get_audio` gomb felhoz egy hanglejátszót az aktuális időablakhoz.\n",
        "- A `zoom_window` egy megjelenítési beállítás, kinagyítja az időablakot.\n",
        "- Ha kiválasztottad a kívánt időablakot, akkor a hozzá tartozó hangmintát a `Snapshot` gombbal kimentheted a `goose_sounds_cut` mappába. (A hangfájlból mentett minták információi kiíródnak a plot alatt.)\n",
        "- Kattints a `Next` gombra, ha végeztél az első hangfájllal!"
      ]
    },
    {
      "cell_type": "code",
      "source": [
        "# eszköz hangminták kivágására\n",
        "\n",
        "def process_soundfile(soundfile_path, use_denoised_logarithm = True, freq_cutoff = 20):\n",
        "    # loading audio\n",
        "    audio = AudioSegment.from_file(soundfile_path)\n",
        "    amplitude = audio.get_array_of_samples()\n",
        "    sample_rate = audio.frame_rate\n",
        "    time = np.arange(len(amplitude))*1000/sample_rate  #ms\n",
        "\n",
        "    # creating spectrogram\n",
        "    spectrogram = tf.signal.stft(np.float32(amplitude), frame_length=320, frame_step=300).numpy()\n",
        "    spectrogram = np.abs(spectrogram)\n",
        "    if use_denoised_logarithm:\n",
        "        spectrogram = spectrogram ** 0.7\n",
        "        noisy_spectr = ((spectrogram/np.max(spectrogram)) * 255).astype(np.uint8)\n",
        "        spectrogram = noisy_spectr\n",
        "    if freq_cutoff is not None:\n",
        "        spectrogram = spectrogram[:, freq_cutoff:]\n",
        "\n",
        "    # getting x1-coordinates (time [1 ms]) and x2-coordinates (frequency [1 λ·Hz]) for the spectrogram\n",
        "    len_t, len_f = spectrogram.shape\n",
        "    x1s = np.linspace(time[0], time[-1], len_t)\n",
        "    x2s = np.arange(freq_cutoff, len_f+freq_cutoff)\n",
        "\n",
        "    return audio, x1s, x2s, spectrogram\n",
        "\n",
        "\n",
        "def get_next(button):\n",
        "    global soundfile_iterator, window_snapshots, soundfile, audio\n",
        "    soundfile = next(soundfile_iterator)\n",
        "    while soundfile in window_snapshots.keys():\n",
        "        soundfile = next(soundfile_iterator)\n",
        "\n",
        "    clear_output()\n",
        "    print(f'Recording: {soundfile}')\n",
        "    button.description = 'Next'\n",
        "    display(buttons_container)\n",
        "\n",
        "    # create spectrogram from audio file\n",
        "    soundfile_path = os.path.join('/content/', soundfile)\n",
        "    audio, x1s, x2s, spectrogram = process_soundfile(soundfile_path, use_denoised_logarithm = True, freq_cutoff = 20)\n",
        "\n",
        "    # plot spectrogram\n",
        "    partial_func_for_interact = lambda t0,get_audio,zoom_window: plot_spectrogram(x1s, x2s, spectrogram, audio, t0=t0, get_audio=get_audio, zoom_window=zoom_window)\n",
        "    int_slider = widgets.IntSlider(value=0, min=0, max=x1s[-1], step=100, layout=widgets.Layout(width='100%'), continuous_update=False)\n",
        "    interact(partial_func_for_interact, t0=int_slider, get_audio=False, zoom_window=False)\n",
        "\n",
        "    print(f'{soundfile} snapshots created:')\n",
        "\n",
        "\n",
        "def create_snapshot_for_window(button):\n",
        "    global window_snapshots, soundfile, audio, time_start, time_end\n",
        "    audio_cut = audio[time_start : time_end]\n",
        "    audio_cut = audio_cut.set_sample_width(2) # 2 bytes -> 16-bit WAV file\n",
        "    cut_name = f'liba_{len(sum(window_snapshots.values(), [])) + 1}.wav'\n",
        "    audio_cut.export(os.path.join('goose_sounds_cut', cut_name), format='wav')\n",
        "    window_snapshots[soundfile] = window_snapshots.get(soundfile, [])\n",
        "    window_snapshots[soundfile].append((time_start, time_end))\n",
        "    print(f'{window_snapshots[soundfile][-1]}  -->  {cut_name}')\n",
        "\n",
        "\n",
        "def plot_spectrogram(x1s, x2s, spectrogram, audio, t0=0, get_audio=False, zoom_window=False):\n",
        "    global time_start, time_end\n",
        "    time_start = t0\n",
        "    time_end = time_start + 3000  # 3s window\n",
        "\n",
        "    if zoom_window:\n",
        "        x1s_zoom = (time_start <= x1s) & (x1s <= time_end)\n",
        "        x1s = x1s[x1s_zoom]\n",
        "        spectrogram = spectrogram[x1s_zoom, :]\n",
        "    else:\n",
        "        x1s = x1s[::3]\n",
        "        x2s = x2s[::3]\n",
        "        spectrogram = spectrogram[::3, ::3]\n",
        "    fig, ax = plt.subplots(1, 1, figsize=(15,5))\n",
        "    plt.tight_layout()\n",
        "    grid_x1s, grid_x2s = np.meshgrid(x1s, x2s)\n",
        "    ax.pcolormesh(grid_x1s, grid_x2s, np.transpose(spectrogram))\n",
        "    ax.axvline(x=time_start, color='red')\n",
        "    ax.axvline(x=time_end, color='red')\n",
        "    ax.set_xlabel('time [ms]')\n",
        "    if zoom_window:\n",
        "        ax.set_xlim(time_start, time_end)\n",
        "    else:\n",
        "        ax.set_xlim(x1s[0]-100,x1s[-1])\n",
        "\n",
        "    if get_audio:\n",
        "        display(audio[time_start:time_end]) #ms\n",
        "    plt.show()\n",
        "\n",
        "shutil.rmtree('/content/goose_sounds_cut', ignore_errors=True)\n",
        "os.makedirs('/content/goose_sounds_cut')\n",
        "soundfile_iterator = iter(['libáim_1.wav', 'libáim_2.wav'])\n",
        "window_snapshots = {}\n",
        "next_button = widgets.Button(description='Next')\n",
        "next_button.on_click(get_next)\n",
        "snapshot_button = widgets.Button(description='Snapshot')\n",
        "snapshot_button.on_click(create_snapshot_for_window)\n",
        "buttons_container = widgets.HBox([next_button, snapshot_button])\n",
        "\n",
        "get_next(next_button)"
      ],
      "metadata": {
        "id": "uGUoiYFOp7Pq",
        "outputId": "76ed079e-638b-4ff0-dc01-d052acadfc1a",
        "colab": {
          "base_uri": "https://localhost:8080/",
          "height": 661,
          "referenced_widgets": [
            "a53e7421a94d4ee2bdecb4fe298accf5",
            "16290fd75024441896efe00e0f0f5a75",
            "89dcc025e3134121827b40564253113a",
            "6056b0e69cde451688f4d5338780d179",
            "1b65974f689545a889f8eeca45bedb15",
            "2edce53e2a53423a8a5cc2088311e3f7",
            "083edf848d9b4150becf75d353842b49",
            "4e63fd86bfc7463cb40ec190599884ab",
            "529e51bb13ae4627bf27a4d9be979ba7",
            "5a0f6f57e504457f9738d282fb2e3272",
            "2e1abc3cf93e45c4b0eef9a7f483b500",
            "a8a227a01cf8483e9e4d414ea90c5e6c",
            "02f136808d614b09bb6dd8271f216ec6",
            "aa5e7b93e701470086c0a67abb0e7db3",
            "b2412326b4d74e6c9bb3fffcb52cf1d0",
            "33daa26729c0404eab286d78e9c09770",
            "f57856255d1841c697f4faeb7c51d860",
            "96bfe90b6ffb4398a6b0f4bee6110a34",
            "bc1c85c0130845caaff1526e0a64d60b",
            "c877a13b510645a5babd3aaec2e2b3f0",
            "64b28e7b605949eebb19c540b1d39038"
          ]
        }
      },
      "execution_count": 32,
      "outputs": [
        {
          "output_type": "stream",
          "name": "stdout",
          "text": [
            "Recording: libáim_1.wav\n"
          ]
        },
        {
          "output_type": "display_data",
          "data": {
            "text/plain": [
              "HBox(children=(Button(description='Next', style=ButtonStyle()), Button(description='Snapshot', style=ButtonSty…"
            ],
            "application/vnd.jupyter.widget-view+json": {
              "version_major": 2,
              "version_minor": 0,
              "model_id": "a53e7421a94d4ee2bdecb4fe298accf5"
            }
          },
          "metadata": {}
        },
        {
          "output_type": "display_data",
          "data": {
            "text/plain": [
              "interactive(children=(IntSlider(value=0, continuous_update=False, description='t0', layout=Layout(width='100%'…"
            ],
            "application/vnd.jupyter.widget-view+json": {
              "version_major": 2,
              "version_minor": 0,
              "model_id": "529e51bb13ae4627bf27a4d9be979ba7"
            }
          },
          "metadata": {}
        },
        {
          "output_type": "stream",
          "name": "stdout",
          "text": [
            "libáim_1.wav snapshots created:\n",
            "(3100, 6100)  -->  liba_1.wav\n"
          ]
        }
      ]
    },
    {
      "cell_type": "markdown",
      "metadata": {
        "id": "xkkIeWR1V14f"
      },
      "source": [
        "### Dataloader és predikciók libahangokra"
      ]
    },
    {
      "cell_type": "markdown",
      "metadata": {
        "id": "_sAjs7S_V14f"
      },
      "source": [
        "A madárhangok teszthalmazának betöltőjét alapul véve készíts egy olyan dataloader-t `test_goose` néven, ami a `goose_sounds_cut` mappában szereplő libahangokat felhasználva generál input-címke párokat a modell számára.\n",
        "\n",
        "Tippek:\n",
        "- A `paths` változóba kerülő útvonalak összerakásához a fájlnevek kigyűjthetők az `os.listdir('goose_sounds_cut')` segítségével.\n",
        "- Mivel ezúttal csak prediktálni fogunk, így a `labels_tf` dataset-ben tetszőleges címkéket elhelyezhetsz, amíg a darabszámuk megegyezik a hangminták számával."
      ]
    },
    {
      "cell_type": "code",
      "execution_count": 30,
      "metadata": {
        "id": "TQaZWtoRV14f"
      },
      "outputs": [],
      "source": [
        "# LIBA INPUT-CÍMKE PÁROK BETÖLTŐJE\n",
        "\n",
        "\n",
        "paths_tf = tf.data.Dataset.from_tensor_slices(paths)  # hangfájlok útvonalai dataset\n",
        "labels_tf = tf.data.Dataset.from_tensor_slices(test_window_summary['label'])\n",
        "\n",
        "\n",
        "sound_dir = 'goose_sounds_cut'\n",
        "sound_files = [os.path.join(sound_dir, file) for file in os.listdir(sound_dir) if file.endswith('.wav')]\n",
        "\n",
        "\n",
        "dataset = tf.data.Dataset.from_tensor_slices((sound_files))\n",
        "labels_tf = tf.data.Dataset.from_tensor_slices([1, 1, 1, 1, 1, 1, 1])\n",
        "\n",
        "test_goose = tf.data.Dataset.zip((paths_tf, labels_tf))  # útvonalak és címkék összepárosítása\n",
        "test_goose = test_goose.map(preprocess)  # az útvonalak hangfájljaiból adatgeneráláskor spektrogramot állítunk elő\n",
        "test_goose = test_goose.cache()\n",
        "test_goose = test_goose.batch(16, drop_remainder=False)  # 16 méretű batchekben adagoljuk az input-címke párokat\n",
        "test_goose = test_goose.prefetch(16)\n"
      ]
    },
    {
      "cell_type": "code",
      "execution_count": 31,
      "metadata": {
        "id": "lWx9utvQV14f",
        "outputId": "008ea1f0-c9c7-4dfd-a3be-3605223ee2a6",
        "colab": {
          "base_uri": "https://localhost:8080/"
        }
      },
      "outputs": [
        {
          "output_type": "stream",
          "name": "stdout",
          "text": [
            "1/1 [==============================] - 1s 653ms/step\n",
            "\n",
            "Prediktált madár:\n",
            "\n",
            "erdei pinty\n",
            "erdei pinty\n",
            "erdei pinty\n",
            "erdei pinty\n",
            "erdei pinty\n",
            "erdei pinty\n",
            "erdei pinty\n"
          ]
        }
      ],
      "source": [
        "# prediktálás a liba inputra\n",
        "\n",
        "y_pred = model.predict(test_goose)\n",
        "y_pred_classes = np.argmax(y_pred, axis = 1)\n",
        "\n",
        "print('\\nPrediktált madár:\\n')\n",
        "for idx in y_pred_classes:\n",
        "    print(label_dict[idx])"
      ]
    }
  ],
  "metadata": {
    "kernelspec": {
      "display_name": "Python 3",
      "name": "python3"
    },
    "language_info": {
      "codemirror_mode": {
        "name": "ipython",
        "version": 3
      },
      "file_extension": ".py",
      "mimetype": "text/x-python",
      "name": "python",
      "nbconvert_exporter": "python",
      "pygments_lexer": "ipython3",
      "version": "3.10.12"
    },
    "orig_nbformat": 4,
    "colab": {
      "provenance": [],
      "gpuType": "T4"
    },
    "accelerator": "GPU",
    "widgets": {
      "application/vnd.jupyter.widget-state+json": {
        "a53e7421a94d4ee2bdecb4fe298accf5": {
          "model_module": "@jupyter-widgets/controls",
          "model_name": "HBoxModel",
          "model_module_version": "1.5.0",
          "state": {
            "_dom_classes": [],
            "_model_module": "@jupyter-widgets/controls",
            "_model_module_version": "1.5.0",
            "_model_name": "HBoxModel",
            "_view_count": null,
            "_view_module": "@jupyter-widgets/controls",
            "_view_module_version": "1.5.0",
            "_view_name": "HBoxView",
            "box_style": "",
            "children": [
              "IPY_MODEL_16290fd75024441896efe00e0f0f5a75",
              "IPY_MODEL_89dcc025e3134121827b40564253113a"
            ],
            "layout": "IPY_MODEL_6056b0e69cde451688f4d5338780d179"
          }
        },
        "16290fd75024441896efe00e0f0f5a75": {
          "model_module": "@jupyter-widgets/controls",
          "model_name": "ButtonModel",
          "model_module_version": "1.5.0",
          "state": {
            "_dom_classes": [],
            "_model_module": "@jupyter-widgets/controls",
            "_model_module_version": "1.5.0",
            "_model_name": "ButtonModel",
            "_view_count": null,
            "_view_module": "@jupyter-widgets/controls",
            "_view_module_version": "1.5.0",
            "_view_name": "ButtonView",
            "button_style": "",
            "description": "Next",
            "disabled": false,
            "icon": "",
            "layout": "IPY_MODEL_1b65974f689545a889f8eeca45bedb15",
            "style": "IPY_MODEL_2edce53e2a53423a8a5cc2088311e3f7",
            "tooltip": ""
          }
        },
        "89dcc025e3134121827b40564253113a": {
          "model_module": "@jupyter-widgets/controls",
          "model_name": "ButtonModel",
          "model_module_version": "1.5.0",
          "state": {
            "_dom_classes": [],
            "_model_module": "@jupyter-widgets/controls",
            "_model_module_version": "1.5.0",
            "_model_name": "ButtonModel",
            "_view_count": null,
            "_view_module": "@jupyter-widgets/controls",
            "_view_module_version": "1.5.0",
            "_view_name": "ButtonView",
            "button_style": "",
            "description": "Snapshot",
            "disabled": false,
            "icon": "",
            "layout": "IPY_MODEL_083edf848d9b4150becf75d353842b49",
            "style": "IPY_MODEL_4e63fd86bfc7463cb40ec190599884ab",
            "tooltip": ""
          }
        },
        "6056b0e69cde451688f4d5338780d179": {
          "model_module": "@jupyter-widgets/base",
          "model_name": "LayoutModel",
          "model_module_version": "1.2.0",
          "state": {
            "_model_module": "@jupyter-widgets/base",
            "_model_module_version": "1.2.0",
            "_model_name": "LayoutModel",
            "_view_count": null,
            "_view_module": "@jupyter-widgets/base",
            "_view_module_version": "1.2.0",
            "_view_name": "LayoutView",
            "align_content": null,
            "align_items": null,
            "align_self": null,
            "border": null,
            "bottom": null,
            "display": null,
            "flex": null,
            "flex_flow": null,
            "grid_area": null,
            "grid_auto_columns": null,
            "grid_auto_flow": null,
            "grid_auto_rows": null,
            "grid_column": null,
            "grid_gap": null,
            "grid_row": null,
            "grid_template_areas": null,
            "grid_template_columns": null,
            "grid_template_rows": null,
            "height": null,
            "justify_content": null,
            "justify_items": null,
            "left": null,
            "margin": null,
            "max_height": null,
            "max_width": null,
            "min_height": null,
            "min_width": null,
            "object_fit": null,
            "object_position": null,
            "order": null,
            "overflow": null,
            "overflow_x": null,
            "overflow_y": null,
            "padding": null,
            "right": null,
            "top": null,
            "visibility": null,
            "width": null
          }
        },
        "1b65974f689545a889f8eeca45bedb15": {
          "model_module": "@jupyter-widgets/base",
          "model_name": "LayoutModel",
          "model_module_version": "1.2.0",
          "state": {
            "_model_module": "@jupyter-widgets/base",
            "_model_module_version": "1.2.0",
            "_model_name": "LayoutModel",
            "_view_count": null,
            "_view_module": "@jupyter-widgets/base",
            "_view_module_version": "1.2.0",
            "_view_name": "LayoutView",
            "align_content": null,
            "align_items": null,
            "align_self": null,
            "border": null,
            "bottom": null,
            "display": null,
            "flex": null,
            "flex_flow": null,
            "grid_area": null,
            "grid_auto_columns": null,
            "grid_auto_flow": null,
            "grid_auto_rows": null,
            "grid_column": null,
            "grid_gap": null,
            "grid_row": null,
            "grid_template_areas": null,
            "grid_template_columns": null,
            "grid_template_rows": null,
            "height": null,
            "justify_content": null,
            "justify_items": null,
            "left": null,
            "margin": null,
            "max_height": null,
            "max_width": null,
            "min_height": null,
            "min_width": null,
            "object_fit": null,
            "object_position": null,
            "order": null,
            "overflow": null,
            "overflow_x": null,
            "overflow_y": null,
            "padding": null,
            "right": null,
            "top": null,
            "visibility": null,
            "width": null
          }
        },
        "2edce53e2a53423a8a5cc2088311e3f7": {
          "model_module": "@jupyter-widgets/controls",
          "model_name": "ButtonStyleModel",
          "model_module_version": "1.5.0",
          "state": {
            "_model_module": "@jupyter-widgets/controls",
            "_model_module_version": "1.5.0",
            "_model_name": "ButtonStyleModel",
            "_view_count": null,
            "_view_module": "@jupyter-widgets/base",
            "_view_module_version": "1.2.0",
            "_view_name": "StyleView",
            "button_color": null,
            "font_weight": ""
          }
        },
        "083edf848d9b4150becf75d353842b49": {
          "model_module": "@jupyter-widgets/base",
          "model_name": "LayoutModel",
          "model_module_version": "1.2.0",
          "state": {
            "_model_module": "@jupyter-widgets/base",
            "_model_module_version": "1.2.0",
            "_model_name": "LayoutModel",
            "_view_count": null,
            "_view_module": "@jupyter-widgets/base",
            "_view_module_version": "1.2.0",
            "_view_name": "LayoutView",
            "align_content": null,
            "align_items": null,
            "align_self": null,
            "border": null,
            "bottom": null,
            "display": null,
            "flex": null,
            "flex_flow": null,
            "grid_area": null,
            "grid_auto_columns": null,
            "grid_auto_flow": null,
            "grid_auto_rows": null,
            "grid_column": null,
            "grid_gap": null,
            "grid_row": null,
            "grid_template_areas": null,
            "grid_template_columns": null,
            "grid_template_rows": null,
            "height": null,
            "justify_content": null,
            "justify_items": null,
            "left": null,
            "margin": null,
            "max_height": null,
            "max_width": null,
            "min_height": null,
            "min_width": null,
            "object_fit": null,
            "object_position": null,
            "order": null,
            "overflow": null,
            "overflow_x": null,
            "overflow_y": null,
            "padding": null,
            "right": null,
            "top": null,
            "visibility": null,
            "width": null
          }
        },
        "4e63fd86bfc7463cb40ec190599884ab": {
          "model_module": "@jupyter-widgets/controls",
          "model_name": "ButtonStyleModel",
          "model_module_version": "1.5.0",
          "state": {
            "_model_module": "@jupyter-widgets/controls",
            "_model_module_version": "1.5.0",
            "_model_name": "ButtonStyleModel",
            "_view_count": null,
            "_view_module": "@jupyter-widgets/base",
            "_view_module_version": "1.2.0",
            "_view_name": "StyleView",
            "button_color": null,
            "font_weight": ""
          }
        },
        "529e51bb13ae4627bf27a4d9be979ba7": {
          "model_module": "@jupyter-widgets/controls",
          "model_name": "VBoxModel",
          "model_module_version": "1.5.0",
          "state": {
            "_dom_classes": [
              "widget-interact"
            ],
            "_model_module": "@jupyter-widgets/controls",
            "_model_module_version": "1.5.0",
            "_model_name": "VBoxModel",
            "_view_count": null,
            "_view_module": "@jupyter-widgets/controls",
            "_view_module_version": "1.5.0",
            "_view_name": "VBoxView",
            "box_style": "",
            "children": [
              "IPY_MODEL_5a0f6f57e504457f9738d282fb2e3272",
              "IPY_MODEL_2e1abc3cf93e45c4b0eef9a7f483b500",
              "IPY_MODEL_a8a227a01cf8483e9e4d414ea90c5e6c",
              "IPY_MODEL_02f136808d614b09bb6dd8271f216ec6"
            ],
            "layout": "IPY_MODEL_aa5e7b93e701470086c0a67abb0e7db3"
          }
        },
        "5a0f6f57e504457f9738d282fb2e3272": {
          "model_module": "@jupyter-widgets/controls",
          "model_name": "IntSliderModel",
          "model_module_version": "1.5.0",
          "state": {
            "_dom_classes": [],
            "_model_module": "@jupyter-widgets/controls",
            "_model_module_version": "1.5.0",
            "_model_name": "IntSliderModel",
            "_view_count": null,
            "_view_module": "@jupyter-widgets/controls",
            "_view_module_version": "1.5.0",
            "_view_name": "IntSliderView",
            "continuous_update": false,
            "description": "t0",
            "description_tooltip": null,
            "disabled": false,
            "layout": "IPY_MODEL_b2412326b4d74e6c9bb3fffcb52cf1d0",
            "max": 23799,
            "min": 0,
            "orientation": "horizontal",
            "readout": true,
            "readout_format": "d",
            "step": 100,
            "style": "IPY_MODEL_33daa26729c0404eab286d78e9c09770",
            "value": 3100
          }
        },
        "2e1abc3cf93e45c4b0eef9a7f483b500": {
          "model_module": "@jupyter-widgets/controls",
          "model_name": "CheckboxModel",
          "model_module_version": "1.5.0",
          "state": {
            "_dom_classes": [],
            "_model_module": "@jupyter-widgets/controls",
            "_model_module_version": "1.5.0",
            "_model_name": "CheckboxModel",
            "_view_count": null,
            "_view_module": "@jupyter-widgets/controls",
            "_view_module_version": "1.5.0",
            "_view_name": "CheckboxView",
            "description": "get_audio",
            "description_tooltip": null,
            "disabled": false,
            "indent": true,
            "layout": "IPY_MODEL_f57856255d1841c697f4faeb7c51d860",
            "style": "IPY_MODEL_96bfe90b6ffb4398a6b0f4bee6110a34",
            "value": true
          }
        },
        "a8a227a01cf8483e9e4d414ea90c5e6c": {
          "model_module": "@jupyter-widgets/controls",
          "model_name": "CheckboxModel",
          "model_module_version": "1.5.0",
          "state": {
            "_dom_classes": [],
            "_model_module": "@jupyter-widgets/controls",
            "_model_module_version": "1.5.0",
            "_model_name": "CheckboxModel",
            "_view_count": null,
            "_view_module": "@jupyter-widgets/controls",
            "_view_module_version": "1.5.0",
            "_view_name": "CheckboxView",
            "description": "zoom_window",
            "description_tooltip": null,
            "disabled": false,
            "indent": true,
            "layout": "IPY_MODEL_bc1c85c0130845caaff1526e0a64d60b",
            "style": "IPY_MODEL_c877a13b510645a5babd3aaec2e2b3f0",
            "value": false
          }
        },
        "02f136808d614b09bb6dd8271f216ec6": {
          "model_module": "@jupyter-widgets/output",
          "model_name": "OutputModel",
          "model_module_version": "1.0.0",
          "state": {
            "_dom_classes": [],
            "_model_module": "@jupyter-widgets/output",
            "_model_module_version": "1.0.0",
            "_model_name": "OutputModel",
            "_view_count": null,
            "_view_module": "@jupyter-widgets/output",
            "_view_module_version": "1.0.0",
            "_view_name": "OutputView",
            "layout": "IPY_MODEL_64b28e7b605949eebb19c540b1d39038",
            "msg_id": "",
            "outputs": [
              {
                "output_type": "display_data",
                "data": {
                  "text/plain": "<pydub.audio_segment.AudioSegment at 0x7b96c4666aa0>",
                  "text/html": "\n                    <audio controls>\n                        <source src=\"data:audio/mpeg;base64,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\" type=\"audio/mpeg\"/>\n                        Your browser does not support the audio element.\n                    </audio>\n                  "
                },
                "metadata": {}
              },
              {
                "output_type": "display_data",
                "data": {
                  "text/plain": "<Figure size 1500x500 with 1 Axes>",
                  "image/png": "iVBORw0KGgoAAAANSUhEUgAABcsAAAH4CAYAAACVNbXGAAAAOXRFWHRTb2Z0d2FyZQBNYXRwbG90bGliIHZlcnNpb24zLjcuMSwgaHR0cHM6Ly9tYXRwbG90bGliLm9yZy/bCgiHAAAACXBIWXMAAA9hAAAPYQGoP6dpAAEAAElEQVR4nOz9e4xl2V3fDf/2PnXpqu66dPW9Z8bj8QVfgoG8wY+ZEPEabPkCQiHxq1dWCBcJQYTGSEAUkBGJwBAsEFLyEhH8/BFBkHCSJxIXxfA43G0RjAMOPA62Mb7MeG59766q7urqupy93z96ptb399tnrdlVrpmu6vP5SJbOOXvttdde63dba9r1rdq2bQ0AAAAAAAAAAAAAYIyp7/UAAAAAAAAAAAAAAADuNRyWAwAAAAAAAAAAAMDYw2E5AAAAAAAAAAAAAIw9HJYDAAAAAAAAAAAAwNjDYTkAAAAAAAAAAAAAjD0clgMAAAAAAAAAAADA2MNhOQAAAAAAAAAAAACMPRyWAwAAAAAAAAAAAMDYM3GvB7AXmqaxZ5991ubm5qyqqns9HAAAAAAAAAAAAAA4gLRtazdv3rTz589bXZf/7fihPCx/9tln7aGHHrrXwwAAAAAAAAAAAACAQ8BTTz1lDz74YLHNoTwsn5ubM7O7Lzg/P29mZv9w4Tvv5ZBGUxX+S0Xb9G+b634wSN0Nh4Vh5P/1fdu0+QfIGPVZJbS/zj3xnXP3yXhL4+vbLnfPC96n49X1Ka1d4R2/XKZt2/4v+20zM/v/2rfYxuF037tEe8/YWlwfXT9t12xu9n/WHijamoy9nprKtnM+GuzE+UrBntw7b23Lcyddu2Zzy3ZLPZm3J31WHFM9PZ3abWz0ft59Zc99yNlhIWZUE35dta2zp9C32ms9c2Tnc3PH+0k1SPe129vumt7Xqj1N+Lje3F6X/tK1en7OP2sire/wxkpqd2TKtXNjLMVTeefBuVP+2mSat+3Hn0pDP3/GP+v6jTSOB8/7Pq4tp2FsJrtuXvty12zwxQupna7P2m3fn8xbuyHvGNau3U5zHde/FENgDxRyQy7ml+Kkq2Mmg5+IXZdqN1ejRL8eaG5Iz4r5z8XkQi7om9d0HH1rqDhPpRo11y7WkO5Z2P+holTXuXal/UrGNkp14l7o2Oo+1JD7Qs7md7PXhENDcd8ta17MIcJe98m5fUdsm9vHlyj5brymOaX33r3wrN73a/6LOSmX1/C7/aVTC/WsoYRSXHd217Od2S5sKjO+3dh/rl1fevtTz7O6ERd3PaZ7ybZt2Z/Y7+ycKZc4lKcTz//plfn5+Z3D8olqsnTLvaFYYO3DYXklwaK06Sv8qZq2Kjm6HGBWPQ/Lpb/uPQUHdPdVI3+P9G2Xu+eF78sclhfX7sULFpNtZfPPf7ZJG1aH0n3v0rHX0bYW10fXT9s1pXXcj8Pyoq3JYbnEodiuLdiJ85We7RoZU12FA8c97BXrgj01zm/CYbk8u6n62/99Zc99yNph4bC8k9fkMFb7i4Vkxjain3hf80aj97V6KaxTU6XNk/ZX194mq3pC2qX36tqujrHnYXk97a/VMm/yrInQrpFn14PYh76/HExOHHHNBtpOD8urcEgp8+ZiQzws17PSsP6lGAJ7oGfdpOtVipO+jol+Mro2irWbq1E617SmSusf/dr7fHa4vfOa2yz2rKHiPJVq1Fy7WEO2fWMDHDhKdZ1vV9qvjLaNUp24Fzq2elAOy3M2v5u9JhwaivtuPSwv5RBhr/vk3L4jts3t40uUfDdeq3M1VIfMYXnP9y/t8bs5afd1PeyBQi3U3/7zcd3bXb92d9vu4bC8YON7Of/qS39/6ndW1+WQ2fxzr9JnLg9KBQAAAAAAAAAAAAAAcM/gsBwAAAAAAAAAAAAAxh4OywEAAAAAAAAAAABg7NnVH4l9//vfb7/+679uf/M3f2MzMzP29//+37ef/dmftde85jU7bd785jfbRz7yEXffP/tn/8w+8IEP7Hx/8skn7fu///vtj/7oj+zYsWP2Xd/1Xfb+97/fJibus79Zu1cRz5yw5Av1n222R1GLnv1lhQZ2IxLghOuk75LAk5ubnuJRuxFTyM19QZzypRL7PLD0FUzrK6DUmcOMqFNPP9mNYFhfQSp3jwh8NlHgT8dREO6r6n5/p7mv6G5uDLG/kiCpm4vt0Mc42vle6BvXC9f62uFgcTHd40Qh11271ulFhvVvMuMNQqDOlvUdg7Cg613jfUkwKoQJLyAlz4rzImN0+SkK0Mp97TMX/TWx+UrETqv//XnfxVDGoQLEU/5vscf33LnliP9b6cNbMm/41r5SFEztSUdMytl/WrvmTrA1t5Y9NWBK4yvEExWJLVKoofS9+s5TX3GqvnFsL+sD+8Bu9h09RdJya94RTCutea5e6Vkn9hZnKwhm991D9H1WUdB0n/duxb0L3Bt2YWu+Xb99Qt971O/aJuSTJlNPdfrfvahnyU/iNRUX3ZtIdj62+HkvrEnhWe7aXs57xpGe5ykd29rLvPVck93UiX391e15msJ79XjOrijYfxTrzT1rX0Q9D/nZ2K5Opz/ykY/YY489Zm984xtte3vbfuzHfsze9ra32ac//Wk7evToTrvv/d7vtfe9730732dnZ3c+D4dD+5Zv+RY7e/as/emf/qlduHDBvvM7v9MmJyftZ37mZ/bhlQAAAAAAAAAAAAAAdseuDss//OEPu++/8iu/YqdPn7ZPfOIT9g3f8A07v8/OztrZs2dH9vG7v/u79ulPf9p+//d/386cOWNf8zVfYz/1Uz9lP/qjP2o/8RM/YVPhX2MBAAAAAAAAAAAAALzYfFl/s3xlZcXMzJaWltzvv/Zrv2YnT560r/zKr7T3vve9dvt2+nMEH/vYx+wNb3iDnTlzZue3t7/97ba6umqf+tSnRj5nY2PDVldX3f8AAAAAAAAAAAAAAPaLPf+R8KZp7Ad/8Aft67/+6+0rv/Ird37/J//kn9jDDz9s58+ft09+8pP2oz/6o/bZz37Wfv3Xf93MzC5evOgOys1s5/vFi+Fvhj7H+9//fvvJn/zJvQ4VAAAAAAAAAAAAAKDIng/LH3vsMfvrv/5r+5M/+RP3+/d93/ftfH7DG95g586ds7e85S32hS98wV75ylfu6Vnvfe977Yd/+Id3vq+urtpDDz20t4EfUPwf1M8LV5QE+XoRRQydiFO/Lop//H8PIlbPdTry56KYzh7En4piQvsgpgp5nHBLFNp0a5m3m5zAX6c/FTgr+Uxf8c/MPd3+C/2pmGJJkCbTd7xPhQF7+0JR4Kkw74X+EWHbA6V4UliTkgiR0ty8Ke16itN2BHQy9wUh7krENJ2Nb26GQY0W7ukr6GZmVg30s3xZv+PvE0FOP4aC/y8t+kurt9JnESutHnnQt/vcEzKm9GfknECqmTUyHzrXwygE3FcYCvpRsLVyPZGJhz3Feat4eyvir5PJh0pCiPXkRPZakcw4usKf/WL+3oTbmsK1nqJY1GQHg4KYbFbgsqeYekdMby/C6n1rtxe4b9T4Yn99xc/6itiX9jhFCuJ32ZyKzxw8CuK0pfUqigTuRUy+ytt4sV7TGqokCp1pV37Hgm/0tGXNeSXhxj0JAZeuFfaJ+KHQc54651N97VrtrrCuPj+FOqnwrOz5V7ynZ/wPF+VLPseVzlOK5yQ9a7xivZabm/vMxve0K3vPe95jH/rQh+yP/uiP7MEHHyy2fdOb3mRmZp///OfNzOzs2bN26dIl1+b577m/cz49PW3z8/PufwAAAAAAAAAAAAAA+8WuDsvbtrX3vOc99hu/8Rv2h3/4h/bII4+84D1/9Vd/ZWZm586dMzOzRx991P73//7fdvny5Z02v/d7v2fz8/P2+te/fjfDAQAAAAAAAAAAAADYF3b1Z1gee+wx++AHP2i/9Vu/ZXNzczt/Y3xhYcFmZmbsC1/4gn3wgx+0b/7mb7YTJ07YJz/5SfuhH/oh+4Zv+Ab7qq/6KjMze9vb3mavf/3r7Tu+4zvs537u5+zixYv24z/+4/bYY4/Z9PR06fEAAAAAAAAAAAAAAC8Ku/qX5b/0S79kKysr9uY3v9nOnTu387//8l/+i5mZTU1N2e///u/b2972Nnvta19r//yf/3N717veZf/tv/23nT4Gg4F96EMfssFgYI8++qj903/6T+07v/M77X3ve9/+vhkAAAAAAAAAAAAAQE929S/L25zg13M89NBD9pGPfOQF+3n44Yftd37nd3bzaAAAAAAAAAAAAACAF41dHZbDl0lBKTerXh6VZjN99FVQj8rzJaXg3DiKKtc5dfnuQLL9l28brVhdUhQutdPxFlWJS4y7ynXP93dzHWwouw59Vagt2GTmvnrSh7xmczPTX7BlVeWOPpSho7y93U+hvuhDep+2k/fY1ZgK76Jz1RT637PfwGgKsbZvnHe20Wyn/qKN103+mnxvNu7sfK5nZ/PjlWdVwYyrqanUbmMj/T4x6dqprZXet9lMc1PXx9y19vZtGZMo3of51O/t9WX/gIlk/9WR9Cfi2i896/vQeWtkPje3XDv1J31uLfNiZtZup/vwrf0lxn9dh1Lc1WvduD56vbqxVq5VPeu1XF1ocbz5mqxvPo252/VfyvFa/4kvx/mspF2ztW1wgNlFHZuz0WKdtIe9y3Odpvv2ULt3687+j+6D32v09zV/aVf/h+/n7mHvcr9QjPkSX13t0qnrxA4lP/Xdn5f8pOuvo/dJkdz+L/bXd19fyt25eSrluNJ8ls44XP99/Wnc/a5nPVHKE0XbEJvvm2v6xu6Sr1k1qQ39fX3P+Hpec+MtnMk5/yzQt3YtUZzDQ27nu8/KAAAAAAAAAAAAAAD3GRyWAwAAAAAAAAAAAMDYw2E5AAAAAAAAAAAAAIw9HJYDAAAAAAAAAAAAwNiDwOd9Ql+By6I4RbdTuW/07889YOQ4egth7IY9CC0WhQv2MqaS6Oq401OQs2MbfQWKcuIfUbgmsyYdey8KjWSEZkritK2ICcZ3KozXCZLoLfG9VEBjfT39HtupgNoexD7uPnz0eEuik84n8Ys9URI4ytlhFMl0duMEjqpsOxXnLNKGMfUUrmlVuFPFPoPY364E356jWbvtfxj2s716ZiY9d2nRXWtvrckDZK7PnHLtqmcvjnxuFcUk9T11buL7unkrCffADqWcnBO7DN97i6QXckg9Jf6UielmXvy1KLoWRaJ0vBPyzlWh/ivVbgXR+Vy73kLY23kxNff7LkSnsf99Zi9Cc3sVrsvYV7Emi91PjBZQK4rp5gTYQh999wJ7qlVDn6V6ak82vle/wJ/uPYXctav9eqZdsXZX4U4Xx/M1SSmv9RVk3POZhD4q1Lyuj9IYezyrlJN2E6/yDx5zv+ubQ/SW3ezd9yIg7e4pCTAXasjS9noPduJzV9hPlfykythrVRAn1b57nifGtn199zDCvywHAAAAAAAAAAAAgLGHw3IAAAAAAAAAAAAAGHs4LAcAAAAAAAAAAACAsYfDcgAAAAAAAAAAAAAYezgsBwAAAAAAAAAAAICxZ+JeD2CsKKnh7kVRufiopFjbV623qACt6rgF9W73c1GsN6+oWySjcty5v6Ao3hfff8+1G0eVa33nkh27dlHJXNTbS+uaU7kuzLu3/2gLqhTtx+5U5JvtbP/ZZ5fG1FGlH4z+PDXl2g3Xbo9uN1FQ/O67Jubnpj53Jj33qafz3Ysqfbu5mX8W7Jr6yLT7rvPr4muwNddO1co7/tQv7uoaW5W3NeeTA2939czMzufm1poMdh9iZuvfo16YS8+6fEUu+LE3dzZ2Pg/W7/g+da4m5V1Wb+bbaf8lZXjNT9N+jd19bciT96/Y/JdHyYYK8a+Ya1w7Wa+JkLvk2RrXY+w257vSLuSkdntLH+zHIW0b6S/WU7map9ny7xjvy/Xh8lWMNc3o+qczBs1X0l+x9hvHeuql5MWc3757mj3ufWIN1afPTt2l9q+1ZbTdjI/H+0q1ZjEPZ/rrvU/quSeDQ0DGnjoUYq2LyWobhXqv6E9tykkd38jsf4v51O2tfLvifi3jh/WkP8rSPFd6Vm7vWtqfFc8C+jLuZwZKIXaV5r10PtO/rpN2Pev1vearvmNyj9Ux9dyrxWe5fX3fPBF/L/jGl53nD4n98y/LAQAAAAAAAAAAAGDs4bAcAAAAAAAAAAAAAMYeDssBAAAAAAAAAAAAYOzhsBwAAAAAAAAAAAAAxh4EPl9KioIcuxe49D/3E13rtsuIOO2CrIBmQUwgvm9u/KV56SuSU7qnr9DIfgg83LdkxEqKojP7/NxqyouutZsqSCO3hDHlBNNi/3vx3U674Wb2mm8nfth48YsoZLPD0LfrLSZSmsOr1/L3aTsVpIPdE+OJiqkEm8wJLXfi2oSKlRWerXZdyCGObS92q/c5AcGNDdeuVcFDzUlRCFEFRMOzsjkqiI42yys6wPRRREbNzCoV9Qx96Nw734hzHURYd+6/499fRSKdeHYQFu1dC8Cu6QjmFURyc6LLnXiXi6HDKIQpomMFYam+guQq/ttuBQFqzWtihyXBtKL/6ztO5PO4zmff9yiKGPattQ6JSNSBo6/QXKFdVgh2H4TQiu1K9lUSJBOysbYgcLYbobV7Bn5zeCjZWqltqf7rK1xYja4T4z319JF8fznRzVDXNZqjMs81C/k1Cpxn/LWvmKiZH3vfPWlRuHcv5yb4XaIwF33Pf3oLIRco551+tYwTbu95JtfpoyRwuxdK8SR3nhhrPLdGe7T/Q27znPoBAAAAAAAAAAAAwNjDYTkAAAAAAAAAAAAAjD0clgMAAAAAAAAAAADA2MNhOQAAAAAAAAAAAACMPRyWAwAAAAAAAAAAAMDYM3GvBzBWFNSrs/RUyu4o0mYVcPsrN/dVpc+9Sz3p72+2dq9e3Fs1uNDfXhWVfbtav2TbjTsl9eaiPamiek+Fctff9ra/6PrLr7EqtHdsSFXZXdd55XkTP+y007kJ/ulUtKVdFRTlh+t3RrYbnJj37a5eGz2+TlyQeDD0dt3qd3efjyHVxGS6Z3PT4DlKKuRKJ57k7SQXv+vJkMp1zQvxT22ok0MG6dnqGbGd2pf7PD3t2jnbqKRdsPHm1prclI+1+s7VkfCstXSfvuPw0pXs2JvlFf8AnZvb6zKkMCaJPdXMTGoX5zMTkyJ+TeJFuY88tGvimrh1iL6Wqdc6OU7aNRKf62CTzjfE5ts7G73HW+mjNdcUbE39pFgLxT5cd4X379lf3/t6g/0fCPrW7q5dYe20/uvUjLkY2tknja75SvukvvVpp53GiYIPuT40xhfq3c7c5uYtxq42U7vhM/eO3DoU6sSuTY6OoR07cXadX3PnG9JHrCfdXqiQJzU/6d6q86xCf73zhLNlf0/Ol4t7N7c+e4tdofN+7SBLMXYL3Tp59Nzv+dypEOP72lqfe3ZD3z2EyzXhTCN37tDtMJ9DinvIXB9uEIcjJ+HNAAAAAAAAAAAAADD2cFgOAAAAAAAAAAAAAGMPh+UAAAAAAAAAAAAAMPZwWA4AAAAAAAAAAAAAYw+H5QAAAAAAAAAAAAAw9ky8cBPYN3oqYDt6KmVHNeCcynVRNd3ipX5KwblnFVWDO+81HNmupF5datdnfM/9IB/7rUlUDS4qAN8v7EqxvQclRWVZo6IqdUGh3PWhytBTU74/UWzv2Jquc5W3L/esibwKfbPVZq85u9a52Nhw7VSlvtncTJ9Xb+bH5xSvO4NP147O+GubopydU7K3MbH/F5NCTC7FNdcurkHJh7QLua/zLFl/bVfPHPF9SLtqYnLk72Zm1VS6ZtvJ75rQzt/UMyZP+FKmWpjb+Ty8vrzzuT4669o1a7fTtWNH/bVba6m/glJ8JffpOKr1dd+f+L/6cST6F/Sg4EO52HqXQuzSPgrrr+2ibxTHmO1udO7aDXqf5ok65D9X84Qc5/KG+HWMJ7n4r/fcHYjUhqX4VKhJYZ/pO9d92+Xqs9hMa5xC/dC/rq+z10r4PdRQL/S6/27T/Z2bPdl/6Z7SvhNfe+nIzXX8vWB7WRuNfbSj97yx7mhk/1M6T3C2W/BX9et6MuSJks1nntVF9zL9YojmtVLu0r1b6XyidCZR2pO6PktrN26U7L10duW6yNtaMRdkYmPHnvru/wu1pt+H97TdnpTs2u3dQv2XG0f3nEz2ePtx/nUIbZ5/WQ4AAAAAAAAAAAAAYw+H5QAAAAAAAAAAAAAw9nBYDgAAAAAAAAAAAABjD4flAAAAAAAAAAAAADD2IPB5wCkJFxQFaarRQoOdP8Zf+kP7GUGFrvhBTqyinyiW2YsveFBomL0nJ9ZREj85jMIFuyaKaep89BXk26MghxO/07ULohMdIcvn6bQTuwvCelU9Idd2v64qnnO3v7zArT7bvUtBdFbFOuq5Y+7a9pVrI/vrLbJjZtX0dBrG8nK23eDUiZ3Pw8tX0rPQ/fyyiYIsKtZXosoJSA79/U6ELwpLqp9r/Auis04YJ+OfJQbHF9z3ZmU129bnBvGTKISo33XsW8HHC2K6OQHVetaLhLr7CnksK2I8VRBCROyzHz2FyttmO9uub59RJLpVkej1OzufB0FMVkWSSwK8JVFPJxKl8T+2ywhjRZss5oPMfSUx+dB5tj/XrOQnvWtN2FdKQpB7rPF8d/3qkOL+pySmZ5lYWxLM7bkX6PSRERPudj/6Wmcu+oqL9l2TTB4v3odv7T+7EI19no6YZK6WL+3/tRQq7f+ryWy7ekZqlFiCZmwl7n/88PqJzu9HrHF1XJzPidHvXMzJcf+7iz0VjGAXArf5LnqKrkYyz+qbJ8zyYpql98gJ6476vtN34R3js9Tn3VzE/USmxuuIs7cF/xqTmox/WQ4AAAAAAAAAAAAAYw+H5QAAAAAAAAAAAAAw9nBYDgAAAAAAAAAAAABjD4flAAAAAAAAAAAAADD2cFgOAAAAAAAAAAAAAGPPxL0ewNjSUwG4o16t7Qpqu1ll5/Dcouqv9idKvPXUVPZaG4abHVNHbVcU5VXxu6PeK/cVVOiden1JKbtEX7V55X5VBt7LXBT6aJs6e80so/genq12Mji+4JoNb6xk+o7diVJ06b36vrP0V0/68OoVsPv5YfT/SvtUFe4NL1Gf86Hou82m3Lfpfa1p0hjrY8fSY1dWXLv25q30GWX4RMn/C3FCfSPaUKVrvr0P8WUg4xjmbbyenU5ftrez7ZotjbthfMPRMaRZu53tL9qTi+sTMt7CmByhnctrR4/F1qmd+Ek7c8RfUx/VzzFmZHJcVft2rbYLedI9637KL/tNxr/61jt3kTWSuNnpQ+uaqWQb7VbBTzY3s9cq6b6U/9QWYrv62NH0rFtr/Z4Va0332Eq/ZNuZ5cek11zeDY91Ph7m2vV5v9ZaB5HSXOf2LmH9fcwbXe/tikKc9BQ2Jdmu91bHlO5zNr8fdVLJD3P+sNfaHV48CnvyYv3TMyZnzwIs+qReK/hkrFddzZPfd+dsvlTjdMar+xdp14Rcq/sc11/htQZHZ1N/dzb8c53v1uHa6Lq2cxZCjkoU8kkuTpbOcfrG0049kbG1Tn8yxnoqGpHuteVdOvu60WPsmzOK7x/PCXL1VRVtV/ocuMIz+6zSGJ1vxD4Ouf2TOQEAAAAAAAAAAABg7OGwHAAAAAAAAAAAAADGHg7LAQAAAAAAAAAAAGDs4bAcAAAAAAAAAAAAAMYeBD7vFYU/tJ8VMSp2F8Q0VPxJ9TcKAlclUYOcsFTnvpKIY09BpqzoQKf/fRDxLFASWhlrCgJPJdGZkiChs0tnJ1HgNfOsILpXraymL4PRojDdZ/UbX0lMo9TO+1Ne4Na/YxRJlD5LYnWZdymJuMX+qomUHtqNjdgaXoi9iAKb+RhXWq+S2HNG/K8rrKzizAWBv2HGP82cqK2p0FLMceKj7W0R9dzOC+F047oIUh0R0dGF+dEDfwFUMLddW89eq08s7XxuVm5m+2tFGKoK4qxtRtQxikn59z/cojj3jJwgdcxJBTEx5w9i15111Hi9nbf/nHBlUcQ95D8nNKr+tLnq2qmoZ7GecoKxefE3X08W8l+pDsvUbkVxulLdVRIdP+RiUveEvoKp+yLwXhBxLfhkbhx7tsnM+Ir7s8Kz9p2+dhzXZC/it/jMS0dhrvsK/pVF4jNimiqQaUG4vChOnvfXkh/6ZqP3SR2BR6lROzlZxpsXJzUnXF/1rKdd36F20xptN0KLjlzcHEe/K8TaXP1frJM63WfENEtCmIV9h55lFWuSUk7KnHG021vZdsW9kNad8SggY1P7kU93sw57andA/YF/WQ4AAAAAAAAAAAAAYw+H5QAAAAAAAAAAAAAw9nBYDgAAAAAAAAAAAABjD4flAAAAAAAAAAAAADD2cFgOAAAAAAAAAAAAAGPPxAs3gX1jD+q9XVXejMpv+L2jWN1jDGYF9d6+qELvblTi5b5ma3vnc31k2jVTxWr3e0Gh2F0rqpDvw387OqBKvgeNkl3Xk3It2KAqMbt1XVv3/R87mr5Iu2g/TvV8w/aV3qr2Ztaq66kNhfdXNft2Pb1zu+UVtQsPDj/IfK6v59sO9uAb8Vnj5hvxfXOxt9BO19vMrLkz2kg7iurTR3Y+18fS5078bAtq69pM/K4+OuvHtHZ75D3F/KHvOOnLELXDZqsQ12UuqtWb/uLk5Mhn1SeWXLPhlWv5cajq+8Zmvl2TUZ4Pa6dzX8pxY+cnLwaZOiTaZDafhD7cmpRqKO0/9Od8SNc8rLf6cjUx6a65XLZ+J7WLvpYbYxXzznB0u3DNtQt967XePl+nd+6MITfvI56dbQe750Wew3wdnreZUg0VGoavPesVuc/Zbql26fmsUqwp4e5r++3/9qPWgBeZnH+FNei7b3ZxN9xTS42iNtOpH2VM9cxM+lnqEzOzejbVfM3NUGvlxhfPJGSMrv4J9ZTf//gaKjcznTy5nfrXcUSfrOSdh1JD1rs4q9nVOUfqZPf33E+U4o7MjcbWUo3TO7YW1mqv13J+GPOCt0Ppu1i7Fd6rUJOWbL4Pu7Fp/857y9eHATIlAAAAAAAAAAAAAIw9HJYDAAAAAAAAAAAAwNjDYTkAAAAAAAAAAAAAjD0clgMAAAAAAAAAAADA2IPA573iRRZayQsy7U3EsyjitBeRnJ7if1FoRHHCAsP8e5XEqXqLqfQUaywKCx1CUYM+ZOew9L6d9U+iZjrXvYVrowDlRrIbFSCsVfjTzAnBlITL3BhKNjOVhGbajPCh2QuIyTkfCs+K35//uSOEq4KP8h67EJN0YpDbed9V0aA9iX2MIz1jQRRddXFNRT375o9hXkwwrlet9qCiOwWRXOczpXdUsacoOpURAuyMUX1+adH3cXNt5Dja22E+1ZdjrNH3EgHdeu6YH9Pyarom8aW5nfd/J2pVEl1EgO3LxokdFWyyt6hR6KOem9v53Ff8rFG/jjVJzsct5j/5HPOi2JCKqXUEzuR7E2otvVYVykSteXIiVs9dHNmuaOOFes3VWvdpbXXP2I04d1/x21z/++GTlhfTLO9xMtd2U7vqpb5iarpnCuKEfcXq+o5pT+1g/+k59y6GFuxf67MmCrfb7msI3WvH55aEsF3btlD/a12nGra7sXfpQ9+5IxKqtxR8UuvrOlfH2h5FPDsPG/Mc1VcwPWOvXbvb35yUPTPaBb3Pmvrm0z1Sh718uhD8WuPGHnNIVrj7PqvdyJwAAAAAAAAAAAAAMPZwWA4AAAAAAAAAAAAAYw+H5QAAAAAAAAAAAAAw9nBYDgAAAAAAAAAAAABjD4flAAAAAAAAAAAAADD25CWEYf/Zi+prR5V+a+S1jnp1k7+WG1OxXV8F+JLKfaEPVdQtKVu3IjbsVHh7ji+qHJfmqaPmDXeJasgypzrXUYW8pPLe7kUpXhXVb6/7dqLsXh+d3fk8XFl17QYL87t+bsS9yzDvT21BYLvdTn5dTU3ufK5nZly75vbt0fev38mPT+2/8B4dBfjZNG9ONVvm1izM7+pN6fBwqFy/ZOSUwgvz1DcGRV9T1XO1DbWz4vgs+LXachxT3xyiVKldFeO99N/1GflBfK29eMU3c8rrEjOOHXXN2nWJG3HsuVg2Oenbyfu32+IbnVyj+UryXVSul/UqzWcpnowdPfOHTQRbC7FMUfuvp4+k34MPOf8q5Dil2J8+N9qG2rXG5J45ueP/MW7k+sj4U/Faof5zuTv4STZOvlD/sH+Uave+8x7a5eqQTt1RsslMPoy+Vk1IjC7l15yflOq9OD6N/+q7Ma+16id7/HdqmmtL491DrQEvMoW4pvSOtbpniLmmZz50fiJ07ElzTaCRHKo2WU/G/U/O1/xYS/6vc1gfmU4/hzyuNWU1ndo1t9ay/e0V916FuOPecxz9sGdMysW1ko1XdZzP0TbUqTWcnwyz7Yo2me0vPNudXWgBFN5fbSiOV/vTWq4q7Mm0hiy8v/pMc2cj+9xibVDMNfl3PgzwL8sBAAAAAAAAAAAAYOzhsBwAAAAAAAAAAAAAxh4OywEAAAAAAAAAAABg7OGwHAAAAAAAAAAAAADGHg7LAQAAAAAAAAAAAGDsmXjhJvCiEFVzeypl91W59l1nVHjDc4sKwG58oxW0u+329t9inLp2UEDOqSN31Lvl2TkV7nitt0L9XlWu71NVeqde7eYzr9DcUaXWZoVruXbV7Iy/eHs9tVtPnyde8bBr1jz1TL7/nrbmvpfev6cCuA1lnja8KnU1cySNffVW+n0iKIXnxte9KM/1867K8ao837HdgaqS6zwVYhxkUVsoxb/e8TWqyOuzVHm9kJNaMY16bta3207xulm7nbqLqWZzc+Q9NhHKEB3GdsFm1O5CXG9u3x55rbly1Y9J5rOenTZ/cbRfx/FWs2k+qvlj6fatLd9OnuVinM7FC1D05XEmxpacb+xirp3dqO0G6slkD0WP1NxQyHEaa9stP96qTb7sbL5nLKinptz30jhy9V+phvQ/e1t18eDFrpPu01pr38nN0x5r92zfVohde3xWru6826XkrlLM7Pns7F6o0K6Jvit52NVJ2z5P7Mv+r++64hsvHXuw81j/Kbn9Saed2lcYQ3ZfE/cnmjeGYf+rvpepGWP/bSN7/JhP9J6Qd129VpjPajrl0OHKarpnMtSaE6md1oz1jN9PNnf8Psw/bPRZA/SkkCeKdr0Pc+3613FU+T1+3NcUz6FyzyrEZPVXZ+/RdjX/xVprWvfr+T1jNSW2u5meWzon6x1DAod978K/LAcAAAAAAAAAAACAsYfDcgAAAAAAAAAAAAAYezgsBwAAAAAAAAAAAICxh8NyAAAAAAAAAAAAABh7EPi8V/QVpIpCG5k/pl8U5yz0VxK/LAke5PrwRNGdjJiCefECFdOqJo64dhbFcLKDEkGqnkKgJVED10dJV6IkLHWYxXQK7+WEHEuiKwVBitDhyHvMwpqIOGGzvOL70Pv0881brllOnCb27671XMeiOGPACYjI7x1hGfleTen4giBJxie7Y5L1CsKFg1Mndj4Pn7monfg+ZEwI3Ah7FUlT+xp4QT4TYaSSmJLaRjUpdhJtUO0h9qFCoyLwFEWXVPCpJMijokkqXFvNHXPthleuySDiHI62ryiEazmxqjCfJWFcJ+qpvhZFIuV7u3IzO6as0HYUDC3kSSdch6vl2YNYYUmQOgp+KY0ISPcVltTc0kYR24LAVaXjUMHQKCaYESetJoOIrXtWvl7xQlP5HNLpYw/si0j0Ya617hUl2632UOOFWj1XT+1GFMzX4fm9i4+heeHCnGB2yRf67hOs7SfOGOkr6lgSXSt0EB+Wvwb7yl6E8Ep7CLdn7sT/9FlFnWM7JxK4leqVjhC01nyFM4mSWKf6Yc6PnxtUtouc+HUnT0q95oQRo5i89j0tZw2FuFMSye0tYjjufleoz0rxL9euY0MulufriZxIdMmOOz6pYbggBF0SpHb9ZWyotxi7hb1HQYDW7fEK8alvTtqTSPghEZ3mX5YDAAAAAAAAAAAAwNjDYTkAAAAAAAAAAAAAjD0clgMAAAAAAAAAAADA2MNhOQAAAAAAAAAAAACMPRyWAwAAAAAAAAAAAMDYk5cGhv2npzpsX9XsUt9O2VdV6ONtBfFqpwDvVN7zKr99VeO7qvRp/E6Ju6Be75R843tkVXmDGrDO9faWv5ZTRC6p9+q1Q6Ly24ueYy/Zbknl3bcT9eZo/xkV8XrhuGvWrN4a3flwF2vQ853VXtumcI+zk+CT7dbIdvXRWd/szoaNopo54r+LUry362DT6q+TfkzDp59N1ySGdFS5W1mjUow7zPa/F0pxUpvF6VQ/qap4cWQfnb7FzlvbsixVPq7bQOxa7CnamlNed317W2hu3x7ZrL123d82KWVJx9ZkvNsypuOLvg+xyeH15fR7mKfhWhrTxMyMf5R+0TgUYpebj4k09mpz07eTPhq5Vk3l83Mp/0FPZA7j/BVrLbHf1q3XlGum99VTWgt5O9G46WJojJk6pq0wpsw42vV1P3SJ1y4/BZssIuOqapnD4JOu1hT/iu10bmLMc/3tpeYdt9yyX2Tr5J73hPuKdp3zw8JeINaJufuq2m9lOzXKqPvNrJZc4/yzYIOlPVPOF8zMGs2hLu6EvVuhTvbfxZ9KPlPyk9z640/7TnaNCnViKV+Vfs/uyaM/iU2qLzQhT0ycXErXVlbjw0ePt1T/un1y2CduF+pV9Y1S3aRnA6Guc8/aGr3v6pynaI4/EmKNzGE8Xwid5K+NM4X4X6J0/pPztY79Z/JVKe80br1DLM/knbt9SPzP+GfnWm6shXbxmrPdSW+77l3a/Hu4M8Q43r45aS+1xgHi8I0YAAAAAAAAAAAAAGCf4bAcAAAAAAAAAAAAAMYeDssBAAAAAAAAAAAAYOzZ1WH5+9//fnvjG99oc3Nzdvr0afu2b/s2++xnP+va3Llzxx577DE7ceKEHTt2zN71rnfZpUuXXJsnn3zSvuVbvsVmZ2ft9OnT9i/+xb+w7W3/d4AAAAAAAAAAAAAAAF4qdiXw+ZGPfMQee+wxe+Mb32jb29v2Yz/2Y/a2t73NPv3pT9vRo0fNzOyHfuiH7Ld/+7ftv/7X/2oLCwv2nve8x/7xP/7H9j/+x/8wM7PhcGjf8i3fYmfPnrU//dM/tQsXLth3fud32uTkpP3Mz/zM/r/hQaWnqEdJaKAkLFASEMj1F8mJX3WEBbICWgWxi8KzSuPrK8hTEiTNjiEKkvYUZDmMYgX7ilv/gkhQTggmtu05n050Y82LB1ZHk6hLu34nXZjwa1wS0/ENC4I06hsiLNhXnDRec768FcRuBtJOhRVLwqUl0Vl9l1IMGSD+9OWSta+SEPCwX57oiOmJMKwT/5sIKb/N23wjYrK1iFiWRAKdzcSYLmKiKk4YBUMbEfyMYjpKPTOVvabP8oJR076PI+n7cHnZdzGdrjlRxyCy6+NLXpw0m7s3t7LtyDU9KfhQSXRyP0SH1IacYNoRb2uWseVO7aa2FsebEZCqg4hZIz5fEoLK5h0Lop4lce7MvJWeWxLCwsb3mb7CjRmf6TbLr09fgXd3T/FZoa4fjBbQLeUJHVNvgbe4xZF2RYE3l5NDnszWYdHvCqLD+y3Iia+9dOTWbjdrkInXHTFZqdFcHooxXvbTTjAx+q7UKKV8pfmv6+86Xr0/CHVqzZs5FzAzq2qZi+j/m6NFQts7GTF6MycK6oTvLdQQof4t5kbXLrPO47Kf6mnnfc+CSvOWXYe+vtapJwuisxkh9FI757sFEWf14/7nbuYE1KOop6KxQfd7pXkqnpOUbDnX5yGx/10dln/4wx9233/lV37FTp8+bZ/4xCfsG77hG2xlZcX+w3/4D/bBD37QvumbvsnMzH75l3/ZXve619mf/dmf2dd93dfZ7/7u79qnP/1p+/3f/307c+aMfc3XfI391E/9lP3oj/6o/cRP/IRNTRU2wAAAAAAAAAAAAAAALwJf1n9WXllZMTOzpaUlMzP7xCc+YVtbW/bWt751p81rX/tae9nLXmYf+9jHzMzsYx/7mL3hDW+wM2fO7LR5+9vfbqurq/apT31q5HM2NjZsdXXV/Q8AAAAAAAAAAAAAYL/Y82F50zT2gz/4g/b1X//19pVf+ZVmZnbx4kWbmpqyxcVF1/bMmTN28eLFnTZ6UP789eevjeL973+/LSws7PzvoYce2uuwAQAAAAAAAAAAAAA67Pmw/LHHHrO//uu/tv/8n//zfo5nJO9973ttZWVl539PPfXUi/5MAAAAAAAAAAAAABgfdvU3y5/nPe95j33oQx+yj370o/bggw/u/H727Fnb3Ny05eVl96/LL126ZGfPnt1p8z//5/90/V26dGnn2iimp6dtenp65DUAAAAAAAAAAAAAgC+XXR2Wt21rP/ADP2C/8Ru/YX/8x39sjzzyiLv+9/7e37PJyUn7gz/4A3vXu95lZmaf/exn7cknn7RHH33UzMweffRR+9f/+l/b5cuX7fTp02Zm9nu/93s2Pz9vr3/96/fjnQ4OJeXdcM2p405MxtZyW0Y5NvSnfTj16qA861Seg8p1lqhem1F27yjZl1TeK1GR307Kw/X0kfwwRG2+DsKwqljvVL4LasW7Gm+unc7hLtb/sCgC74aOerOqQW9vZa/5n71SdFYBfturoTer0r/MbbMc9A56rlFnvI40jqaktl54bs4u24yqu5n38WrG+0l78+bo/qKPy9xUc8f8tdvrMg5RgO+rKH4f2vR+kY0ZNsJv/I0jf1ZV8+I9bYhjw3y8Hhyd3fmsdl3L72ZmrVzTPqoqxNPJ0f7a3rzlxzSRypL4tjpXw7XbaayxXSN2ncuF5t9rcHzB97F+J32+nZ5VnXzQtauGEl+kXXxWvTCfrq2Jb8k9zw0+9R1soahEP84UahJnk3E+XboOuabvXGv/k8l2m/V118w9Wz7XR/r5k5lZNSW1ofruls9/uTjRfad8bei8Sq61Tb/43xn7RLpvT3WnWf/c42LemOehwvu72Cg1TqkW7uQn7T+zF4h99KXrr6nPWnzNQq7x9pquuXss7+OlnBzH1Ght1I7OO50xaT3Z16ZLlPrIrk+hHXz59N3jFeJub58Jz9L9sNY4HX/SvFHln1VNp/6q9eD/mfOFkq+5nBz2bs4nQ2pw86E+GZ5lUg9X27I/Wwu1lvY9kP3UpPfddkPq35kZd03nd1/8+n7NXWobs7K3CPVvNRDb1XOcvmcB4bv2UU/lY7evz8L+vB3oF3ctV68X99qFdm0z+uwq4nL3xh13LdroTrtQJ7abqUaNZ2h+TPka2ttoz7qulJMOqM3v6rD8sccesw9+8IP2W7/1WzY3N7fzN8YXFhZsZmbGFhYW7Hu+53vsh3/4h21pacnm5+ftB37gB+zRRx+1r/u6rzMzs7e97W32+te/3r7jO77Dfu7nfs4uXrxoP/7jP26PPfYY/3ocAAAAAAAAAAAAAO4Juzos/6Vf+iUzM3vzm9/sfv/lX/5l++7v/m4zM/s3/+bfWF3X9q53vcs2Njbs7W9/u/37f//vd9oOBgP70Ic+ZN///d9vjz76qB09etS+67u+y973vvd9eW8CAAAAAAAAAAAAALBHdv1nWF6II0eO2C/+4i/aL/7iL2bbPPzww/Y7v/M7u3k0AAAAAAAAAAAAAMCLxj78sTQAAAAAAAAAAAAAgMMNh+UAAAAAAAAAAAAAMPbs6s+wwItIRgE5p9Z+95Z+StlOQT4o3qp6c1nlth+qgN1RlFd1+HhN3qXKKPlGOmrzmf6UOJ+lOXRqy6o8HEWOc6q/cf7uV5VrRW03KplPyPuXFJDlWklR2Sk0TwQ1+CPJDpv1pPgcVdP12ogHpP6mRit0j+oz211GNd4sqGPLew2WFl275taaPFfU24/OunbtyurIMXQVxeWzKL6bmbU6NyXbVT9x/ft44t6/qs2sNnvhv+x1eIk2LhTjuthCtK2sDRX8pJ4/lm6JauiiRN+xDVWKnxJbmwhjMm836cH9YqtVod22H6ND5jQq2+f6cHF8yucMnesm+IzG/PrUyXSh8fbv8uuxozufhzfCXN9J8+TybhQ2lzWKOS6q3sNzFHzNNyvEv1iTqB/KOjR3vL3XM0fkc6pdtu9EvxA7mU3xurl50z9XntWtySTnLcyn34Ptqn21jfhMKZ5YwZ9kfvvWncXaSuNfWDu9rxMn+9ZN92t9td9k6q6On7h1yNfupXrN3aP1tNhqcXzhu9ZhJVvL1VbF8QW/c/E6+FC25ulpgx0fF+pJ/16N5ORi/7qWe3h/eHHxMS7Ev4I9qH+5uqZwT+65HaRm6vRX5X08lye7zxZ7VZtUmzZvo8V8pbVseK9K+5R6te8ZR6wTs2OI9/Vcu3GnWc/XsXuK0aGGyPUR1yB3XhXH586nwho3W2Kvc7IPj/vprcy+pnAWUNxDFvJm9Kmd7sJewz1L3jHWuMX334z7+hGfzbK1xmGp1fiX5QAAAAAAAAAAAAAw9nBYDgAAAAAAAAAAAABjD4flAAAAAAAAAAAAADD2cFgOAAAAAAAAAAAAAGMPAp8vJj0FWO5+HS28EQUunPih/oH/8KxGhMDq6SPZdqUxqHCBE4npiHNmRB1Lf+A/jENFTiorCGGomEhhTK7vnoIcbbOdvXZYRAheNPYgoLYrMaGMIJG1eaEpfVYTBC0GR5PQWruWRAwtCvyJ6EZXPE/E/1Sco2QLff2rMJ+1iHW2t70AaXUkCXS0KvZ54rjvQwRJiwJaQhtETbwIY8+1LImzRlGP+9ynumKCowWZOoLBKnAUhFubq9f0ASPvMfNCkypIqTZjZl78KI5fxAqdYEzMVZl1rOeOhXZpjM31G9Juzjcbaj7pTI58TuMYqo+b2WA+9VkNb40cQ+yvVsFEC/6gAlczQSRbhHyqxYXUX/QnWQcnGBnFjgp5Mhs37nNf+nJwfhgFuHKiS3dvlPvS50EUU5Y+hhlhZTOz+ljyB/X/wYkl39+mxOsgdqs2ZFvSLojuOqG1jCjiC9FXJL33/QWRqDwvkENG/V5i3P2krxBazCcFEfOc0GbJTrRe69hJTzHZvjak4+sIBubGWLCTjlBbxiY7Yod7EDiLtUH2ufFSZm9UqkkOo+jaoaJQrym5PY6ZF5Bu1v3ewKH7ZBUuDLar/lCJ6HRnLyD1VUeQXOu1kujgcLTAtb6TmRcXrKZ8raVC9pUIa1fRF3R+C3FCa9xG3nG4ccO3KwiX9vXr7HlF39x1H6H707h3z8Weks848di7P4x+7hFvuzkhzOL5VCHtNLK/6p6Tjc5lxTzRV8R5Ipwnap7TeQv7H517FwuCz2T7s3ytGdcrKzRdOic8QIyflwIAAAAAAAAAAAAABDgsBwAAAAAAAAAAAICxh8NyAAAAAAAAAAAAABh7OCwHAAAAAAAAAAAAgLGHw3IAAAAAAAAAAAAAGHvyEufwkpJTwI6Kum0TlNifo54+4r6ryq0qVEeVW/fcfuLyRYV6/x5e1bbZStfqqHKdUdHtqLeLmrde67zXdjPyWpzPqA7uhzRafbnz/lVSA3b9R1XfA6ryu1s6ayLzpO8f16T4/u5afr28AnSa98GpE76726LeruPYDGrtOSXzgPPJxrdT9fbcPXfv6+lrA+m/yvuaKrmbKLmbmZkbb15FXN+5jb6QU3YP86RrVHzWmNF7LsJ8qt00y6vZthpfq6mgqL4taykK6NWMzxOtqLfHWDhxItlXKzbe8ckcQXndJObXx45lb1Pl9aL/z86mz/IeZmbt+nq6FnNNpr9m9Va4JL5X8MlaxmET4thxTdbvyADT2sVcqLnboiq9+lrfdRgDijlJ426YM39fPii3kjeqY0f9RVmv+sj0zueYF4arN1Mfuq4hL7prE75E13HYXPKh9qlnsmNXv66j/0t/0Z7cOKpCTdYz/7dq1/DSUahrfLP8vqNUJ7v6WvYaMa7l9gZdu9N7wtgz7xJzreaQSq91cm0ah75jtN1qIlMLma9Drc3Poe+zX+zuvJfOdaG+yOWGUj69X/Yn95TSfPatp8WHbCLUELqvL+0nNA5LH53dhO67Nwo1ntY/Q/9eOl4/Jj+oejqNo5H92cQJv3cbTE+PbBf7dDWpBaT2rCVP1ufO+HaNzJPmp/j+Ght7xsJmM+/juiZuve8nYqxuMzG/4ydir/Xoc6HOfZX3E63DtO7o1CA6xirvTy7GD8J7iT2UztqyuSvYmuZN3QvUk74WdHVdvCa+UapJO+dwO0MNZ3faX+HszveRP7s4jPAvywEAAAAAAAAAAABg7OGwHAAAAAAAAAAAAADGHg7LAQAAAAAAAAAAAGDs4bAcAAAAAAAAAAAAAMYeBD5fRDoCRwVRAy+m1E90xQlcyh/xNzOrVDRCRfx6igmYedGAJiOsGft0YiJR4EOF24JIRl5AqDSHOo4ohNpPTFHHWHqvnGDYqGfflzgB1sJ/Y1Nbi+JEMr9RkCIrcFsQCXGfg+22a+s2io7AYUF0bC9ilc6GOoIeeXG+alIESVRM4+SSa9dcvJzuUd8V8TizvYmpVWFNTN9fhasyIsNmZeE6N76mNrN6hDLP/UNXCC/vGzmiINH2l54a3XAjiMwuzEsn8twVbydqQ3Ww12YliYs62wgCTypCWWksjAJvIsLZbokQ3NFZ164RIcySmKCKmEaBU+cbN0VYMQpmqdCmCuZayFGT6b7hnI8h9ReSCJWKSakAqZlZK+/lxHlKAqQBRD2/TGJMFlGnKLSldUPHboR6bm7n81B8JjI4vpC+aD0RRMycqGfwNWfnWyoEF2J39NHn2Q6xuxijR8eokg2WRCL71rXuvpI4ZV9BbnymHyqeXKiZS0JrTriuIHCpudCJZ1oQuA77gjon/hxzl9RQOQHSeF9HkC0zpigm58X/8gKHOfG3Uj0dhdZ6je/uD6n/wjx5P+n1KOhLae9Suq1gh65ukD1/x9Zy++lYT22N3idHP9FnaT1pZk7wsIr5RZ8ldqg1TxvucXuXEGvaSmKNvn/Mf1r/nUj5udrMj89kb1WfOumfq7VwFGRfC/n7+Xal2rUg8Bpuyl87bHy5YsLhnsFCqqfa9dH7/bsNJdZ2/CIjSN6GtdPYXfv1z95XjLUFIfTMtU4+LQhoDmRP1RaEQLPCvVHgusnXyWFQ+fG6s7a8wPdBhX9ZDgAAAAAAAAAAAABjD4flAAAAAAAAAAAAADD2cFgOAAAAAAAAAAAAAGMPh+UAAAAAAAAAAAAAMPZwWA4AAAAAAAAAAAAAY8/ECzeBvdJRje/ZVpVio1KuKserimxUZHaq9KrkOxGU3FXJPqo351Rqo8qvDLFStd2oZC39lZRyS2MyG60U3lWeTgrApff34wh9y3s69d7SupZUnr9cNeiDSkbZu6TyrCrUkWYroxoe+lRV8nZj07Vz98nnRlTNzcwaVV7v2PVomyzh7KvgTx1ValXAnhUl65Wbvn+5Zqoi39cmC8rr3fVKc1PNzKQLmyvhxhBTMs86LKrXLxq5dQi25eZp26u3q91oHKpF/dzMzDZFsXwirWt95qRr1ly8PPq5ZjaYP56GcfV66u7kkmtXTaQxDcW/okJ9NS3+Kn4XFerVJ6OfOEV5bbe44NqpsrvLrYV4EtFxaF4bLPv3sunp9HlL5j2snVVp7KXYUh9J/cW5uW9zyJdJKSerzVTBnkrx39mNXojrOpXi3+DMqXR/qMnaW2sjn9WENa41h4otmHmbV3vq0GZqyIngT+5bPj77+qrgM/IusSbT75rjSzVuMTYWao2+sXYsKOT/bn39/C3en1zdVYc5rEbvSSK6T3C1kNRx8VqxhnT1eX6f4HJG06/G67yH1Dida/pVa83NUr0z+j1iHxG/T6xG/t7pv2jzeV+GPbDHWttfzNt1NUi+Us0cSY9d8zVJvTgv11IeakJNVktdr7VG55xA80bc16zekvH12zM5ew1jctdiH8M0N67mbcNZw8LR1O5iql1dfRbHJGNvrt9w1+q5Y+la2JO5eFX0SRt9Lb5jwW4OPAXbzZ21dGxNu9O8E3OBrmWsIZxvJPuvpsKzhplzgliTad0Y43/GzmOeaLelJpN33vO5m44p1IJaJ+revb2zEdrJ2ZjOYc93jOMq5X93DqfP2kX+u5ccYq8EAAAAAAAAAAAAANgfOCwHAAAAAAAAAAAAgLGHw3IAAAAAAAAAAAAAGHs4LAcAAAAAAAAAAACAsQeBz/2mJCa0B+GGknCL/oH/JvzhfvfYgphIUUxHxWQG7kK2PxUaVJEFM7P29u3YeuQ4nJhCR5Con9BmTpCqJCwaxb+cmFZPtL/O+A6ocMGu2eN75MSkiv0XRNdUrKaans62C4NwX+vpZKNNWG8n1lLQanLPUhGLIFxVHJ++s/hJdeyobyZCPjreidNeuHH78tX8gHMUxN+cMEhBuHMvoqj3K7sReM7d1y57MVUnkqy+EMQEB6dOpC8q9mkhpk0UBJnX7+x8rlUwR36/O460ziq6VEU70XHoewS/Kwpcajt5VhT4VXt1Ao8Ff+r0L++8dSrdN/W0F39qNa7JXER/ajdkTBob4ryrOE+MIU6ELjv08aBUT+k8iahfNTvjmlXr+fV33am9bgeRMLW1KRVuCrnm+GL6orYRxMTcc6MgmQo5Tcqzop3INSegFsRJc/HELAgyal0XxambjFhnjP/yzlVPgbNODM2s+diLR/elk5NHr1dJdKwkpto3/7s6OfiTu7bHdfVisnnRWSe6VhAdy4qThbba32B+zvchfujeq7RPjILUOn4npheEcNVvCnGyb7txr+X2nZ6iwyWhQVe7xD62Ja6r70YxXalXXFyPdid5rbl5y19TmxyoDYW9uxuf+OTsbLZdrDVV8FqvVSdPWBa9Z/GYv3bhinSenlw/dN63u5pydBTdrnWu9DyhZ+yKdVxJkPjA+2Gm7oqURMc7AurPE+Ku1v/DUEO1m/m9d3ZM4htx5MX8J77sxrTqhWBzQqZdMenRgplVTLsSG+qwr6mOep/auSeecajQqvOtvOhuSXS7dMZTsofDwOEePQAAAAAAAAAAAADAPsBhOQAAAAAAAAAAAACMPRyWAwAAAAAAAAAAAMDYw2E5AAAAAAAAAAAAAIw9HJYDAAAAAAAAAAAAwNgz8cJNYFfklOEtKMoW1OZVNTaqnLt7Cirv2ed2hOzl2kRQr1Zhe1W8Daq+OcX6qGStqsed0W6oirLOU/79Vb27ubPhrzlF6fy8u3ZBKdir3G+lnwvr6lXOt1y7+0ZtPr6H2rzO57Z/f523OIeq+q7X3NyWxhEUtF0fYp4dW82M3cysUXsorJ3e596ryvtkZ72lf1WHr8JzW1GbH8zPpd+38nOt71+MO1Epe1L8PPqGMFiY3/nc3FpL/cW1i+98mGx+D3TmOqcGHta4FMtd7NWYFO8Rf2jVNzZ8nLQ2HxuzYzhx3P+wvLrzURXga1FXNzOrX/ZA+nLlWupvccG12/7iE+me6SPumvpkKzG/OjrjxzTQHJpU7tu19Wy7DjJvgzsyn5evumbVtLznlKxPWNd6Jo2xEbV5d7+ZVa3EkBCvXPxyueb+9qUXpPD+atfN8souuky+MTia1qhTJ+izppKtxZzU3Ly181ltwUKcrMRvmlu3/DW1FY35re9D79P3qCdDye9stGBr7pYY10bn6Jjj3Rh1vXrWE8UxlWqycfcNrS0Ka9c3/hfnU9cu7BM0dhefpeMt7VdcjTPaLmK70nO1Bq3Vj82s2ZT9z1QYlI5J7os1md/j5eva+M5ZSjGv59z07Q96IrYbY63alxJtQfe8nRiqe2ipz9uw/20z5xDRFuqjaa/Rboq9ToQ8oX3EfYL6+TA9t4ntpA/dM7QhT7p9U4xXWvMdyeRCM2uOpZqyvnAlXdgMe3KdXxm7+2xmdmopPfeGryE013bWK0PJ/w917irUpLl9fRXnOnNOEM949HypU0NPSxzWvBPrBLE9rckj7r7Qhzsn07q+U/9k1rJ0tqB9FOZzuLLqruneq15K+7VqenQMMjNrb9/Oj6O0J9VrpfXPnMkdFviX5QAAAAAAAAAAAAAw9nBYDgAAAAAAAAAAAABjD4flAAAAAAAAAAAAADD2cFgOAAAAAAAAAAAAAGMPh+UAAAAAAAAAAAAAMPZMvHAT2CsdFXJRii0qlDsV2by6svah6rcloqJwb9X0nmNy6tVVUNBtkwJuG5TBVVHbjSMqBWdUvjtqvapKPlV4R2lXVKHPKDkXKYy9pIB82MgpgNdTU+57cV1zFBSgK1Gbr+eOuXbD68vyqGQb1eysa9duJH/o+IaqvMs4ujY0aSOJKu/63GBDaqOuXXyWKocfEdsN71XdWpM+9EKY90pUyetwbZDpPyhvq4p2NSV+vJ73tUOn8r4PZNXAOzYuSu6Nv5aL0VX0ta3RthdV49VGVTU+PquaOZIuBPX6SnzPWfHA21N75Vq6Z0JKj+AnLm6EuF6Lz7trm1t+TNJHc/NmGtKJJddueO166k5U4838fFQbMhezM66dyw3Lq9l2uiZe5d7HApfXZ3wflVwr5utxIFML3L3Ujvys8a5zLaD+6nJD9Ff1KV3LMKZafKhZvZVuCevYrqV4Ws/N+WsSa9ubqY/oazqmSsdUsJlSDeWudeqa5Ht+Pv37V9XoNYl1V7FOcPWa+tD45ZPeFGr3zprv3FKocQu1m8txPeNT51l99yGDVGtUg2iT0qfGgtC3jlf9M+Yk914hT7o91KbkiQlfF3qbz+9deu8vivfIOEprch/tQw4CpbnW2sXVVhkfHHltqPsQyUmFPlx/of5rtW7S/XrcuxRics7PXa1m3Rp15/dwdjG8dkMelX+vVnJyrLXqT31x9LWQkxvNtYvz6fdnLvgxyry163f8szRH6xlHrKfV/91e4D71wWgnLkYN9YK/reeZVPHa7fVe/bk10TUO+4lG1nIQ9gm692ikxu/4v9i/8//gJ+pr2Tr2bsPUd+ijPnM63XdjOX0OZxzuXEP6j+eJel+77ecmN6a4/iVfDg1Hju9ec596KQAAAAAAAAAAAABAfzgsBwAAAAAAAAAAAICxh8NyAAAAAAAAAAAAABh7OCwHAAAAAAAAAAAAgLEHgc/9pucfp+8IUmUENOIf9XfCMNJFFCcczCfRCf3j/E7ExswJUnQEDnOiTuG99A/+Z0XszIsGVGEcTnhA+ms7ejTa/2hxAjOzerKn0JAIA6k4z3OdjuwjJ2gZx2dtFO4p2MYBFTXogxOGEKGJJgohqeBREHvIij+UxGRUxDCIyTqhSRHgqKJwjd4X573tN6aczXfEpFRoJIpkqJjm0uLo55qZXb6687ERoc0qCneojWbEHs2CiN36urs2OJpEPTvCINqHiBC2oQ/HIbPr/SYr3FUQwqkng0iYCNL6POHntp4WMRkRMYox3tldEH9qRCTWKhVTCiK5IjTYbomvDYOfiBBos7ySfg8+qX4zWJh313RMmkM6Mfno0dSf+Il7JzM3h/GaE//5zOfThfPnfB9rIqZb8BOd62ZdBIOOHXXNVBgq+iSMplMnZYTWqtqXvK0ru/oKXGYEnc2sEpEwFXsdMeD8czVPBDExFytU7C3YnROJnRe/E2HR+OxYa/n6R+6J5Y+bJ4lDhXyaE7szywtrx7Y6pihwpUJTnfdyDzu8dVdvSiKOmkNKNa7aa5zrSmuIZK+xj1z9E4Uwi8Kt6nuFvYvmjZwAuZnPp5XOU2fO+onODpbkuVEIUEVIVVi7JDJc2GuomFxJJNQLHEch1CZ/LdcOspTFiTPrEGOcW7sgft6Jc891N+NrCGfLD5xN/V284m8cZPJJtEmpUaqVm/6a7qFdfRp8TeoarVeruiAYHAXORRhea6Pm+rJrV+seStYk1nhOdFTHEfaTep/mUzOzdk3EJDPrY9Zf4LCYk+8T9CyojftTtV2Zi8qCYGbmjCsyXE32Woqn7pwgnk/InqcNNlQfX0zt9F1K52ROFNqfk+RiQ/R9tz8J4rnt1Wvpy1S+XjXxp0r9vyBiXaK3wHch7xxU++dflgMAAAAAAAAAAADA2MNhOQAAAAAAAAAAAACMPRyWAwAAAAAAAAAAAMDYw2E5AAAAAAAAAAAAAIw9HJYDAAAAAAAAAAAAwNiTl+6F/adVtemCArQq8Qal2JzCbFSrbdaSAnwtStaqDH93HKKoGxSAa1GidkrWYQy1KvHKOKoqKGqrArAoSEfqY0lturl1y49Xxcalv45SsIzRKQ+HsXv17rzKfSXTG5XC3bP1WVHlucQhVpvX+W3knauJyWw7C3NYWqPsc9Vejy/4a1tJedq2ZUzT066dXuuoMmcVoIMN6bu0qvKeVz/v9N1KH9Jfc+myv098zdn/ySXXrrlyzUYRn9tui9r23Jy71twU32vzcUIV6nVVS88aB/racbS7ej7Fv3b9Tq/+66mj/tqGxGtVNp/wcbKq+/33ctduwyvPt+Jr9dGkGt+shth97Xpqd/pUuqC+evdh8jn4kLxzeyeNo5LnmpmZ2G59JPi8PkrzVbRXmbfq2Hz6fXU138dRyZmFHOd8KMRCjSd1VLnfDnM1zmh+jjEpE7tLuTtey93XbnufnHjlI+najWUZhB9Tc2stXZLaSms1M7N2K9l1XH/T99QaJ9r4erI9tcMq1kkaGyKZ+e3MU6Z26ayB1gkyvo7f6Xv1XNdmN7WWe9h45aSIxpN8vRPqs2gzYidqr51Ype1mJV5vh7WTNa8Gwf51jOJfg5Kf6D3hWb3rTh275GczMxuKDen7B7927ZRgg1o3d8a0z/bq3j9Tx8IeCXPYZsyrs+/O7Cc792ndsXTcP+v6jXRtI/mh1kyd/uS5daynNJdF25C6XvdX7Wa+Vqm1ngw1aX1Mvgd/HYpPDRZSTbYt72tmVmndLH3oWYhZqK/l/WNdXOv+MuT1trDP84OSPnUOO76WX/MDj75LPE/Ra1rHl2razHnP3RulJgt27fZGM0fywxUbraYm5bPPJ9V0+u72xfG77v9jThK7KZ47uXvStZgLXJ5ovA05/5X3j/vJ4d97zc7nwSc+m/qe9PWky/lxH18Yo+tD80uhdnd95HzmHsC/LAcAAAAAAAAAAACAsYfDcgAAAAAAAAAAAAAYezgsBwAAAAAAAAAAAICxh8NyAAAAAAAAAAAAABh7EPjcD0p/oL9vFwUhjxwqBKKCUWZe8ED/qH8UZ/LCTUFMNCP+VBxr6Q/8y5ia0Le+ixO8iuJ3ItDhBLPimKrRYgIWREed4FUU/8yJqRYEPZyoZxTucWI6BfGLg05BkMSJ0xT8orP+KozUFMS6Mn22gyAEpqITahunvBBmdX1Zui6sqwqSRKGNjDsU28X30LYyv/Xpk77PayLco3MWxBTdc+u8OI8Trotror62vDLyHjOz5ubN0dcOk02/1JRyhgojFUQHXewOoptOyFYFlKLImIrQtPncYAVx3vr4YrokAocd+9fYIM+KgjkqtNNG8TcVtVIRpnkvTtseSX00n04+0xH7VBsNOaQjBvw8QbiqGYpoThQk1XYb2k7iUxDddkLgPXPSWOLEpLyYtIvXKpg649s5AbGOIJuKRKX6qiNIKTHZ9ReEy1xtUPJrrROC+FVWdL3Qn7UiYhVsunRfPSWCnPKsKKauc58VZwrPrgqCnFUt9l8SEy2IRPlbDo5I1GEhCvwNV1OOL4qu6rWSwJv7OeQdrdGnvK9FMdznGTz8oB/vl54ePd7okxLL1deisK4Ta4uCzOqH10UUOvTRbKaxay6swjyVBO987Bkd48xCbVDwSfLJi0ipxnO+kN9Pt1t5QVqblj3zk0/7dnoeIALqUQi6uZXZN4S9QFWoa5xPSV3XEe5TG1UxxZBPozC8Mjh/ZvTvG3nhUjeGMJ8qjNheurrzuV5a9De6mi/Uv3NJ8LdZSXGyFP9yYoeda4eY7vrrOUzms3nhVre3DLFKz38sPGtwLPWheyMVFjfL1/hxL6x7kriHysXrGNej3ey06wiXjq5xOgLBKoQ96eva7SvJlifOnE7twvsO1lS4M/lGG95R40Ynr2Vycjf+Zc7TYj19QM8Q+JflAAAAAAAAAAAAADD2cFgOAAAAAAAAAAAAAGMPh+UAAAAAAAAAAAAAMPZwWA4AAAAAAAAAAAAAYw+H5QAAAAAAAAAAAAAw9ky8cBN4QXKKrSU17BKF+1Slvdm4s/N5EBRqc8rLHSX7Y0fTlzWvFKzqwyU1YBuIYq8oD0fVXHfL0dnsNROF6k4fqgA85RWAlUrfX9SKO8rDBdy8yX1RlbltkoqwvtdwLa8031GKPkyi9AX71Dlrh0FRWt65nvShpxH16Tg32f7lc72y5to1t0crNLdPX/DfZS2jCnmVMZV6+kgc1Mj+qom8fUYbqgZi56K83q7f8e1mk8p9czOpxqsiu5lX8y69o7/JX2tvp3jg/DAqhc+kMdkdUR7fDEbdsZs6JxA+VnTsXWONzGexj6gorvZfiHmu3UQoB1SJfUtsMqy/qcK82FAVfNzFUFFQbzeDmrz4U622ZT5OtDK+gfiCmVm1LDlEc8aM912d3zjX9bz41Kwfh+vj4pV0z6mlnc/DCxf9mDLxoOiTAe1D89q4E+dC6yTNz5FmK12LPlRPy1xHm9d2k2InUpM0wSZ9nZivJ5SOX2ue1Ji85d9Rfc+NPcR4F3tCfHa5TNo1YS46+XDE/WZmprksVzOHcVS1b6d1ko6p86y91t73IW6eOjXOQBumdut+L+DqtcLcNnJfHWr3tqmlXbKFmP+aDanXY4yTZ9dSa7eXrvhm+l66P4m5RnDjDbmwVf9qgu1WuieRuBNqN0ch5pf2Gr6h+ElI8X1zg3uWjqnkn7AnfLxKv3d8ckL8q/Xr6PaJGodLeWIzn8cGJ0+ka1KTNaEWaq9eT/0Fv1afL+15dL+uvlGqfmIN2V5fTl/ER+N4B2cX0hfxoWZl1T9gW/K/nIXoOYaZ95NmNeT1weh4WMzrhdzlc35Y11I8OAj0zbt6FnBk2l1Se2q28rVbNZQ12QixVmJyXEvXbFJsUvY49ckl31DsNdY/rr/S+VI7+lyrje/oYq/UYNN+ntx7FWzInRPE/dQn/zbdI77W8XGJDd2zKxmjvn/IIblzneL+R+3pHuckKkoAAAAAAAAAAAAAGHs4LAcAAAAAAAAAAACAsYfDcgAAAAAAAAAAAAAYezgsBwAAAAAAAAAAAICxB4HP/aanwEHnj+Q7Ec5GG1pomC6p2FcQCciJetZzc66dCiFG8Yg6J3gRBXlE/GAwn/rviNPp2OfDOG4spy8qEhBFAYajxd+aW17g0b2/zFNHnEpFjUriGQVxgTorppUXp+qQs5tDILSTE5DqCDwVRIdywhh7FTSpZ5P4kxOgCQJ/zY2VdK3gk06EIryHE7WpSgKaYv/hfZ0gm4pfRSFUsXP3LkF0yglZqShW7E8F7qKAiIo/9o1rItZSRSHcuP6HwLbvBcPVmzufoxCyChk5YZWwdtqunk3XumI3yQ47oi5qaxlxmviswfEkrBSFkFTwVz1N84yZWXMzvX8ThOYU5zNnT/prt+U9l5dTuyBi7YSG5oNIrs7vLcmTYQ7d+DX+F3K3Xhs8eN41237iS5YFnxlNFKfM1D/RdisVU44iSRnxy47optZeIhhWEgV1uaBUC8a8qLlWxW6jSFJOJDu0y9add38Y2UVH0NONKZ+vVcirJLreW/Cpz+93O8xfu1/JrV3I/1praxx3guNmfg4L8zk4lmJoR7jMRttGR1hX9iixrndi6irIFgXOl5OQn+5PopicE0Zz4mR5f6pDTtb3LNX/zv61XovC6lv9BJ9zgmlmXjSxJDqXFfUs5S7w9KyNewt5F9ZBRTLd72Ff4+K8ipNHf9qWGkf6GMS9gPhJ9Gv1Vydq27Eh2U9JH7H+c30Eod3sPimeSVxOgr869sEJL9w4FMFQ18PQ27vfd3mRxFyeL/qnrk/BfnYj/n4gcLYbbVVsKCdUbmXxZ0XttY5nLVKju/15ob966Xi6P/pJoSZzvtHzvKKakHFEIUztfyIvuune8dUv93186dn0eTHtydye3rzvORuPOVnFtOMZmo5J5yIKF2fOiaI4dUmQ/F7CvywHAAAAAAAAAAAAgLGHw3IAAAAAAAAAAAAAGHs4LAcAAAAAAAAAAACAsYfDcgAAAAAAAAAAAAAYezgsBwAAAAAAAAAAAICxZ+KFm8ALklMzLqncFlAF2HomKAqLovTgdFJ2Hl646J+lCsAyjmZ93fdXUJtVtel2OynPR8Vffa/2zkavds3NW/5hqvpbp/nU/szM2s00DlUGr4LKfbN6M10TBe3SGsRrqtLrVXn9e+UUkOuo8pxRzX7uAflrB5ysYnG0f7HJ6mhQFF9ZlYa1fPTq1TrX1UDmN/RnW1s2iiaoXGv/zVZQbx7oZ2cM2TH5+709NZvaLtyjbVUNOirPqyq1PLdZXnXt3Ly10l8cq75LW1CedirnPt45H60Lz9L7DrG996agcl9SeR/IGmtcvHufxBBZV5sIsUtjo36e9P05f9j2tqZr1MpS1qJCb2Y2kO/NqsT1+I6VxOHZ5K/D68uuWT2TrkX7d3lNf790zX3X+O/avfph973928fTPSE2WCW2LL5Rn1jy7USV3mQuov3XmqP0WpP3k04fsn65uDM2FOJJm5ka9YVIPZkvh4t1g/SpOb6aDjWJ1FPVdHpWrBN0XTv2P5Dxa56cDL6Wy0nxHUs1id4nfqe1YByHzmETxt7qs9TGQ/3gcnwhTmbrjrsXRz5rLPKO5ectrkmlew1du2AXzjcKec3ZaxhDZcmHSv7k4nBYL80NrmYKtYva+UDfK+x/nI/G/KdjkveKfq3PdvWZ+LuZWSN1UpWp98z82uXimJm5949xInQo/YU9mT6rGT8/2RcysaYUu8x0c+H9qcnESTOz+six9Fixp2bF1//1sdSuuXw1dRf3pOJr9cJc6nvD264fehiv9OHeOcYJqafcnjzkpFZctN3w+3931iDzFO16sHR85/P21evSYYgTkrtbfY8wT5XWpPEMRYjx1fVRtIcM95Ef6tq5uYg1rtbQsv713JxrV02nNWpDvhpI286ZV4Z2eUX6DrXbZuoj5i6th2Itl0PPuJpQx1QT4jeSk5rN0WcaZmbVRb//GWquuX4jfZ709W+1OJ8+6xzG/Dwo7GWPHd353Mr+r6rztqvrH/3CncMcIPvnX5YDAAAAAAAAAAAAwNjDYTkAAAAAAAAAAAAAjD0clgMAAAAAAAAAAADA2MNhOQAAAAAAAAAAAACMPRyWAwAAAAAAAAAAAMDYM/HCTeAFySm2BjXoVlRvu2rwSRHYKwX7vp3qs6jXRvXeNqecG9SlnXp3HFPmvaLirxuTqty2QeX9aFKUjurdql49vLEivy/6Z91OqsSqAN9ue8VjN0aZd1UujmPvrkmmXVDvbYOacfq9n0L9c43zbQ8abbTJ9FnnpvUi124+6tCHUzmXuY4q526N9FmXrvp2onKuitI2EUKefK8y6xipJryitBWUvXuj9qUK7ZtelT43wvrsKfe9uZzmQ/2kjsrz+tyFvNq4qsg3V/xcW0blvegnVW1mdf6F7kOcb2guiPOk63V01l1rbq2N7KNZvdlrDM3abT8mVZ6Xvp8b2M5HjcPtdohr+i7SXxP7E59vJK8NThx3zZplyQ1Bhb1ZT/5QH0k5r7mx7NrV58/tfN5+4kvpwhPP+HZzyebb896H7KmL0lDWbnnFt9NYs5LWIa6rZeJac/W65Yj+ChlCPs35ms0d8+1kvWKu8aRr0Sc1NrrPPfOJ+vvdH5JvdGoS8ZtK7L+VWvBuF6PjS2zn+i/UIG5uYu2SaRdtt9F6VXJoJ8fn1q5E3/rpMNdd+0At8dnM7xPqUyfThRCT6vnkN7F2r6TWdnFtPdTkM6n+tyq/x9H6p6rDesX67fnnbni71pjcrqVxdPc44if6HiU/CVSL8+mLzGcV4kQlfeo+pAr7Kb8nCw/TelXmJo63npZ11nhSl/KJ5KdmvP1kz8g8xTnM139+bnNrZ2bWSv1T3Gto3aT73y2//9WYrHvmWAvWJ5fSl9Vb/lnqv7r/75xJiI2K/5dq0shweTm1E5/U84O745DadWHecmgud7V1yMkuboaaVOPLYD7Vk/G9vB/qPnkYmkn/hzlfFcea1i7GP80bmjOiXehZkMstZr4ml/5iPqkknrrcdTO/n2pivab9FXKIrmVzJ53DxZzs/EnXvw1nV7r/i/4q+bpaXEgXYp6U93e+EH1yIL5chX2N1hBak4Z5cvWf5tNCPenf/97aPv+yHAAAAAAAAAAAAADGnl0fln/0ox+1b/3Wb7Xz589bVVX2m7/5m+76d3/3d1tVVe5/73jHO1yb69ev27d/+7fb/Py8LS4u2vd8z/fYrVvhv1YCAAAAAAAAAAAAALxE7PqwfG1tzb76q7/afvEXfzHb5h3veIdduHBh53//6T/9J3f927/92+1Tn/qU/d7v/Z596EMfso9+9KP2fd/3fbsfPQAAAAAAAAAAAADAPrDrP4j5zne+0975zncW20xPT9vZs2dHXvvMZz5jH/7wh+3P//zP7Wu/9mvNzOzf/bt/Z9/8zd9sP//zP2/nz5/f7ZAAAAAAAAAAAAAAAL4sXhT1qD/+4z+206dP2/Hjx+2bvumb7Kd/+qftxIkTZmb2sY99zBYXF3cOys3M3vrWt1pd1/bxj3/c/tE/+ked/jY2NmxDhClXV1c7be4ppT9Qn6EkauQIYhKVfG9EnKpe9CIWw6vXRo4vCtU4UYPNvJhi+Q/yjxbJbKLAgYqTRPFTFcZRsccgJlfNJiGH9qb86Z6gdeKES0RAIYqTmr5XQTBFhXGi6FQ9mRfrUDqiOfcLGVEbFTsxGyF4otcyIpQlga+cYIyZWXs7PUv7nnjFw/65X3o623/2udF3bbT4U8nHO4JRGQGpKGoyvH4jXVNbvpkXE+wvfub7aETIsDp2VNqFmKQikeLjZcG8XYzrPiEvBOx/d6sQBWkmRwvSxLVzgjdiW3UUQpL1akq+JnHYiUyZF3Jx4mydXKOfRUwsiE458bOBF4lywkgaM+a9cGMrgp9OTPA1L/ftPv2F1O5xHwucWOGsiN9E8ScVsjqR8nAV56mnmDTsnmz9FAlCSFnRITMfnyTmRXtVoc1axJRcfWJmtRPalD56il2beQElN9Rokyq0VIgTlYhJxfrPiZqqWGcUWdTYkPFxs/6igz4edlTC031unsLQD5Aw1L3AxZqJjNi5BTFxrc+CP3XEmvVZGv/F7qpgk21G4LXboQgSxj2EvpfEXSfobmaNiBC6nFnoT62uI7pZEHVTP9fcWJ864Rvqfkr3ZOFZrYi/xT2UE6GXNYoCh64Okz5i7sqK6Y6hz+wLuq6FnFTc42Tyjpk5e63Pnt75HEXC3d79gfQPF9trN1y7WuNBqFfcY88lgc/q4mX/LLFfJ8446wVu24w4te7pI801/16D00mEvZUzoc5eQ+xc94LWU0yyHQbBbJmbKFxqGaHt0v5nr8Lt7gzhgPtojPFtRuC+c+6iNq+1Rojx7qzpurdrE4FO51+hj1ZFqDXvdERXRwum322r7fQspA3t5ExK7T/s8dqcYG4hT8RcM3wgfR988dl0oSCemxPPNgsi2Zka1Czk11jXZkRti+cEB8jG9/307h3veIf96q/+qv3BH/yB/ezP/qx95CMfsXe+8502fG5CLl68aKdPn3b3TExM2NLSkl28eHFkn+9///ttYWFh538PPfTQfg8bAAAAAAAAAAAAAMaYff+X5e9+97t3Pr/hDW+wr/qqr7JXvvKV9sd//Mf2lre8ZU99vve977Uf/uEf3vm+urrKgTkAAAAAAAAAAAAA7Bsv+t+FeMUrXmEnT560z3/+82ZmdvbsWbt82f/feLa3t+369evZv3M+PT1t8/Pz7n8AAAAAAAAAAAAAAPvFi35Y/vTTT9u1a9fs3LlzZmb26KOP2vLysn3iE5/YafOHf/iH1jSNvelNb3qxhwMAAAAAAAAAAAAA0GHXf4bl1q1bO/9K3Mzs8ccft7/6q7+ypaUlW1pasp/8yZ+0d73rXXb27Fn7whe+YD/yIz9ir3rVq+ztb3+7mZm97nWvs3e84x32vd/7vfaBD3zAtra27D3veY+9+93vtvPnz+/fmwEAAAAAAAAAAAAA9GTXh+V/8Rd/Yd/4jd+48/35vyX+Xd/1XfZLv/RL9slPftL+43/8j7a8vGznz5+3t73tbfZTP/VTNi0Kwr/2a79m73nPe+wtb3mL1XVt73rXu+wXfuEX9uF17hE59eqoBivqvb27FsVnM68wrCqyzepN125wIqlXN8sr2f6dava0N4d2c2vks2K7ymRMooarYzAzazdEDfjYUXetWUuK1U69/taa70Pmt91O44uq4bWo/jrV7KBQXOt9UXk8o8Qb1ZCdSrGocEcl+/uGME851fdhsEln/3G9VB08roOgdlhPpzWujy/6Z1+6svN5cFRU2e/4NXFK7neCr+l427zKdaUK29ui+B5Vs0XJvBE7MTOrTVS5B6nd8Ib33cFC+hNUTqE9xhZRdq/CeP3gZa7F383MKvXRghp4s3pr9DgK63iX2qwwtPuOXJ4o0Fy77rvIKIc3t2+776qwXk2oavyybyfK5i6emlktNmSi0F7Pzrp27Xay5XZLckahv0p8sl3zY/edB19T+xL19iqMSedNx1F/9gnfv/TXvP4RP95PPy5fks13cpfMfa2xIKBj13V08cm6Od9dKynHjxsuJuf9ycWrSb8+Wic0Ek9j//W01DhhfYYaN+UeVxeYmVWVXJNxBBvXdhae1aynPDFYOp4u3PK1itpJG3KNbyjjDTkkZ6/VMNRF4oem7SbyvqD5Lz7XPSvm0Jz5l2q3UqzN1HiHnsw7x7rD1QYSx6sQ47QOqSVnmIU9hNxXh1g1lDg/kHbDlVXfn0l/wYd0f9FK3G0nwlZWY4O8c4yfmpPaRnxhOryjfI+5VvOhqw03fK2pY3e+FepOzTXRh9Qf9Flag0VivdrrWs+9EOTp5GqZ00pDXphbzWVVKOvVv5qL6c/Z1mGvbbKfGi7N7Xwe3PR20r5KtN+W0167Cnln/VTKk7NaF5q363ouPauN76XzIXks2n/9UPpHkzGGaO6tNJeHeKU5tZo/ln5fW3fNBpL/TWNNqEldjhpE35B9nbxL6bynlP9cbAg19KHyw9L6C1qDmZlV02nt2tv5vYGbp7B3rbWmlj2J7ovMQm6QuY55R/Nk51xH/Vrui3WiO+PQs7vQn7MHmbI4fy4XLPk/TV1/7ql07dypdM8wxHutB6QmjXsc3f9pDWqW3690zkky50S5380K9d49YNeH5W9+85utjcW98N//+39/wT6Wlpbsgx/84G4fDQAAAAAAAAAAAADwovCi/81yAAAAAAAAAAAAAICDDoflAAAAAAAAAAAAADD2cFgOAAAAAAAAAAAAAGPPrv9mOewdJ1wURY1UQK8gDJETteyIOKlIVBS/0f5UGGEzLybhxtfpRIRxRBggii44UasgoGMq5KmCQUFMpJoWQcabeVEbJ/Ahz2qDiJcTfwvPUkEiJ2oUhAvcukq7OgohqvhHQfzxQIp4FIRrTQWZnMBjmKft0YKxsU8V7uz4QpsRg9gOgpkqhCO2NYiiIyouEwV5axGaHerveUEK13cUTyqta0ZoM4r/ObtWm4xCWOpP8txmqyC6EcRP7EwSBmm/+GRu5DY4dSL1L2LCZeGO4cG0832kJE73gnPzHIMTx9215sayfNN8EtZf84HGnSDO5sSZCoKEKtxpUXRJhNGcSFwU+JP4r+/RifF6X5WfJ+fjQQi1zonTzh1z7VTw1Al6mo/XKqwbY01O1Kc01yoE3AQxKSfO2FMkZ2wo5iFtNnqeomCU1ihOgMn6i985fxU7qRYX/H1rKSYPr99I7YKftMOCIKHa2ma+dlGfdLVLyKcqwl1PhnpFY0OwZddOaqo4h46BCteNFs82y4sYPncxfy3TznGf55yRaH0exelzcx3q5MHxZMttEMlrK+lfY1xJ4E7qk6pkMxHZy6jdTZw+5dtJHG5UQLTgu07sPQpmy7U6+rX64dJidugqfuhq0oUgGH0z+WQU+OuIBj9/T0kkTn/vWXd0/GccRXL3gPOnjr5nxtfC3Ko/tFFMcF2ExsUOt19+xjWbuCHit5MSM+MeX2gW0l6juuSvzT4hdf3CnLvWPJsaO/H3IITphIAln+ie3szM1F+j0K6IerYiNFgte5FgOyaiu4tpvFWMXTIfKjQfxb4nZI8zlJrRzOfGkmC4e/+SH+o+uZTjDgqZ2NARpMy9f7BJrbtVqLM6GURs5fwn5hB31qR7iKC3WEk+qbZ1vx/GLms8OBr2K7oPuZr2IfUxv9dwtZbE8Sjim1vzWCc2G8m+qkvXfB/nT4++FvaTOofNShqfBfusxf6rjtCoxhcR4G7CPkkFWZu86HzuLDQnEPtSwb8sBwAAAAAAAAAAAICxh8NyAAAAAAAAAAAAABh7OCwHAAAAAAAAAAAAgLGHw3IAAAAAAAAAAAAAGHs4LAcAAAAAAAAAAACAsWcXMuTQC1UGjyrXTik7r+xa1bIsE36JVGF5MJ+Ugptbt1y74bUbI5+riuxmZiZqw8PrN9wlp14sir2qDHz3vqQiXa9rQ6+oW6lSvKjB3+1EVOml/+amfy/3bOk/qnzXolCsCr11GLsqL0ecEq+qkod1HTzwQOrvmYvpntIaB7X6driZaXlAKNh1jo7it6o5a39mZiZzvZ1XbHdKydLH8GGvBj+4mpSdqw1Z47D+tShst5eu5J8lquxR5byV73FdXTu18dhOY0OT3iv6mipvm9putGMZu3uPsCZ6rQn+b6Ls3V0vedTyigxQ+g924vyhqs2sNjsEYu97pa96d0d5fSLNW3Nj2TeWOVVFcb3HzKxeSHG+vb2e+ltfd+0qUWUvqdfXsylPtBv5mFlEbK1emE8/r4YYP3Ok37Nk7PWcV553uUHfqwl2rHY95dXmK20r8b8JuUvnUN8x5j+dw0bGVEsONjOzbVGKL/mQ3Vt1+HtCzzykcc0RfnfxMPbXSh4aiG0EP3E1haxdu7rqu5MYXWkuHITnap6Y8DapVGKv7TDUmsM0T/pctWMzs1p8zdmd+bkp5bXcHGoNZmbW3L5tfeibr0q42q1nHL6fyK1JpybTddUaNMxzG2oe9yyNf0Kz5td7IHHO1dNheXSPMlzxPqQ2r7bbznlbay+nWs7ZU4jxWstVuk8I+yTNQ9XsjL+m/mqp/+0LF127iYcfSv1rvRf8zq1JiEnNluT8gn86+5d6uq//dOo9HUehFhxLXE3WjvzdLKyR3hPik/pGXK96evTeeOKpq65dc3oxXbshfhjqpOqS1Pyt7Bni/lTPAra8vQ6OL6QvMr427N3VbnRf08a9i9ZNYV9vD59P931OzjhOn/SPUh/V+T215NpVV9Iep5XaeCL2J2OMZwjujKawF6wmUztd405M1r1wE2LDQSRXkxXs38WksP4DOSfSvYsFe2qlXWdNlJV0FtAW9j8ad6tw7ubWMu41ZFz1TLK7GNdr3WvJ+3fyZ+4saOBzl+svzGF16Zo0lFgzCLZ2OvmD20PF87lJqTVDDWlaaxbOOPZShx2k2o1/WQ4AAAAAAAAAAAAAYw+H5QAAAAAAAAAAAAAw9nBYDgAAAAAAAAAAAABjD4flAAAAAAAAAAAAADD2cFgOAAAAAAAAAAAAAGPPxAs3gT3TUQ0Xtd2gFOtvE/X2oe+jVkVlUcAdLC66dqoi7xS1J/xzmxvL6VnTXlFYFaubVVEiDkq59fQRG0W9MO9/UFXiqBR87kz6onMj4zMzazdERVoUei30195OCuCqNtw2fj4H80n1vqPyK5TWS9/LnEK9Vy+2jdGqwXcbH161ea/YXlAvrvr9tzmd6yYor+vc6HMHK17levt0Umif0PGJWvndi7KuYd6dSrXYVx3Uq+tjR3c+q991bKawrmp7gxOi2D7jfatVW9OxLsz5H1T12z23MKZgk+qTw6efTbeEdpXOr6htR5X39uAIW78k7IcaeIyhwxsroxtG25K8oXF9EGJ8uyEq6tFeZV3bNh+7tP9mM6m81/Mzvp0ozLfaLtpuK/YU4nojftJcuWY56vmk7F4fnd35PLx2w49JbLSNsUHf/9yp1N8lH8eamyk31ufPpgsSC8zMhtfTs3XOdC7MQv6vw7oestyw70gOifGlF2pbZmYZm+w+VtZ80pfNLk9Umv+9P1Vih2prbchx7r6Yk2aST3XsVVAfrU+mfNKu+zypNWTHr7VuKtRGLv9LH8Ng/5onG3luXMfS++v3amIy267dlrXsWXfcT7i1rNTmQ4wfSj0t817FukPWvzri6x9nh9vJNzr5X+y8VJMPl5etD/VcivG27G2tmks5pVGbD/nE3SNjam76OqsWv2uCXTv/lzgx8ZpXuXbtpavZ/nP91ZOFLbqsV/RPrbV8HCrVINIu+IzzJ/Bo7CnEGhcn237z2TuHSA1iZlYfS+02zyRfmLx81bWzB1KNX62JH8fYffn6zufm+rLvYyA5WXNocY8rNc6pE76d5IaYr9ceTu9y9JbsT076GrK+mfpYf1naC85+9op/lpxx6JzFfZY7CwlnElrXurno1OTqlKmd3z/vbZ9wEInvod/VrrU+j7g8dHzBX9O8MenPWtqLl1O7M6l2j/vk9prW5BLHw7mb5pAqrs+506nd334htSvs/1ztEtbf1biuFiq001xo5uvao2K7x3xeH1wVO5cc6vaFZkWfdEMa5HNIsyk1qcuZoU4INepBYfyqSAAAAAAAAAAAAACAAIflAAAAAAAAAAAAADD2cFgOAAAAAAAAAAAAAGMPh+UAAAAAAAAAAAAAMPYg8Lkf5MQZo0hK7g/8x2si6qV/FN/MrBbBAxW4bILopo7DicQdCSKeKrRTEJZwQmhBkKCaSu+pQjhFMR0RnTIza6fSu1RXk5hIffa0a2dr8sf/CwJfTpBoaTFdiOIkShRa0P6c6Fp47sRooR03F2bWlPpQDqLYZ2FMastO4KEg8NSZGxF1KNqhihppuw0vmKOCn82JJOpRfeFpP6aHz6fPTwa7zgiyVEF0qRExWdf3dkG4Lwr3SJ8qGFhFH9Lv4jNtELhyAo8q3BVFR5z4b0gHt0XUROc9+omKP2q8inaiMWQ4PDi2/RKRFaQLeaKSdY1iYo6M2K2ZOTGcVoQwoxCYxv8qCNc6YbR1ES6MIqEaa2XsFgUTF2VMKsAjwn9mXpw54uKGPmuYt6VmLfU30FxgQTA62L8KFK69MuXQuSteJLR+SGLIpPjaZhDTOZsEqZorIvYW50lz96LPk9sqanoQ88RLiNp8FMLL5ZBq1ued9roKF4V4pXFTBJTaUg1REIytThxPn6WOa5695LsQcVoV4DQLviZ+2BGTlvdvpJ6K86Kimx1RJzd4sbWQ12u5pgK8HXFCyV19xVk7cS1j852aNFcnjCMlge+M0FxcH28nIYfIOquYml3yYnpquy4PFUQRY65x/alI7KIXwlb7V+Fel58s/Gsx3YOFXOjESeMeSoVrL6d3ru94MTnNJwPNz3HvpiLBoU728yZrVBDkrI/l40mnJhvxu5lZO+a5Zi90YnI7uiYvnhOEPlRcsj53xnJsL4poooppRn96Ntmr7mPqUJM5YmxYSnnNVIA9iI46vxHbbZ696Pt/9ct3PrZHfA45ciHVpLdfF84GhI1XpvHPXpb6Koqpq3Dj8cX0OQgcu3gSc6iKRqqAfIwhBZFs15/eF3yt6dnHvcLFjbivyVyLNZlJ/WM3VnY+tlNBWF3r8CASbY88mD7flLOFa75213zVSr6Kgpm12m5cA9knD171SOrvGW/XVWa/0hFdV/8vCDw7Gw0+6fKQnP8Nlr1PfuH7X77z+ZX/vyT2qbWqmTm/iXPTyV/P/76RzzUqhFukJM7+Euch/mU5AAAAAAAAAAAAAIw9HJYDAAAAAAAAAAAAwNjDYTkAAAAAAAAAAAAAjD0clgMAAAAAAAAAAADA2MNhOQAAAAAAAAAAAACMPXmpVchTUmjd47VaVW9FAbuqgvK0qqOLGm417ZWXtQ+rRfE+KFRru/rkCXdp+0tPyXPlWUOvQquqt62oBldHg0J9I4rSV6+7S07NfkLmIry/PktVlKsJb8qq+t7os0QZPN4XVe5NleNFvTeq/LYbSR25EiXrdmvbtXOKykFR26o0LlWyPwyoyrGqdUcld1V2joriilODnpgMF5Pt1SWlaFHHrtbEFl754Kjmd9sFRWnnh/I5rqtTuXeK337sqoYen+XU54+mz+3Va65dIzZZRQXw3JjEJvX+SH101j9r7Xb6ov4V1cDd3OT7H3tkTdqmHfm7mTmldAtxrdoW28vYp5mZraymaxqTo8q55IPhdZ8b1G7qE0sy3hBD1Q8l1zSrN307iZP18cV0IcRTff9q2sfk5nayyXouvUtzxfuJi689VdOHMmdm3h+mltO8t0shrz19KY1X3yvmSVW917yz7eNJ20idMHxpFd8PPBrX1Oaj/WfySxPW2GLM17YS5+tNycmDUMdJjdLeWks/a61mZs3FK6k/iffVVMhx8qx209cCapPFfBpsauf+UOO063fSl1Cf6vw2m8l2Y07WcVRSu7gYZ2a1+HKruSVQ1Zl8GvuU8VZh+V0NofmpUHccagp7C+cnIRbWc3Ojb4qxayi1y7nT7lrzxS+la4X6wo1R1jXWU4OHpEaLsVHiv9pup3a/ldqpf8XavQ4+mgYRalfpv90K9bnUQ/W5M+n3MIeDBckbm3k/GWgdFvJ1dSc9q7l0Of0e45j4aNtkYqZ5f/C+5ccE/eisg7+YPkptVYW62yQ3tLPBrh9/Ol2bk/3vzXXXbCDfJ275a46jqY/6mIzjlo/PzTk5G7jm9+5aD7a3JU9M+TMJ9Rvdn1df8XLfTj4PLvhnfeYnz+58PvJEyjsPf8jn9Zkvyh7lqWdT3694yLWrNB4spz7aB3yMq55Jvhb91Z2pSF2nsepuJxqje+5/Y12jffSsa19KdG7qI+FMxp0NyIVYq2hNMiv1zqqfzzt/J+WJI5/8krtWraU+NE5GKrHdSuJzG+pEXZP69El3rbl8NX0p1ReS59wah/qv0j6afnG4ObXovtdyn9pnzN1Ty+nzyptftfN54U+fzD5reH7Jfa8/Pzonx7lw7yy5sdm449od1HqNf1kOAAAAAAAAAAAAAGMPh+UAAAAAAAAAAAAAMPZwWA4AAAAAAAAAAAAAYw+H5QAAAAAAAAAAAAAw9iDwuReisEJGdKEjptIURBxVrE1EIqIAjROoOZtEN9rHb4QhiZiIikLFMenn5RV3beJ8EtNwggeTUZBAzEgFCaLYiYqQPHzeX7uSxq9iIvUFL9zmBN+i+IVQq2CoCiHW4b8PbScBgWbdC6GouMBgIQkhNVGQQgXvVOxr6NtVJuMNgkwqoHTQKYmOlMSkOsKYpT4zfbhLsj53Xn3KXTvySRGoUPHbo14wp15J4hTDKJJVjRbriWJSKoTpBH6CEJxeiyIxwxvJ9yr1tSg05eZX+ohCGCo0I2JSHcE0vS+IKdZqy7fzIkGViP86UdwDKEDzkhIF85z4q+SCgoZJFeOVCgiXxNTmRbhN1/F6yBNLSUCsWvUCn+qvmhuiIJXa13AltRssLvoxadzU+Hw1CCargGwUiZFrrQgyRTEpd4/2EfxJfXew5MfbrCSB0skVEaERQU8zLzTd3lhOvwfR7XYt+ZAKIQ+isO6ttA5t8KGDKn7zkiE+5d4/iA7H+Po8AxVSNr/G3UeJcLWKdUWBLxUdl3qtDfVEff5c+qLXooihiq7PH/PXnCCnxJMgujsUu1ZRzzaKQveM0Srq2aldM310xER1nrTeLYh4Rht3bXOCyYafOPFzFYkOtubmSa5VQVjaCXJe8IJplfqU5KRY76ndqD1FYXHnG8FfTfKQiuQ2j3tBMiegqLkhiG6q4Ln6WhVrQRVdfPqCf9aD4teFOknnvlpcSM+96fOuzYnPXwliiirWrYK5QUxwIMKgKqbbhvd34nIbPeu1ODfjXucJUfzY4fYG+b1rezWteTXn479JjdJ8Idm8ExY3s2pdnqU2Oe8Ffe88kvbaRx5Pe+0YM+urcjZwygsc2kTmXeL+x2RuahH7uxFy8GJ65+FpL3D72n+TBLRXXp9iVDPlx/Clf5jG+Mr/M/lXMxFs90x6/2pb8snnnvDtNCfHvJapw5sQ/1xMLlDaQx9IcuLSsXaXHF1Ny1zMhjMuqclcfDq+4NoNNqT/UP/os+uYQ3Jj1Pgcc5LE0OaCr//d++u+O4hJ6ztrHdrG8ySN0RIz3D7bzBrZrw2e8DlJfbKSsyu74c/4Hvpvad6aY9J/8Ol2QfLV3z7lrukaVRJfmmUvklrr3lXXZzbsfzSXHSBBW/5lOQAAAAAAAAAAAACMPRyWAwAAAAAAAAAAAMDYw2E5AAAAAAAAAAAAAIw9HJYDAAAAAAAAAAAAwNjDYTkAAAAAAAAAAAAAjD395HmhP6Lequq/dy+JonwTlKJVAVnUcZt1r65eqRr61eV0YdKrcLdyn1PUngnKw5ev7HyuTy75a7eS8rQq8XZU7jc30xf5XJ3xqtmq+lutBAX4JqN0G1TD2wdE5X1SFKqvLPvuLl1NX1RReNorWbt5LynFq5JvWFdVm3fKwFN+TZr1O+maKqOH760XkT4YOCVivyaNrrnMZ5zrdnNr53NUFFc7V0V57dsszJv42tTl266ds6dafcuvcTubxhEV4Kthuq+RsUdVZn1PXeN6wodXpwZe5/uo6vReTVBar1RRXcc7yCjSW1RX93bnbLmjKJ7xyaB+XomadSUK3Z1nDQ+iYb+IBDtRv9Y16fi73BdV2dsN8YdWfGbGK763126ka/Mp/ldBedxWkmJ5u73lLjlfXphPF4J6eyXK7hPTU5ZFfV5ziKq1m1ml7x/Hq3FiUcYkfnf3osR8iScxz9QyNyUfaqaS39Vbfp5s8Ux6lvYfc9og+Y2Lf/G56l+bYU0Oep64R8ScrLicEedafTTENY1Xtd43E/K6+FCt9joVfEHsppXP9eKCaza8vixj8vG/Fl/T8bW3fP7L5eEq1lMbqf9mzfcRa8+dMcQaMpP/O/G+8vkg224PxHoqxt5xQ+e0mshv85qbN0dfeO0r3dfqiuSTsI7N8kr6/DWvSRf+19+4dmo3mteGkqvMzAaaD6LNZGry+twZ16xdSe/l9idtPv47P54LOUnrsEH4N2YyxvZmqn+qWe8nLvZIrdXGfKLzuer3SdVtyUMPnEt9POPjRHNjObWTd+nUuFJrmuTJTi3g8g6JxyF5w+2F4h5P51dtMtp4aX7XUkyul2QvfDPYidQXakPVuVOu3ZFPfkmeK3VXqMlaseXq5pq71ly4JA+WGkfODMzMGneekPrbfsifEwyPJBuf/ptn3LX1r3po5/PiX6Y9fjvhffLcx9P733nd+Z3PN77C5+Tjn0vrcOTx62nsDz/o2pnk1/badcvhzmc2NsLFWj6muW7CeYrGqFJdcxApxQm95s5Cllcty3yyw+Gcj6fD6RRPJ+OZzLzsh8Q39EzLzMzku9ZuMS9WkmuqUNcNpW4ayHiz+2cL5x3x7E5zt561hL2A41jYJ4mt3X7d6Z3Ps594wreTua9lTdqw79SYpPtJM3MxqYR7L60TC+91kPY7/MtyAAAAAAAAAAAAABh7OCwHAAAAAAAAAAAAgLGHw3IAAAAAAAAAAAAAGHs4LAcAAAAAAAAAAACAsQeBz/0gJyYUBaNEhCAKHHrBDxGCiF2KWE+jYjKhv+qVL099PysCHFEIRMUKgphgq3+4X4UFo0hWTkBoO/xFfhHGaU7Mu0vVZhK5qJ9JoqM2dyzbrrp0LT3q8lXXbkLESlWQtL3tRaxUFqIj3LkhonEqTloXRBJV1GEXIlNZ8YNDIKbj5kPFSaLAidBG4U4nfiRCM6W5bpMwxODaimvnRHNUTC22k2tR/EzHMVhaTD/f9oIWKsJZqxBIEO6oxTaigJLaTaviT3H9dW7UdztiahJ7CiJ2JZzAW6vipEHg63oS6NL3qqPAnYofD4dmVnsHvM9xQpNtPk6ojUfxr+g36UKIXSogo6KAiyGeXgjCmBmaKym+VjNRuEyEC8UXnHiYBXEdGW8UZ3OCuddv5K9JzI+iO05oWe01iG46EeuYx+S+ic89nX4POcmCQF16VhT4jvb/3Oco8OYEnsZbqLBDJqd2BB5zt3eEYEeLbpl5QSGXn4MLOkHqjCimmZmdSEKe1XURu7pyzTXTd4l1XZMRpIphdHA8PUvHPlxe9s9ywtJ+Dp0woMSdjsB7k8kNUbguCAP3obSupTqptzBaLk8eclw8lHmP86JzWKtg8iVvk66WP+4FabWuaf6fz6W+jwXRac1dWjMFwbDt8yd2Pg9Wgj+pGNjpJAw4/PwTfkziN7WKlQXRefW9wcn03Lin0TwU81WzIP0/M7qONzNrbqW9V63xPwic6XhjnagCvyrO3an/5NkqVtfZ42zl9zWu3SETGjwIdOZa7F9r4yaIDupew+IeakLWVfJJHddfzwZEaLOKfi3XVBS3CoLRNic2HoUbVdRaBflCrtW6sTqbhEYnboQ9+SmJB8Ffp25In3I+sfVK75Mb8ymuL34qvdfpmz55Dx6/kL6IOGP79AXXLrc/NzOrFlLcbMUnOz6jfWiOL+xxi/vfg4KrVwv51NVa8v4xT2gNJfY+uOqFQOtNsbsgulytp3VuxE7i3kX3Ca7vIPDsBD/jPkHfvyQmPSd2omLvwf9zdU3MBZqv2iCSqnM6+6lky+2J466d++fSF9K5WxXEeW1TfD6cE7q5V9+IAseak1QIeWIy287Zezy7eInrNf5lOQAAAAAAAAAAAACMPRyWAwAAAAAAAAAAAMDYw2E5AAAAAAAAAAAAAIw9HJYDAAAAAAAAAAAAwNjDYTkAAAAAAAAAAAAAjD0TL9wEOgRV1pyKeEl53qJStiogq9jy0Cu+qnJ6NZlUZKPydH0tqberoq5F9V9Vshc17Lv9J/NoVL0+qBf7e1L/zYVLfkyqhn0hqHIviPqwKhaveJVfN2+q8h1Vo3WedLxxrXR+o8qvqu2qQq8oyMd2zWZBNVuVwqOqtdjUgVS8Fjp2nXmvOigq65pEH3LqyBk1aLOgnNym5w7PLrl2g8ef1Qenz6JCb2ZmahtXg02aqDeLunxUgx+IwnQrNhSVtptbolAfbKMW+9d5qsNcq++1G2Kv4b10HNnYcvdiGt+NZX9tO9l5XAelqtNaqo87ZXA7+Ha97wQbd8rmOp8xn6j9B6V0G8QFfK6dKsibWX3q5Ogh3fGK6jqOqEru7pNcUJ095a4NP/94uqaK59FPlkSJXRTl28tX/ZjUbuL76nhf+fJ0zxef9H1k7L9Zu+3aVWqvt/0cujh/KsWX5slnXLt6Ianca35tJQebmVWLC+nL8krqL6yd2kMT8rof4EurBn8gUF8pvL+zQ13Hh876hn/7xOi+zawWm9e6o9nydUJ9dDZ9UfvU9TYzu3Al9SF2GOup5na6Fuu6SnKqiycxtko+aC6mOqzj4xLjO/FKc7LE+HaYn3eXa7ZDnaQ1ztDnBqXWsYccorWGrmus/1xNUshd940PxfdQexBfqCzUU1/x8vTl2WSfrrYwc/G6WvX7BDuW7L+W+NeE2r2Sda2mZY1Df9V2epdqI9iJxtpbyU8Gr3q5b3cz5c1WfK2zUxuITW6MtnczM3vdK9LnZZ+T6ycupC+nJe/GvK6+J/M0CHWyxobB4mIc8Q7DGymHDF7+kL+4ndZ5+NTTaQzT06Gd+JCsT6wn7hs/eTHQuany//7Q1fwar0J40r1GfeqEvyixd3shreXq1zzimp38o6d2Pq99Xbp29KN/6/tbWtz52J5IvlVdv+WaVVdSLTMM+6Qq7qme/z3uf3XvcinVfM3N4P+LX5m+TPt8NXj2errvdBp7veEnce4JsV+J/4MVn5Na3bs9keYs7vG0xmtCTd5eTWOqjqQ1cfWDxZpf3yvE5L6566BT2tdo7RL3OJX4htY/22GerqX4584WLOQoifFxT+5qfJ33WHdpbIznP9pOc+38nL/YJN9t10J81TFpDSljqmaO+XaaGx8+7zu5KHuqyZSf2xn//rX4udtrXAlnIefSnq+67f1a83wuFpiFsyFtF+KEnjX2ja0vBfzLcgAAAAAAAAAAAAAYezgsBwAAAAAAAAAAAICxh8NyAAAAAAAAAAAAABh7OCwHAAAAAAAAAAAAgLGHw3IAAAAAAAAAAAAAGHsmXrgJdAjK4G3T7785OJXj7a3sNdf3sKCUvJ5UY2tRmjYzG15LCs31zEy6X9Xazax9WpTcB+E9JtQ8VKG2dc2qyaSwqyr3VVTy3pJ3jsq2d5Kybytq2x31dp0nUZ4uqfCq4ruqiZuNUH0XXJ9VP4XqWpXtw7OazdEqx2ZeKfjQKc/LWlYqbBzsRN+rmvH2Wqk/aLuglOyUouXa4Mqya9fcvp3ayTpWov5uZmbX5b5gk25Nmm294J91Q/pQn4n+lOvbgsL6UOfpiGu3fT2p0g+OJpVr9TuzYNcy3jaarq7dEe9rwxtJHbuWa+3mpmvXisq36XtFNfRaxhHe/76k4Mcujoe5cDY+6VO0U2WXdahPLLl2apO12ElniOInJfRZ1YbPXYMHkxJ7czmpsGveMTNr1kY/S/NHhxBr3dxcuJy/T1Xk2/S5kyfF/6spPw6NL+3FKzKIYLubaT6GoiIf1274TMq12nc14Z/bbogq/T1WgD9wqE+V5kbnV23m4lXXrCn4Wqv5ekpyzbF530fOh5Z8u+pKit1q802sQSQeVEe9D1Vqv3dSTTY4vuDHLvnE2VrIJ8OV1Z3P9WR+O9BubWevuXyttpypac1C/RPzrtQCnbpY2taT6VpTGt8Y0mi81vWPMe52sqFW6uS43pXWNVVYk/UUr1qJhe3Ghmvm6mmpGWKNX33+qfQl1Gvt4rHU7vqq5dB2rdZnD55x7eplebbWayEn1Zelj1i7n5V9zoWUJ9qHzvk+mrT3aiRPxEqoXjqeroWcqTHK5bKVMBcT2i7NRSefim1oHIo1icuFhf3PuNO3rnNrF2th8a/mYr7GmZL99MkvhBpC7GHm2eNyIayr+Hkl5wlur25mVss+IfhrPZfsq7l5K12IezfNSWqfCz5P2t98Kd3zMu9D7dH07PrqSupv3td1G+fm0jA+/US6cO60f5bUkO49Vm7652qdEM4a9F20Fij5kNuTxXaF3Ojs6xD7odtPhvrH7XGWkx1XC3OuXbuabC3uSdXOna+F3FXl4l/Mf2rzjd/X6T6nkZqsCmOq5/z4d+4p1C66Xx9M5de7Wg01qMzh5sMpP01evuXbSY6uXv3y9Hntjm93OZ0nWszXkitbqQVirenukT7c2YeFXLMtc32Pz8XYiQEAAAAAAAAAAADA2MNhOQAAAAAAAAAAAACMPRyWAwAAAAAAAAAAAMDYw2E5AAAAAAAAAAAAAIw9CHy+iHREHDPihGZe5CGK8CjDG0nUQkWd9A/rd/qbFZEoub/beRS/FIE/EYmLYgruD/LfFrGGjdDu+GL6sub/qL/NJ/GDSoQ2LIpuiahDpWIiUbhGhRam8+KfKiah4gxmZu2WCKiKWEFJdMqJiYY1VlGLOF6rVODzYIt4dN4/I/BVspPmphdQCQ8Y2Xf3uwqmeJEUFWtR0Slb82IiKuQRfVLFlPRdmq0gyDItNqrj2AwiOZm+zYKoiYrEBPE4nXu113oi+InaTWk+9Z4QQ5zgW1UQZFOREBX/CCLGHRHbwyZku0t6i5iGeahqmfeOEOwtbbjzcTsIQdUa1zRmzngxGRWdiYJszjdEaFAFmO8OX8YvdhcFPZ3QjvhJR5xWxemicLOKAakgXRTCNu/LaXxhrsXno/hnsywCUiqSGuKfCtRojI/CjRMirj2UOaznvThjc1WEW2P+k/fsiPWOA5lYFkXWXf4vCE26e6JIlD5Wc1eMyWqjKhIYbLJR0fVTIrQeRfwyolNmQRhJRMhiPnFIbog+rvYVhaY0pzixpihwu56J4zH+ZYTLSmPv1BD1HkQ9e+a/Q03IyS5uaIw7dcK1Gz7xZOriK1+TPj/xjO9e9yTbIfCo6JzuGYKgmYrJTsg4OnXHA2fTNRVgt1CTnRRR60tXXDutvfSd2/BeKvBbyx7EwpiU7Vc94L5PPH4xfZkXscJYu9eZdYj7LpmnKohzq4BiLe+vgqFmZrXkGpN7OsJ12T1J2E+NgyD7PtB3npwQ3pHpcC3F/Hox1AYqPOnWLtQ1J5KoZy3Cne4swMzbudZxYS80fFkSxqw/5UUCnain1nVxT6K5R8Qa25P+HbcWUq6Z/psQh3R/IcKC1TV/rjExJ/t1mQsLwp3V2VM7nzfPpDFN/NmnfTutDYNwYfPE06mdrkkUQpY1UhHrTk6q5L3qEBsOoh9m8msda3fB7V1j/ldBatkbtFEIUtdVRZwt2Mm8nAVMhX33DamhNP7FmCw1X33Wi8Rq7HXCpSHWOjF1aVfH+tTV+PI5CIvq/sedhZmZLUoeivWajv10yiH1cpqLNvSn9bTLk2bWXpP9ijy3WQ0iubqfVNvo2H89+jMCnwAAAAAAAAAAAAAA9xYOywEAAAAAAAAAAABg7OGwHAAAAAAAAAAAAADGHg7LAQAAAAAAAAAAAGDs4bAcAAAAAAAAAAAAAMaevAw95Kn6/TeGNqihVxOiKB+UoqvhaKXXKigKD0QBWhXfo/KuH0hSw21vr/trMo6oXt3cFDXb9TS+aiYoaut4pY9hUI0fXElqwBaVkkXZ1ymFzx53zSpV6d4WJftTJ107VRR3z5I5u3tNlKc3N/21NqgU7zT06z9YWpQvaXzDy1dG3z+iD/fYYDcHjajIXUU15+eo54JqsszvYGHeXRtevzGyv2YrKDnLvKktNJeu+mZHk42qCrtTNQ9jasL614P0LH3nqN7t+hdbc4rcZmaiKN1GWxMa9eWgAF3PzqYvGjOC4rWOwymPd/xO/CGsa318MV1aTr4b7XNiKfmoxoyynQysaluzg23qXx4lle/S7/K9Xog+lNZL53pwdNa1c2uu14KdqO12kPG7mBxsqJ45kp67KirqbYi126NzVBticj13LHvN+eFs8vE65C5Vr3d2KPHeLMYJ75Muz22lcVQyPjOvFK9+7XKVmctXLnateuV59ZM41y6vjSPRpzJojNZ41ZlrjeWFvKv1VT0f1l9stJL6rH3msm+n/TdST00WyvBQF7r6TfJTE+zC1Zoad6tMTWMj8rjWjRonSn3IuxTHJOuoscqsm1+VmKPzAxmzfwcU/EJriFrmorlwybUbSO4efupz6Z4Tvu7WfUJ7ezV7zeWrSR9rXTQ8kmqjKuYF3QuE/KR5SGuZWGuov1a3Ui7o7Lv0i/jk8MaKa1e/7pWpi8897cerc6XP3Q6+O5PeuX3iqdRO8qdZiBNrt81fTO/ZXLlmOVqt18Rn6lB3b1+9nsYhOSnOJ/TDxdBSDFJ/jecEUuM3KzfdNfWvNlxzfZw9ldodkRriZsh/p9O+uXn62fScR17mn7uWrxO1vnT16W1vu66W0fh06YZrN7WVbFT93cys0npQ5mL7kbOu3eCGPFttOe7JxM83XreUxvR3X+Oa1VdlrkP+czXkWsp5Ma+3GufUNqrCPqnyMbS0b7xnZGqyTkyWvabG7ljj6hmS1uRq02Zm7bTUWs8GO9F9vtQX1XI+d5X2QuqTMa/VkkNbiddNiN0uX6nPl8571E7iGaFei3sS2edsH5X8vO33idVmenYrsSHuXSrdQ95ac9fqM6fTEJ9KuXFwYsm1G15LuUbnJj7roOaeMasoAQAAAAAAAAAAAAC6cFgOAAAAAAAAAAAAAGMPh+UAAAAAAAAAAAAAMPZwWA4AAAAAAAAAAAAAYw8Cn/uACjKU/ji9axfEBPSP3FdHRDAi/DF9FZAsCS35zqVdELhxIk5BPGLw4Pmdz83FJFbZbgVBNhECNBVxvORFctr5JBKw/hVerOHIhfSem68+s/N5+6j/4/9HrizsfFZxgupTn/djUkEGFQkJIlYqINIRJBRBKifiFYWwRKxIRXfqIIQ6dIIPQdQlI5J5EIljdQIdModNFIIQYbSOcEtG/KsvUQhRhXEqWZ+OP4noSkeQLyO62wQx3Vr7l2ttEK5SUY/Oess1JwSy7X2tkXlTUcc2iKRlRVeimIgKph7x4jfDq9dGtuuIiQUhn3TL4bHpF4Ug8OTiv65DQQgqCjzp3DsB2SBcqYKXztcG4VkS/6P9q5ie88+ODfV7Lyc0JuK/HWEdFQm8Gd7f2WE+dzlfU7Hb5SDcJnmiHQYxUe3j1Imdz8MTXkxnIAJyrQoXBjFJ9y7qd0d9nmhXRCQrCnq6Ob2f1XEzFOKQojHa2XW8pxHxw4JIuou1IXdZRpCqI2grY3d9FPJEJ15L7aX1RVsHX3NioiKKe8wLPDl7DaKGlY5D+wh5otX30nmPYtKucxExnizkiRhD3VL2rLUPqGDUvtJTMD7mZK3RnJ9se7tT4bKYa9S+VIC2Wgp2orV2QahOxdRqibtm5mt5Fck9c9I1c6KGd+RZk0G47HISHbP5lJPqc35/Ul0T3wgiga3sjarFtD+xiWB30k5F4SLVvAgc3lh21+qTaT6ay/LcIDqnInmV5NooOufuUWHpyfCOul5RdDDUqPAcIdc4/9KYGXzBrV0Qf3X7f/XrIPC+dTqt+cR12fOE/X9zPNUy9dpiunAriHOKfTVNeK+jSUyxmhAxxUUvJuvqtevL6feHzvt2T11MfQQxbd2TNXOSkwc+rq18tRcXfJ75vw2CqddSf3N/mZ67+XCIO6t5gU/de2m82n7mgmvXdz/k8lV7yHxL69r4vnqe0uT3HSpW2T4rcxhqnGpD5ibWGiK0auJD7dKi70PtUPfgc+E8QfNkrOt0T/VAErsctOE8Sesm8SE9W7r7PcWDdivZ1iCIM2sebo/5OHHzNSm/TC+n/jeP+3nSc7fmFQ+mC3/1N65d/dpXpC/PeuF6FVDVeYt7LXeeVtz/yrU9nAW9WPAvywEAAAAAAAAAAABg7OGwHAAAAAAAAAAAAADGHg7LAQAAAAAAAAAAAGDs4bAcAAAAAAAAAAAAAMYeDssBAAAAAAAAAAAAYOyZeOEm8EJ49eK8emtRAVhUqlU1vpqZ8X1sJWXbWtRxh1eu5Z8r6r2q6mtmNjgjqu+3wo1uHKIorIr0Zrb9bFKRnlBl66CGvP5QUsqd/dQld23jkaRmP30xKU97TXYze+KZNCYd+ymvXj18NvU/kGvtteuxxzTcY0fd93ZDVH5n0rX2dlCU30jqxapy34a5dmrzQb05KqIfODqKxQkdu7Pr4AtqN40oKJuZ1TIfzk+CDblrkxK+omr8zWTM7XpSxq4XF1yz5ubQ8qR3UfXmOKZqWqx0mO9vIIr1w7WgNj+d3qUJ/uXa6fzq56BQb05sWsa7C3Xpwdkzqfsby9k+9P11jdsmqIbrPT2V4Q810f4bUYqXtXP5I3YR7MndJyrqVVCKV6V09ZO2YyfSf8hJql6usTHGKo2Tg5c/lLp+4in/LMlxdjLFyepWiKcaT6Y7GSAh7xwV5WN83fk95l2xw9Jc28rqzsfmnI8hlcSXalLmXdbAzMwkD+uz2lWfeF2sCeONYxxrJCfVMZ9uq28U1nhqMLJdbKv5Kq5rrXlIarLmyaf9s2QtnR9vhzhZFWLjMPmvs6Et34fLjZqSN3zezY2vg8SymLv1WfVsynFNqJPcO8t4S/FvN/nKP0zj4Rj4TMzJEruL65rpYyjxzizYfKhPXN28kGr85oKv8d1eRm082r/miWivais6puvLvp3E1Fbss3rgrGvm8sbVtDeopFYzM7Nj8j3kK207PJ38f7Dq58ntGzTWRPt/MNVddsNf0rq2Pns6dRHmulUfHUjdEeqE+kjKr5pr4/r7zrfy18aRKlPXhVzjvldpzeO+01qxh4Ffr/Z2qjVM9tptKP8mn11O19RPgq9tLaY1n7RkT9VmPidVV8OYllfSNd2HbYe4K7ZmjzyY7ln1++T2gTSOGP7bmfQurdjy4La3yfnf+MzO5403v2Hnc30pOJT4idvvn1t0zdb+j0d2Pk+u+mdNfvLx9EX82tUFAZ/z8nVnsxnmcK/58MUkczbQxJpEY57eE+qd9mo6y6qPL6YLocYfnky5ZrB2zD9bz3lupvOkOu6tNTZKDdmpXXQth2Ffp21X4yGaIP7QyjrGelLP+PTMIMYC3bs1R/0+6ehTyae2j6b3mv7vf+na1cdlL3Mi7clM9nFmZnbhavoc1rs1mQ+JXd26TvY1Mp+delLPyQrx9KWGf1kOAAAAAAAAAAAAAGMPh+UAAAAAAAAAAAAAMPZwWA4AAAAAAAAAAAAAYw+H5QAAAAAAAAAAAAAw9iDwuQ/4P0JfaCh/1F/F3sy8MJ4ThogiISJyoGIfVRST0GeticBhFK6ZkLHHP7R/TgQ/VpJIQiUiPmZm1bKIwYjAmS17kZiJW0vpWUGQoBIxgO3jaYxb8178YFKutSIEMPUZLybnRO1EuKMjmKpidW0QJFChNRFhaNfD2okgw/DS5Z3PdXiWv8eLXxRFrg4CBdtVKqfvGd5J3rkjXKeCbO5aFKfKiJrNebuu10XwQ4VlxBfMzOpjqV1zK4hziKBG7UQS/XupaK4Tp5jwPtmoEGB8f/Fr96ySSJAKfgTNJSfIezM3t/5d1I7NvFihEx2NYmIiUBQFhHO0TWtt9LcxoujvKoSzHcRk9HulApdedFPFn92aTBREh6KtiU/6MQXhHolz7fUkoFSycfXDNojdOn+KeU3HqAJPD553zRqJw+6eIATZyLM74r8iGlfNil9vR5FUEet5WcqZ9vQF10xXXOd2sOCfO1y9aTm8WGW22f1DQVha56KJ9q8CQpInSqJbKooYUSG8jsCt5jVZu64gUfquAnrRxlXwKI7Xib+qmFIULtUcIuPtjEnF6Qqiy1rLdGoX+R6FsRwqOixCwx3RUY1rIU66/Kq+EONpTggt2tNBFEzbCwU/UTp20o4WXRucWXLtmitXLUfOJlWAsnOP7CcsCiFrXRP3K4NkK8NnLqafT51wzerFlP/cvuaqF/hz4mrzsq+56WvB5okk1lu95hF3rdqQWP5EGtP2K3xOmpgT8VPNcUfCXuhm8qE2iv3KeJunn7UclQjt6t6yCb7mcvR2oT5HWPrLJrcfjDXzQGq3jqifClxeurLzuSPiq31oO/3dzCZvJNuonhB7CvE05jzFnSmovQa7NsmNlbRrZ8Oe/PNPpr7PnHTXtk+e2vl89avSfZNrfrxTD3+1XEsxfvPVXuB36lPpWSrUW4X3P/ppqSeD0KTuY1xc69S/IlyvtUbIQUVf0zh/EHOXClcW6il3nhJqBq3DdU9ahbp4oGK3MYd8RYrR9Q05hwq1i82n/b9bu4j4nRMPNbP6jOS5Rvcnfv2by8kP6zk5nwiiyy4fqJhoFLEXYd3b570PVXLb7NMpvjRvfL1r98Q3pb37y/7v1F/9zBXXzjSfXvXvr/m1lrPBKpwnao3u9pZRMFR8z8e1Qybw+dGPftS+9Vu/1c6fP29VVdlv/uZvuutt29q/+lf/ys6dO2czMzP21re+1T73uc+5NtevX7dv//Zvt/n5eVtcXLTv+Z7vsVvxoAoAAAAAAAAAAAAA4CVi14fla2tr9tVf/dX2i7/4iyOv/9zP/Zz9wi/8gn3gAx+wj3/843b06FF7+9vfbnfupP+C+e3f/u32qU99yn7v937PPvShD9lHP/pR+77v+769vwUAAAAAAAAAAAAAwJfBrv8Myzvf+U575zvfOfJa27b2b//tv7Uf//Eft3/4D/+hmZn96q/+qp05c8Z+8zd/09797nfbZz7zGfvwhz9sf/7nf25f+7Vfa2Zm/+7f/Tv75m/+Zvv5n/95O3/+/Mi+AQAAAAAAAAAAAABeLPZV4PPxxx+3ixcv2lvf+tad3xYWFuxNb3qTfexjHzMzs4997GO2uLi4c1BuZvbWt77V6rq2j3/84yP73djYsNXVVfc/AAAAAAAAAAAAAID9Yl8Pyy9evCtucubMGff7mTNndq5dvHjRTp/2wi8TExO2tLS00yby/ve/3xYWFnb+99BDD+3nsAEAAAAAAAAAAABgzNn1n2G5F7z3ve+1H/7hH975vrq6em8PzDvqxelzVYvKc1SUVpXX2vehqq+VqmYHNexaVH/dPSe9en17RNSBv5RUrqtpr6jbXBSl7Jkj7pqpOrAoNLcrd1wzp2x8LanNV0HJfuKmqONGpWiZt0tvTON48He9en0zlUx28KUL6UJQFN78B39n5/ORp5LKrwXFYzcfrV8vfedGlIfj2FU5fLB0PHUXVc5PpDVqN7y6uKo+N0Ed+jBRVPLui8xvSYVdFZXrG0HJWtdS5zootFeb4q9x7BtezTmHqn47ledAjAeuj0LcUGpRxG7Xkhp457miou3VpTuDSp+3vVL48KmnM+PzvqYq367ddj7Gld5x3GlVsT0qhYuNdtZS20nsqc+l/3jdLvv/V5bG6GYl/D+25NntusT8iVA2aG7Yytu/UzY/lp7bXvcxfrAgyuvBJpu1FBtb8c+q8bZWa6y9mcTDq+j/8i7Dy14BfrC4OHIcExeW/ZgkR7eDZP+decqsq77T3U7Ud/36q3852wg1yX1DeC+NtXpN46KZj4euTpr1NUkrubbZ8rbmY56MI6xrNSnfYw2h7dT+1bfCc12ML+RTtV31GTNz/lXpmIZ+Ppur19Nzjx3117R+0bGHnFyLT5XG296RfNpqTvKBTNehnvRz7fqXOYz1dDa/RD+5X3wojr3VuqZnF4W1qx95WWp36aq/T+qQal7ssAn9STvd1zi7MLNqNdVy7Wasa1KfgzOn0u8hrrezYpOTUnd85ou+ndhyLc+qlhb9mAp5zTQ3Hl/Y+TjxuaddM53f+szJdCG8f3Plmtzk7XgoOVrjUxXin/qui39x3yV+0q6vj/w9Psss9LEfNf9hJhM3unMt7SQODx5+0LUbnpxL94T9/8QzyTaq44vpgtQ4dxvKmsueNLarn76cvkj8b8PevdaxhxpyeCnVTYMT8qy4d9P6X2q+9pEHXLPqFSnWbJ30Oektv/QnO5//zz//f+98ft2/vu7abT6wuPN5/XTyjYW/vObaae6tFtK8D4/4vDOQeWtedtZdq7Ue0Ho1zLU+S+uTbq66T/ypkE+1dtdzkbvXkt3o+Ux76rhrV62lPppQu1dyDmVzx9LnsE/Qmlzrnzbs/Z0vh1hrEjdNxttcuOTbiS83N5bTc0PtFvNh6s//Y+LB6ZT/5v7kCyPvMTPbfmXyr8Ga98nN48nPn31zyl3n/8DbZH0z1ckbb3y1u3bkLx9PY9S9VjhPHEgtN7wl7UKc1FzTFM5/Xmr29V+Wnz17N4hcuuSN5NKlSzvXzp49a5cvX3bXt7e37fr16zttItPT0zY/P+/+BwAAAAAAAAAAAACwX+zrYfkjjzxiZ8+etT/4gz/Y+W11ddU+/vGP26OPPmpmZo8++qgtLy/bJz7xiZ02f/iHf2hN09ib3vSm/RwOAAAAAAAAAAAAAEAvdv1nWG7dumWf//znd74//vjj9ld/9Ve2tLRkL3vZy+wHf/AH7ad/+qft1a9+tT3yyCP2L//lv7Tz58/bt33bt5mZ2ete9zp7xzveYd/7vd9rH/jAB2xra8ve85732Lvf/W47f/78vr0YAAAAAAAAAAAAAEBfdn1Y/hd/8Rf2jd/4jTvfn/9b4t/1Xd9lv/Irv2I/8iM/Ymtra/Z93/d9try8bP/gH/wD+/CHP2xHjqS/X/Nrv/Zr9p73vMfe8pa3WF3X9q53vct+4Rd+YR9eBwAAAAAAAAAAAABg9+z6sPzNb36ztSURo6qy973vffa+970v22Zpack++MEP7vbRAAAAAAAAAAAAAAAvCrs+LIcXoEp/Br6erNwlVT2ug3p7Iwq4zVpSnh084EVPW1H5bRpRzZV7zMyqycn0eVqeNfRqwFUYh3vWUhJSrZaTem27ctM3rGdSO1XArfz7r59PasOzX/KK2msPJBXhtYfSGJ9+m1dAfug//m36oirCQeX4yF89kb6oWvV0eF9VuQ/jrfQ+UUduVr3KdVTz3fl91iuKN8srctHLBag69kFH1Yr3el8jKtRm5pSza5nPJiiFu2fLHLbR/pcWUx+iSl0veXsy6b+amHSX9FlOsTyofLfDpF6uttBu598x2kxXEf25dtFexX8rUZdWpW2zrpp37jmte/8oYTEc3a7Ox7W+71jVlVVtdd8Iv/cipw5f5aVD1LbuNpW5l/6aLb+uE8eT3Wi8brd8nGlFbbyamXHXbEvi/DC/UG0u/k2G8kLjqarVBz9pbq2lPkJ+ysVaWwyK8peuSn+ivK7K9ebfeXDyhO9T/lFAdWwu/b7p57CaSrmrupOutcFPVNld17Ga8nFHc0Ed5tDZQ86e7mc0voR4rWRzstYnZtau39n5HGuyks27PrSdxOd6bs61a24mfxpIbdWE3OXsrvbrr7ZmR8Vfw3uZ1JO2kezOah9rKumjib4R/ff5Lk6ddN+bq9dHtzt21H0frqyObBfzyUDqOp2zSIyNrk9df7GZNt5yv/qQ5BRXx8Q5q2SfIFPW3Fh2zWqpL9RnzMI6r6XY3cldc8fSl+VkC509iNQ8nUpzOvXRLsrnLzzpn6V9qH3FuKAx5NzpnY/NF0N/4ifV7VBbic9vL6W5GERfk32D+ozzaTPn/7XOmZnVuqeQNXF7CzOrj6Z2LsdP+z2JybVG1rVTu4173imh+5C+MUn3Qk8949rVVyWuh7p+6++8fOfz5JOpxmlP+H1NO5Vid72dxtQ8cMqP6Yvp2bpnqq4v+/4kh8S8oPHa1WHbYS4kJ+neuhl4L6/l2ZNhX/+Rd/+/dj6f/rvJd7/0//HnJEufTc+e/3TytUvf5Nud/r/StTuvPrPzeeK2r0nbM6k2rK8su2vuTEX8qYTbJw79Pa6uKew1Dx2ak8SGmnCeVIczr517Ll7Ldl2fXPI/rEktI7mgWQrxdC3ZpNuvx/gnsbF57SPu2kDsob2ZYny94Os/O76QPt9I8bq9HeouzRviJ3Xcn0mMX3+l37sMNpKd1Bsau/0+8St+Lv1J7eHL0ryvP+TnqdqWs7v/9YQfh7xXJXPYBl/Q/JKrT8yCjeve+B7nnX0V+AQAAAAAAAAAAAAAOIxwWA4AAAAAAAAAAAAAYw+H5QAAAAAAAAAAAAAw9nBYDgAAAAAAAAAAAABjDwKf+01BdC2KdeVQcZbm8lV/UUQoVVgniiS020k0oFXR0Uce8t2p0FoUGbwlwgMqNBL+IL+K6ajAwfbffbVvNxThqht+vPOfT30cfSbN060HvfjN1W9OfZ78v5M4QfPQGdeu1ncR4arh08/6Mam4WhQ/lfVqRZCyJFznhDuCyKKKWmaF6g4BOTHK3dzXFQlVwZPRgpm7Qv3kvAiGBDENE3Gp9loQ7lNBjUbEP6IgowpPiGCWCgtG4hzqe9aLKnDm+1DREBXdqc+edu2aZy+mLyJIWBJdq+e9qMe2iFDVIiAX7TrrJ5019oKhbbs3Ozq0ZIQ84zw58ccg8JcTk6qngp+ISEwl4k9tFJM6LYJPUUxT7Lc+kQR0miD+pEKI9WISe4nCNWo3TnQsCCGrTQ4KAtROaPNWEPiVHFrdTtc2v+GrXLsjf/l4+hJ8w4kkiuhoxyf1vlXJa1EINCOMXC8EcVK5ryvIpzZ0iMWe+hKFsDVuytzEeaqjaN7zBCFMFReMQpsa15wIYVxXyf9OrCvGN30XFSAMgokl3DhkLtogzlzJs1XUt4oxSAVJg/07oV2pk5orvibNCTzr/WaFXB6Fm0QkqiPiqmKV4p9xvduCbeTG1KlrDpOQYaEmcaKmoZ0TIVN7DeKUKhIdhcs0zlciklwdCT54R3xDa7yJkOPEH4aPnHeX1K6bybR2g1e/3I/p81+ykQSfdDlURTfPeBFbmxQ7DKKLJiKEE5dEaDPYv/qDirV16im15bAnaVXguJU6IeYufa74yUQQuG9v347NR+LF7gv175jjhRt93HE1j8S1TtxRIcxQ/9TrKTZun0s1WRXsutqS+Hc97fHrKPD+oOybr6R2nRrnoeSHzRNP+2fpGK8kEcaOTWo9dSzVZ4NrYZ+k8WDDj1fj0pHl9I6Ta0EkelPixLGU81e+ws/T4t975c7n6QsiOnx12T9XhXbDejmBa/WFGNc0JqsPZfYFI69Vo3PtQUHtv7R3V1+I9a+J7WktXE2HHC/73/aSr0m0lhmeTP3X0Z5U1FjXOAq1SkweXAhCoypqqb67FMSUVfD2yOgzs7sDltyov4f9+eb5tNc68owXT68uyRjlvVo97zPv//Xnn9r5PNM+6NrV11L+d0KoZtbOp1xW35RYUAXhXrlPz8L0s1mwobogzv4Sw78sBwAAAAAAAAAAAICxh8NyAAAAAAAAAAAAABh7OCwHAAAAAAAAAAAAgLGHw3IAAAAAAAAAAAAAGHs4LAcAAAAAAAAAAACAsWfihZvAblAF7KgGrKrXqpob2zZrSaG8PuoVdVVFWFVpq0m/lJXepyq815fzYw8qt9Wt0UrpdVS5FoXqzTe+Zufz9JPXXbPhIyfS5wdOuGuD2+m9Jq4m5d2N46dcuyNXU7vmwdNpCCthrKr6LeMbnPH9qepxVC83UWJ2ytNRlVdVfkVduahWHa5l1dEPoOJ1pKqT6rGOvQ42qcrezeYwXBLlZPWTYaGd9FctzLl2zUKy//qZK+nC5KRrZ9JfR71b1Jzdc6Nfq3K2rFc15dW7G/H5iZML/tpKUrNultNnVaE3M6fe3S6vpGfFeCI23+qYgqK4rpGO4W4f+v7SnwWi3zzfX1S51jlsm0Nh2/uKroPaUFC8d3Yz4X2ozcSXanLat1tKCvDVRlqHetHbncbJ9raPoW6MjaqSB5+cEp9S5fWg8l6fSjG/uZpyQxuU5+uZI6nvYK+tjLd64Gz6/dJV184yceLI31zw7USVfvvUvLtUf/Jz6fPplDeq2+vhWRLXNCfdCCr3Tz6TxqtzKO97d7g69hCvZM07fjgGuJyi8T/E5OrozM7n9tZa+jzr/cSWUx+xrnF9an4J9u/sXHKGs0HztVxz/Ub2uc4ehvkYqX1UkgvMzPmhq2Omw/vru7TeonRc7Uby0WpmxrXTGkr7q0NO1rw5vHIt9RdrV3n/dtPnpHYrjdHVzDGGaJ/SztVW8ft9lI9cHSYxrp71+wmth9p1iWuaZ8yskWvVZqgh5tM6tzeWU7uTS35Mq7KW6lvHfU5qj6Qxbc/5Z01/+qnUv9ikPXDatauXjqcvYpOaF83Mqmcupy+ad9dCjD8pPhnmZvhAyg31555MfR9f9GPSL+Jr1YIfk/On2tcG7XKKZRon4lxrXh9IDNGYYWZWz4mPav4PfhLrdRhNZw8pVBp7df3bkCfmJXZrHDezei3V+cPjyZcH18P+V/b87QNndj43X3jSNavVD6XWqufOunbtVIqn9YPn/DWp5aowXsdAbFlyUrvsY7zbd035+qeSvfaRS2k+18/5uLZ5LD1rcjW946s+6J9VX0vfXR4PcbJVv9F8aubfS9eykLvVTjr75ALt9gHMUS5vDrLNlMGJFK+alZvuWiX7BBe7N3yOV9uoQg3VLiY7HFyUvYbUgmZmpr6m9VrMk3qeNBHeUeJ1JbnWQk3i9usSCzrnDlqv6PmU1ExmZlOah2KeOHsyfRbfbU/6mmzwjPQpdljdCvn/UsqTVawh/+bx9FlyXvTr7NlQ2P+qb8R67V7CvywHAAAAAAAAAAAAgLGHw3IAAAAAAAAAAAAAGHs4LAcAAAAAAAAAAACAsYfDcgAAAAAAAAAAAAAYexD43Ae8wGG///7QbnuRCCemp6IWQTDEiemoOFsQ09M/rq9iV9VMEC4QEU8nTmDmBZ/083wQbhLhhYnb8l5b/h2nn5E/+H/pirvWvOrBnc+DK0lMY/5Pvuifpc9eTcIQUSRCBZ9qEe6pgpiavlcUmnNiVSKE0254McW2GS26EcUJnJhiXK8NL6hwmHCitiJUGoUblChqkhPG6Qi3ZYT7LIjuVXPJzlVM10vpmDViQ3G9qiB4u0MUOMyINUafdM9dC4I8cl+9tJjaPXvRNXOCvyr+GIQQTcVPZBzDq14kRN95IohEqeCninq0YezVVHr/akJmOLiTW+OqNrN6vFQKVZBQBX1jLphN8Xo7iLqoWJuztShwdzOtUTsv4jeTx127rTNJ4GZKxNPMvPBYKzZZBeFOzRvNhUtpDOfOuHbqN5UIy0VfcPkviA6q0KyKsEUhUOcbKrR0LAg3XUx5qP5fn3HXVAy1nRH7D/Heid/+P59Nn4PokK6dCubpnJmZF78LsSbmjXHDC6jL71G4MYgVP099I9QJYkP1ohfac2KyKhIaBL4auaZr3In/Ksj7FY+k+z/3Jd9OapkoXDmQ+N8RBlWc6Li8YxSnVvuKoo6aN+W+WCfqezrRzSjwK7Wbi2NhTDqfnXV165/uq+OYYi2X4z4S9cziRNJ87epyvAp8BXFy/d4RiRYh1+bzT+x8HgSBy+p0Eh2zO7I+Mf6vpvFORvEzFWhX/9wIvqa2rLbxpWf9s7SeyvRtZm6fFIXbankXJ+p5xM/h1kOpvpp8PAmmRSFse1Dy5gW/T3IidC8ToUUVKjXvQ7rniTHD+b/4Wow76mslEctxpyQYXGkto0LQQcTdrV2IyVqTTayK3dwJe9KzSSTxzvnkn9N/68fUXvOCryPHZ0GEOcaGcyKuK7krxho7JyLpIlTaXrvumtVnU3/tnK/X9L5qmObz2N/4OtkJ9GptGOrJRus/iWMdnyzYvKsHNMd3xLSl/q9FqD0KhpdEDXXPexBzV2HPr3beSn0SY9LwosQyecfBOS8664h+clXygYjORsFYh1xrL1/1/ekYw1mDrr/rP/hQ7v1z50fxnjrkU81DjYhMm5lVX3wm3acipsF3dYzbItQ7iCK2YpMdQXaZm+ay5KuCLfizgHyNd5BsnH9ZDgAAAAAAAAAAAABjD4flAAAAAAAAAAAAADD2cFgOAAAAAAAAAAAAAGMPh+UAAAAAAAAAAAAAMPZwWA4AAAAAAAAAAAAAY8/ECzeBDiXFX1FvbRvfrhJh93pmxl1rRM26FgXcZt0r71YZVeZmI6gBi3p5Pb2YLgTVbO2/OhLVm0WJVp5bBbVmVb0eiIp8G1Xu9cvigrs2eEpUdFUdOCgl67X2xPHUd1DvHYgCvCpgRyXfRscY1YtlnZubNy2HqvfqurbbQVHYBnY/UNV+ntTOdS5iO3dPQV280rULKtc2SM+qjyal9LU3vcI1m3k2Kcqr2vbWK864dpOPi/K2KjmbWbOVFKsH86KUHpXn9Z3Vx4M/DdXWgiq72mWr7yyq2WZmza30Xurj7ax/VrUstivjG5z2qtlDfeeg3q6q7O65cf1lnnRMnfVv0/ei4vv9iuYGpwbu80SzkmJNtCHFze/Ax5Z2Ptn8cE5joe9j6jNP58e7MJ+eJQrwlajLm5nZdFJYX/8/XrXzeeZPPuOaNa99JI3p4ZNpDF+87NtdS6rszeotd01z1OYrky9P/Nmn/ZgkTmh+qp/2caf9iofTtTXv17Ytfq2+W/v1Un9161Xwk8Hi4s7n4fKyb6fK84UYOhaIz9xldA6t571NOrvRPmKOl2vDazf8k5YWU3/LK+mWr3mNb/fExZFjqsKztP92dkoueJvUNa+npvw1GZPWcm2ofzQOq63Z1KRrV6p/dByan6pZX7tWUvO5fBXqX/Un9QVX75l15sMh61VNJl9z/Vkhv0R70tjbsbX7hMJ+Re3EzXu0BanJ2ps+JrfXl3c+DyRnxNqlvbw68rkd2xUbrZ++5PvQPh+UWu6W3ydp/Fc/ibbbrEqulTxmwe+aK9dSu7O+hmqnxDd0bgbzrt3khRRD1A9jPVnJO1fBXyupQ5vPfyn1MfS2Wx1N71npPibsyRyFuNPdy8AonF1vF+Ka7PGjn1SzaV9TTft1sM3N9Flswdm7mVVXUq6ZflxqvBDjKtkbNdfTPXXcd6v/y17AzMd/t08ItWsl89GuSiz4ikdcu+YLT6ZxBLvW96+1NgoxpF2UeuBZqS/Ped91dYOeE4R515o81nXuTEHyjtadZv33POp7cZ984P3Q7XH8JZ21dk3ahS5ye54m7M/rcxL/F+Z8Y7WHlWRr7dmTrll1dTldk/ps+LqX+3ZSowwev+CfpblS139r0zeT8wrTc7J4xidnSBqvmytXXbv6VHqX+sI1dy3nr1XYurVzyc8nTp1IFyZ93rGHzqbPF/w4tp9J86HnJMNVf2ZWDfqdf2nd6c5Q73F9xr8sBwAAAAAAAAAAAICxh8NyAAAAAAAAAAAAABh7OCwHAAAAAAAAAAAAgLGHw3IAAAAAAAAAAAAAGHs4LAcAAAAAAAAAAACAsWfihZvAC+FUjkV5vAqqyU7ZOKpSS9tKlWjboBUsyrv18cXU7FJQ1A7P3iGq3IoSd7vun6WK2O2W9DfhVW2rOinvOkVpUeTtPDso5dqCKMeL8rBNehNtRZW+mk/3DINCt1PzFqXwdivMkygvR5VvE/XeamrGcrS3bmXuCUrmQdnaD+TgqP6ORMYXFbrd2IW+7czMqolkG6ou3m4E5XGd0+m0dkc/+WzoUBSVRRn95sPeJidPPpj6+G2vtj1Q9Wrpr9n0KtfusTm/i9eCMnp1LI2rWR1tT2bep9o7SW29vukVtVWJXeezuXY9Dip9ju+ldthKfApj0vina95Zf/fYyqq2Miu4xGGnqP4tc9uZT523OD+6JrJ2g9NLvt1ysqHB05fSLSGemvMnH6/a6dS2Wr8jF6J+fWLmzz6Xvrz8AXdtOJv6m/rUk+nCwMeFenFBvvhrqgg/uCOxPPrdUOZXY8vJE65Z9aWL6cvJ4+7a1vnFnc+TX0xzaA+d931cX07jEx+qQ65t6zSHze2kch/Xv5pK32O+uq8dpge+1pK4s7Kabyc012/4H8SH6vl8jq/PnUlfnrjoLw5H5+s21niyzrfPpdxyVGoQsxBDY0wWe2hWUg1VP3jOD+mJ5F+Dc2fT7xcv+zFJPKhn/PurjbZSk1WbW35MmffvoO+5nvJVrXnWwvtrLrR8TO38LnOfs4X7ic5eQ99Z4msjNYOZ2UDq7kbr3+1QJ88m22jDeuuTde2qo96eKqlJ7KjU52d9u+1jyU4mLnu/tqkUU5uZ1G5w87Zrtv3K83Itxd31B+ddu5lnxb5W1NaCzbz2FenztRV3qb6Wxuje/7avyRxSu9ZLi/6a5LzunkT2l5K7Y5zQ2lD3XXFP0rq8Lus6EeqEoebh8c5BRdrRdYeZWSOxu/SvFHUttY6/24nsr12dGHxSark6s48xM28bYpPNmvenSsbeibXyXXNIsx7s/6Lsr9RP1r3tVrOF8Yr9NpLL6pOh/tVzCBlf88Wn/LP0jEPymsY7M7N6YU7G7ue6dWco6Z1j3sntDWO7dnsre+1AomcDzeh5j9fqIz2PHiXed+qEa6mWi2dNar8a86ob4dxJ6xqJeYO/fdI1q3RPEmOo1CiV7A2quE9aTnlCfUPP8czMbFt8Q20mxuTtuDfQQaVnL7/jtTufj3/Cn3HYJfl+Ku2Nmqf8eUqt8zt3zF0bZMYxmJ9z3zUntdt6thD8SW3+AJ2F8S/LAQAAAAAAAAAAAGDs4bAcAAAAAAAAAAAAAMYeDssBAAAAAAAAAAAAYOzhsBwAAAAAAAAAAAAAxh4EPveZksBfrcKFBfG7dksElILAhQpSbr46CTdN3Fj2negf3VehhSDiVp86ufO5K36loqNiKkG4QMUU6qUkkhbFpAYqDBBEAkwFafT9t/08VSpIuJbEb5ygp5l7/+rs6fR7FMJRcYYo3KAiJDLe+F5hgOlzFO5Q8YuSINNBpyTUqQKnBYHbjviptlPRoTiHKlyp4iwL3p6aWRH1ECHAxc94gY9mUnwjCpKoWJ8KMkU7EUEWFeGIoktO8CfGCbEvJ6YYcOK/OjdRTEeEUSoZRsfO2jT25qYXU6vnRKBDfL6Nz1JRIxVTieK8Klw0HFrb3udCUQU/cfG/8mtSS4yPQkOtiIbpfMbYrfFQfbI94wUu2799PN0jucDMzI6KqIvE5+bBM65ZfTmJxjpRnyCmM3Un2drmVz6883nychDxU1G/kP/qEyLkdDX1H2VgVGhz4nzKk82SjxPbL0/zMfU5L9yo8lw6v3UQZDQRHqpFMKgJItb1acm1l5NQaRTuUaGpmNdUhM+5zwESwnmpUB/qrIkIknnBTC9O6cS/gpikEz/U9fqKR/yzPvdE+qx1RyFPHPvrVEO0UbhJ80aIIdtSezgB6uUghCj3DS8ku3Yx3bw9qaBnHL+rSTuCvCK0fjUJsA8W/bPce8k8DW8EwcRYy+WQdW2icLvL5fd5njHr2Ek9OXofEv2kPZ3inxPxCsKCzm/O+/ifjddXfU5yOW8+2W51JeSuqRQnNx9YdNcmP5nyVfu6lENaEVk2M6uvipD5q1K72b/2wmXNZRE4e+XL05iCwGF9K+Xd4QNBJPp/fz59fjgJxluINa2MqV1ONl8HITTNJ9VWQUxXROGrYRC4k/7dmkThVrWHkrAw5HFi7RIz4x4/k6OrmONFrLq0J3XCgBthXxti+c7va752V5+vNJ/E/Ynasoodmrl9uAoXxrG7/cCECAZfC+cO+uwocKvCnZqfVnytpb5WiXBhFddEc6/Wxheu+nayP2vDWYsKQ6r4Y12o6zz3Z34q7f9VaLqa8kK4GqN0392GWKiinm3YM0ex8p12scbR/mUvHPvzzw3ir/PJNra/8MTO5wk9d7LCmV84TxuqWL3EjHju4Gw37JO2HknPXvztT6cLi17gWmNP83gSNe2cE2iNFmoIPf/TGrcz3p5CsHomcZDgX5YDAAAAAAAAAAAAwNjDYTkAAAAAAAAAAAAAjD0clgMAAAAAAAAAAADA2MNhOQAAAAAAAAAAAACMPRyWAwAAAAAAAAAAAMDYM/HCTaBDRtXazMyqyXw7p1jvlXFVEVZVnlXx18ysFZV6VYavHjrvnyWq6cMnntr5rMq9ZmZWUKVtbiaVe6dsHVV9VaFdrlV/59W+v889YbvFKX6bmU3IGLdlHGFMqjysOsGtKn6bma2md2yb/LqqinKcp2pG1MxFyVmVgeN97WEWwC7ZtVyL71hNJN9oNzfDxdRHrQrNd1Zcs3pS1KuX07Xm/JJrN3ha1MwHMr6tbddOPXJbFLrNvFK8+l0Txu7sYViwIbHJwclT/qLar8aC2aDqLTaqqtkTS8f9s0T13ilUL3g17HYlXate/pB/1qUr6fOmnzfF2bXOb7CTrBr4fUrpfTsK4HpN1zwoj9tmWi9VIR9E5fFMvK5u3PRj1LVTFXYzG74s2ejE0TSm+uJV1665sZz6UBt/4JxvdzT509TnL6Z7js/5sauy+yD893zpf3gy3Vc9e9E1mzh1IrUTO46zPvlE8hOLuUYU4OvFhfT77XXLoWsSc3dzUfxJfaOjBi8xdGMje23skblo/v/tvXmUZUd15rvPuUPOmTfnoaoys+aSSrOAQhaywcgaWq1GIGxZrTamjYcG0TwG2W73WrbUfqsNBg9tvGSw/UDy0EbAs7Efg+TWLEATiNIs1VyVVZXzPA/3nnh/yLr72zvrpmRcc36/tbRW3Iy4ceJE7Nh7R1QqP+e7SxG7/YRxKIojU5fMwTqDTSaVGdMuBX2GOc2nVopxMj5Zsl0CPtT7CfTzOD7MT5Z9L4Y0PwTbLlP6CGBsGefG9RFgPwTIJ5fZLo7JxAzbznxvxRwaf2zX7k3vk7NkP/lcE+c3rtScN8pa203gbBBB3rUsdsH8RpAzi4jJeY1t+L0GcSIegbzOjWmhSWNNxSt99lkwxnSf9ic+T4IxRUcHYXh2vaMK+F6fthO/L6D/1LCNoQJnisUWPV9lRmakFHF7a7Gc9A3YMS2AP3B2HYH9J0Mj+nM31+a8BnNhfJqI2U9oG7iP/+UHQkqAa4K+269dusT8uti10jkprtGcJwyP6nfcHoowl4FYE9W5XAvP0EtwFqi15wQpB3uamzdVAXLSGPaT9yEBvhc16PiiVJVph/2H2NkdfMQ4Ebe2mGYRnsPhHiO4seN+isadX0NgboJfr9oS6+XvCcAezP2EsxNjG2fCvoMxrniuKXHH5X1SKpc7Zl3s7m4wP0G7e+0HMNewJ5Np65Pj6mPna5E7T/k1RyKIryY/Gxm17WCMUQw+Y8raHeaoOKbg7i4E3iVqtOf/zF6ImxC7Ckd67bPAn5hY6NYE7xpSYn3DSjmkfRjmkGjXbp+Ye7LT586Av1lOCCGEEEIIIYQQQgghZNXDy3JCCCGEEEIIIYQQQgghqx5elhNCCCGEEEIIIYQQQghZ9fCynBBCCCGEEEIIIYQQQsiqhwKfx4FSf5B+mXADiPCgiMdKJONW4NA8CwUpQexFxIoOoKinFypAMcWQdwIC+C4oIBI7MRkYB443ckJoUROIMEZOkAnF0KZVuKGwptE0Q+HG0KBCA9GgHTsKd4R+EPjx4owoauDFGVEkAoVB/Lpin9CHF4lAEbLYiSKEpLSA4mmHF9kqJerp26H9lznhQrS9tM6NF49AkQsU0EsdsiJJtu/SVcmkijUtF3jTNU/VgjDOMtEV2JMotOXeH31Dod+Nt5RwmRPaiBt1DxnBGCemhiKkRqh0xvaHYjJJjdvX+0sLGdqGxxYuXibOUUII9mzFi92Y+cD3d2tvBF+c/8e9gTbphWCTQRWTRJsRJzqJQmNeuCk1DTaFokNOCBlFmHE/eR8fwfuHHAhNH7binF7wDcH9b2KB87UFENcxvsaNHetQMGsZGAtbrTgvCtdFGRi7F0nD76CwthP7NgJPLl4tE15bbZTYN8sEHkv402UiSYjfryBchs9NvXzQtkMfjbHLi05h7oViek5Y1+QGXnQdRZ2g3bK8BvI/I04944RAoQ8vtGXE2paOHZ+X1eHP/V4rIQS9TAgP2iUuhkQwHcki1Ln1jkqKSZ2l+FwD4/r0CkKTKKaO7bzvBtGxZHTM1oEPjUAIOQzbM4kRYYP+Q40Vbqt49pB+cGKyuB8KkNcvi7Xnb9avDOp4IxfjBISgF9v0PJEZdftkQN8ltNozSQRjzB6GGOLmHfdXNAdiby4XtuK8zq+BMBzmv17g14jEo9ir80m4R5cJ8pYak49Xp48G2ylnWRxCSuV87tyJ53Xvr41IJuZyLq8zAtKYu3jBdPMZYpLbu9FaEGv3ApcQy9CHmLxTRALmsnAOWWZ33Wu0bye6iX3k37qtWM4esqLz5r3aNV+LJ5wvxPiC5ZwVMcQcb6V4YgTua6yYajKFuXHps5A51yWlz9qnI0bg291pmPdCX+h8d2F8/Jh1Jh8TMftmJd9lfKG7T4hANBTLwe27uA7sweU1KCAblek5BHMwD94FLRPdLlXnxdnRRn2Mh3NIgrbr8wS8J6gpfU8YCtqu4PJVs34o9pq1saaAc4r3c8tyPOgvOn3Ebvmb5YQQQgghhBBCCCGEEEJWPbwsJ4QQQgghhBBCCCGEELLq4WU5IYQQQgghhBBCCCGEkFUPL8sJIYQQQgghhBBCCCGErHp4WU4IIYQQQgghhBBCCCFk1ZN+4yZkGU5R1ij2ogKwV55FVeqVlF3z2kcM6vIiVnkX1WulyirvhkGnDv36d1qabTunem3atrcWy4UjvcVyyveB6r04F/MrqKvj2EVEQOUbld1TPU5qHeZGDhzR7zhF5ahJlbijCBTK+wdtu7RugajabgdU/cX3SkBB2NeherFXaDYqv268smSVo087VrJXsHOvbG26QPvPO6XsClVONurS2axpZ2wK+yhz7UB52ajGR6XV6qO0VaXGlkkJJefXPmJL9AVWvdp9yX4Ele6AtpC2NolzY76P7ygiMcw1qojHzk8I2HL03B7b55buYjl5Gerc2FMdTcVy/rD6CW8LK87HWUjIO/V2nDfcM7G1STNvbl0TVCJHNXjna+P6nNaBHwpOydworLv1CZ0txXJqEN7F7yHsA+uc7Ubz0Eca/OnGtbbdhO61MDAkJamp0nbDo6Yq1VBfLOehLiovs0OHuBOV2bqoWvvHfSLOd+G8hSV9xxX9P/jTkJT2J8v3UB4/yKoD99AKcygCsQb3V8r6eAlQV3C5BpDK5fQrbl1xTFgXZdyzUtAuV6s/H3I5mPETzjdUqI2i7QY/dqwDP+R9MM5NurnJ1KGvwf7D7Jx9Vlw6piJhTr9n7drlDOA3Yhf/MR8oTEOe4Mdg5hDeebXsGXxPtHEXu3HtcG6Dz3HBNyaTLgdB/7dw7LOAiIhAbox7IRpw9o9r7uw/TM9oFY7d5z/9o8f+Tl2NHfqBHn3sQrtWuD2eTExp38HFyXY9D0UTOjeYd4mIxI16JsEYkkxNmXY41xjHRVxeC/FpmU+C/YrnFZ9PY7sYcnDcWyLOb6yWPfRmKRGHluV1cL4wa+JjPPhucbZm9iuceRJ/rvXr/Ho77FtEYtg3oR72Bp53RESm4bM/k6BfRx8C+05EJCQ6T5iH+buAZP9h/Y57f+w/u+uofmfS7qG5K88vlisPQZ3zawmeNTd1abnX5Z1r24rFuN/erSToX9BPzto5xD2EthFc6F4Wy093Sp1lfKwp4Tf8++Ia43zi3coyUu6ubQZtEu5k/D0L2IPx134NsM7va8zlVti7aPMxrr/bJ+Y+CXJIf3aRPIyx0p7rk0G1X5zPZed/mF9z75KxezzdkNMPbm7Q/uOMxhB/x7XS3RBi7OE0ijX8zXJCCCGEEEIIIYQQQgghqx5elhNCCCGEEEIIIYQQQghZ9fCynBBCCCGEEEIIIYQQQsiqh5flhBBCCCGEEEIIIYQQQlY9FPg8DpQSrvMCHyjkgIKGIlagzQghOuEa0yP+wXwnfhCtUUEKIzrgRccaVQjNCAa4zyjqmTiROCNC0KaicJHvD5mxogaL53ZqVceaYjn3wphpl1SpIEHqYH+xjMJqIiKyAEIeUBe1WnFSFGEII/ZZqXoVV10magTEILyAwkjeLlK1Kq7gx2uEUXHaTiOBg9dZSbgRbTf2YnooEuaFxrAMNp94oRkUhqrUPZTf2GGapQcm9AOIvwQnzheDSFLeiQSi+I14sUbACLegOEfs1w7rVhB1xPn0IlHNjVpeSQgS3iUN30mcQCiOI651Qjv7VPzKiBMtWJGgMDqufaDAjxdugfnwojZnJSsJQRsRE2cLUF7ma0v0gXa8bBggdimj1sehcE1U68Rf+rUt+qtoJeFqXH/nTyMQiQlZELvpswJvoRnG68WkUBhrCoSVnP3jvjF7y+0n/J4XSU361G8Y8c91raZdBOJvGE+WCQajaA4KTbl3xD6SOSumiH2G/OkXG0406F+8H0JKCk15wTQQEFxJgNjHDVOH9o/+34tOo+3OlhK7XFkIPkGxZtjzkVj7N9+Z0Od6wUzzXCf+ZnLUJbBxL35VQjQ7ip3/wxwS/JAXJ8TxLsuhYY+i6GphfNw+681pSZX2yWcaPk9E0TVcc2/jhWP7kLjSC4Gr3aVQ7EucwFcdiJ25fCIMqDCeEWvzNgniz6HanpNkHPI68JvBielh/8bveiHQjnZ5M2BuVBibMHURxAOzr908CcQJY/MXn2ufdaivWE58TtoOsQfe2cd/sya4lt6Pof2D+J2PXciy3O00PKOcVEqITi8TLoazSww26cX08Fzj8xqzX8HG45XO2igKmnMigSDcGUBoOu5oM82SWhjTwV47XhS4jo59FhJxMRT8eDI2btudu7FYTh0esOOFM+XsOTrGyoO2j8rHduk4UIDRiYmaCDUKuba/T5kE/7KCUKER9fbixLC/zJnZ+2T03cvmsPQ59HRjpXhq8hAX4xOM8SiYinm2uL3h5tD4STi7xK4djhHvGlJ4LyZOWNmfNcbBblDE3d3xYP4X14KYrr8LhJwfxxQ7EVMU4UWfIWLjQWhT4fZwpN+0M3HS2Ly1fxOv/BkK73mgbtkdlxG1LW0bK4nfnkr4m+WEEEIIIYQQQgghhBBCVj28LCeEEEIIIYQQQgghhBCy6uFlOSGEEEIIIYQQQgghhJBVDy/LCSGEEEIIIYQQQgghhKx6eFlOCCGEEEIIIYQQQgghZNWTfuMmxBM59V5Th+rFTsk4BQrAyfS0/V6ZU6l+nbl58zHAZ1TRDqB+LuKUdzvXaMWSU0Of0nEEpwAsA0PFYn57d7GcOeDUoMtA2Tio2nAyOGTbnbNBx2RrJMnqT+p/MKjdOaXwRVDzzoIKfcjYHtN7j2pda2OxHPUN2weDUnbkFeWHtG1cn9OyUx5PUJW+RlWOvXpxYXRcP6ygIH+6qgG/zjL1bsCovDv7x/datoeiYyslG6VlEUkmQHm6qlKfO+9UwsEOBdSrvWo0qsH78Qqot+O6BlhvERFJg40GVIPPmmZG5XrJzmGE75wGhWo3pgRsyMyNe68UqG0XRkZL9ofK61Jl7T8CX5GAf4m9eneitmzU2iP+W6wB9jyqwXuFe/Tdy+IC2peozQQXJ6K2Zq0bVD8W1daadqFa90boHTR1Edh1AIV6yVq7TjatK5ZTQ+Na4WwtVMK7oBp61iqvmzGUZUt+TkbHiuW4ptp+EfcGqsa3NptmSa+qw0cb1pm66MjAscfR62II1OG8J4eOmGbo1+LGBq1wMS5/uFf7S9u5MTHf2c2qYIW4iSzzc6//vNuucbLnwJvq2+yFggvK+L0I1svlEwF8d+Eo2J2Pk7gfgosTuOchDkXOJ+P+wv4jZ2sJ7mtPiT6CyyExDkUL2h/6MREb4zC2+vePK8A3uj4w9zDv7/aJWSOzPnHpdmcy7r3MnMI7Jm7t0u2QQ4+Na0WVi/EQ/6MaG0OiBVgjtC9nWxHkYeifQ9YdQ/O6XtHgqK3L1Wkd5NdhfNI0Wzi/s1jOPrOvWE5qy0271DyMHfKzxa1rTLt8lY6x4rB9lsypHy6sb9e+h6dsO9wnEK/iGbcHwdfEtS6u4dkA593bMeyTZErHkWpqNM0KwyPaNeS44vZd4vILcmxKxR0Rd04Ef+19UIAzubhzfVwHe28G4n/aPRfjFeY/Fdb+MfeK8Uw2Ze8nYuw/7fYr2vUK8QRjVAD/j7FARCR1WPMuid0ZAs7elbv1fiFUuDwRzkMBysZXidtDbU3abtKe8ZIByI39+RfiSwilz8ahRDxdibMmPok985iYnNg1TsG53uQrsY1JUUZttzAyZupSYNdmjd2djCzqHkrB/VdYcrk15mT+TAZ9+HOYGS9+D/ZQVOfuCeDZEeZJcAclIja+ZtwZCvZvND5Vsl2AecO8Myza9zfnH5dr4N3ASrmW7Q/i/8IKOehpBG8zCCGEEEIIIYQQQgghhKx6eFlOCCGEEEIIIYQQQgghZNXDy3JCCCGEEEIIIYQQQgghqx5elhNCCCGEEEIIIYQQQghZ9fCynBBCCCGEEEIIIYQQQsiqJ/3GTcgbYRR7Ea9yDSrKqIYtIhJApR77W6YUu1bV66VvWL9TZhV1pYQqc9I3YD7HqDw87JTnK7UuNQOKwm5MAdRwZ9+xpViuqKs07aIlmI9ZqzZddkQV5kffru9Yt9uqcpcNq2L97Brtv/pHR+3YQW03gnmS5gbbblb7kyQxVXFbS7EcRse1P6+GDKDKdzJh3xHVhr0CuOnDqG2fJmrYoGwcoWq6iERpeC9Qmw6LVnkcCV5RHOwhqq7Sdk5dGp9l9kzerh0yc0FHsTzXZFXIG3ZOaB8j1v6xf4F38WM3swF1oeCU13H/O58RgVJ4SEq/S9zcqB9wbqZmTDtUg0+B8nYIrm9Usp6bM1XJlKpoo78y8yIiktIZiGtqjvl9ETdvUSwisUhp8fgzHzfXUSpbopmdhLha5zqZtv7P2D/aU7m1p0IdrFdDV7Gc7hmyD49hX3uVc4gHca5WK8qt/0tNgd1gH36fjKk9FAZ0HNGFW+2Qevr1Q021He8E2FSkdmcU70UkAtX3KAV7ftLaZNyqPl7G7VyjYn1oa9L+pu0+QeV5jLtRRblphr4swHf8fvf+1fSxgk9dDST4/hiTUtavJxgbsO7QEdsh7FHfB/pkgdgdZn1ch3Zgk+JsMkA+mIK8a5k/XcGGCmMar9IQC7z9o51g3hFcTmpsbftGO45XD0CHaKN2nkyei2viclzBmAd7K3ExPsZ9Vyid/0RZ8HEuduFaBuzCxz/0V77ubAHeEe1ORCRMat4deV+LXWBd2q3/ujbtD+w/mrQ5CebkMq9niGh80raDmCQNOVNVqIG8Zli/l2zuNO0y33tJP2zW+Jc6ZM8/xg7XNBfLIWNjYXYc9tOc3WtDP6Xv3/TEiFa4HH/mkrXFcuX392h/ebcmcL6KamtNnT9TFtutbbfNGjSHTr18UPteWjLtUmv0exjvw6JtZ/ZT3tYRAPbaMl8Lc2hihr8nwHiQWiEXaMppfzPungD8oblPgHOsiM094iY9GycDw6adwB41uaDY87+Joc6fROAbcK/Fh/pNu2St5mTxkUE7DvRfeZ23yOduEPOMf3Fn96hNxyEDunf9PsE8MYyN2/FCjh7D2TWZdLk7rr/J8Zw/XSEOhdPkOqAUoUQusKzOvKN9KZxDEwtcniDQLuXihED+H+DM4G3X5B6QQyXTNnbhPVkyaM9QeObFOBnqa0y7pFL3fKp/TNv5+FeAnBRzKHd2MecJl0OaewKYC5+TRulj312auyqx82F8l4jEMPcJ3pP584/Lm98U0Qq/z32S8zX+ZjkhhBBCCCGEEEIIIYSQVQ8vywkhhBBCCCGEEEIIIYSsenhZTgghhBBCCCGEEEIIIWTVw8tyQgghhBBCCCGEEEIIIaseCnz+OHghNBCrwT86H5fZP3BvcH9AP4Y/ho9/uD+qtOIvKEKRgIhHXJ+zQ6wBgYMIBficiA8KKMTu305AaCYeVmGp0GJFMsP+w8Vy1V4VLhAvXAXCQJPv2GCqKoZUeKB2nwoBpAat+EHSoOOvfuogVNg/9h9ArCRCEYd5K3CQNOf0wwu7TV1JgS8ncBrDGqGIxTKhNhRddcIK2OdKolanAyuOr7CCYNYKIqFmPlAkc9ELUsA6wLrmG6yY2NSFuWI5M6PjqH/Ziq6EMhAu8iJh6WMLsi4T7gkgoPNmxY+8mFwLCAjCsxa7m027mbXqJ+of2FssF9obTbvUgV4dE6yDF0xFkchkygnSlBId9esaQNSrFvyLF0nJ6jsnC/Nnr6Da66wkcBOBL/DzkCotXGgEhEAwxQu8pI6oQFPSpr4w+DWuhvjiBFliFOsFwaNlQnAgOoiiO379UawtblChnULWCRyBMFLkhMaM4CnMrxfMllJCmF6cGec+Y2NymIDYcwREqLzoWi2I2h7WfecF3kw8wXX1set0FHg+Vbg9hHHDzJMX04V2WI7rnMCTEzwzuByt2AeKwopYYWSM8c6ejMAX7iEvXAV9hHmba5QSf10mSAb5YIICUl6cG8W0UdBTrMif8UMp59fAfk3+48WjUHQL+vaikygMlRTc3oD4+mbFxIzNrJLthPNkxM/QP4tIoUl9VzwH691vBf4WzlORzLLeCVMXzaqN5tv0WVGFO+NMabuD79d8Z90DLk9YUL9ZqLJiYukJ2CuJLmY85/YJ5iEo/u7POGCTE1thLlwaN/KTGjfaH7djKpuAHKpWbdf/Jtpss+6hqZvOKZZbnrLzGY/qvlnstnldtkdFOKM6EJBz55p0j+YGKIoce4FX+BxB3PXxtACx0OTFQsFPQyidJ0dpyK9QCNfnJNidP2uhTx5UWxAnumcENEEkc5mYOIq1o2B8s7W7MA426gTeTSxDEUIn8I57Lz4MQrtOMDjuh/fy+xXs0Ph4Z6/JoPqvaKOK/4Z9PfZZjXCXAX1E7rn4/j6u4V7BeBrNOCF4jENLK5wnMdaeCWckHOMKgoxmvTAXyqRLtsO+/RnHzK8XnUafV0owVKydo1BtqrHe9gc273Mtkw9h3jnjhMuPos3DnYHP3SB2oaB7nLLnrmS73qHFew6bOnOfAjlU4kRC4/ZW/YDin5HNE/HeMDnSa+qMkGeJufCY/XWGxBP+ZjkhhBBCCCGEEEIIIYSQVQ8vywkhhBBCCCGEEEIIIYSsenhZTgghhBBCCCGEEEIIIWTVw8tyQgghhBBCCCGEEEIIIaseXpYTQgghhBBCCCGEEEIIWfWk37gJ8Xi1VqNeHGWkJKAUG+asUm4A5ehoS7dWjFn1WqMoDUq2odw994gq70bBqVIjqI6+aBXVk46WYjlfr4q32b5J0w7VsPP12l961KrcL3TUFcvlo3YOUzP67HytKg/n23Km3WJOVb8rllTJOimz758aGtcPWa1LBgZNO/zXoiTlFJVRsRneMUxNm2bJ7Cx8AEXxthbbrl+fHTn1crNCqCh9Gqphx27sZp6gnMwvlO7EzXUC+yEF/Ud+TVAdG+Z6sc6u/0K9KjFX9au6dmrS7jsZHdcxrPBeBqfKbZSjYe2WjR1Vvr1SPChxz13cXSxnJu2ezH37Zf1Q5sYLJFPqN3CejDK4WIXxuD5nh9sPPgQUq716u3mXWN952bNgjaNU6jW/5Lo6q3B7N8pW6AeYMz+fJjY4dXlsG1eqr03m5kw7AYXyeFgV1aXGKqobvP+fUBuK62q0wqvBI/guTlFdptTGI1Cvjypc7II4GYEKvYhIBO8Z19VqRWWFaSez0C4H7bztIi6GRtg/Kr47Rfll7/k6aZteoT9ExXtx0xnjO3vbQLvJn36x4USD9r/Mv76J7/jYbfZotMLvjuA65K3/T9Y064eX9hWLccbZNcau5np9bN+Q7Q9iQVRm7b9Uu7DojAhtD54bpVzMKMCYFly8xvlYYW5iyCFNHynnu6rK5VgEF08j2Mor5dr+e2ZMEMtNHyut8RmMz8nQbxrbGBy27Y70anlDV7G8eM46026pRuc9m7H7bvxStf/afWqT0502/tft1L3XeS/ElkW7jnNrwDfG1rcWyiFuNKrdZUZt/JvdsaFY7rla1zw922Tabfo9zafKxjRfHznP7t3sGIyhzI5pskv7n+jWsa/7+wnTrvE5eOcxnYuJS9pMu6ULNO4kKfuspintP+6FtSxzvhByQ5OHFVxOAraRYPyPV9gnp+GZ5FQSxSXy/7Tzf+CHwjScSRpytr+mRv0wac/agrkBlmet/ceT8BlyPswZX/senF3BXydNdaZZVKc25M/a8VGNX8k6vZOIB8ZMu9CU0/5mNU6ErMu78F2Cs0OwywjzLhe7zHvOgV37c2crxOFdB7WMayAiAmOXfutDDekVrtRgvLgn8awmYu0pnAnnoxIxNc6k31Q7nz9HkBsXjvYVy6lczn4P7d/fNYBNYU6SrGs2zeI58H/tep+UGrF5YqFB16uw3vaR3avn5JDTc9JSzuY7mXGIB2gLzdbWwrju+Xjrev3KhL1PS/XAXVbO7tf+qzuK5aZn9XtJZ4Npl331SLE8f4HG//LnD5l2UqVJWdy51lQlsEZxI/Tv7ifwXIu5mz//Ys4bQbxK3Pn0ZHN2Zo6EEEIIIYQQQgghhBBCyL8CXpYTQgghhBBCCCGEEEIIWfXwspwQQgghhBBCCCGEEELIque4X5bfcccdEkWR+W/btm3F+vn5ebn11lulsbFRqqur5cYbb5SBgYEVeiSEEEIIIYQQQgghhBBCTiwnROBz+/bt8sADD+hDQPTgE5/4hHz729+Wr3/961JXVycf/ehH5X3ve598//vfPxFDOSEsEzgE4QIjQOUFDkB0wAs3GfG7CRAXcOIXydCItkORKCf2tXSBCtxkjqrQRr7TihOkB0FAxIkkxGNaN3uOis5knh8x7ZIN+gf/59pU1CBT7YRAFnWM2d29pm7oGhUyiEHvJ3EaWXX7dYwLbSBcsmjfPzUMa4LiH05MIlToOnjxExTuDI36/pETCTPfQzG5aSvIkKAglRe1ikuIxJ2OOJEUI8gAYjWxE5NaJgwJLBMDKXbo/j0PxIVSjWr/C7W23fQ6FcLLTKkRzTdYMY3yERXGyDzynH1WomuUqtd2KwqLobCWf1/co8GtN8xpxc6D2qzFCnIsXbyxWE4//aq2c2JCEcxbXAXr49cO5j0ZcuJf2BZF4rw4LQpv4F5zwsIoapMfHZOwkvDw2YAX54R5wrn1e9/M0/CorcMPKDrp5xI/oxAOCNqKiCQj2n+0wYq6of/q/bnNxXLH1/bYdiAgtdSRK5ZTT79imhmhTRA/jApu7Ns0FoTdVmgmQl+LYkpe4LAKRM1AkDRMOHHqVoiHY1aQzQhyo+givoeIEU1D0dHCoBVuRJHcCMYe8jZOmD7cmIz402kuBH088HvjxxG8MjmZF4LFnMwLhuL+gtwo5KxIrsm9QJBJBmyehHFyEcUJ97j1r1WRqMTlGl7wtvhzL8i3WELUzOWTuG/QPkXE2hSsg39WYVTzSxMbXK41uVVjaO1+eA8viob5hBsTiuQZ0WknBCopWFeBdqdYJOpUEKEdOxtf2qiCfAHWuOyAzQUy42qvC201pi4P3Q9eqntj/Bzrk+p+pH5+oVm/VD4wa9pNbND1qjliN/xSpdpK3TP9OvYKm5OUD6pIYMOLOt7G5+1eO/ix7Vr3kj6r7oAde/mw2k1IW7vOw5jav69+4sj71ph2a//haLG8+1YVYFvzqH3HJKP7q3rY2nWS1fVb2qb9p2esXadG4T1R4HPGzjUKQ+Le9fskQr/hco3gxcXPdvyZBEU98RyTuPw3p+cVyeuaJ+6ciOfJ4OpM/oOxod4K/PW9W8Vqa3v0vFI+NG/axbs0v0Crnm+2orOZGV3/1KS9J5j6CY15qTndN5XDLneZdSKMr3//XHvGqX1GBQOXnCBhZpcKEmJ8Ce32XmOpXuN8ZlDnafpntpt2lb1gu1u7tesxJwSOsczFq6hFRYNRxNrH6mR6umSdIV3ahiSCz6dLzodnQ4zXK9wT4H3XsrMLil9u0fOuTNo1wbus9Jj1a0vNeDeke21yoxOdfkltdKFex1cx6/IEmOrUtPXJhQ4QBp1Qexq6uN60K+/WXxpOz+o71+52+wTmo1Ct9pQasoK5s5d263gP23NNah5ibaO+11K19V2TGzYVy5UD6ieO/sfNpt2ae1VMdPpcK5Jdjeu3wpk+blWfFCZXuHdsgHmD/pLefjmVnJDL8nQ6LW1tbct+PjExIV/60pfk7/7u7+Snf/qnRUTkrrvuknPOOUeefPJJefvb334ihkMIIYQQQgghhBBCCCGErMgJ+Zvle/bskY6ODtmwYYPccsst0tPTIyIizzzzjCwtLcmVV15ZbLtt2zbp7OyUJ554omR/CwsLMjk5af4jhBBCCCGEEEIIIYQQQo4Xx/2yfMeOHXL33XfLfffdJ1/4whfkwIEDcsUVV8jU1JT09/dLNpuVXC5nvtPa2ir9/aV/xf7Tn/601NXVFf9bt25dybaEEEIIIYQQQgghhBBCyL+W4/5nWK699tpi+YILLpAdO3ZIV1eXfO1rX5OKiooVvlma3/qt35JPfvKTxc+Tk5O8MCeEEEIIIYQQQgghhBBy3Dghf4YFyeVysmXLFtm7d6+0tbXJ4uKijI+PmzYDAwPH/Bvnr1NWVia1tbXmP0IIIYQQQgghhBBCCCHkeHFCBD6R6elp2bdvn/zCL/yCXHrppZLJZOTBBx+UG2+8UUREdu3aJT09PXLZZZed6KEcP5wasuRVRTYCRXmvKB6DarLE7t8pFlQRttCu6rqFCvusdL2q/Eb9o8Xy/l/tNu0aX1D53rqXp3SoG6yS7eyFoJr9rFWyHfqp9mK55ogqAC9dsN60y+zcVyxXBf2N//jIoGl3+D+p8u7se2wflb06b7Nrdezd37TKw2NbVB24oEWpOWwV5bMDoOzeqKrx0a6Dpl2o1HZW415ECtrn7Dqd9yrbhQRYOxkb1/7KrOJ1qkqVzBOnAIx2g4rXIX96KF5HqGxdsHMdtYJNFXS8izu2mnaZ775QLM//zEWmruJ7u475rBC7VcFHJ/qsQta223Bpj47jQbXjmXa7n0bO0/Vf/12r3m3UxuMSivciEmVUATwC35C4fxSM6/Qf+ZIJp7sAtjH8jtZiuXLIznXlC73FcmFR90Zqd49pFzXk9Fkj6icSv3ZZff+4psbUJbOqMB7n6vS5QyMl+5Ba3SeSs/+oGXoHtL9M+jUzf91FRvFr/4mcPirvx5soPmY5ylq7C0saT9JNDbYO1tz4HUeoVN8T9Q9rhYtd0YZ10M6ta42uZcc/HtKKgl2fUAU+uUzfJeX3LuyhpXX6XplDQ7YdjHHx0i22anxeP0DcXWqqNu2yh/RdAthkGLWK8tGkxkZJu/0P/mXp4o063mf32z6g/2RQ91qqpdn2h2sHZbN/RCTMzUspErCN1UBIbE5i9o2Lr+Z7OL9p/U6YnbMNIdYkM7YuhnUJzfVaLsuYdtG85nnRjO7JsODyv+qqYrn/Mh175077HsnUtPbnbMPQoblbND5t68DPR5u6dEy7nO3C/+25LP/BOIy5rPchOE/YLrF+ou4HfdoO+o4qyk07Ab8RVdn/GzUq6FyFJV3jOGPbBXh2AmOKvE/C7xRKVp2eYDxZKWbWaVxPnO1mRma0rlzXcXxHu2lXs0/b5ausn2x+pE+ORfOzOfN54N0d2l+v+rG5jirTLsASTXfYZ0Xwmgvv0v5GLrWL1/Csfq9yEPL4dmtr2N9ijc5n7SEbWyfXq93N11sb6viu+uuBt2j/7Y/PmHaLXY3FcqOmwlJ5YNy0K6vTXHBke6Wpa/1n/XOlqZyua77OvlfSrvlaalLfJWnLmXYLjbrmVc/DOk5ZfxLgvJLMOR+62nB7Lcrq3KOPD3kXq6GucOhIsZzqaDXNCq2wduXO/0P8Cq1qT0Nvs3lidgriJphrvtLu/zLI65HyPmu7+Tq1/3y9tbWq/VPHrMuvaTTt0v3jOnbIGSfW27uQzLTGtaVqu/8zR3UOB35G93+FOyfNtEF8OVefVf+q3dep/Xqemnin3k/U2DAp8fCEfnBnKJnQ94+mwU9OTJhmcZmOA3M8c7YWe570Ob45G58mdwMmJ8Ozsc/dgn6OyuF8UuZsHOcGzxruPi21C8689TlTl9l9VB/bpHX1T02Zdgvdum8qnt5bLBe2dpp241vUD6cX7HvV7lFfOdeteWLr03YP4bvEc5q75HM2d8lMaH+pES3nN3SYdgNvUTtZM2PjRFW/+p7suM5b1bPDpt0rv613Y5UHtL+2p6zdDV+mZ5nKfuvXFtfpO6en9Flmz4iYdcWzEPpMEZEAeyiZgr3lcreTna8d98vy2267Ta6//nrp6uqS3t5euf322yWVSsnNN98sdXV18qEPfUg++clPSkNDg9TW1sp//a//VS677DJ5+9vffryHQgghhBBCCCGEEEIIIYS8KY77ZfmRI0fk5ptvlpGREWlubpZ3vOMd8uSTT0pz82v/MvHHf/zHEsex3HjjjbKwsCBXX321/Nmf/dnxHgYhhBBCCCGEEEIIIYQQ8qY57pfl99xzz4r15eXlcuedd8qdd955vB9NCCGEEEIIIYQQQgghhPxYnHCBT0IIIYQQQgghhBBCCCHkdIeX5YQQQgghhBBCCCGEEEJWPcf9z7CctaDib2z/jaEAKr1xhSrbxg31pl0elMhT007leKlay6ByPNlVZtrVHtRypl7V0GsOWYXeuidUKbiwUVV0y49YhdrCJh1jGBmzdeX6vSStSrRzTVa9uHauq1heqNfxXvKXI6bdwb9Xtencq1bZNjul7zx3ic7N1DqrvC3wmo0vabvh8+w81TynartR/5CWG3KmHaqDx012veI6nd+KvlmtcCrPUZuqd4+/RcuokiwiEu1TNeBUo1UvDgug9Dyrz3J60qcOVICPrKK6zIBCe0NtsZx+5FnTLKpWG6/4/m5b1wRq7uOTUGHtRFANvF0Vmj/z3//CNLv1R/+xWM7/J1Vvvu3Se027v/7df6+PqrKq1GFe7Sug3eD4RCTM6fuj4r1XOTcK6Gk7h9PnNhXLTU+ovYaM7WP/h1Slu/NeVZufq7d7Ml+hPqrmQR1fnKs17ZIh2KPldg9FuOZZHW+UdeuPTKrNR041PlmCPVlRIVFYErEC52c+GCe8yj2qeUPZq4GjzYfZOVvXpT457oe1q3b+5HC/ljvbi+Wk3Ib8AnyeO7fB1NW+Oq51a9QXLtXY96rZr2seL+qah+2bTLskUXtKzejCL2xsNe3K+nR/ZUasonzYf1g/bFhXLKZ/8KppN/Pu84rlqpfB/3vl9Tbdd9GUm+uUrmX2gPYhrU2m2fQ23YeV949qBcSP1x6m3jwaHYcfWy+fbNU9Hr24z9RFebWNZMmq0p+NmD0jdk+FRfAnzieZdnlol6sz7ZIRXa+owuYaYVptL7Tp3oh7+k27Qpfur9Q4xHy3rgL9p8GsvU1GKbCbyP0+S17XvFCpPj+Vt/tfwG8EyFfjjnbTLEzqXovS1jcE8P9xs9p4ocXlSXsPyzFxeXKohTHCc5Nxm5PGldCukEgpooyueYDYIiISQSxLwTiSObvHQ3LaZFj/NlysMXkT5PWxf1/IB1JTmncuXGJ9V6ZNc6Oq3facMLNdc97h89WGyodMM5nV0CW1PTqOhUZrd22Pqz3Mt1q7zkyr/c+16Bpv/ZKNEz3X6nvVHdCYVL7fnkmq9+l7Db8lVyz7c1eA6VxoNFVy8Nf0XSorx4vl6SM218o9M1gsV2XUnyw1VZt2Mx26r1sftr5G4Jww3w759LOHTLOB98BZa5/af9m+YdMunodnQ36Kua9nWV6LNhVK79ezFvDJyRTkQrUu/kNdalO3/hxyARGReEbnPqm0eX0MMW9urfZft9+u10KD+sayYThPd9szTtl+Xa9Ccw4eZIce53WNxzfbOFk/B3uyWceLeaGIyOJajRtLtTq+jsembLt67b/vchv/K/t0jHX7dC9MbLTzlEA60Pq0+obhi2ysbdut36t76kixvLDZ5qQp2K/xc+7sms1CWec3vXaNaRdg/aNGG0PN2PvVT0Rlzg8tlN6XpwXoC3zuhjka5Bqh0eZkUZ/6qNnzNGhkx+1hEe/J+q6we63msNZlZtT/z7baWFP/oq7Jnv++TceUtnGy8rC+S8uP3KEVxpFktN2eX7Y22fCkvn/Dq3AmX7B5fKiFO4ReDaJxnY2F3f+g8zTpzm6ZWR3TYp2O4+i7uky79oe03QykhsMXWruLIb2aXmNz7ckNsJe/p7GhctjmdaEFxgg5WTjUa9thjubzX0NhhbrjD3+znBBCCCGEEEIIIYQQQsiqh5flhBBCCCGEEEIIIYQQQlY9vCwnhBBCCCGEEEIIIYQQsurhZTkhhBBCCCGEEEIIIYSQVQ8FPo8D6Q3dxbIRyVy0QgAokpnUW6GNFAqttesf8k9Z3SKZWaN/eL92TiuHr7ANm36g4jJj56CAjBWTqRjVP5I/+p5zTV10nYrhDD+mqjZ1B6yISwzjGLlC+3/oyGbTrqoPhHAG7R/nX8ipMMCWT/UVywPXbzDtJjZpH03P63Prd7l/9wGhCSOm4QSj0uMqJlCosWuCwlXDP6NCE637rMBN39VtWveEihpMbLWiE/VHVGghWdti6qIDR4vlgMKIRuAgPmWKn0ZoxAuXgRDebJe+c2Vho+1jeLxYXtpixU8yh1TIorBJ6+KX9ts+KnWNEhC//MwvfcC0i9+pIjFdV6hwy12/f71p99QffrFYvu6xa01dAmKV0yCgUb3voH1WHQg5oXAJCCaJWMHfMDNr6rITKvLR8x61jR/+X5837f7H0KXF8r1DlxfLbd8dN+1mu8H2YH28/RuxYifwKTndy3kQF4kHnUhUDfgUEDUM/VbhK+7UdU0OHZEQQHgvlZIoem09Q/7sFIlCIaAAsSE4ocYAIp6FWrsmqadf0f5AGDBMWJGkmZ/aWiyjOPHwxdYntT6oAmL5GitcWajSZw++RUVcuv5p1LRDEdpD1+r+3PxFK/w3cJUKci6Cpk/TCzZ2zXXliuWJ9VZMprWgvmfwMo1JrX3WJgsgtFNoVPuc295s2lU/P1AsL62zIjmFcn2v7KjuZe/XKwZh/OdAvBq3onP5Vn3pNIq4Hjpi2sV79bMRPhYr/rQawT0UY0xyAp/JBIgwr6CDauJa3jVEUeNZ3a/5zWtNs9SE7q9Cu9pk6qj1Y0lO7SYNoSHUOYFfEDyK1rSZqoWNukfTU5Bf5m0+FSB2Tf6Ejjf3tI07EeQXwb2/ER4FcdLUsBW4xjqMeUmb9ScxCEhKhfoJLxiIMdSso4jEEKMCCAbHbp8ICBQm03YfIiggG06uXtS/HRBTDO6sYWINxJco4458KIwK8141UDo/r3K5S2ZK/WvbU/q9yU4rcJaZAJ9cpuW5JisEl12jdodnJhGRih5dy8oCCkvanLT9CV1/s0+cLWB23fSsfprYYs9JuWc15tUetP5/9iW1ycVqtet8uR0TirhX7ddzQnD2Xw1nl2kXryqO6tykZ2G/1tjxtv4fPU/IDLyzExaMFqEPGEfkc8EC2po7lJ5kobXTDRQ4jfCMP2UFLuP6nH4nC+eEdVZMMl+lcSc9bfd1qNA9Vblbc55QZUU3y3p1jSa3a0yqGLI+Pt+ufjPJqv2Pbrdn4Zoj+r3qo3b955vh2WDycx1WkHB8o75z2Zg2nFpr91MeHt3yQ7uHFutA1Dmlc936QJ9pN3OO7ptD1+me6fqO9V0zF2tsxDx5/8/ZPVn7iu6H5uw2U4fipxHsk3jSnv/CqN4NRZD/Jb1WxDduUT9h7pNEJDkNBaljjClGFNzecWBOguf4wkt7TLvorduL5YpD6ieTKuuTFlq1j/bH7V6bWau2N9Om4xu52M7fFNxX1BzQnzf/yNpJvlrtDsVzRUQGPqbr/H+f93fF8u/8ub2TmIPpiHfqfornnWDoQfDdkJ9Grl0E8W+m3d5/TXWpfaXXqf9fHLPxNDWrc9P+hM7h7l+zsTs1ou/c/rjNa1se1jOUwDk0tFklbBRuNfl6nd3/mMtEEFtOtRg7f7OcEEIIIYQQQgghhBBCyKqHl+WEEEIIIYQQQgghhBBCVj28LCeEEEIIIYQQQgghhBCy6uFlOSGEEEIIIYQQQgghhJBVDy/LCSGEEEIIIYQQQgghhKx60m/chIiIRLGqyIaCU/8eB2VzVHKtrjLN0hOq0L7YbJWiU/Paf/XTh7S/xjo3EG232KL9b/hbpxSbqGJtvlK/0/L0pGmWr1bV23yZ/beTut9TteH5Zn3n8Y1WKTqkdIzzIICb7M/ZIf2Uzk3r/VZtN17S8S9u6SiWp9eZZpJa0HfpvUIV4BMrUCyVHdpH+ZjORWrOKvmm5/S9vMpx9YzKF8+jiLxTiq/bp+rgs2t1Teq/e9i0CwtgG3ttHa6r/VJy7PLJIIqhqOWQuHEEXbvKA7oXCjVWUT09rmrLA5fauvZFVWVPHQBl8yq7TyStLita0rW78s7vmmZfevEniuWFL6otbPnUK6bdti9/uFjeGB0ydam62mJ5tlnfvxZU7f2YZEltIUrZfZIMjxbL8boOUxcvoB3qz2/4Dx+07YbGi+XGzepPen/ajQncQfUuVVdfbLXK09nd8NzOBlOXfuxZHfvlF+gYnK0mU7qucY3uycK53XbsO3fp8BYXRYIqgr9m2yfZvk8EsEejlPVxhRlVWI+zWhcWFkw7Sen8Zvb2marC+ZuL5WTJxSEgXtBx9F6ha17bY+c4qdP9lVhzldHt6ssK8CoDl1s7qTugNr/mMS3PXNBu2k13arkCBNRHzrV+F3155YCNazNb1BFX96n9zL51gx37ufoyFUO6P0fOtSlPkm4rllOL9llLVbrny/r1WfWP9Zh2Q1fpizX1aXydX2/V4LPffVE/NOSkFGFmTj8sLpm6qEL9ZlTQfRcS93sPJztWHEeM34zseyXzuleiJV2TqMrGk2iDJg5R76BWpO36R3W6N5LBYVMXV2peE2AY6UGbQ0le9yGOdubSTtMsM63jTc+prRVq7dgX33FOsVzeN2PHtKjrOt2l+7OyzL5XBsZUMaQ2NPROuyejgn5uesDGv9nz1xTLc83af1Wftcny5/V7UUV5sTxwWc60a/1b2DcQ/yKIiyIiArmGj6GSVecQg22E0fGS7QzRCr8fFLkc+gzaQ1Havm+E7w/zKRCfRURkcqpYnH67rsl8zs4T2ka+q8XUTXZpPpzbrTFursXmyWse1GfFM7qPqw7aNd7/fvXxrT/MmzqTUya6XtPrbV6Tgvg326rvHK23Z7JCVmNtnNf+ag7Nm3ZL0MeRd9n3WveQtp3frvZf3W/jc2ZK3yWAXU9vtGMvH9H9lZ6xfSw0af/ZCT1PhAqba+RzOk8ZOGoEl7vhOKJKiC1u/4Rx9Xl4FhYRCfkzZ58cF1byIXAWQvsUERG4Gwhp8HGL1sazsDfyDdZe8w1wJm9Sn5x7ut+0mzlX9+hsi65x7bMDpt0i5Pz5Ku2vYE3c5EKLNXa/ZqbVRqt6dS9Mddu4loI0d2aN2lDdPms/FbvU/g9eb+26dq/a5fgO7XDjl+tNu8bfPFgsDzy0qVge22bH1PTD8WJ5+C25YrnmFWvj5SO6llNd5aYOfUVSpePNPr9HSlGoV3+Smq8v2S6CM6iISAx3T8ncnG9+cnD2H8DOY7wbybrzD5wH0z1DxXL+3ZeYdplJXdee9+jZNXJupmJIn9v3dhvXuv9JY83sW9W/hjLrTzu/rfnVfLvaxp4P2DUW+N6lW/aZqpmv6Jns1/f+glZcYtdnzd+p7Y5t1/Hmds2adtF2PcukDsK+jt28wzmx/aERU1e1TW2qv1X3a9U+mycuXK5niNEJ9TW1z1v7b3tC26X6bL429g7NtRerNIdoedLldc1wbpyFuam0exLvwvCuddm960mGv1lOCCGEEEIIIYQQQgghZNXDy3JCCCGEEEIIIYQQQgghqx5elhNCCCGEEEIIIYQQQghZ9fCynBBCCCGEEEIIIYQQQsiqhwKfPw7uD80bQS4UP5m3wm0xCE2VHbKiHtIOojl1KEhghVZQGCc7oH90P6myihzRqAqytDyuy3zgxpxp13WvChxU91gxqbFzVISgCgTOmp6375+AMGjXvTq+Iz/tBD76dYwLTrfUCLmBSEq8aNuhSEjloLbLzFgxlbEt+O9AWs4N2w7TYyqukHnWiqSETSpc0LBL3zm/rtm0qzisopbSp8IV0tJk2oVBrYu2WkG6sGu/nM6gsFrshGsF7B8FvtKDE6ZZYUDff+3/Z8U/Zs9R+1/s3lgs5x47aJ+Vgf0A+/De//Yu06wDtuF5t+8slh+751LTbs2zYA9ldkwBhCtbH1Xxt7DkRPegnN+komgoYiIiRggYReFERJbq9Nmb//Rgsby4uc20C7WtxXIhq3a99pvWdue7VUwDRZ3S41a4CsU1ssN2/0fdKlCXOqjvEpzAbQRrEsq1nN7lBG6d4IuESORfTCcUCsvEp85IQPwmzllxnjAydsyvxA1W4Gd8s/r/VJcVrql5Wue0sFb9y/hWuycTiOzNz6uNH/5puwaV/bpeh6+x87/un9VGl6pVJGbiHVa4pu4AiO5+UmNcxSesSE5lpwpeNt+oYn+Ln7Oig9kxHe90l40h8/Xgy19V3330Xfb9U2DmmT7dd5WDdkwoeDVxqd1r1YfAr0E8nblkrWmXhmeFcp3f8gNWdKf311TIqOOre4vluL3VtDN20mnnRg7DPjdCS6dW/OZ4gkI+sct/JAXvjGJqa9wc7j5YLEeZFdJcEBqKvH9C4d0jGgtMriYiAsK9URrElPZYgaN8vdpo9VG18UK5HV96Xt9/4PKcq9N3bnxG7TqesX49aVC/Mb5J/XXDy3bvpp4GwWsnOl15cLxYLu8DYc15m0OFFhBughy39XHr7woXbJJjER+0cSIGl5cs2PdK12plaILn9g2adiiEm0zC2jnRTlzzkLdx/UwG3zluBqFhl3fg2lX/6GixXDXucjcQHctXWnvN7VGbSr18sFiu7TzHtItByHDyPH3uyHb3O1sQhqp3WxuaXZ8rltNz+i61T1kb2vVJzV3WPAL+ZMmeE1IgmNtzpe6T4QussHwGTchpzk6v1e81vqj2OvBWG2uqe8E3wDCW6cqmIV+btjaZgvPfUqOOMV9t84TsKOwb8KFJrR1TvAfmDc4rSZ8VgpQCCJd7P7noDmmrDCN4imKHXsS7StcrntU582d3FLhL7zliqlKwX8t+BOeLnD1Qo53PQlrT837r49ueUjvpuUr34dYv2X13+FrNUZfc8a/729rHvo9rH21fd4qMdWr/Tc+rLzh8kxM43a82uuVLVnR793/Xh9f8QH386Ln2USNf0VhT0GO8VPXZZ0UDmqM1/UDn7PC1VsQ+t1vPRj7XTk/Ye57Xide43A1zl6Nwnpq1MTmCc2ji/HCy5O6NTgU+hsYQD1CQe8IKoceHe/UDxO7yl6yNC8T4tQ/A9+fsPOPdWP0rNiZNg5BzzWGds+Zn7FwvtKoNlY3onjzn9qOmXaFTN9F0YvO/wju13Pi8ljNPWD853aFzg/tzrt0Jxj6jzw6tGrujaTv2fFtOyy4mG5HoA/qO6/6fV0y76T1bdLwQa+IDdo3nWnWMmUqba2dmtG39/SB+WuUcBebTKFY6MWWaRVhXBr5xwa3/SRb85G+WE0IIIYQQQgghhBBCCFn18LKcEEIIIYQQQgghhBBCyKqHl+WEEEIIIYQQQgghhBBCVj28LCeEEEIIIYQQQgghhBCy6uFlOSGEEEIIIYQQQgghhJBVT/qNm5A3BNSwA6gVe7VWVA2Oqq1SbLK/55h18ZxVZQ+1WrfQqqrBi7VOon1td7GISvEb7541zWbOVWXfit4ZU9e4c7xYXqpXRd3sK1Z5XspVsXb2fFXbXvOoVa+NQCk8e3jU1M1tbi6Wj/y0Pqvje1Zpfa5FFZAXq3Teq3qtanzXV1VFe3GtKnlnjlqVb1QeT5ZsH/FhVYSvKFujX/nBi6bd0jsuLJazQ9D/tJ3reEOXfphyCtg1NcVyYXwcKvDfs2KRIKcEtOXgVIllg8qNRzNaN/xTVnm96V61r+GftErhKVjm+u+pfSUtVpU8gnEc/RlVim7/rlVUzteoEvVTX7hU271sbXzoEt1PTQs5U5cZVzXvkbfqsxoft4rk8+tB2fuwqpcnLbY/GVLl9ajcKmX3Xq52XbG1u1ju+N+7TLvhf6/q1VPdartNn7CGcaRPP7f9s469YsjaePkRtfG+a7eaura/+GGxjLYbzVjblXSJMJK2PilM27lHW45SKYmi19qfbJXrE0VheMR8jtK6xlEFKKCXWVuo2afzlBq2ivKhobZYXsyp3w2RaSbND6rC/NhPqO9qeMXayVKVrt2Gv7d2vVCndfOXTxfLW/+bHdPSGvWvye81FcuvftjaxZa/1j4OtnbqmHJWeT0zrT5vfLP99/zOe/XZ8cG+Yjl7qbXd9gcGi+W55lDmgAAAKuBJREFUjWr/Vb32HUOVrkO+3E7i2Dkae5um1T+nZ619Vu3WWDbXrXNRJpaWP31SP7Rp3JWpadsQ7f/ogKkKsxpTzpZ94olS6jdC3sXkCl0HnItowO21tRBfZtVfhSq7KhH4qGhswtQlk7ou8XqNcbPdOdMutaB7suyQjmN2a5NpV/mK2mQaciEJ1v4P/Ud9Vue3bJ4UMjreie11xXL/1RWmXef/q+3Gtmv/41vKTbvGjRcXy7nd1q+PbFf7X4AwXHvIjrf2FdiTlfqdA++tN+1yu/V79d9X/yS1NabdyNUbdXzftv4qmdE1j6s0dofYOUDwqWhPyxzlWYL3BTHk5LhPJLHzGc25WP76z9e0mc+pA+prC+esM3XpA/3afbfGmroXre0KrEPdj9SvVR2uNc2ioGOc2WRtyADvEmrseWrTVzWGLjSpzVfuHjbtwrCOccOUxqTUiPXJ0+epvy4fmLfjTdSuQ6zxquMxm5Om+vVskF+rvqF6r/M7lWq7qT43h/OaX2f74V3KXLSpAn8AeWzcP2SahUVNvKP8CvEEfFRhZrZ0u9WA89e49yJwNcmEzZPiRYhl1eonF9fVmXb5Su2ksNXWIdXVatfeTgrlaoeVuj2l4VVru1mIV1tvh7PLJrvHm57XsZe7e4IorznVpj8Avztr7WQabD4CN9T5v+05YfAtWp7rtO9f8Zzm0DEsQ8NL1o9Nrte5aX9C12dke8a063/7Ju3jZe2w+Tmbd6QGdG5qs3a8C23qeypehclOuTsZtAfwE2HenqeTacg7Kmxcx/NvOE3SvwTuvGKBdUjZ3D1u0iQiGRvXnzc4Hz+sfjKFc+P80+I2zfHKdvWburrDEBtyek8WLdj8vwLuKwKcY5N1raZdalR9+fwGm9c1vKy2Mt+kfdTssX69UA73UNP6LtXPHDHt0DfIoV4tl7vcdVHzpvJRd7aGNWl/HPadu3ecWgcxeb/OWfkeGyeyeDfm1rWsEmwUc7m8O2vNzR+zHDc3SinC4lLJupMNf7OcEEIIIYQQQgghhBBCyKqHl+WEEEIIIYQQQgghhBBCVj28LCeEEEIIIYQQQgghhBCy6uFlOSGEEEIIIYQQQgghhJBVDwU+3yQBhXEiJ5IDn6MsiLg5gYfCqAoXRE6QJcroUhRACCLlhIsiEKsqn1NxlvLEio4IirCgMIAT+Kl8fE+x7IUmIhBeyC6CcGmr/YP8KP5ZfgTEKaacEAyIaXqRhNS8Ch50f1Pfcb7FClzUP6ZCqKFexQTyOdtu/G0qUFRzQMeRb7WCIekeFTKIYvdvRwWd03T/uP58fZdpFr9wQD/AmicjTpwH1t8LF+D6G1BMxgnLHHci+/5ovxHYYewEuQKIRAZY46YHnDhDvc599RFbl5lU29v3Kyq0tPGLB+2zQCSyfq/2t/sXrXBF1RF9l5kt+qzpTtuuQjXXJKSc+Be8sxH/c0Kw5ftVJKfQqGIi8Zxb4zqYt3krXHvOO/cVy7O/obY7eu0W0676KAjtjOk7Hm6ygiQtT+t4F2u0XMhagZvMmIqwdnx1t6mTzrVyLEK73buFWt17uE9QxEVEzN4Ii4siwYoho+2cqcSwj5cJPEMdCnyGQSs6lkJf4MQfl7rV9yYZEJZ2WkL5Ndpupl3tpHmn9fGj52hs+NPb7jR1n/zdj+h4X1G7XuiyNrT/Z3W88bw+q+ubVuDlwH/QPipVL04i59bmWnRM3V8fNHV7PqhCa6lFFYarPWDjWqEGYlKvivMsNVjB7KRM3yU9Z/sY26bvkqR1PmsO231dyGmf8w26EBVO4C4CvxmaNbYuNtoxlb16VNvNOiHorApoxeCvkwUr3HUmg7lW7OKi2TcoNF3phNAr1YYWNuja5StsjCtk9XPtK/ZZcxtUaBJtdKLLtiubBDGplPrGisNW4K/QBPkKCFCXHbVCcHlIZWbW17o6HW/9/Zq7xYubTLvxDbAPv11aJCk7onYz+DYb16v71H81vqDtUjPWh8x36PcqptVeO++171/2Oc21ZgZVCDJfYZ1XvgLiQJUTOGvTtZzcqnuosjdn2qUHrbhW8ftZK6YsGA9LiF2eEbjcMIFcPgKxr2V5Jn5Goa7RcduuRn139oD1ySjkhWJ/0ZzNcQIKWUMOFTJOCA5ywaoX+kxdoU3XHEUNkyEr8Btv1Byycj+IpFU6e4KzUapX+5u+ZI2UIl9t4192FASEy9WWl6rtGS+k1TekJvU70bT13QmcZaJhG0PidpvnFb9TZ/1fPAtzDyKBYdyJTkJOmhzVuUbhT0/kzqSni9DgqaLU3UCcsXaC54kEhFbL3VkQhUEjL+oH+1BAkFDcs6pf0v6rX4X9tWRzssUu9afZVOnfnax8AfaQbwfjCOUg8Dln40THt6APOMeFNnue6P5zEBdsyJm6zpehTxAJXNxmzypNDxyC8UF8iTpMuziv61U2oHuyUOXWDoXAl6yvrXhR8zUUZwzOJxlB4tnSIrloT4m7kzkdRd29P3gdPKuLiIQZiK8Qr8K4i9V47zAN8+Sek4W83ucJIa02GvXrOiyeZ+9uUnBGjyGviXrd3Q3k7mV91odGcM9VifEl2PNE/fcOaxXE1+CFYOHuztwZuNylAHEoNTgmJUEtebcmrU/Bfd1L+7XCCXwng7on43V2D4UjGjfwXjNxNm7uQ9EXjrqxu3kr/vgU2z5/s5wQQgghhBBCCCGEEELIqoeX5YQQQgghhBBCCCGEEEJWPbwsJ4QQQgghhBBCCCGEELLq4WU5IYQQQgghhBBCCCGEkFUPL8sJIYQQQgghhBBCCCGErHrSb9yEvCGoRA+CrWHBKhnHNaps61Xpk0lVpUXV2OCUslGJOgI1aKmpskMa0WejAvoydW1UqC+3jzLqw6iiHVlV4hjUoQu12n88bxXVUaG4/FWrcm+Uvad0Lir77XiT1nrtfwJUg2vs4OueUzXjpEr7SA845WV8f6fyK6hEjyrCFfZZqDAc4D0ir148oc+OXR2qz59q1d/XwXHE1bX68wW7rlG12l5o0HZJxqo8xyNqh+UvHbEPgzntule/t7Cl3Y4ppbZXcVTnvf6lOtOubFIVlev2aX91Lw6Zdv3vbC6WZ9rtmmRf0nJ1L9i/UyifvUSVoyt/pCrsS1vWmHaZMe0/jI2buqHPn6MfQNg9XrLK0PONal+5B/YUy2/9DbsnJ/5G5y01qX6i96pm0w5VtPfcttnUdf4fXeeFOn1uzStWvTo1horl4J8qK0079GuFRWtDZwu4Z/z+D4n6SVytqCFn2qG/iqXe1GV71CfNX9RaLDc8P23aTW3SPbn224PF8sQFTaZd3QGNL5+64yN2HBkdZdVR/XmhzP4be2pWP1cd0e/kK107CFeTm3UuGl7Nm3YLObW1sUutvTa8rPth8j36zuU/sra27+eri+Utf6axZvTyBtOu9rA+q/aVUVM3eKnO1doX1NeMbrexdmyrqtJ3PDBcLC9usorymRHtIxqfKpbLZq0/ERP/3T4pERuidMZ8DvmlY7Y7E4gw74jc73PA3MQ1usahyuYJEtROokTL1c/ZvGOxS9c4mpo1deWDGpP6367PqhixPnlivY43Na/2dPSddu92f1PttZDV91psqTbtNnxVbSiUuXWFHErAv1QfnDHtFuo010zNq83MrLHzVP7U4WK5fahGbKW2DVl9r3yuwjSbb9A1KYe41n+9jd1z39P+N+3SOJlptfOUZCCfmJgydZjz1kDaLQM2rkuD9ulzXvswsJOUzVdOlzzszRASa5NRylRq0fmTBHKZGHP8vPXJJv+Pba5hnjsBduieFUFej2eIzO6jpl1obYQP9r1SPRrLzBjd++P3Fs/tLJbxrCIikt4Lz4bc3fsJ9EOFVptrzrdo7Fms04mv3WNtNz48oB8qYQ+l7Vkw0wdnlCYbrwRzb1iHeMDmZLKk/t/n64ipA3v3tm/OpH6uVzuwv6JY1zKZtjlZqlHXMoLzTjIxadrF4LsEz/giInAfkO/Q/tIHB0yzfJfmhulxiGszNsZlX4XPYIepA3ZMoR3i5Ig9QydNuh/iI7A/6+0+CXAeDPUa8+Jh25+xPXeGjMYhV4JzJ+ZWIiIJnt23b9SvvGDnCc/1S1v14JXd59qBL0v7nAz8UHK4V3/ufJe/Nyk28757Bf9q8qGQlG53EjHrBePz8dTEYfQ1iXsPrIO5NvtCRKRPbc17JHO/ltZxZF85bNol7Xq+iMZhvzqfbPLJcbuv0ddiTub3mkBOZlbYrX8yNKLtcrCH/N7dq3shacmZumhOx1S5U3Mt/16pg/36Ae+1lmz8j6s0xoWj/aYugliG8STy92R4b4I24/OuUndh/ixwku2fv1lOCCGEEEIIIYQQQgghZNXDy3JCCCGEEEIIIYQQQgghqx5elhNCCCGEEEIIIYQQQghZ9fCynBBCCCGEEEIIIYQQQsiqh5flhBBCCCGEEEIIIYQQQlY96TduQkTEKq8Gq1YcULA1rf/+4JXnY1CHDaBqLeKUY9e2QoV9VrSkD0t6QMm9zaqmR53txXK+XtVqU/NW5TZfo+q92Wf2mTqjnAtKtpFTeU4fBOVsUMYtNFabdgvNMI7ZGlOX7Vfl+CiBCS1YxdtClY4XVbSTjP13n/SkKhZHlVkpCar3TkyVbofdT1tV4riutljOgwp3KpMx7aK0fl6mgA0qykY1+GQq/vpngfpwAFX2aFOnaZbsV4XpCJXdt3TZdjld83jczTXY+dF3qvJy1137TbPCOlWvXqrTPZOZtfNZ96qO4+i7VFG696caTbsN/6hzPdll7SQB9eneK1SxefNeq/KengN7hb2ROTxq2gmonIdN60zV8EU61xu/COrVbq8tblTfsHBRd7H8ygvWlXe26PemLtF5X7BDl+mL1xTLax+yviG7U+e+rEyVzOcusGMv79F9GECFHG1GRCTA+0ep1GvvVpCzCrOvnf9PNYKPjnW9J9+61rSr/SH49dk5U7d4js597Uuqmn702hbTrvqI7uU8+OF8hY0nizW6XnX7F0zd2GbdX5VDulDpebto6+7Xcu871MfVHTDNpEzNRFp/qH2MbrP7rmGXzluSsuMdvkD7X/dHuifTv2dV7rfcpLY8e4n6ofkmO6bKQe3/yDW2sv0J7WO+Veei7qCdpxTs//ELdI3rd46YdkZhHuJaUldpmkUVEOPcHkrmwB7y2p9RjT/DwT0UZ1yKuqBzXxhTg0o15Gw7iKFl45oLSJm1tTivz1rsbjZ1803aNg3TPtdobRKpfXVMP0T1pi61V/d1ervG0HjJxV3wDfPtVaaqbEgHUmiHWOZ+7aXp73bCOHS8uWHra6IcBIQ562vCFORQ1TqOzOSMaZet01wzzGgflQPuvQIMslzjSdw7bJrFHbAf1rXZLqCcQF6XWsyZdph7xv2D+n23T6JUqmTd2QK+F76vJ5nWdY2rrd2Z/K+qwtZNW3s41neW9Ym58bz1p1G/tQfTJ8bDrPZhzk8iIkcG9FGHevX7SzbHSVJgkyXeQ0QkbtC9HD2/x9RVwntVwLkuAhsXEUnwTOLmBongPJEM2bmINnYXy+HQEa1weWJcqXsoAp+XTE+bdrIE7w/5Pp5VRNzeOJlnkjOAlfYUElwuVyRvbVJgroOri6p1XVMvH9R2rst0/3ixnAwOFct4VhVx+7pGfabf09EYnNfq7Nld8mAPCeQ1Vdb+4zGwvaOQDDbbM1mE8zTgcii8k8C7EdjvIiLxGogbAxqTC2vss1LwnunxEusjYvxVmLR7KEBOEpXZdzZgvobv4e6CbOdn1l5b0U/MwWfcM+4uBONEMgt3LYntz+y7tNuDyZubt/CS+vIE+otzbp+MqA1F9TlbB/cEAvc/y2LSENwH4F2AjwUQk5LePu3PxeSoQuNwtP+orcO2YGvJ2LiUIm6DM6S7CzM5RI2918Px451JXGXPNSVZIe8y+VnivdzJhb9ZTgghhBBCCCGEEEIIIWTVw8tyQgghhBBCCCGEEEIIIaseXpYTQgghhBBCCCGEEEIIWfXwspwQQgghhBBCCCGEEELIqocCnz8Gy8QZ8Y/150HgxYmkJCB+6P9YP4ochD0q8OfFdAQEmeIOELHod2KCIEiRnQEBAScYmuoHcYk2K3AleRAawbHnnEogCO0IiEKlFqzAXcVuFdOIWp3S2rAKKIR2rYuGxkyz1DO7tB2IYmZGrehAvkvFClDsRBInJgBiCmGNFcmLYN4CCiN4oQHoMoUCKl6cBe3EiRokp0rUE4li9/HYdh33W9GVCMSPBEQtIhBg9XWeUKV1ax9UG5q9yIpJZid0HPNNane5V63oSrSg7eoO6FxXDtl3LDuo+6aiytp/DAIa5UM6F/kGu3fj+WMLVAy+e4353Px4aeGqjX+sdm1s0tnQXKsKyNS+Ol4sd37bCpJMrQVRD9C0W/egFacNqdJidUasBgRTUNBTRMw/ueJ+XSbHcZYKqCG4Z1C0V8QJqIGoUe2zVpxocb3aYbbH+vXsIbWhUKt22PysFYnJl6swynSn7q3qw050GsSZRs+xsWYOtsNSlfZXv+QEnmd0XatUS02m263oTlWvPmu2Ve2zfo8VOCrr1708dqEVSazbj+NVAZn8P3TbsX9UywmEp+ad1reWTej+6vieFXgavkhjSv2rpQXZkNxLujf63m39Sft9KtZjBLNn7ZpIHwgSxqX3Z+LE6s4WcA8lTnQytVbFJCMUIfPi3ChCNqZ9hAbrJ6NFFK61tpGHfbOQE2hnH1V7UPdDUg6ikwsujtdr3pSU6d7IjDgxtWkQydxlbSPfAuJ/IGqemrF7KO5SIc+kDIQQF5yYGAocVtj9bwQKQYRs9hIr8I3vGS7aIqWYvFjfZc23dM5mLrX9ZabUrn3+h0KGKcyhnUhaqkf3EOYdmMeKuBjl8p8zSlzNjTWAXzfnEPeOoaBrEuN6e78D/XtBMiNOb2KczfGxLoowt3R5ckVpocEAeUgM+QmK7ImISAHOU+AnvehaABHuGAUO3dlF5kqfoZZ9fh0nMhfXwhkFRHyTKZe7wveWnRMhNpj8ws1hMgX+ENY8rrbnJBRki1aINWfUXjjJ4H1AlAaRVKc5GJzge/HnLi8uKQQqIjIN67WCIGeogL28bb2Wjw6Zdmg3+X0Hi+WUEwJNmnLFcjw8buripWOLWsb+/Ifit5D/Jod7pRRRlxOkhr0cRiE2pJzvhvlA/5I6ZHNtFFoP+3r0OQ027wyQh3gfEjnR8OJ3nHBxKfy+Cysdk07HfYjCwHhn4O5JQgLrAL6rMG/PpDIH519cb+fjwwo+OYqP/XvAXoAVheHxfLbM/5vxld6fRuzVi9Pj3KyQu2McKoCwaOzzE2/zCPoamJvYi3Mu6Z5M+nRvoEC0iEgEd3zL/FMUHbvdkss1UYQa3mUlYfXTSXSdv1lOCCGEEEIIIYQQQgghZNXDy3JCCCGEEEIIIYQQQgghqx5elhNCCCGEEEIIIYQQQghZ9fCynBBCCCGEEEIIIYQQQsiq54wU+Az/8ofiJydVrCcflko1PwE4IcRwbGGUKDiJO/gcJYsl60JYhHZWJSRKUAgSxpE4MQkjLgPj82I0Ccxbwf3bCfxxfTsm9ywUHsD38gIP2EfBj1frAtT5eUqwD+ze9VdA/QQcb1JaWCEUrFAHvmfAcfh1LdmhfVYAGw1OxSNgnyVEPJYkL5PF8pLk3+w43jRvzq6Dt10cbgG+49uZOifWUVBhiASEZfNOTDAGoVEoSj5vRadiEK7KL2ldYdG+Yx7Gge1eq9M+Cgta559l7By/s+j6AxsNBSf+hHOF4hfOXnGM2J8fe2ERBD5heH7socQai7i9B/4k+L2Luh3wHdyr//Iw8zEOJ9qeTz4R7N1o2euA0IrxSdYX4BrFy/w6+OSCrnE+7+x6KXXsct4JAYIQXGHR2gIucwTlvBengf1aWEQ/5potHftZeSdOhnbt91AAf4B7ueAymQJ8DV0tjuG1Z6MTsXODe2jZngdwDlEwb9n+N2t+7Hj32g9w3znxp4D7a4Wc53QUgnqTRCuMHecK/Uu8LNa8ublOIFGIXL6C61dYABEjryUINp8Hw8sv2bUz/hrsKeXGZPKrgrdX/V5iRJKsLZh5gj5i187kQ06Q0NgQtPOxBu0/ymPctT4pmYM+Voi7EfiDZeuKMSKBTZ/49zr22JftGXAOy+vO3D2EYByKXN6J7xxDLhAlTggU58b1EYXUMdv52GXPEMf++Wt1CyXrQok9vywnRUFSc2bw71Wiv2Vj0nf0eU0MCtL2HVfKZ0Dgc1l/K71XiT5XOGtg3uFzelx/rAvBn91O5vn6TAMEVHHa3mQ+68+Csc+bgcj4NVyv0vEPzxren+L3CuZ86tpBf8tzUixj7uLuEzDWlIjjHn9PEEG8XrY3sB2eV5LSMR7zaZtPON+V4L72dyjHjhPL1iTgfUpyzJ+/VreC4OGK6p+nChD4XMGHIKXsTkQkBh8dQulcwM6vE/gMJQQ+/dpFx/bDy85u5u6udE5u40lGSoHv5X13BHmN2ZPL7l1wnny8wqBf+owfkmPv+ThxB6qo9LNw7pfX4cPCMcvB51kmdp9Ye8/L0r885419dRTeTKvTjCNHjsi6detO9TAIIYQQQgghhBBCCCGEnAEcPnxY1q5du2KbM/KyPEkS6e3tlZqaGongX00mJydl3bp1cvjwYamtrT2FIySEkNLQVxFCzgToqwghZwL0VYSQMwH6KkJOLSEEmZqako6ODonjlf8q+Rn5Z1jiOF7xXwFqa2vpfAghpz30VYSQMwH6KkLImQB9FSHkTIC+ipBTR11d3ZtqR4FPQgghhBBCCCGEEEIIIaseXpYTQgghhBBCCCGEEEIIWfWcVZflZWVlcvvtt0tZWdmpHgohhJSEvooQciZAX0UIOROgryKEnAnQVxFy5nBGCnwSQgghhBBCCCGEEEIIIceTs+o3ywkhhBBCCCGEEEIIIYSQHwdelhNCCCGEEEIIIYQQQghZ9fCynBBCCCGEEEIIIYQQQsiq56y6LL/zzjulu7tbysvLZceOHfL000+f6iERQs5S7rjjDomiyPy3bdu2Yv38/Lzceuut0tjYKNXV1XLjjTfKwMCA6aOnp0euu+46qayslJaWFvn1X/91yefzps0jjzwil1xyiZSVlcmmTZvk7rvvPhmvRwg5Q3nsscfk+uuvl46ODomiSP7xH//R1IcQ5Hd+53ekvb1dKioq5Morr5Q9e/aYNqOjo3LLLbdIbW2t5HI5+dCHPiTT09OmzfPPPy9XXHGFlJeXy7p16+Szn/3ssrF8/etfl23btkl5ebmcf/758p3vfOe4vy8h5MzkjXzVBz/4wWV51jXXXGPa0FcRQk4kn/70p+Wtb32r1NTUSEtLi9xwww2ya9cu0+Zknvl430XIyeOsuSz/6le/Kp/85Cfl9ttvlx/96Edy4YUXytVXXy2Dg4OnemiEkLOU7du3S19fX/G/733ve8W6T3ziE/LNb35Tvv71r8ujjz4qvb298r73va9YXygU5LrrrpPFxUV5/PHH5a/+6q/k7rvvlt/5nd8ptjlw4IBcd9118q53vUueffZZ+fjHPy6//Mu/LP/8z/98Ut+TEHLmMDMzIxdeeKHceeedx6z/7Gc/K5///Ofli1/8ojz11FNSVVUlV199tczPzxfb3HLLLfLSSy/J/fffL9/61rfksccek1/91V8t1k9OTspVV10lXV1d8swzz8jnPvc5ueOOO+Qv/uIvim0ef/xxufnmm+VDH/qQ7Ny5U2644Qa54YYb5MUXXzxxL08IOWN4I18lInLNNdeYPOsrX/mKqaevIoScSB599FG59dZb5cknn5T7779flpaW5KqrrpKZmZlim5N15uN9FyEnmXCW8La3vS3ceuutxc+FQiF0dHSET3/606dwVISQs5Xbb789XHjhhcesGx8fD5lMJnz9618v/uyVV14JIhKeeOKJEEII3/nOd0Icx6G/v7/Y5gtf+EKora0NCwsLIYQQfuM3fiNs377d9H3TTTeFq6+++ji/DSHkbEREwje+8Y3i5yRJQltbW/jc5z5X/Nn4+HgoKysLX/nKV0IIIbz88stBRMIPfvCDYpt77703RFEUjh49GkII4c/+7M9CfX190VeFEMJv/uZvhq1btxY//9zP/Vy47rrrzHh27NgRfu3Xfu24viMh5MzH+6oQQvjFX/zF8J73vKfkd+irCCEnm8HBwSAi4dFHHw0hnNwzH++7CDm5nBW/Wb64uCjPPPOMXHnllcWfxXEsV155pTzxxBOncGSEkLOZPXv2SEdHh2zYsEFuueUW6enpERGRZ555RpaWloxP2rZtm3R2dhZ90hNPPCHnn3++tLa2FttcffXVMjk5KS+99FKxDfbxehv6NULIj8OBAwekv7/f+JW6ujrZsWOH8U25XE7e8pa3FNtceeWVEsexPPXUU8U2P/mTPynZbLbY5uqrr5Zdu3bJ2NhYsQ39FyHk38IjjzwiLS0tsnXrVvnwhz8sIyMjxTr6KkLIyWZiYkJERBoaGkTk5J35eN9FyMnnrLgsHx4elkKhYByQiEhra6v09/efolERQs5mduzYIXfffbfcd9998oUvfEEOHDggV1xxhUxNTUl/f79ks1nJ5XLmO+iT+vv7j+mzXq9bqc3k5KTMzc2doDcjhJytvO5bVsqX+vv7paWlxdSn02lpaGg4Lv6LeRkh5M1wzTXXyF//9V/Lgw8+KL//+78vjz76qFx77bVSKBREhL6KEHJySZJEPv7xj8vll18u5513nojISTvz8b6LkJNP+lQPgBBCzkSuvfbaYvmCCy6QHTt2SFdXl3zta1+TioqKUzgyQgghhJAzm5//+Z8vls8//3y54IILZOPGjfLII4/Iu9/97lM4MkLIauTWW2+VF1980WhUEULOXs6K3yxvamqSVCq1THV4YGBA2traTtGoCCGriVwuJ1u2bJG9e/dKW1ubLC4uyvj4uGmDPqmtre2YPuv1upXa1NbW8kKeEPKv5nXfslK+1NbWtkwsKp/Py+jo6HHxX8zLCCE/Dhs2bJCmpibZu3eviNBXEUJOHh/96EflW9/6ljz88MOydu3a4s9P1pmP912EnHzOisvybDYrl156qTz44IPFnyVJIg8++KBcdtllp3BkhJDVwvT0tOzbt0/a29vl0ksvlUwmY3zSrl27pKenp+iTLrvsMnnhhRfMQe/++++X2tpaOffcc4ttsI/X29CvEUJ+HNavXy9tbW3Gr0xOTspTTz1lfNP4+Lg888wzxTYPPfSQJEkiO3bsKLZ57LHHZGlpqdjm/vvvl61bt0p9fX2xDf0XIeR4ceTIERkZGZH29nYRoa8ihJx4Qgjy0Y9+VL7xjW/IQw89JOvXrzf1J+vMx/suQk4Bp1ph9Hhxzz33hLKysnD33XeHl19+Ofzqr/5qyOVyRnWYEEKOF5/61KfCI488Eg4cOBC+//3vhyuvvDI0NTWFwcHBEEII/+W//JfQ2dkZHnroofDDH/4wXHbZZeGyyy4rfj+fz4fzzjsvXHXVVeHZZ58N9913X2hubg6/9Vu/VWyzf//+UFlZGX791389vPLKK+HOO+8MqVQq3HfffSf9fQkhZwZTU1Nh586dYefOnUFEwh/90R+FnTt3hkOHDoUQQvjMZz4Tcrlc+Kd/+qfw/PPPh/e85z1h/fr1YW5urtjHNddcEy6++OLw1FNPhe9973th8+bN4eabby7Wj4+Ph9bW1vALv/AL4cUXXwz33HNPqKysDH/+539ebPP9738/pNPp8Ad/8AfhlVdeCbfffnvIZDLhhRdeOHmTQQg5bVnJV01NTYXbbrstPPHEE+HAgQPhgQceCJdccknYvHlzmJ+fL/ZBX0UIOZF8+MMfDnV1deGRRx4JfX19xf9mZ2eLbU7WmY/3XYScXM6ay/IQQvjTP/3T0NnZGbLZbHjb294WnnzyyVM9JELIWcpNN90U2tvbQzabDWvWrAk33XRT2Lt3b7F+bm4ufOQjHwn19fWhsrIyvPe97w19fX2mj4MHD4Zrr702VFRUhKampvCpT30qLC0tmTYPP/xwuOiii0I2mw0bNmwId91118l4PULIGcrDDz8cRGTZf7/4i78YQgghSZLw27/926G1tTWUlZWFd7/73WHXrl2mj5GRkXDzzTeH6urqUFtbG/7zf/7PYWpqyrR57rnnwjve8Y5QVlYW1qxZEz7zmc8sG8vXvva1sGXLlpDNZsP27dvDt7/97RP23oSQM4uVfNXs7Gy46qqrQnNzc8hkMqGrqyv8yq/8yrJLIfoqQsiJ5Fg+SkTMeexknvl430XIySMKIYST/dvshBBCCCGEEEIIIYQQQsjpxFnxN8sJIYQQQgghhBBCCCGEkH8LvCwnhBBCCCGEEEIIIYQQsurhZTkhhBBCCCGEEEIIIYSQVQ8vywkhhBBCCCGEEEIIIYSsenhZTgghhBBCCCGEEEIIIWTVw8tyQgghhBBCCCGEEEIIIaseXpYTQgghhBBCCCGEEEIIWfXwspwQQgghhBBCCCGEEELIqoeX5YQQQgghhJxAHnnkEYmiSMbHx0/6s6MokiiKJJfLndDnvPOd7yw+69lnnz2hzyKEEEIIIeREwctyQgghhBBCjhPvfOc75eMf/7j52U/8xE9IX1+f1NXVnZIx3XXXXbJ79+4T+ox/+Id/kKeffvqEPoMQQgghhJATTfpUD4AQQgghhJCzmWw2K21tbafs+blcTlpaWk7oMxoaGmRycvKEPoMQQgghhJATDX+znBBCCCGEkOPABz/4QXn00UflT/7kT4p/kuTgwYPL/gzL3XffLblcTr71rW/J1q1bpbKyUt7//vfL7Oys/NVf/ZV0d3dLfX29fOxjH5NCoVDsf2FhQW677TZZs2aNVFVVyY4dO+SRRx75V4/zjjvukIsuuki+/OUvS2dnp1RXV8tHPvIRKRQK8tnPflba2tqkpaVF/uf//J/F74QQ5I477pDOzk4pKyuTjo4O+djHPvZvnTJCCCGEEEJOK/ib5YQQQgghhBwH/uRP/kR2794t5513nvzu7/6uiIg0NzfLwYMHl7WdnZ2Vz3/+83LPPffI1NSUvO9975P3vve9ksvl5Dvf+Y7s379fbrzxRrn88svlpptuEhGRj370o/Lyyy/LPffcIx0dHfKNb3xDrrnmGnnhhRdk8+bN/6qx7tu3T+6991657777ZN++ffL+979f9u/fL1u2bJFHH31UHn/8cfmlX/olufLKK2XHjh3y93//9/LHf/zHcs8998j27dulv79fnnvuuX/znBFCCCGEEHI6wctyQgghhBBCjgN1dXWSzWalsrLyDf/sytLSknzhC1+QjRs3iojI+9//fvmbv/kbGRgYkOrqajn33HPlXe96lzz88MNy0003SU9Pj9x1113S09MjHR0dIiJy2223yX333Sd33XWX/N7v/d6/aqxJksiXv/xlqampKT5r165d8p3vfEfiOJatW7fK7//+78vDDz8sO3bskJ6eHmlra5Mrr7xSMpmMdHZ2ytve9rYfb6IIIYQQQgg5TeFlOSGEEEIIISeZysrK4kW5iEhra6t0d3dLdXW1+dng4KCIiLzwwgtSKBRky5Ytpp+FhQVpbGz8Vz+/u7tbampqzLNSqZTEcWx+9vrzf/Znf1b+1//6X7Jhwwa55ppr5N/9u38n119/vaTTPE4QQgghhJCzB2a3hBBCCCGEnGQymYz5HEXRMX+WJImIiExPT0sqlZJnnnlGUqmUaYcX7Cfq+evWrZNdu3bJAw88IPfff7985CMfkc997nPy6KOPLvseIYQQQgghZyq8LCeEEEIIIeQ4kc1mjSjn8eLiiy+WQqEgg4ODcsUVVxz3/t8MFRUVcv3118v1118vt956q2zbtk1eeOEFueSSS07JeAghhBBCCDne8LKcEEIIIYSQ40R3d7c89dRTcvDgQamurpaGhobj0u+WLVvklltukQ984APyh3/4h3LxxRfL0NCQPPjgg3LBBRfIddddd1yeU4q7775bCoWC7NixQyorK+Vv//ZvpaKiQrq6uk7ocwkhhBBCCDmZxG/chBBCCCGEEPJmuO222ySVSsm5554rzc3N0tPTc9z6vuuuu+QDH/iAfOpTn5KtW7fKDTfcID/4wQ+ks7PzuD2jFLlcTv7yL/9SLr/8crngggvkgQcekG9+85s/1t9LJ4QQQggh5HQlCiGEUz0IQgghhBBCyPEniiL5xje+ITfccMMJf9bBgwdl/fr1snPnTrnoootO+PMIIYQQQgg53vA3ywkhhBBCCDmLufnmm2Xt2rUn9BnXXnutbN++/YQ+gxBCCCGEkBMNf7OcEEIIIYSQs5S9e/eKiEgqlZL169efsOccPXpU5ubmRESks7NTstnsCXsWIYQQQgghJwpelhNCCCGEEEIIIYQQQghZ9fDPsBBCCCGEEEIIIYQQQghZ9fCynBBCCCGEEEIIIYQQQsiqh5flhBBCCCGEEEIIIYQQQlY9vCwnhBBCCCGEEEIIIYQQsurhZTkhhBBCCCGEEEIIIYSQVQ8vywkhhBBCCCGEEEIIIYSsenhZTgghhBBCCCGEEEIIIWTVw8tyQgghhBBCCCGEEEIIIaseXpYTQgghhBBCCCGEEEIIWfX8/4AKuqN8Uy3bAAAAAElFTkSuQmCC\n"
                },
                "metadata": {}
              }
            ]
          }
        },
        "aa5e7b93e701470086c0a67abb0e7db3": {
          "model_module": "@jupyter-widgets/base",
          "model_name": "LayoutModel",
          "model_module_version": "1.2.0",
          "state": {
            "_model_module": "@jupyter-widgets/base",
            "_model_module_version": "1.2.0",
            "_model_name": "LayoutModel",
            "_view_count": null,
            "_view_module": "@jupyter-widgets/base",
            "_view_module_version": "1.2.0",
            "_view_name": "LayoutView",
            "align_content": null,
            "align_items": null,
            "align_self": null,
            "border": null,
            "bottom": null,
            "display": null,
            "flex": null,
            "flex_flow": null,
            "grid_area": null,
            "grid_auto_columns": null,
            "grid_auto_flow": null,
            "grid_auto_rows": null,
            "grid_column": null,
            "grid_gap": null,
            "grid_row": null,
            "grid_template_areas": null,
            "grid_template_columns": null,
            "grid_template_rows": null,
            "height": null,
            "justify_content": null,
            "justify_items": null,
            "left": null,
            "margin": null,
            "max_height": null,
            "max_width": null,
            "min_height": null,
            "min_width": null,
            "object_fit": null,
            "object_position": null,
            "order": null,
            "overflow": null,
            "overflow_x": null,
            "overflow_y": null,
            "padding": null,
            "right": null,
            "top": null,
            "visibility": null,
            "width": null
          }
        },
        "b2412326b4d74e6c9bb3fffcb52cf1d0": {
          "model_module": "@jupyter-widgets/base",
          "model_name": "LayoutModel",
          "model_module_version": "1.2.0",
          "state": {
            "_model_module": "@jupyter-widgets/base",
            "_model_module_version": "1.2.0",
            "_model_name": "LayoutModel",
            "_view_count": null,
            "_view_module": "@jupyter-widgets/base",
            "_view_module_version": "1.2.0",
            "_view_name": "LayoutView",
            "align_content": null,
            "align_items": null,
            "align_self": null,
            "border": null,
            "bottom": null,
            "display": null,
            "flex": null,
            "flex_flow": null,
            "grid_area": null,
            "grid_auto_columns": null,
            "grid_auto_flow": null,
            "grid_auto_rows": null,
            "grid_column": null,
            "grid_gap": null,
            "grid_row": null,
            "grid_template_areas": null,
            "grid_template_columns": null,
            "grid_template_rows": null,
            "height": null,
            "justify_content": null,
            "justify_items": null,
            "left": null,
            "margin": null,
            "max_height": null,
            "max_width": null,
            "min_height": null,
            "min_width": null,
            "object_fit": null,
            "object_position": null,
            "order": null,
            "overflow": null,
            "overflow_x": null,
            "overflow_y": null,
            "padding": null,
            "right": null,
            "top": null,
            "visibility": null,
            "width": "100%"
          }
        },
        "33daa26729c0404eab286d78e9c09770": {
          "model_module": "@jupyter-widgets/controls",
          "model_name": "SliderStyleModel",
          "model_module_version": "1.5.0",
          "state": {
            "_model_module": "@jupyter-widgets/controls",
            "_model_module_version": "1.5.0",
            "_model_name": "SliderStyleModel",
            "_view_count": null,
            "_view_module": "@jupyter-widgets/base",
            "_view_module_version": "1.2.0",
            "_view_name": "StyleView",
            "description_width": "",
            "handle_color": null
          }
        },
        "f57856255d1841c697f4faeb7c51d860": {
          "model_module": "@jupyter-widgets/base",
          "model_name": "LayoutModel",
          "model_module_version": "1.2.0",
          "state": {
            "_model_module": "@jupyter-widgets/base",
            "_model_module_version": "1.2.0",
            "_model_name": "LayoutModel",
            "_view_count": null,
            "_view_module": "@jupyter-widgets/base",
            "_view_module_version": "1.2.0",
            "_view_name": "LayoutView",
            "align_content": null,
            "align_items": null,
            "align_self": null,
            "border": null,
            "bottom": null,
            "display": null,
            "flex": null,
            "flex_flow": null,
            "grid_area": null,
            "grid_auto_columns": null,
            "grid_auto_flow": null,
            "grid_auto_rows": null,
            "grid_column": null,
            "grid_gap": null,
            "grid_row": null,
            "grid_template_areas": null,
            "grid_template_columns": null,
            "grid_template_rows": null,
            "height": null,
            "justify_content": null,
            "justify_items": null,
            "left": null,
            "margin": null,
            "max_height": null,
            "max_width": null,
            "min_height": null,
            "min_width": null,
            "object_fit": null,
            "object_position": null,
            "order": null,
            "overflow": null,
            "overflow_x": null,
            "overflow_y": null,
            "padding": null,
            "right": null,
            "top": null,
            "visibility": null,
            "width": null
          }
        },
        "96bfe90b6ffb4398a6b0f4bee6110a34": {
          "model_module": "@jupyter-widgets/controls",
          "model_name": "DescriptionStyleModel",
          "model_module_version": "1.5.0",
          "state": {
            "_model_module": "@jupyter-widgets/controls",
            "_model_module_version": "1.5.0",
            "_model_name": "DescriptionStyleModel",
            "_view_count": null,
            "_view_module": "@jupyter-widgets/base",
            "_view_module_version": "1.2.0",
            "_view_name": "StyleView",
            "description_width": ""
          }
        },
        "bc1c85c0130845caaff1526e0a64d60b": {
          "model_module": "@jupyter-widgets/base",
          "model_name": "LayoutModel",
          "model_module_version": "1.2.0",
          "state": {
            "_model_module": "@jupyter-widgets/base",
            "_model_module_version": "1.2.0",
            "_model_name": "LayoutModel",
            "_view_count": null,
            "_view_module": "@jupyter-widgets/base",
            "_view_module_version": "1.2.0",
            "_view_name": "LayoutView",
            "align_content": null,
            "align_items": null,
            "align_self": null,
            "border": null,
            "bottom": null,
            "display": null,
            "flex": null,
            "flex_flow": null,
            "grid_area": null,
            "grid_auto_columns": null,
            "grid_auto_flow": null,
            "grid_auto_rows": null,
            "grid_column": null,
            "grid_gap": null,
            "grid_row": null,
            "grid_template_areas": null,
            "grid_template_columns": null,
            "grid_template_rows": null,
            "height": null,
            "justify_content": null,
            "justify_items": null,
            "left": null,
            "margin": null,
            "max_height": null,
            "max_width": null,
            "min_height": null,
            "min_width": null,
            "object_fit": null,
            "object_position": null,
            "order": null,
            "overflow": null,
            "overflow_x": null,
            "overflow_y": null,
            "padding": null,
            "right": null,
            "top": null,
            "visibility": null,
            "width": null
          }
        },
        "c877a13b510645a5babd3aaec2e2b3f0": {
          "model_module": "@jupyter-widgets/controls",
          "model_name": "DescriptionStyleModel",
          "model_module_version": "1.5.0",
          "state": {
            "_model_module": "@jupyter-widgets/controls",
            "_model_module_version": "1.5.0",
            "_model_name": "DescriptionStyleModel",
            "_view_count": null,
            "_view_module": "@jupyter-widgets/base",
            "_view_module_version": "1.2.0",
            "_view_name": "StyleView",
            "description_width": ""
          }
        },
        "64b28e7b605949eebb19c540b1d39038": {
          "model_module": "@jupyter-widgets/base",
          "model_name": "LayoutModel",
          "model_module_version": "1.2.0",
          "state": {
            "_model_module": "@jupyter-widgets/base",
            "_model_module_version": "1.2.0",
            "_model_name": "LayoutModel",
            "_view_count": null,
            "_view_module": "@jupyter-widgets/base",
            "_view_module_version": "1.2.0",
            "_view_name": "LayoutView",
            "align_content": null,
            "align_items": null,
            "align_self": null,
            "border": null,
            "bottom": null,
            "display": null,
            "flex": null,
            "flex_flow": null,
            "grid_area": null,
            "grid_auto_columns": null,
            "grid_auto_flow": null,
            "grid_auto_rows": null,
            "grid_column": null,
            "grid_gap": null,
            "grid_row": null,
            "grid_template_areas": null,
            "grid_template_columns": null,
            "grid_template_rows": null,
            "height": null,
            "justify_content": null,
            "justify_items": null,
            "left": null,
            "margin": null,
            "max_height": null,
            "max_width": null,
            "min_height": null,
            "min_width": null,
            "object_fit": null,
            "object_position": null,
            "order": null,
            "overflow": null,
            "overflow_x": null,
            "overflow_y": null,
            "padding": null,
            "right": null,
            "top": null,
            "visibility": null,
            "width": null
          }
        }
      }
    }
  },
  "nbformat": 4,
  "nbformat_minor": 0
}