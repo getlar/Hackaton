{
  "nbformat": 4,
  "nbformat_minor": 0,
  "metadata": {
    "colab": {
      "provenance": []
    },
    "kernelspec": {
      "name": "python3",
      "display_name": "Python 3"
    },
    "language_info": {
      "name": "python"
    }
  },
  "cells": [
    {
      "cell_type": "markdown",
      "source": [
        "# Data Cleaning twitter\n",
        "Van egy json fájlunk, ami 128837 twitterről leszedett bejegyzést tartalmaz. Minden itt tárolt bejegyzésnek megtalálható a szövege, hogy hányan likeolták és egy keyword ami a tweethez tartozik.\n",
        "\n",
        "Sajnos mint a legtöbb social media felületen, itt is sok bot található, és az ő tweetjeik is bekerülhettek az adatok közé. Az egyik jellemzője a bot bejegyzéseknek, hogy éppen trending hashtageket használnak, ha van köze a bejegyzésükhöz, ha nincs.\n",
        "\n",
        "Ahhoz hogy a bot bejegyzések egy részét kiszűrd, csak azokat a tweeteket tartsd meg, amelyek a keywordot tartalmazzák, de kizárólag NEM hashtag formátumban (#keyword). Tehát ha a kulcsszó bitcoin, akkor a \"vegyél bitcoint\" jó, az \"olcsó #bitcoin\" és a \"bitcoin akció! #bitcoin\" nem jó.  Az eredeti adat hány százaléka maradt meg?"
      ],
      "metadata": {
        "id": "cHwSGQ1WNBBl"
      }
    },
    {
      "cell_type": "code",
      "execution_count": 1,
      "metadata": {
        "id": "J2KQkrUP7Frt"
      },
      "outputs": [],
      "source": [
        "import pandas as pd\n",
        "import numpy as np\n"
      ]
    },
    {
      "cell_type": "code",
      "source": [
        "!gdown 1YideIWK62ZOug7JSSjYzflEBUrHu1mPn"
      ],
      "metadata": {
        "colab": {
          "base_uri": "https://localhost:8080/"
        },
        "id": "Y2n2Ny277I8q",
        "outputId": "9562c8b2-2cc7-453c-e819-3555aa16746f"
      },
      "execution_count": 2,
      "outputs": [
        {
          "output_type": "stream",
          "name": "stdout",
          "text": [
            "Downloading...\n",
            "From: https://drive.google.com/uc?id=1YideIWK62ZOug7JSSjYzflEBUrHu1mPn\n",
            "To: /content/tweets.json\n",
            "\r  0% 0.00/22.4M [00:00<?, ?B/s]\r 73% 16.3M/22.4M [00:00<00:00, 162MB/s]\r100% 22.4M/22.4M [00:00<00:00, 169MB/s]\n"
          ]
        }
      ]
    },
    {
      "cell_type": "code",
      "source": [
        "import pandas as pd\n",
        "\n",
        "\n",
        "json_file_path = 'tweets.json'\n",
        "\n",
        "\n",
        "df = pd.read_json(json_file_path)\n",
        "\n",
        "\n",
        "print(df)\n",
        "\n",
        "num_rows = df.shape[0]\n",
        "print(\"Number of rows:\", num_rows)\n",
        "\n",
        "\n"
      ],
      "metadata": {
        "id": "XceN9_vXWnxV",
        "outputId": "af78cc4a-8255-442e-e21d-c2fd0be2bb19",
        "colab": {
          "base_uri": "https://localhost:8080/"
        }
      },
      "execution_count": 12,
      "outputs": [
        {
          "output_type": "stream",
          "name": "stdout",
          "text": [
            "          keyword  likes                                              tweet\n",
            "0        COVID-19      1  The headline kinda makes it sound like the AP ...\n",
            "1        COVID-19      0  ATLANTIC CITY — The city's Police Athletic Lea...\n",
            "2        COVID-19      0  I feel like Diana's line she draws is if his s...\n",
            "3        COVID-19      1  COVID-19 was the single most fatal communicabl...\n",
            "4        COVID-19      0  Studies: Dogs can detect COVID-19 with greater...\n",
            "...           ...    ...                                                ...\n",
            "128832  World Cup      1       He is in Argentina to play the U20 World Cup\n",
            "128833  World Cup      0  Messi this season in every competition 60g/a w...\n",
            "128834  World Cup     29  🚨#2026WCQ 54 African countries will be divided...\n",
            "128835  World Cup      0  England’s adopted World Cup mascot ‘Dave the C...\n",
            "128836  World Cup      0  End kartay hain us ne apnay Country ko Fifa Wo...\n",
            "\n",
            "[128837 rows x 3 columns]\n",
            "Number of rows: 128837\n"
          ]
        }
      ]
    },
    {
      "cell_type": "code",
      "source": [
        "filtered_df = df[df.apply(lambda row: '#' + row['keyword'] not in row['tweet'] and row['keyword'] in row['tweet'], axis=1)]\n",
        "\n",
        "print(filtered_df)\n",
        "\n",
        "num_rows = filtered_df.shape[0]\n",
        "print(\"Number of rows:\", num_rows)"
      ],
      "metadata": {
        "id": "k0ogx1-qW-jT",
        "outputId": "cb7985f7-6b8a-4f02-e2da-4ba86a7d6ee8",
        "colab": {
          "base_uri": "https://localhost:8080/"
        }
      },
      "execution_count": 13,
      "outputs": [
        {
          "output_type": "stream",
          "name": "stdout",
          "text": [
            "          keyword  likes                                              tweet\n",
            "0        COVID-19      1  The headline kinda makes it sound like the AP ...\n",
            "1        COVID-19      0  ATLANTIC CITY — The city's Police Athletic Lea...\n",
            "3        COVID-19      1  COVID-19 was the single most fatal communicabl...\n",
            "4        COVID-19      0  Studies: Dogs can detect COVID-19 with greater...\n",
            "5        COVID-19      1  Now you're putting a lot of different things o...\n",
            "...           ...    ...                                                ...\n",
            "128832  World Cup      1       He is in Argentina to play the U20 World Cup\n",
            "128833  World Cup      0  Messi this season in every competition 60g/a w...\n",
            "128834  World Cup     29  🚨#2026WCQ 54 African countries will be divided...\n",
            "128835  World Cup      0  England’s adopted World Cup mascot ‘Dave the C...\n",
            "128836  World Cup      0  End kartay hain us ne apnay Country ko Fifa Wo...\n",
            "\n",
            "[55639 rows x 3 columns]\n",
            "Number of rows: 55639\n"
          ]
        }
      ]
    }
  ]
}