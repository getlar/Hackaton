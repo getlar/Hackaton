{
 "cells": [
  {
   "cell_type": "code",
   "execution_count": null,
   "metadata": {},
   "outputs": [],
   "source": [
    "import re\n",
    "   \n",
    "def putSpace(input):\n",
    "    words = re.findall('[A-Z][a-z]*', input)\n",
    "   \n",
    "    for i in range(0,len(words)):\n",
    "      words[i]=words[i][0].lower()+words[i][1:]\n",
    "    print(' '.join(words))\n",
    "     \n",
    "   \n",
    "if __name__ == \"__main__\":\n",
    "    input = 'BruceWayneIsBatman'\n",
    "    putSpace(input)"
   ]
  },
  {
   "cell_type": "code",
   "execution_count": null,
   "metadata": {},
   "outputs": [],
   "source": [
    "import re\n",
    "\n",
    "def putSpace(input):\n",
    "    result = re.sub(r'(?<=[a-z])(?=[A-Z])', ' ', input)\n",
    "    print(result.lower())\n",
    "\n",
    "if __name__ == \"__main__\":\n",
    "    input = 'BruceWayneIsBatman'\n",
    "    putSpace(input)"
   ]
  },
  {
   "cell_type": "code",
   "execution_count": null,
   "metadata": {},
   "outputs": [],
   "source": [
    "def putSpace(input):\n",
    "    words = [input[i].lower() + input[i+1:j] for i, j in re.finditer(r'[A-Z]', input)]\n",
    "    print(' '.join(words))\n",
    "\n",
    "if __name__ == \"__main__\":\n",
    "    input = 'BruceWayneIsBatman'\n",
    "    putSpace(input)"
   ]
  },
  {
   "cell_type": "code",
   "execution_count": null,
   "metadata": {},
   "outputs": [],
   "source": [
    "from itertools import groupby\n",
    "\n",
    "def putSpace(input):\n",
    "    words = [''.join(g) for k, g in groupby(input, key=str.isupper)]\n",
    "    print(' '.join([word.lower() if idx != 0 else word for idx, word in enumerate(words)]))\n",
    "\n",
    "if __name__ == \"__main__\":\n",
    "    input = 'BruceWayneIsBatman'\n",
    "    putSpace(input)"
   ]
  },
  {
   "cell_type": "code",
   "execution_count": null,
   "metadata": {},
   "outputs": [],
   "source": [
    "def putSpace(input):\n",
    "    words = []\n",
    "    i = 0\n",
    "    while i < len(input):\n",
    "        if i > 0 and input[i].isupper():\n",
    "            words.append(input[i-1].lower() + input[i:j])\n",
    "        j = i + 1\n",
    "        while j < len(input) and not input[j].isupper():\n",
    "            j += 1\n",
    "        words.append(input[i:j])\n",
    "        i = j\n",
    "    print(' '.join(words))\n",
    "\n",
    "if __name__ == \"__main__\":\n",
    "    input = 'BruceWayneIsBatman'\n",
    "    putSpace(input)"
   ]
  },
  {
   "cell_type": "code",
   "execution_count": null,
   "metadata": {},
   "outputs": [],
   "source": [
    "import re\n",
    "\n",
    "def putSpace(input):\n",
    "    words = re.split('(?<=[a-z])(?=[A-Z])', input)\n",
    "    print(' '.join([word.lower() for word in words]))\n",
    "\n",
    "if __name__ == \"__main__\":\n",
    "    input = 'BruceWayneIsBatman'\n",
    "    putSpace(input)"
   ]
  }
 ],
 "metadata": {
  "language_info": {
   "name": "python"
  }
 },
 "nbformat": 4,
 "nbformat_minor": 2
}
