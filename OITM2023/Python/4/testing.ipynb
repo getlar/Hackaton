{
 "cells": [
  {
   "cell_type": "code",
   "execution_count": 1,
   "metadata": {},
   "outputs": [],
   "source": [
    "class A:\n",
    "    def function(self):\n",
    "        return A()\n",
    "\n",
    "a = A()\n",
    "A = int\n",
    "m = 2\n",
    "try:\n",
    "    n = 2 if (a.function() == 0) else 6\n",
    "    p = len([\"lorem\", \"ipsum\", \"dolor\", \"amit\"][10:])+2\n",
    "    m = n * p\n",
    "except Exception as e:\n",
    "    m *= 4\n",
    "\n",
    "print(m)"
   ]
  }
 ],
 "metadata": {
  "kernelspec": {
   "display_name": "T",
   "language": "python",
   "name": "python3"
  },
  "language_info": {
   "codemirror_mode": {
    "name": "ipython",
    "version": 3
   },
   "file_extension": ".py",
   "mimetype": "text/x-python",
   "name": "python",
   "nbconvert_exporter": "python",
   "pygments_lexer": "ipython3",
   "version": "3.8.1"
  }
 },
 "nbformat": 4,
 "nbformat_minor": 2
}
