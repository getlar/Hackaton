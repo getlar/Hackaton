{
 "cells": [
  {
   "cell_type": "code",
   "execution_count": 16,
   "metadata": {},
   "outputs": [
    {
     "name": "stdout",
     "output_type": "stream",
     "text": [
      "[[1, 2, 3, 4, 5], [6, 7, 8, 9, 10], [11, 12, 13, 14, 15], [16, 17, 18, 19, 20]]\n"
     ]
    }
   ],
   "source": [
    "import copy\n",
    "\n",
    "tupli_1 = [1, 2, 3, 4, 5]\n",
    "\n",
    "tuple_2 = [6, 7, 8, 9, 10]\n",
    "tuple_3 = [11, 12, 13, 14, 15]\n",
    "\n",
    "beer_list = [tupli_1, tuple_2, tuple_3]\n",
    "\n",
    "\n",
    "beer_list.append([16, 17, 18, 19, 20])\n",
    "\n",
    "backup_list = copy.deepcopy(beer_list)\n",
    "\n",
    "beer_list[0][0] = 100\n",
    "\n",
    "\n",
    "print(backup_list)"
   ]
  },
  {
   "cell_type": "code",
   "execution_count": 25,
   "metadata": {},
   "outputs": [],
   "source": [
    "def calculate_prices1():\n",
    "    sizes = [0.2, 0.33, 0.5, 1]\n",
    "    prices = [lambda x: i * x for i in sizes]\n",
    "    return prices"
   ]
  },
  {
   "cell_type": "code",
   "execution_count": 26,
   "metadata": {},
   "outputs": [],
   "source": [
    "def calculate_prices2():\n",
    "    sizes = [0.2, 0.33, 0.5, 1]\n",
    "    prices = []\n",
    "    for i in sizes:\n",
    "        def price(x):\n",
    "            return i * x\n",
    "        prices.append(price)\n",
    "    return prices"
   ]
  },
  {
   "cell_type": "code",
   "execution_count": 27,
   "metadata": {},
   "outputs": [],
   "source": [
    "def calculate_prices3():\n",
    "    sizes = [0.2, 0.33, 0.5, 1]\n",
    "    prices = [lambda x, i=i: i * x for i in sizes]\n",
    "    return prices"
   ]
  },
  {
   "cell_type": "code",
   "execution_count": 29,
   "metadata": {},
   "outputs": [],
   "source": [
    "def calculate_prices4():\n",
    "    sizes = [0.2, 0.33, 0.5, 1]\n",
    "    prices = []\n",
    "    for i in sizes:\n",
    "        def price(x, i=i):\n",
    "            return i * x\n",
    "        prices.append(price)\n",
    "    return prices"
   ]
  },
  {
   "cell_type": "code",
   "execution_count": 31,
   "metadata": {},
   "outputs": [],
   "source": [
    "from functools import partial\n",
    "from operator import mul\n",
    "\n",
    "def calculate_prices5():\n",
    "    sizes = [0.2, 0.33, 0.5, 1]\n",
    "    prices = [partial(mul, i) for i in sizes]\n",
    "    return prices"
   ]
  },
  {
   "cell_type": "code",
   "execution_count": 32,
   "metadata": {},
   "outputs": [
    {
     "name": "stdout",
     "output_type": "stream",
     "text": [
      "1000\n",
      "1000\n",
      "1000\n",
      "1000\n",
      "1000\n",
      "1000\n",
      "1000\n",
      "1000\n",
      "200.0\n",
      "330.0\n",
      "500.0\n",
      "1000\n",
      "200.0\n",
      "330.0\n",
      "500.0\n",
      "1000\n",
      "200.0\n",
      "330.0\n",
      "500.0\n",
      "1000\n"
     ]
    }
   ],
   "source": [
    "for price in calculate_prices1():\n",
    "    print(price(1000))\n",
    "\n",
    "for price in calculate_prices2():\n",
    "    print(price(1000))\n",
    "\n",
    "for price in calculate_prices3():\n",
    "    print(price(1000))\n",
    "\n",
    "for price in calculate_prices4():\n",
    "    print(price(1000))\n",
    "\n",
    "\n",
    "for price in calculate_prices5():\n",
    "    print(price(1000))\n"
   ]
  },
  {
   "cell_type": "code",
   "execution_count": 33,
   "metadata": {},
   "outputs": [
    {
     "name": "stdout",
     "output_type": "stream",
     "text": [
      "Longest Repeating Patterns:\n",
      "Length 29: :.,s:I,':\\,s:I,@:\\,s:I,/I:._:\n"
     ]
    }
   ],
   "source": [
    "from collections import Counter\n",
    "\n",
    "text = '''\n",
    "'_:',s:.,+:s,s:.,/-:'\n",
    "-_:-,+s:s,s:.,s-:-\n",
    "@_:+,-@:s,+_:+\n",
    "._:+,'@:s,'_:+\n",
    "+I:\\,@:s,s:@,I@:s,@:@,+_:\\\n",
    "+I:_,s:s,s:I,s:s,_:@,-s:s,_:@,s:s,s:I,+_:_\n",
    "+I:/,s:s,s:I,-:s,-:@,-:s,-:@,-:s,s:I,/:_,@_:/\n",
    "+I:+,s:s,s:I,+:s,s:@,-:s,s:@,+:s,+:+,s:/,._:+\n",
    "._:',s:I,s:.,':s,s:@,-:s,s:@,':s,s:.,s:+,\\:-,s:.,@:',s:/,+I:'\n",
    "._:+,s:I,I:.,/:s,s:@,I:s,s:@,/:s,I:.,s:I,/:+,s:/,@:+,s:/,'I:+\n",
    "._:\\,s:I,\\:.,_:s,s:@,I:s,s:@,I:s,/:.,s:I,':\\,s:I,@:\\,s:I,/I:\\\n",
    "._:\\,s:I,/:.,I:s,s:@,@:s,s:@,s:s,.s:.,s:I,':\\,s:I,@:\\,s:I,/I:\\\n",
    "._:/,s:I,.s:.,s:@,@:s,s:@,ss:.,s:I,':/,s:I,@:/,s:I,/I:/\n",
    "._:_,s:I,.s:.,s:@,@:s,@s:.,s:I,/:_,s:\\,@:_,s:\\,'I:_\n",
    "._:@,s:I,ss:.,s:@,@:s,ss:.,s:+,\\:-,s:',@:@,s:\\,+I:@\n",
    "._:s,s:I,-@:.,s:s,':_,s:\\,._:s\n",
    "._:@,s:I,-@:.,s:I,+_:@\n",
    "+I:s,s:\\,/@:.,s:/,'_:s\n",
    "'I:+,s:I,+@:.,s:I,/_:+\n",
    "s_:',s:I,I@:.,s:I,.-:'\n",
    "\\_:I,-s:.,--:I\n",
    "\\ss:I\n",
    "\\ss:.\n",
    "@I:s,@:_,@:s,@:_,@:s,@:_,I:s,@:_,\\:s,I:_,s:s,@:_,@:s,@:_,+:s,@:_,@_:s\n",
    "sI:@,s:),@:_,s:I,@:@,s:_,s:I,@:@,s:_,s:I,s:@,s:),@:_,s:I,\\:@,s:I,I:@,s:_,s:(,@:@,s:_,s:I,s:@,s:I,s:@,s:\\,s:I,s:@,s:I,@:@,s:_,s:I,s_:@\n",
    "@I:-,s:\\,s:-,s:I,s:-,@:_,s:I,s:-,@:_,s:I,s:-,s:),@:_,s:I,\\:-,s:I,@:-,s:),@:_,s:-,@:_,s:I,s:-,s:I,s:\\,s:-,s:I,s:-,s:I,I:-,s:I,s_:-\n",
    "-ss:- do you see repeating patterns\n",
    "'''\n",
    "\n",
    "# Function to find all repeating patterns in a text\n",
    "def find_repeating_patterns(text, length):\n",
    "    patterns = [text[i:i + length] for i in range(len(text) - length + 1)]\n",
    "    counter = Counter(patterns)\n",
    "    repeating_patterns = [pattern for pattern, count in counter.items() if count > 1]\n",
    "    return repeating_patterns\n",
    "\n",
    "# Find repeating patterns of different lengths\n",
    "max_length = max(len(line) for line in text.split('\\n') if line.strip())\n",
    "longest_repeating_patterns = []\n",
    "\n",
    "for length in range(2, max_length + 1):\n",
    "    repeating_patterns = find_repeating_patterns(text, length)\n",
    "    if repeating_patterns:\n",
    "        longest_repeating_patterns = repeating_patterns\n",
    "\n",
    "# Print the longest repeating patterns\n",
    "print(\"Longest Repeating Patterns:\")\n",
    "for pattern in longest_repeating_patterns:\n",
    "    print(f\"Length {len(pattern)}: {pattern}\")"
   ]
  }
 ],
 "metadata": {
  "kernelspec": {
   "display_name": "T",
   "language": "python",
   "name": "python3"
  },
  "language_info": {
   "codemirror_mode": {
    "name": "ipython",
    "version": 3
   },
   "file_extension": ".py",
   "mimetype": "text/x-python",
   "name": "python",
   "nbconvert_exporter": "python",
   "pygments_lexer": "ipython3",
   "version": "3.8.1"
  }
 },
 "nbformat": 4,
 "nbformat_minor": 2
}
